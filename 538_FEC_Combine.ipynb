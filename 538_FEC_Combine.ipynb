{
 "cells": [
  {
   "cell_type": "code",
   "execution_count": null,
   "id": "861f5ad1-d75e-4a94-b981-587cd2296272",
   "metadata": {},
   "outputs": [],
   "source": [
    "# Run this if latest_forecast.csv is not yet downloaded locally\n",
    "# !python get_538_forecast.py"
   ]
  },
  {
   "cell_type": "code",
   "execution_count": 1,
   "id": "16ae44ab-d116-41cf-86cd-2f64e1635281",
   "metadata": {},
   "outputs": [
    {
     "name": "stderr",
     "output_type": "stream",
     "text": [
      "/home/vivian/anaconda3/lib/python3.9/site-packages/fuzzywuzzy/fuzz.py:11: UserWarning: Using slow pure-python SequenceMatcher. Install python-Levenshtein to remove this warning\n",
      "  warnings.warn('Using slow pure-python SequenceMatcher. Install python-Levenshtein to remove this warning')\n"
     ]
    }
   ],
   "source": [
    "import pandas as pd\n",
    "import numpy as np\n",
    "from fuzzywuzzy import fuzz"
   ]
  },
  {
   "cell_type": "code",
   "execution_count": 2,
   "id": "d2a43680-c6c4-48b4-8aca-cf13dafdcbb7",
   "metadata": {},
   "outputs": [],
   "source": [
    "def seperate_parties():\n",
    "    '''\n",
    "    Seperates Ds and Rs from Each District\n",
    "    returns dataframe with one row per candidate\n",
    "    \n",
    "    '''\n",
    "    # Read in files \n",
    "    odds = pd.read_csv(\"latest_forecast.csv\")\n",
    "    # make two dataframes, it's the previous ones but we removed the opposite party\n",
    "    dems = odds.drop(columns = [\"name_R1\", \"winner_R1\"])\n",
    "    repubs = odds.drop(columns = [\"name_D1\", \"winner_D1\"])\n",
    "\n",
    "    # Add Columns of party name\n",
    "    dems[\"party\"] = [\"D\"] * len(dems)\n",
    "    repubs[\"party\"] = [\"R\"] * len(repubs)\n",
    "\n",
    "    # rename columns to be same-named in both dataframes\n",
    "    dems = dems.rename(columns = {\"name_D1\": \"name\", \"winner_D1\": \"win_pct\"})\n",
    "    repubs = repubs.rename(columns = {\"name_R1\": \"name\", \"winner_R1\": \"win_pct\"})\n",
    "\n",
    "    # concatenate into end result dataframe\n",
    "    total_odds = pd.concat((dems, repubs)).sort_values(by=[\"district\"]).reset_index(drop=True)\n",
    "    \n",
    "    # Add STATE-DISTRICT-PARTY index to each candidate\n",
    "    dist = total_odds[\"district\"]\n",
    "    party = total_odds[\"party\"]\n",
    "    idx = [\"{}-{}\".format(dist[i],party[i]) for i in range(len(total_odds))]\n",
    "    \n",
    "    total_odds.index = idx\n",
    "    return total_odds\n",
    "    "
   ]
  },
  {
   "cell_type": "code",
   "execution_count": 3,
   "id": "96cd0c40-c15a-41f5-9aa2-0732d2b2902e",
   "metadata": {},
   "outputs": [],
   "source": [
    "def get_finance_df():\n",
    "    # Function to return Finance Dataframe from FEC\n",
    "    # Download dataframe\n",
    "    finance_df = pd.read_csv(\"https://www.fec.gov/files/bulk-downloads/2022/candidate_summary_2022.csv\")\n",
    "    \n",
    "    # Drop un-needed columns\n",
    "    finance_df = finance_df.drop(columns = ['Link_Image', 'Cand_Id', 'Debt_Owed_By_Committee',\n",
    "       'Coverage_End_Date', 'Cand_Street_1', 'Cand_Street_2', 'Cand_City',\n",
    "       'Cand_State', 'Cand_Zip', 'Individual_Itemized_Contribution',\n",
    "       'Individual_Unitemized_Contribution', 'Individual_Contribution',\n",
    "       'Other_Committee_Contribution', 'Party_Committee_Contribution',\n",
    "       'Cand_Contribution', 'Total_Contribution',\n",
    "       'Transfer_From_Other_Auth_Committee', 'Cand_Loan', 'Other_Loan',\n",
    "       'Total_Loan', 'Offsets_To_Operating_Expenditure',\n",
    "       'Offsets_To_Fundraising', 'Offsets_To_Leagal_Accounting',\n",
    "       'Other_Receipts', 'Operating_Expenditure',\n",
    "       'Exempt_Legal_Accounting_Disbursement', 'Fundraising_Disbursement',\n",
    "       'Transfer_To_Other_Auth_Committee', 'Cand_Loan_Repayment',\n",
    "       'Other_Loan_Repayment', 'Total_Loan_Repayment', 'Individual_Refund',\n",
    "       'Party_Committee_Refund', 'Other_Committee_Refund',\n",
    "       'Total_Contribution_Refund', 'Other_Disbursements', 'Net_Contribution',\n",
    "       'Net_Operating_Expenditure', 'Cash_On_Hand_BOP',\n",
    "       'Debt_Owe_To_Committee', 'Coverage_Start_Date'])\n",
    "\n",
    "    # Select only House Races\n",
    "    finance_df = finance_df.query('Cand_Office == \"H\"')\n",
    "    finance_df = finance_df.drop(columns = [\"Cand_Office\"])\n",
    "    \n",
    "    # Combine Districts for finance dataframe\n",
    "    fix = lambda a: 1 if a == 0 else int(a)\n",
    "    districts =     [\"{}-{}\".format(finance_df.iloc[i][\"Cand_Office_St\"],\n",
    "                                    fix(finance_df.iloc[i][\"Cand_Office_Dist\"])) \n",
    "                     for i in range(len(finance_df))]\n",
    "    finance_df[\"district\"] = districts\n",
    "    finance_df = finance_df.drop(columns = [\"Cand_Office_St\", \"Cand_Office_Dist\"])\n",
    "    \n",
    "    return finance_df"
   ]
  },
  {
   "cell_type": "code",
   "execution_count": 4,
   "id": "023d17cb-ba1e-4f90-a5cd-433d6fc04606",
   "metadata": {},
   "outputs": [],
   "source": [
    "def get_combined_df():\n",
    "    # Function to get a 538 / FEC combined dataset\n",
    "    \n",
    "    # Get dataframes to combine\n",
    "    fin_df = get_finance_df()\n",
    "    df_538 = seperate_parties()\n",
    "    \n",
    "    # Sorting fin_df so best funded candidates are first - makes finding a candidate faster\n",
    "    fin_df = fin_df.sort_values(by=[\"Total_Receipt\"], ascending = False)\n",
    "    \n",
    "    # Find best match for each candidate\n",
    "    # establish dictionary to store fin index : 538 index in finance DF\n",
    "    reference_dict = {}\n",
    "    \n",
    "    for i in df_538.index:\n",
    "        # Get info about our candidate\n",
    "        row = df_538.loc[i]\n",
    "        district = row[\"district\"]\n",
    "        party = \"DEM\" if row[\"party\"] == \"D\" else \"REP\"\n",
    "        name = row[\"name\"]\n",
    "        \n",
    "        # Get everyone that's the same party in the same district\n",
    "        dist_party_538 = fin_df.query('district == @district').query('Cand_Party_Affiliation == @party')\n",
    "        \n",
    "        # Find which person from same party and same district has closest name\n",
    "        perfect = False\n",
    "        close = False\n",
    "        best = 0\n",
    "        best_row = None\n",
    "        for j in dist_party_538.index:\n",
    "            fin_row = dist_party_538.loc[j]\n",
    "            r = fuzz.token_set_ratio(name,fin_row[\"Cand_Name\"])\n",
    "            if r >= 99:\n",
    "                reference_dict[j] = i\n",
    "                perfect = True\n",
    "                break\n",
    "            if r >= 60:\n",
    "                close = True\n",
    "                if r > best:\n",
    "                    best = r\n",
    "                    best_row = j\n",
    "                \n",
    "        \n",
    "        if close:\n",
    "            # use the best match\n",
    "            reference_dict[best_row] = i\n",
    "    print(\"Successfully matched {:.1f}% of candidates\".format(100*len(reference_dict)/len(df_538)))\n",
    "    # Set finance dataframe index to match matched candidate from \n",
    "    # https://stackoverflow.com/questions/48798687/pandas-replace-indexes-of-rows-according-to-a-dictionary\n",
    "    s = fin_df.index.to_series()\n",
    "    fin_df.index = s.map(reference_dict).fillna(s)\n",
    "    fin_df = fin_df.drop(columns=['Cand_Name', 'Cand_Party_Affiliation','district'])\n",
    "    print(\"fin_df cols:\", fin_df.columns)\n",
    "    print(\"df_538 cols:\", df_538.columns)\n",
    "    \n",
    "    return df_538.join(fin_df)\n",
    "    \n",
    "    \n",
    "        "
   ]
  },
  {
   "cell_type": "code",
   "execution_count": 8,
   "id": "0b6da85b-2664-48ed-8c0c-587c3ff5cf2b",
   "metadata": {},
   "outputs": [
    {
     "name": "stdout",
     "output_type": "stream",
     "text": [
      "Successfully matched 98.1% of candidates\n",
      "fin_df cols: Index(['Cand_Incumbent_Challenger_Open_Seat', 'Total_Receipt',\n",
      "       'Total_Disbursement', 'Cash_On_Hand_COP'],\n",
      "      dtype='object')\n",
      "df_538 cols: Index(['branch', 'district', 'forecastdate', 'name', 'win_pct', 'tipping',\n",
      "       'timestamp', 'party'],\n",
      "      dtype='object')\n"
     ]
    }
   ],
   "source": [
    "combined_df = get_combined_df()"
   ]
  },
  {
   "cell_type": "code",
   "execution_count": 9,
   "id": "02d26c2d-f613-45fc-865c-3dafdd364003",
   "metadata": {},
   "outputs": [],
   "source": [
    "import plotly.express as px"
   ]
  },
  {
   "cell_type": "code",
   "execution_count": 16,
   "id": "c903a503-f7d5-4790-a116-0c782fb9b310",
   "metadata": {
    "tags": []
   },
   "outputs": [
    {
     "data": {
      "application/vnd.plotly.v1+json": {
       "config": {
        "plotlyServerURL": "https://plot.ly"
       },
       "data": [
        {
         "customdata": [
          [
           "Mary S. Peltola",
           "AK-1"
          ],
          [
           "Phyllis Harvey-Hall",
           "AL-2"
          ],
          [
           "Lin Veasey",
           "AL-3"
          ],
          [
           "Rick Neighbors",
           "AL-4"
          ],
          [
           "Kathy Warner-Stanton",
           "AL-5"
          ],
          [
           "Terrycina Sewell",
           "AL-7"
          ],
          [
           "Monte Hodges",
           "AR-1"
          ],
          [
           "Quintessa Hathaway",
           "AR-2"
          ],
          [
           "Lauren Mallett-Hays",
           "AR-3"
          ],
          [
           "John White",
           "AR-4"
          ],
          [
           "Jevin Hodge",
           "AZ-1"
          ],
          [
           "Tom O'Halleran",
           "AZ-2"
          ],
          [
           "Ruben Gallego",
           "AZ-3"
          ],
          [
           "Greg Stanton",
           "AZ-4"
          ],
          [
           "Javier Ramos",
           "AZ-5"
          ],
          [
           "Kirsten Engel",
           "AZ-6"
          ],
          [
           "Raúl Grijalva",
           "AZ-7"
          ],
          [
           "Max Steiner",
           "CA-1"
          ],
          [
           "Nancy Pelosi",
           "CA-11"
          ],
          [
           "Barbara Lee",
           "CA-12"
          ],
          [
           "Adam Gray",
           "CA-13"
          ],
          [
           "Eric Swalwell",
           "CA-14"
          ],
          [
           "Ro Khanna",
           "CA-17"
          ],
          [
           "Zoe Lofgren",
           "CA-18"
          ],
          [
           "Jimmy Panetta",
           "CA-19"
          ],
          [
           "Jared Huffman",
           "CA-2"
          ],
          [
           "Marisa Wood",
           "CA-20"
          ],
          [
           "Jim Costa",
           "CA-21"
          ],
          [
           "Rudy Salas",
           "CA-22"
          ],
          [
           "Derek Marshall",
           "CA-23"
          ],
          [
           "Salud Carbajal",
           "CA-24"
          ],
          [
           "Raul Ruiz",
           "CA-25"
          ],
          [
           "Julia Brownley",
           "CA-26"
          ],
          [
           "Christy Smith",
           "CA-27"
          ],
          [
           "Judy Chu",
           "CA-28"
          ],
          [
           "Kermit Jones",
           "CA-3"
          ],
          [
           "Grace F. Napolitano",
           "CA-31"
          ],
          [
           "Brad Sherman",
           "CA-32"
          ],
          [
           "Pete Aguilar",
           "CA-33"
          ],
          [
           "Norma J. Torres",
           "CA-35"
          ],
          [
           "Ted W. Lieu",
           "CA-36"
          ],
          [
           "Linda T. Sánchez",
           "CA-38"
          ],
          [
           "Mark Takano",
           "CA-39"
          ],
          [
           "Mike Thompson",
           "CA-4"
          ],
          [
           "Asif Mahmood",
           "CA-40"
          ],
          [
           "Will Rollins",
           "CA-41"
          ],
          [
           "Robert Garcia",
           "CA-42"
          ],
          [
           "Maxine Waters",
           "CA-43"
          ],
          [
           "Nanette Diaz Barragan",
           "CA-44"
          ],
          [
           "Jay F. Chen",
           "CA-45"
          ],
          [
           "Lou Correa",
           "CA-46"
          ],
          [
           "Katie Porter",
           "CA-47"
          ],
          [
           "Stephen Houlahan",
           "CA-48"
          ],
          [
           "Mike Levin",
           "CA-49"
          ],
          [
           "Michael J. “Mike” Barkley",
           "CA-5"
          ],
          [
           "Scott Peters",
           "CA-50"
          ],
          [
           "Sara Jacobs",
           "CA-51"
          ],
          [
           "Juan Vargas",
           "CA-52"
          ],
          [
           "Ami Bera",
           "CA-6"
          ],
          [
           "Doris Matsui",
           "CA-7"
          ],
          [
           "John Garamendi",
           "CA-8"
          ],
          [
           "Josh Harder",
           "CA-9"
          ],
          [
           "Diana DeGette",
           "CO-1"
          ],
          [
           "Joe Neguse",
           "CO-2"
          ],
          [
           "Adam Frisch",
           "CO-3"
          ],
          [
           "Ike McCorkle",
           "CO-4"
          ],
          [
           "David Torres",
           "CO-5"
          ],
          [
           "Jason Crow",
           "CO-6"
          ],
          [
           "Brittany Pettersen",
           "CO-7"
          ],
          [
           "Yadira Caraveo",
           "CO-8"
          ],
          [
           "John B. Larson",
           "CT-1"
          ],
          [
           "Joe Courtney",
           "CT-2"
          ],
          [
           "Rosa L. DeLauro",
           "CT-3"
          ],
          [
           "Jim Himes",
           "CT-4"
          ],
          [
           "Jahana Hayes",
           "CT-5"
          ],
          [
           "Lisa Blunt Rochester",
           "DE-1"
          ],
          [
           "Rebekah Jones",
           "FL-1"
          ],
          [
           "Maxwell Alejandro Frost",
           "FL-10"
          ],
          [
           "Shante Munns",
           "FL-11"
          ],
          [
           "Kimberly Walker",
           "FL-12"
          ],
          [
           "Eric Lynn",
           "FL-13"
          ],
          [
           "Kathy Castor",
           "FL-14"
          ],
          [
           "Alan M. Cohn",
           "FL-15"
          ],
          [
           "Jan Schneider",
           "FL-16"
          ],
          [
           "Andrea Doria Kale",
           "FL-17"
          ],
          [
           "Cindy Banyai",
           "FL-19"
          ],
          [
           "Al Lawson",
           "FL-2"
          ],
          [
           "Sheila Cherfilus-McCormick",
           "FL-20"
          ],
          [
           "Corinna Balderramos Robinson",
           "FL-21"
          ],
          [
           "Lois Frankel",
           "FL-22"
          ],
          [
           "Jared Moskowitz",
           "FL-23"
          ],
          [
           "Frederica Wilson",
           "FL-24"
          ],
          [
           "Debbie Wasserman Schultz",
           "FL-25"
          ],
          [
           "Christine Alexandria Olivo",
           "FL-26"
          ],
          [
           "Annette Taddeo",
           "FL-27"
          ],
          [
           "Robert Asencio",
           "FL-28"
          ],
          [
           "Danielle Hawk",
           "FL-3"
          ],
          [
           "LaShonda “L.J.” Holloway",
           "FL-4"
          ],
          [
           "Karen Green",
           "FL-7"
          ],
          [
           "Joanne Terry",
           "FL-8"
          ],
          [
           "Darren Soto",
           "FL-9"
          ],
          [
           "Wade Herring",
           "GA-1"
          ],
          [
           "Tabitha Johnson-Green",
           "GA-10"
          ],
          [
           "Antonio Daza",
           "GA-11"
          ],
          [
           "Elizabeth “Liz” Johnson",
           "GA-12"
          ],
          [
           "David Scott",
           "GA-13"
          ],
          [
           "Marcus Flowers",
           "GA-14"
          ],
          [
           "Sanford Bishop",
           "GA-2"
          ],
          [
           "Val Almonord",
           "GA-3"
          ],
          [
           "Henry C. “Hank” Johnson Jr.",
           "GA-4"
          ],
          [
           "Nikema Williams",
           "GA-5"
          ],
          [
           "Bob Christian",
           "GA-6"
          ],
          [
           "Lucy McBath",
           "GA-7"
          ],
          [
           "Darrius Butler",
           "GA-8"
          ],
          [
           "Michael “Mike” Ford",
           "GA-9"
          ],
          [
           "Ed Case",
           "HI-1"
          ],
          [
           "Jill N. Tokuda",
           "HI-2"
          ],
          [
           "Christina Bohannan",
           "IA-1"
          ],
          [
           "Liz Mathis",
           "IA-2"
          ],
          [
           "Cindy Axne",
           "IA-3"
          ],
          [
           "Ryan Melton",
           "IA-4"
          ],
          [
           "Kaylee Peterson",
           "ID-1"
          ],
          [
           "Wendy Norman",
           "ID-2"
          ],
          [
           "Jonathan L. Jackson",
           "IL-1"
          ],
          [
           "Brad Schneider",
           "IL-10"
          ],
          [
           "Bill Foster",
           "IL-11"
          ],
          [
           "Homer “Chip” Markel",
           "IL-12"
          ],
          [
           "Nikki Budzinski",
           "IL-13"
          ],
          [
           "Lauren Underwood",
           "IL-14"
          ],
          [
           "Paul J. Lange",
           "IL-15"
          ],
          [
           "Elizabeth Haderlein",
           "IL-16"
          ],
          [
           "Eric Sorensen",
           "IL-17"
          ],
          [
           "Robin Kelly",
           "IL-2"
          ],
          [
           "Delia Ramirez",
           "IL-3"
          ],
          [
           "Jesus “Chuy” Garcia",
           "IL-4"
          ],
          [
           "Mike Quigley",
           "IL-5"
          ],
          [
           "Sean Casten",
           "IL-6"
          ],
          [
           "Raja Krishnamoorthi",
           "IL-8"
          ],
          [
           "Janice D. Schakowsky",
           "IL-9"
          ],
          [
           "Frank J. Mrvan",
           "IN-1"
          ],
          [
           "Paul D. Steury",
           "IN-2"
          ],
          [
           "Gary L. Snyder",
           "IN-3"
          ],
          [
           "Roger D. Day",
           "IN-4"
          ],
          [
           "Jeannine Lee Lake",
           "IN-5"
          ],
          [
           "Cynthia “Cinde” Wirth",
           "IN-6"
          ],
          [
           "André D. Carson",
           "IN-7"
          ],
          [
           "Ray McCormick",
           "IN-8"
          ],
          [
           "Matthew Fyfe",
           "IN-9"
          ],
          [
           "James “Jimmy” Beard",
           "KS-1"
          ],
          [
           "Patrick Schmidt",
           "KS-2"
          ],
          [
           "Sharice Davids",
           "KS-3"
          ],
          [
           "Bob Hernandez",
           "KS-4"
          ],
          [
           "Jimmy C. Ausbrooks",
           "KY-1"
          ],
          [
           "Hank Linderman",
           "KY-2"
          ],
          [
           "Morgan McGarvey",
           "KY-3"
          ],
          [
           "Matthew Lehman",
           "KY-4"
          ],
          [
           "Conor Halbleib",
           "KY-5"
          ],
          [
           "Geoffrey M. “Geoff” Young",
           "KY-6"
          ],
          [
           "Kate Darling",
           "LA-1"
          ],
          [
           "Troy A. Carter",
           "LA-2"
          ],
          [
           "Tia Lebrun",
           "LA-3"
          ],
          [
           "Oscar “Omar” Dantzler",
           "LA-5"
          ],
          [
           "Richard E. Neal",
           "MA-1"
          ],
          [
           "James P. McGovern",
           "MA-2"
          ],
          [
           "Lori Loureiro Trahan",
           "MA-3"
          ],
          [
           "Katherine M. Clark",
           "MA-5"
          ],
          [
           "Seth Moulton",
           "MA-6"
          ],
          [
           "Ayanna S. Pressley",
           "MA-7"
          ],
          [
           "Stephen F. Lynch",
           "MA-8"
          ],
          [
           "Bill Keating",
           "MA-9"
          ],
          [
           "Heather R. Mizeur",
           "MD-1"
          ],
          [
           "C.A. Dutch Ruppersberger",
           "MD-2"
          ],
          [
           "John Sarbanes",
           "MD-3"
          ],
          [
           "Glenn F. Ivey",
           "MD-4"
          ],
          [
           "Steny Hoyer",
           "MD-5"
          ],
          [
           "David J. Trone",
           "MD-6"
          ],
          [
           "Kweisi Mfume",
           "MD-7"
          ],
          [
           "Jamie Raskin",
           "MD-8"
          ],
          [
           "Chellie M. Pingree",
           "ME-1"
          ],
          [
           "Jared Forrest Golden",
           "ME-2"
          ],
          [
           "Bob Lorinser",
           "MI-1"
          ],
          [
           "Carl J. Marlinga",
           "MI-10"
          ],
          [
           "Haley Stevens",
           "MI-11"
          ],
          [
           "Rashida Tlaib",
           "MI-12"
          ],
          [
           "Shri Thanedar",
           "MI-13"
          ],
          [
           "Jerry Hilliard",
           "MI-2"
          ],
          [
           "Hillary Scholten",
           "MI-3"
          ],
          [
           "Joseph Alfonso",
           "MI-4"
          ],
          [
           "Bart Goldberg",
           "MI-5"
          ],
          [
           "Debbie Dingell",
           "MI-6"
          ],
          [
           "Elissa Slotkin",
           "MI-7"
          ],
          [
           "Daniel T. Kildee",
           "MI-8"
          ],
          [
           "Brian Jaye",
           "MI-9"
          ],
          [
           "Jeff Ettinger",
           "MN-1"
          ],
          [
           "Angie Craig",
           "MN-2"
          ],
          [
           "Dean Phillips",
           "MN-3"
          ],
          [
           "Betty McCollum",
           "MN-4"
          ],
          [
           "Ilhan Omar",
           "MN-5"
          ],
          [
           "Jeanne Hendricks",
           "MN-6"
          ],
          [
           "Jill Abahsain",
           "MN-7"
          ],
          [
           "Jen Schultz",
           "MN-8"
          ],
          [
           "Cori Bush",
           "MO-1"
          ],
          [
           "Trish Gunby",
           "MO-2"
          ],
          [
           "Bethany Mann",
           "MO-3"
          ],
          [
           "Jack Truman",
           "MO-4"
          ],
          [
           "Emanuel Cleaver, II",
           "MO-5"
          ],
          [
           "Henry Martin",
           "MO-6"
          ],
          [
           "Kristen Radaker-Sheafer",
           "MO-7"
          ],
          [
           "Randi McCallian",
           "MO-8"
          ],
          [
           "Dianne Black",
           "MS-1"
          ],
          [
           "Bennie G. Thompson",
           "MS-2"
          ],
          [
           "Shuwaski A. Young",
           "MS-3"
          ],
          [
           "Johnny L. DuPree",
           "MS-4"
          ],
          [
           "Monica Tranel",
           "MT-1"
          ],
          [
           "Penny Ronning",
           "MT-2"
          ],
          [
           "Don Davis",
           "NC-1"
          ],
          [
           "Pam Genant",
           "NC-10"
          ],
          [
           "Jasmine Beach-Ferrara",
           "NC-11"
          ],
          [
           "Alma S. Adams",
           "NC-12"
          ],
          [
           "Wiley Nickel",
           "NC-13"
          ],
          [
           "Jeff Jackson",
           "NC-14"
          ],
          [
           "Deborah K. Ross",
           "NC-2"
          ],
          [
           "Barbara D. Gaskins",
           "NC-3"
          ],
          [
           "Valerie P. Foushee",
           "NC-4"
          ],
          [
           "Kyle Parrish",
           "NC-5"
          ],
          [
           "Kathy Manning",
           "NC-6"
          ],
          [
           "Charles Graham",
           "NC-7"
          ],
          [
           "Scott Huffman",
           "NC-8"
          ],
          [
           "Ben Clark",
           "NC-9"
          ],
          [
           "Patty Pansing Brooks",
           "NE-1"
          ],
          [
           "Tony Vargas",
           "NE-2"
          ],
          [
           "David J. Else",
           "NE-3"
          ],
          [
           "Chris Pappas",
           "NH-1"
          ],
          [
           "Ann McLane Kuster",
           "NH-2"
          ],
          [
           "Donald W. Norcross",
           "NJ-1"
          ],
          [
           "Donald M. Payne Jr.",
           "NJ-10"
          ],
          [
           "Mikie Sherrill",
           "NJ-11"
          ],
          [
           "Bonnie Watson Coleman",
           "NJ-12"
          ],
          [
           "Tim Alexander",
           "NJ-2"
          ],
          [
           "Andy Kim",
           "NJ-3"
          ],
          [
           "Matthew Jenkins",
           "NJ-4"
          ],
          [
           "Josh Gottheimer",
           "NJ-5"
          ],
          [
           "Frank Pallone Jr.",
           "NJ-6"
          ],
          [
           "Tom Malinowski",
           "NJ-7"
          ],
          [
           "Robert J. Menendez",
           "NJ-8"
          ],
          [
           "Bill Pascrell Jr.",
           "NJ-9"
          ],
          [
           "Melanie Ann Stansbury",
           "NM-1"
          ],
          [
           "Gabriel Vasquez",
           "NM-2"
          ],
          [
           "Teresa Leger Fernandez",
           "NM-3"
          ],
          [
           "Dina Titus",
           "NV-1"
          ],
          [
           "Elizabeth Mercedes Krause",
           "NV-2"
          ],
          [
           "Susie Lee",
           "NV-3"
          ],
          [
           "Steven A. Horsford",
           "NV-4"
          ],
          [
           "Bridget Fleming",
           "NY-1"
          ],
          [
           "Daniel Goldman",
           "NY-10"
          ],
          [
           "Max N. Rose",
           "NY-11"
          ],
          [
           "Jerrold L. Nadler",
           "NY-12"
          ],
          [
           "Alexandria Ocasio-Cortez",
           "NY-14"
          ],
          [
           "Ritchie J. Torres",
           "NY-15"
          ],
          [
           "Jamaal Bowman",
           "NY-16"
          ],
          [
           "Sean Patrick Maloney",
           "NY-17"
          ],
          [
           "Pat Ryan",
           "NY-18"
          ],
          [
           "Josh Riley",
           "NY-19"
          ],
          [
           "Jackie Gordon",
           "NY-2"
          ],
          [
           "Paul D. Tonko",
           "NY-20"
          ],
          [
           "Matt Castelli",
           "NY-21"
          ],
          [
           "Francis Conole",
           "NY-22"
          ],
          [
           "Max H. Della Pia",
           "NY-23"
          ],
          [
           "Steven Holden",
           "NY-24"
          ],
          [
           "Joseph D. Morelle",
           "NY-25"
          ],
          [
           "Brian Higgins",
           "NY-26"
          ],
          [
           "Robert P. Zimmerman",
           "NY-3"
          ],
          [
           "Laura A. Gillen",
           "NY-4"
          ],
          [
           "Gregory Meeks",
           "NY-5"
          ],
          [
           "Grace Meng",
           "NY-6"
          ],
          [
           "Nydia M. Velázquez",
           "NY-7"
          ],
          [
           "Hakeem S. Jeffries",
           "NY-8"
          ],
          [
           "Greg Landsman",
           "OH-1"
          ],
          [
           "David Esrati",
           "OH-10"
          ],
          [
           "Shontel Brown",
           "OH-11"
          ],
          [
           "Amy Rippel-Elton",
           "OH-12"
          ],
          [
           "Emilia Sykes",
           "OH-13"
          ],
          [
           "Matt Kilboy",
           "OH-14"
          ],
          [
           "Gary Josephson",
           "OH-15"
          ],
          [
           "Samantha Meadows",
           "OH-2"
          ],
          [
           "Joyce Beatty",
           "OH-3"
          ],
          [
           "Tamie Wilson",
           "OH-4"
          ],
          [
           "Craig Swartz",
           "OH-5"
          ],
          [
           "Louis G. Lyras",
           "OH-6"
          ],
          [
           "Matthew Diemer",
           "OH-7"
          ],
          [
           "Vanessa Enoch",
           "OH-8"
          ],
          [
           "Marcy Kaptur",
           "OH-9"
          ],
          [
           "Adam Martin",
           "OK-1"
          ],
          [
           "Naomi Andrews",
           "OK-2"
          ],
          [
           "Jeremiah A. Ross",
           "OK-3"
          ],
          [
           "Mary Brannon",
           "OK-4"
          ],
          [
           "Joshua Harris-Till",
           "OK-5"
          ],
          [
           "Suzanne Bonamici",
           "OR-1"
          ],
          [
           "Joe Yetter",
           "OR-2"
          ],
          [
           "Earl Blumenauer",
           "OR-3"
          ],
          [
           "Val Hoyle",
           "OR-4"
          ],
          [
           "Jamie McLeod-Skinner",
           "OR-5"
          ],
          [
           "Andrea Salinas",
           "OR-6"
          ],
          [
           "Ashley Ehasz",
           "PA-1"
          ],
          [
           "Shamaine Daniels",
           "PA-10"
          ],
          [
           "Bob Hollister",
           "PA-11"
          ],
          [
           "Summer Lee",
           "PA-12"
          ],
          [
           "Michael Molesevich",
           "PA-15"
          ],
          [
           "Dan Pastore",
           "PA-16"
          ],
          [
           "Chris Deluzio",
           "PA-17"
          ],
          [
           "Brendan F. Boyle",
           "PA-2"
          ],
          [
           "Madeleine Dean",
           "PA-4"
          ],
          [
           "Mary Gay Scanlon",
           "PA-5"
          ],
          [
           "Chrissy Houlahan",
           "PA-6"
          ],
          [
           "Susan Wild",
           "PA-7"
          ],
          [
           "Matt Cartwright",
           "PA-8"
          ],
          [
           "Amanda R. Waldman",
           "PA-9"
          ],
          [
           "David N. Cicilline",
           "RI-1"
          ],
          [
           "Seth M. Magaziner",
           "RI-2"
          ],
          [
           "Annie Andrews",
           "SC-1"
          ],
          [
           "Judd Larkins",
           "SC-2"
          ],
          [
           "Evangeline Hundley",
           "SC-5"
          ],
          [
           "James E. “Jim” Clyburn",
           "SC-6"
          ],
          [
           "Daryl W. Scott",
           "SC-7"
          ],
          [
           "Cameron Parsons",
           "TN-1"
          ],
          [
           "Mark Harmon",
           "TN-2"
          ],
          [
           "Meg Gorman",
           "TN-3"
          ],
          [
           "Wayne Steele",
           "TN-4"
          ],
          [
           "Heidi Campbell",
           "TN-5"
          ],
          [
           "Randal Cooper",
           "TN-6"
          ],
          [
           "Odessa Kelly",
           "TN-7"
          ],
          [
           "Lynnette P. Williams",
           "TN-8"
          ],
          [
           "Steve Cohen",
           "TN-9"
          ],
          [
           "Jrmar “JJ” Jefferson",
           "TX-1"
          ],
          [
           "Linda Nuno",
           "TX-10"
          ],
          [
           "Trey J. Hunt",
           "TX-12"
          ],
          [
           "Kathleen Brown",
           "TX-13"
          ],
          [
           "Mikal Williams",
           "TX-14"
          ],
          [
           "Michelle Vallejo",
           "TX-15"
          ],
          [
           "Veronica Escobar",
           "TX-16"
          ],
          [
           "Mary Jo Woods",
           "TX-17"
          ],
          [
           "Mary Jo Woods",
           "TX-17"
          ],
          [
           "Sheila Jackson Lee",
           "TX-18"
          ],
          [
           "Robin Fulford",
           "TX-2"
          ],
          [
           "Joaquin Castro",
           "TX-20"
          ],
          [
           "Claudia Andreana Zapata",
           "TX-21"
          ],
          [
           "Jamie Kaye Jordan",
           "TX-22"
          ],
          [
           "John Lira",
           "TX-23"
          ],
          [
           "Jan McDowell",
           "TX-24"
          ],
          [
           "Maclovio Perez Jr.",
           "TX-27"
          ],
          [
           "Henry Cuellar",
           "TX-28"
          ],
          [
           "Sylvia Garcia",
           "TX-29"
          ],
          [
           "Sandeep Srivastava",
           "TX-3"
          ],
          [
           "Jasmine Crockett",
           "TX-30"
          ],
          [
           "Colin Allred",
           "TX-32"
          ],
          [
           "Marc Veasey",
           "TX-33"
          ],
          [
           "Vicente Gonzalez",
           "TX-34"
          ],
          [
           "Greg Casar",
           "TX-35"
          ],
          [
           "Jon Haire",
           "TX-36"
          ],
          [
           "Lloyd Doggett",
           "TX-37"
          ],
          [
           "Duncan F. Klussmann",
           "TX-38"
          ],
          [
           "Iro Omere",
           "TX-4"
          ],
          [
           "Tartisha Hill",
           "TX-5"
          ],
          [
           "Lizzie Fletcher",
           "TX-7"
          ],
          [
           "Laura Jones",
           "TX-8"
          ],
          [
           "Al Green",
           "TX-9"
          ],
          [
           "Rick Edwin Jones",
           "UT-1"
          ],
          [
           "Nick Mitchell",
           "UT-2"
          ],
          [
           "Glenn J. Wright",
           "UT-3"
          ],
          [
           "Darlene McDonald",
           "UT-4"
          ],
          [
           "Herbert C. “Herb” Jones Jr.",
           "VA-1"
          ],
          [
           "Jennifer T. Wexton",
           "VA-10"
          ],
          [
           "Gerald E. “Gerry” Connolly",
           "VA-11"
          ],
          [
           "Elaine G. Luria",
           "VA-2"
          ],
          [
           "Robert C. “Bobby” Scott",
           "VA-3"
          ],
          [
           "A. Donald McEachin",
           "VA-4"
          ],
          [
           "Joshua M. Throneburg",
           "VA-5"
          ],
          [
           "Jennifer Lynn Lewis",
           "VA-6"
          ],
          [
           "Abigail A. Spanberger",
           "VA-7"
          ],
          [
           "Donald S. Beyer Jr.",
           "VA-8"
          ],
          [
           "Taysha Lee DeVaughan",
           "VA-9"
          ],
          [
           "Becca Balint",
           "VT-1"
          ],
          [
           "Suzan DelBene",
           "WA-1"
          ],
          [
           "Marilyn Strickland",
           "WA-10"
          ],
          [
           "Rick Larsen",
           "WA-2"
          ],
          [
           "Marie Gluesenkamp Perez",
           "WA-3"
          ],
          [
           "Doug White",
           "WA-4"
          ],
          [
           "Natasha Hill",
           "WA-5"
          ],
          [
           "Derek Kilmer",
           "WA-6"
          ],
          [
           "Pramila Jayapal",
           "WA-7"
          ],
          [
           "Kim Schrier",
           "WA-8"
          ],
          [
           "Adam Smith",
           "WA-9"
          ],
          [
           "Ann Roe",
           "WI-1"
          ],
          [
           "Mark Pocan",
           "WI-2"
          ],
          [
           "Brad Pfaff",
           "WI-3"
          ],
          [
           "Gwen Moore",
           "WI-4"
          ],
          [
           "Mike Van Someren",
           "WI-5"
          ],
          [
           "Richard Dick Ausman",
           "WI-7"
          ],
          [
           "Lacy Watson",
           "WV-1"
          ],
          [
           "Barry Lee Wendell",
           "WV-2"
          ],
          [
           "Lynnette GreyBull",
           "WY-1"
          ]
         ],
         "hovertemplate": "party=D<br>win_pct=%{x}<br>Total_Receipt=%{y}<br>name=%{customdata[0]}<br>district=%{customdata[1]}<extra></extra>",
         "legendgroup": "D",
         "marker": {
          "color": "#636efa",
          "symbol": "circle"
         },
         "mode": "markers",
         "name": "D",
         "orientation": "v",
         "showlegend": true,
         "type": "scatter",
         "x": [
          0.477675,
          0.000475,
          0.0001,
          0,
          0.003925,
          0.99935,
          0.000275,
          0.012075,
          0.0011,
          0.00045,
          0.1635,
          0.46595,
          0.999775,
          0.736825,
          0.001525,
          0.294075,
          0.9961,
          0.002525,
          1,
          1,
          0.64655,
          0.99975,
          0.999525,
          0.9994,
          0.99935,
          0.999925,
          0.000325,
          0.77035,
          0.608675,
          0.0084,
          0.994875,
          0.9577,
          0.87125,
          0.472125,
          0.997725,
          0.160375,
          0.996425,
          0.9996,
          0.988175,
          0.996225,
          0.9997,
          0.997375,
          0.989325,
          0.999175,
          0.081275,
          0.074025,
          0.99885,
          1,
          0.9999,
          0.21565,
          0.997,
          0.856125,
          0.00385,
          0.8091,
          0.00635,
          0.99705,
          0.992225,
          0.999175,
          0.961975,
          0.9991,
          0.99995,
          0.675125,
          0.999975,
          0.998775,
          0.169675,
          0.002175,
          0.0049,
          0.976325,
          0.675725,
          0.248925,
          0.99185,
          0.976125,
          0.958375,
          0.979675,
          0.583075,
          0.965,
          0.02895,
          0.991425,
          0.00675,
          0.000775,
          0.333125,
          0.970525,
          0.176525,
          0.0197,
          0.006475,
          0.0022,
          0.122175,
          0.999925,
          0.0172,
          0.97275,
          0.744975,
          1,
          0.98495,
          0.022025,
          0.293525,
          0.089425,
          0.01035,
          0.052825,
          0.0751,
          0.004075,
          0.9796,
          0.00685,
          0.0044,
          0.001425,
          0.0112,
          0.9999,
          0.0001,
          0.81295,
          0.000275,
          0.999975,
          1,
          0.014325,
          0.979875,
          0.000675,
          7.5e-05,
          0.997125,
          0.9891,
          0.214675,
          0.208175,
          0.45275,
          0.002275,
          5e-05,
          0.001675,
          0.99955,
          0.94115,
          0.9487,
          0,
          0.66795,
          0.8991,
          0.00025,
          0.003025,
          0.6598,
          0.999675,
          0.998175,
          0.999775,
          0.9992,
          0.89665,
          0.830225,
          0.999725,
          0.857775,
          0.016525,
          0.000575,
          0.00065,
          0.005375,
          0.000325,
          0.9996,
          0.000875,
          0.0066,
          0.0007,
          0.071375,
          0.889225,
          0.0018,
          0.0001,
          0.0002,
          0.975325,
          0.0006,
          2.5e-05,
          0.0205,
          0.0001,
          1,
          0.003225,
          0.00315,
          0.99425,
          0.99805,
          0.99655,
          0.9999,
          0.99595,
          1,
          0.999125,
          0.985875,
          0.074875,
          0.932875,
          0.97795,
          1,
          0.998775,
          0.7033,
          1,
          0.999975,
          0.997675,
          0.665525,
          0.00665,
          0.166825,
          0.98195,
          0.999925,
          0.99975,
          0.001625,
          0.62045,
          0.053125,
          0.002125,
          0.993675,
          0.71695,
          0.6691,
          0.000725,
          0.09105,
          0.630975,
          0.96375,
          0.99885,
          0.999975,
          0.0037,
          0.00075,
          0.023725,
          1,
          0.013875,
          0.000825,
          0.0006,
          0.99405,
          0.000175,
          0.0002,
          5e-05,
          0.0004,
          0.99665,
          0.0014,
          0.001025,
          0.168,
          0.023425,
          0.8229,
          0.000225,
          0.179575,
          0.997875,
          0.545125,
          0.83955,
          0.99585,
          0.002025,
          0.99685,
          0.004025,
          0.908525,
          0.01975,
          0.0002,
          0.03585,
          0.010875,
          0.1706,
          0,
          0.49465,
          0.878125,
          0.923375,
          0.999975,
          0.92795,
          0.997575,
          0.027675,
          0.811525,
          0.00115,
          0.872575,
          0.960175,
          0.349075,
          0.999225,
          0.97135,
          0.9381,
          0.311075,
          0.992775,
          0.178625,
          0.0017,
          0.39315,
          0.642925,
          0.227225,
          1,
          0.12665,
          1,
          0.99995,
          1,
          0.99985,
          0.637725,
          0.8449,
          0.702525,
          0.17285,
          0.978225,
          0.02145,
          0.53805,
          0.031725,
          0.007325,
          0.869025,
          0.98865,
          0.531875,
          0.52415,
          1,
          0.99685,
          1,
          1,
          0.35895,
          0.0468,
          0.999975,
          0.000725,
          0.424675,
          0.010725,
          0.02535,
          7.5e-05,
          0.9998,
          0.0002,
          0.001625,
          0.001575,
          0.0899,
          0.001725,
          0.718,
          0.001075,
          5e-05,
          2.5e-05,
          0.000525,
          0.0019,
          0.999125,
          0.0018,
          0.9999,
          0.668725,
          0.34155,
          0.318225,
          0.078075,
          0.227075,
          0.00205,
          0.91345,
          0.000325,
          0.003925,
          0.48525,
          0.9998,
          0.977675,
          0.998525,
          0.942625,
          0.463475,
          0.681575,
          5e-05,
          0.9983,
          0.172325,
          0.0103,
          0.00695,
          0.00195,
          0.998275,
          0.01575,
          2.5e-05,
          0.0004,
          0.000275,
          0.00015,
          0.236925,
          0.000475,
          0.004825,
          5e-05,
          0.99975,
          0.0002,
          0.002975,
          0.00165,
          0.0001,
          0.000325,
          0.36065,
          0.998225,
          0.001675,
          0.001675,
          0.99975,
          0.000625,
          0.9958,
          0.001725,
          0.001825,
          0.0342,
          0.00255,
          0.001325,
          0.870875,
          0.9987,
          0.014525,
          0.999775,
          0.995725,
          0.999675,
          0.736425,
          0.997325,
          0.000275,
          1,
          0.006775,
          0.001,
          0.0012,
          0.994125,
          0.00795,
          0.999875,
          0.00515,
          0.013725,
          0.00885,
          0.00585,
          0.015925,
          0.79255,
          0.9985,
          0.56575,
          0.999125,
          0.9994,
          0.0188,
          0.0012,
          0.651725,
          0.99995,
          0.000125,
          0.99945,
          0.9935,
          0.9467,
          0.983325,
          0.1529,
          0.004025,
          0.016975,
          0.961125,
          1,
          0.695575,
          0.99965,
          0.055925,
          0.99985,
          0.1191,
          0.999875,
          0.0016,
          0.006075,
          0.000725,
          0.0005,
          0.000825
         ],
         "xaxis": "x",
         "y": [
          7751293.39,
          60440.24,
          9968,
          22648.3,
          85150,
          2359060.83,
          66983.81,
          0,
          65741.89,
          0,
          2565414.5,
          4300864.23,
          2933465.25,
          4314550.89,
          16642.54,
          2473877.8,
          660513.91,
          627432.86,
          25577528.17,
          2183372.57,
          2390120.97,
          3943361.57,
          5949743.81,
          2022557.14,
          2623733.1,
          938689.41,
          1051451.47,
          2034865.46,
          2953288.73,
          956858.59,
          2178786.3,
          2299898.28,
          2446763.43,
          3949504.79,
          1587238.65,
          3261535,
          367395.21,
          2651948.74,
          3255093.36,
          783058.29,
          1510163.27,
          1519205.78,
          1254503.88,
          2278299.13,
          3703609.48,
          3780991.55,
          1704812.52,
          1220339.32,
          1212156.11,
          5037026.06,
          1293189.19,
          26025611.15,
          71577.85,
          5149615.51,
          461674.19,
          2410741.93,
          1712465.57,
          942886.84,
          1545895.36,
          1400594.49,
          1146918.01,
          6593261.38,
          1151100.27,
          2351040.38,
          6710480.34,
          303509.38,
          26406.22,
          2734127.98,
          2883823.65,
          3563279.53,
          1840867.05,
          1981330.09,
          2182549.03,
          1695711.93,
          2779884.08,
          2899174.85,
          980885.53,
          3014746.19,
          20763.41,
          20401.13,
          2247469.3,
          1585896.95,
          825897.45,
          22651.67,
          27724.28,
          103281.24,
          829346.62,
          6779418.8,
          82386.46,
          1275269.43,
          1752697.27,
          623725.06,
          2087129.07,
          138186.98,
          1948584.41,
          124784.97,
          77168.35,
          10465.32,
          67798.9,
          89920.38,
          1337428.16,
          1395014.76,
          48652.44,
          102176.81,
          194751.23,
          2007965.55,
          16972737.74,
          3037853,
          76890.66,
          567457.14,
          1152788.78,
          308353.45,
          5596710.62,
          22543.42,
          36015.7,
          1058273.57,
          1042387.26,
          3197822.62,
          4218654.84,
          7231695,
          53023.28,
          69848.28,
          13856.48,
          793218.64,
          3797651.97,
          3332176.89,
          65213.29,
          3933506.61,
          6889213.25,
          46211.8,
          38117.98,
          3120058.37,
          1746109.48,
          990197.28,
          938958.69,
          1053627.4,
          5577460.28,
          8498368.19,
          1563009.22,
          2483248.03,
          103536.38,
          74397.02,
          0,
          43404.37,
          50771.6,
          856806,
          149920.22,
          122824.28,
          17691.91,
          1108610.39,
          7894095.76,
          43266.17,
          7866.73,
          87461.23,
          3088931.24,
          304093.57,
          18701.81,
          239157.17,
          152463.58,
          3101798.13,
          40499.57,
          0,
          3493276.58,
          1116203.86,
          1968444.77,
          2174711.8,
          2137107.99,
          1467293.46,
          962334.32,
          717659.21,
          2774380.7,
          1095414.25,
          186653.7,
          1896185.07,
          3924349.55,
          13144029.27,
          599985.23,
          4701192.12,
          576607.49,
          6068685.18,
          588500.2,
          1059983.76,
          5574897.28,
          3337996.2,
          9319161.71,
          30655.33,
          3806547.95,
          37258.83,
          164542.02,
          1559951.4,
          9974583.81,
          5627721.01,
          55654.51,
          null,
          7801458.27,
          null,
          2101431.16,
          3111917.52,
          null,
          null,
          null,
          2448937.35,
          905770.41,
          27169.38,
          0,
          1215785.4,
          141892,
          17792.3,
          45873.61,
          34342.75,
          1515666.15,
          77359.24,
          147382.22,
          3088634.59,
          175792.67,
          1876018.87,
          191242.75,
          2329161.72,
          957366.44,
          3717882.21,
          5707177.36,
          2124081.81,
          95646.62,
          1253021.19,
          33051.53,
          3045909.17,
          312709.84,
          97677.3,
          0,
          1758459,
          3409925.52,
          0,
          5163533.11,
          4449497.54,
          2168423.53,
          1375799.76,
          6328539.87,
          930457.44,
          502345.28,
          7147162.97,
          42545.25,
          8858801.07,
          3144739.98,
          8978834,
          1752969.49,
          1577229.24,
          3570362.65,
          3687697.99,
          3123228.14,
          3392335.34,
          52182.79,
          6337405.99,
          4956048.45,
          2690504.26,
          7142852.46,
          4099084.97,
          2325709.69,
          12513212.8,
          4442337.22,
          1877492.94,
          6079999.11,
          4769522.48,
          4194190.94,
          1752171.46,
          1777899.62,
          2525045.84,
          3051107.9,
          326454.36,
          157569.32,
          2251295.88,
          1546746.45,
          3181505.62,
          1832377.75,
          2704713.24,
          1615242.9,
          603354.96,
          6037499.66,
          2768116.46,
          45356.05,
          4655784.37,
          0,
          2542383.02,
          91186.04,
          43162.48,
          22924.5,
          2243895.59,
          168937.4,
          54980.87,
          144248.42,
          276778.53,
          0,
          3393468.71,
          34098.62,
          7706.72,
          0,
          34849.65,
          72528.57,
          1037674.86,
          100291.79,
          1364461.33,
          2610019.02,
          3670803.53,
          3405187.33,
          970541.94,
          414294.52,
          316546.79,
          1851679.14,
          49953.34,
          866280.03,
          3293132.71,
          1706049.76,
          2055980.52,
          1596137.42,
          4823029.87,
          7002291.19,
          5362080.12,
          30546.88,
          1981382.79,
          3904868.95,
          2038067.55,
          96669.32,
          0,
          3592375.11,
          0,
          0,
          85152.99,
          62513.68,
          11084.8,
          1089821.42,
          2952.09,
          0,
          1025,
          546322.08,
          128130.6,
          0,
          50182.13,
          199193.86,
          77331.77,
          2346631.22,
          1295134.87,
          0,
          0,
          1007081.69,
          231492.19,
          682068.98,
          118238.36,
          0,
          675078.71,
          136070.11,
          11098.1,
          4714812.12,
          940934.37,
          451102.93,
          970008.57,
          3471591.94,
          1846105.83,
          3197037.46,
          1757510.27,
          77614.16,
          1389876.62,
          279107.58,
          74498.85,
          13686.03,
          3697115.69,
          42027.58,
          412570.26,
          0,
          42824.76,
          17996,
          187011.42,
          314866.01,
          3879207.28,
          2101438.62,
          10795195.37,
          851699.46,
          936470.02,
          879916.53,
          143023.9,
          9083201.29,
          2121791.23,
          58626.65,
          1898995.83,
          2502763.72,
          1911259.96,
          1697229.23,
          3924093.95,
          774333.86,
          377499.11,
          2637628.09,
          2772436.29,
          9640767.33,
          1386775.73,
          838417.65,
          1143752.09,
          1890260.75,
          1220473.56,
          145774.11,
          115599.13,
          null,
          28025.43,
          87407.75
         ],
         "yaxis": "y"
        },
        {
         "customdata": [
          [
           "Sarah Palin",
           "AK-1"
          ],
          [
           "Barry Moore",
           "AL-2"
          ],
          [
           "Mike Rogers",
           "AL-3"
          ],
          [
           "Robert Aderholt",
           "AL-4"
          ],
          [
           "Dale Strong",
           "AL-5"
          ],
          [
           "Beatrice Nichols",
           "AL-7"
          ],
          [
           "Rick Crawford",
           "AR-1"
          ],
          [
           "French Hill",
           "AR-2"
          ],
          [
           "Steve Womack",
           "AR-3"
          ],
          [
           "Bruce Westerman",
           "AR-4"
          ],
          [
           "David Schweikert",
           "AZ-1"
          ],
          [
           "Eli Crane",
           "AZ-2"
          ],
          [
           "Jeff Zink",
           "AZ-3"
          ],
          [
           "Kelly Cooper",
           "AZ-4"
          ],
          [
           "Andy Biggs",
           "AZ-5"
          ],
          [
           "Juan Ciscomani",
           "AZ-6"
          ],
          [
           "Luis Pozzolo",
           "AZ-7"
          ],
          [
           "Doug LaMalfa",
           "CA-1"
          ],
          [
           "John Dennis",
           "CA-11"
          ],
          [
           "Stephen Slauson",
           "CA-12"
          ],
          [
           "John Duarte",
           "CA-13"
          ],
          [
           "Alison Hayden",
           "CA-14"
          ],
          [
           "Ritesh Tandon",
           "CA-17"
          ],
          [
           "Peter Hernandez",
           "CA-18"
          ],
          [
           "Jeff Gorman",
           "CA-19"
          ],
          [
           "Douglas Brower",
           "CA-2"
          ],
          [
           "Kevin McCarthy",
           "CA-20"
          ],
          [
           "Michael Maher",
           "CA-21"
          ],
          [
           "David G. Valadao",
           "CA-22"
          ],
          [
           "Jay Obernolte",
           "CA-23"
          ],
          [
           "Brad Allen",
           "CA-24"
          ],
          [
           "Brian E. Hawkins",
           "CA-25"
          ],
          [
           "Matt Jacobs",
           "CA-26"
          ],
          [
           "Mike Garcia",
           "CA-27"
          ],
          [
           "Wes Hallman",
           "CA-28"
          ],
          [
           "Kevin Kiley",
           "CA-3"
          ],
          [
           "Daniel Bocic Martinez",
           "CA-31"
          ],
          [
           "Lucie Lapointe Volotzky",
           "CA-32"
          ],
          [
           "John Mark Porter",
           "CA-33"
          ],
          [
           "Mike Cargile",
           "CA-35"
          ],
          [
           "Joe E. Collins III",
           "CA-36"
          ],
          [
           "Eric J. Ching",
           "CA-38"
          ],
          [
           "Aja Smith",
           "CA-39"
          ],
          [
           "Matt Brock",
           "CA-4"
          ],
          [
           "Young Kim",
           "CA-40"
          ],
          [
           "Ken Calvert",
           "CA-41"
          ],
          [
           "John Briscoe",
           "CA-42"
          ],
          [
           "Omar Navarro",
           "CA-43"
          ],
          [
           "Paul Jones",
           "CA-44"
          ],
          [
           "Michelle Steel",
           "CA-45"
          ],
          [
           "Christopher J. Gonzales",
           "CA-46"
          ],
          [
           "Scott Baugh",
           "CA-47"
          ],
          [
           "Darrell Issa",
           "CA-48"
          ],
          [
           "Brian Maryott",
           "CA-49"
          ],
          [
           "Tom McClintock",
           "CA-5"
          ],
          [
           "Corey Gustafson",
           "CA-50"
          ],
          [
           "Stan Caplan",
           "CA-51"
          ],
          [
           "Tyler Geffeney",
           "CA-52"
          ],
          [
           "Tamika Hamilton",
           "CA-6"
          ],
          [
           "Max Semenenko",
           "CA-7"
          ],
          [
           "Rudy Recile",
           "CA-8"
          ],
          [
           "Tom Patti",
           "CA-9"
          ],
          [
           "Jennifer Qualteri",
           "CO-1"
          ],
          [
           "Marshall Dawson",
           "CO-2"
          ],
          [
           "Lauren Boebert",
           "CO-3"
          ],
          [
           "Ken Buck",
           "CO-4"
          ],
          [
           "Doug Lamborn",
           "CO-5"
          ],
          [
           "Steven Monahan",
           "CO-6"
          ],
          [
           "Erik Aadland",
           "CO-7"
          ],
          [
           "Barbara Kirkmeyer",
           "CO-8"
          ],
          [
           "Larry Lazor",
           "CT-1"
          ],
          [
           "Mike France",
           "CT-2"
          ],
          [
           "Lesley DeNardis",
           "CT-3"
          ],
          [
           "Jayme Stevenson",
           "CT-4"
          ],
          [
           "George Logan",
           "CT-5"
          ],
          [
           "Lee Murphy",
           "DE-1"
          ],
          [
           "Matt Gaetz",
           "FL-1"
          ],
          [
           "Calvin B. Wimbish",
           "FL-10"
          ],
          [
           "Daniel Webster",
           "FL-11"
          ],
          [
           "Gus Michael Bilirakis",
           "FL-12"
          ],
          [
           "Anna Paulina Luna",
           "FL-13"
          ],
          [
           "James Judge",
           "FL-14"
          ],
          [
           "Laurel Lee",
           "FL-15"
          ],
          [
           "Vern Buchanan",
           "FL-16"
          ],
          [
           "Greg Steube",
           "FL-17"
          ],
          [
           "Byron Donalds",
           "FL-19"
          ],
          [
           "Neal Dunn",
           "FL-2"
          ],
          [
           "Drew Montez Clark",
           "FL-20"
          ],
          [
           "Brian Mast",
           "FL-21"
          ],
          [
           "Dan Franzese",
           "FL-22"
          ],
          [
           "Joe Budd",
           "FL-23"
          ],
          [
           "Jesus G. Navarro",
           "FL-24"
          ],
          [
           "Carla Spalding",
           "FL-25"
          ],
          [
           "Mario Diaz-Balart",
           "FL-26"
          ],
          [
           "María Elvira Salazar",
           "FL-27"
          ],
          [
           "Carlos A. Gimenez",
           "FL-28"
          ],
          [
           "Kat Cammack",
           "FL-3"
          ],
          [
           "Aaron Bean",
           "FL-4"
          ],
          [
           "Cory Mills",
           "FL-7"
          ],
          [
           "Bill Posey",
           "FL-8"
          ],
          [
           "Scotty Moore",
           "FL-9"
          ],
          [
           "Earl L. “Buddy” Carter",
           "GA-1"
          ],
          [
           "Mike Collins",
           "GA-10"
          ],
          [
           "Barry Loudermilk",
           "GA-11"
          ],
          [
           "Rick W. Allen",
           "GA-12"
          ],
          [
           "Caesar Gonzales",
           "GA-13"
          ],
          [
           "Marjorie Taylor Greene",
           "GA-14"
          ],
          [
           "Chris West",
           "GA-2"
          ],
          [
           "Drew Ferguson",
           "GA-3"
          ],
          [
           "Jonathan Chavez",
           "GA-4"
          ],
          [
           "Christian Zimm",
           "GA-5"
          ],
          [
           "Rich McCormick",
           "GA-6"
          ],
          [
           "Mark Gonsalves",
           "GA-7"
          ],
          [
           "Austin Scott",
           "GA-8"
          ],
          [
           "Andrew Clyde",
           "GA-9"
          ],
          [
           "Conrad Kress",
           "HI-1"
          ],
          [
           "Joe Akana",
           "HI-2"
          ],
          [
           "Mariannette Miller-Meeks",
           "IA-1"
          ],
          [
           "Ashley Hinson",
           "IA-2"
          ],
          [
           "Zach Nunn",
           "IA-3"
          ],
          [
           "Randy Feenstra",
           "IA-4"
          ],
          [
           "Russ Fulcher",
           "ID-1"
          ],
          [
           "Mike Simpson",
           "ID-2"
          ],
          [
           "Eric Carlson",
           "IL-1"
          ],
          [
           "Joseph Severino",
           "IL-10"
          ],
          [
           "Catalina Lauf",
           "IL-11"
          ],
          [
           "Mike Bost",
           "IL-12"
          ],
          [
           "Regan Deering",
           "IL-13"
          ],
          [
           "Scott R. Gryder",
           "IL-14"
          ],
          [
           "Mary Miller",
           "IL-15"
          ],
          [
           "Darin LaHood",
           "IL-16"
          ],
          [
           "Esther Joy King",
           "IL-17"
          ],
          [
           "Thomas Lynch",
           "IL-2"
          ],
          [
           "Justin Burau",
           "IL-3"
          ],
          [
           "James Falakos",
           "IL-4"
          ],
          [
           "Tommy Hanson",
           "IL-5"
          ],
          [
           "Keith Pekau",
           "IL-6"
          ],
          [
           "Chris Dargis",
           "IL-8"
          ],
          [
           "Maxwell “Max” Rice",
           "IL-9"
          ],
          [
           "Jennifer-Ruth Green",
           "IN-1"
          ],
          [
           "Rudolph Yakym",
           "IN-2"
          ],
          [
           "Jim Banks",
           "IN-3"
          ],
          [
           "Jim Baird",
           "IN-4"
          ],
          [
           "Victoria Spartz",
           "IN-5"
          ],
          [
           "Greg Pence",
           "IN-6"
          ],
          [
           "Angela Grabovsky",
           "IN-7"
          ],
          [
           "Larry D. Bucshon",
           "IN-8"
          ],
          [
           "Erin Houchin",
           "IN-9"
          ],
          [
           "Tracey Mann",
           "KS-1"
          ],
          [
           "Jake LaTurner",
           "KS-2"
          ],
          [
           "Amanda L. Adkins",
           "KS-3"
          ],
          [
           "Ron Estes",
           "KS-4"
          ],
          [
           "James R. Comer",
           "KY-1"
          ],
          [
           "S. Brett Guthrie",
           "KY-2"
          ],
          [
           "Stuart N. Ray",
           "KY-3"
          ],
          [
           "Thomas Massie",
           "KY-4"
          ],
          [
           "Harold “Hal” Rogers",
           "KY-5"
          ],
          [
           "Andy Barr",
           "KY-6"
          ],
          [
           "Steve Scalise",
           "LA-1"
          ],
          [
           "Dan Lux",
           "LA-2"
          ],
          [
           "Clay Higgins",
           "LA-3"
          ],
          [
           "Julia Letlow",
           "LA-5"
          ],
          [
           "Dean James Martilli",
           "MA-1"
          ],
          [
           "Jeffrey A. Sossa-Paquette",
           "MA-2"
          ],
          [
           "Dean A. Tran",
           "MA-3"
          ],
          [
           "Caroline Colarusso",
           "MA-5"
          ],
          [
           "Bob May",
           "MA-6"
          ],
          [
           "Donnie Dionicio Palmer Jr.",
           "MA-7"
          ],
          [
           "Robert G. Burke",
           "MA-8"
          ],
          [
           "Jesse G. Brown",
           "MA-9"
          ],
          [
           "Andy Harris",
           "MD-1"
          ],
          [
           "Nicolee Ambrose",
           "MD-2"
          ],
          [
           "Yuripzy Morgan",
           "MD-3"
          ],
          [
           "Jeff Warner",
           "MD-4"
          ],
          [
           "Chris Palombi",
           "MD-5"
          ],
          [
           "Neil C. Parrott",
           "MD-6"
          ],
          [
           "Scott M. Collier",
           "MD-7"
          ],
          [
           "Gregory Thomas Coll",
           "MD-8"
          ],
          [
           "Edwin Thelander",
           "ME-1"
          ],
          [
           "Bruce Poliquin",
           "ME-2"
          ],
          [
           "Jack Bergman",
           "MI-1"
          ],
          [
           "John James",
           "MI-10"
          ],
          [
           "Mark Ambrose",
           "MI-11"
          ],
          [
           "Steven Elliott",
           "MI-12"
          ],
          [
           "Martell D. Bivings",
           "MI-13"
          ],
          [
           "John Moolenaar",
           "MI-2"
          ],
          [
           "John Gibbs",
           "MI-3"
          ],
          [
           "Bill Huizenga",
           "MI-4"
          ],
          [
           "Tim Walberg",
           "MI-5"
          ],
          [
           "Whittney Williams",
           "MI-6"
          ],
          [
           "Tom Barrett",
           "MI-7"
          ],
          [
           "Paul Junge",
           "MI-8"
          ],
          [
           "Lisa McClain",
           "MI-9"
          ],
          [
           "Brad Finstad",
           "MN-1"
          ],
          [
           "Tyler Kistner",
           "MN-2"
          ],
          [
           "Tom Weiler",
           "MN-3"
          ],
          [
           "May Lor Xiong",
           "MN-4"
          ],
          [
           "Cicely Davis",
           "MN-5"
          ],
          [
           "Tom Emmer",
           "MN-6"
          ],
          [
           "Michelle Fischbach",
           "MN-7"
          ],
          [
           "Pete Stauber",
           "MN-8"
          ],
          [
           "Andrew Jones",
           "MO-1"
          ],
          [
           "Ann Wagner",
           "MO-2"
          ],
          [
           "Blaine Luetkemeyer",
           "MO-3"
          ],
          [
           "Mark Alford",
           "MO-4"
          ],
          [
           "Jacob Turk",
           "MO-5"
          ],
          [
           "Sam Graves",
           "MO-6"
          ],
          [
           "Eric Burlison",
           "MO-7"
          ],
          [
           "Jason Smith",
           "MO-8"
          ],
          [
           "Trent Kelly",
           "MS-1"
          ],
          [
           "Brian Flowers",
           "MS-2"
          ],
          [
           "Michael Guest",
           "MS-3"
          ],
          [
           "Mike Ezell",
           "MS-4"
          ],
          [
           "Ryan K. Zinke",
           "MT-1"
          ],
          [
           "Matt Rosendale",
           "MT-2"
          ],
          [
           "Sandy Smith",
           "NC-1"
          ],
          [
           "Patrick McHenry",
           "NC-10"
          ],
          [
           "Chuck Edwards",
           "NC-11"
          ],
          [
           "Tyler Lee",
           "NC-12"
          ],
          [
           "Bo Hines",
           "NC-13"
          ],
          [
           "Pat Harrigan",
           "NC-14"
          ],
          [
           "Christine E. Villaverde",
           "NC-2"
          ],
          [
           "Greg Murphy",
           "NC-3"
          ],
          [
           "Courtney Geels",
           "NC-4"
          ],
          [
           "Virginia Foxx",
           "NC-5"
          ],
          [
           "Christian Castelli",
           "NC-6"
          ],
          [
           "David Rouzer",
           "NC-7"
          ],
          [
           "Dan Bishop",
           "NC-8"
          ],
          [
           "Richard Hudson",
           "NC-9"
          ],
          [
           "Mike Flood",
           "NE-1"
          ],
          [
           "Don Bacon",
           "NE-2"
          ],
          [
           "Adrian Smith",
           "NE-3"
          ],
          [
           "Karoline Leavitt",
           "NH-1"
          ],
          [
           "Robert Burns",
           "NH-2"
          ],
          [
           "Claire Gustafson",
           "NJ-1"
          ],
          [
           "David H. Pinckney",
           "NJ-10"
          ],
          [
           "Paul DeGroot",
           "NJ-11"
          ],
          [
           "Darius Mayfield",
           "NJ-12"
          ],
          [
           "Jeff Van Drew",
           "NJ-2"
          ],
          [
           "Bob Healey",
           "NJ-3"
          ],
          [
           "Christopher H. Smith",
           "NJ-4"
          ],
          [
           "Frank T. Pallotta",
           "NJ-5"
          ],
          [
           "Susan M. Kiley",
           "NJ-6"
          ],
          [
           "Thomas H. Kean Jr.",
           "NJ-7"
          ],
          [
           "Marcos Arroyo",
           "NJ-8"
          ],
          [
           "Billy Prempeh",
           "NJ-9"
          ],
          [
           "Michelle Garcia Holmes",
           "NM-1"
          ],
          [
           "Yvette Herrell",
           "NM-2"
          ],
          [
           "Alexis Martinez Johnson",
           "NM-3"
          ],
          [
           "Mark Robertson",
           "NV-1"
          ],
          [
           "Mark E. Amodei",
           "NV-2"
          ],
          [
           "April Becker",
           "NV-3"
          ],
          [
           "Sam Peters",
           "NV-4"
          ],
          [
           "Nicholas J. LaLota",
           "NY-1"
          ],
          [
           "Benine Hamdan",
           "NY-10"
          ],
          [
           "Nicole Malliotakis",
           "NY-11"
          ],
          [
           "Michael Zumbluskas",
           "NY-12"
          ],
          [
           "Tina Forte",
           "NY-14"
          ],
          [
           "Stylo A. Sapaskis",
           "NY-15"
          ],
          [
           "Miriam L. Flisser",
           "NY-16"
          ],
          [
           "Michael V. Lawler",
           "NY-17"
          ],
          [
           "Colin J. Schmitt",
           "NY-18"
          ],
          [
           "Marcus Molinaro",
           "NY-19"
          ],
          [
           "Andrew R. Garbarino",
           "NY-2"
          ],
          [
           "Elizabeth L. Joy",
           "NY-20"
          ],
          [
           "Elise M. Stefanik",
           "NY-21"
          ],
          [
           "Brandon M. Williams",
           "NY-22"
          ],
          [
           "Nick Langworthy",
           "NY-23"
          ],
          [
           "Claudia Tenney",
           "NY-24"
          ],
          [
           "La'Ron D. Singletary",
           "NY-25"
          ],
          [
           "Steven L. Sams II",
           "NY-26"
          ],
          [
           "George A.D. Santos",
           "NY-3"
          ],
          [
           "Anthony P. D'Esposito",
           "NY-4"
          ],
          [
           "Paul King",
           "NY-5"
          ],
          [
           "Tom Zmich",
           "NY-6"
          ],
          [
           "Juan Pagán",
           "NY-7"
          ],
          [
           "Yuri Dashevsky",
           "NY-8"
          ],
          [
           "Steve Chabot",
           "OH-1"
          ],
          [
           "Mike Turner",
           "OH-10"
          ],
          [
           "Eric J. Brewer",
           "OH-11"
          ],
          [
           "Troy Balderson",
           "OH-12"
          ],
          [
           "Madison Gesiotto Gilbert",
           "OH-13"
          ],
          [
           "David P. Joyce",
           "OH-14"
          ],
          [
           "Mike Carey",
           "OH-15"
          ],
          [
           "Brad Wenstrup",
           "OH-2"
          ],
          [
           "Lee R. Stahley",
           "OH-3"
          ],
          [
           "Jim Jordan",
           "OH-4"
          ],
          [
           "Bob Latta",
           "OH-5"
          ],
          [
           "Bill Johnson",
           "OH-6"
          ],
          [
           "Max Miller",
           "OH-7"
          ],
          [
           "Warren Davidson",
           "OH-8"
          ],
          [
           "J.R. Majewski",
           "OH-9"
          ],
          [
           "Kevin Hern",
           "OK-1"
          ],
          [
           "Josh Brecheen",
           "OK-2"
          ],
          [
           "Frank D. Lucas",
           "OK-3"
          ],
          [
           "Tom Cole",
           "OK-4"
          ],
          [
           "Stephanie Bice",
           "OK-5"
          ],
          [
           "Christopher A. Mann",
           "OR-1"
          ],
          [
           "Cliff S. Bentz",
           "OR-2"
          ],
          [
           "Joanna Harbour",
           "OR-3"
          ],
          [
           "Alek Skarlatos",
           "OR-4"
          ],
          [
           "Lori Chavez-DeRemer",
           "OR-5"
          ],
          [
           "Mike Erickson",
           "OR-6"
          ],
          [
           "Brian Fitzpatrick",
           "PA-1"
          ],
          [
           "Scott Perry",
           "PA-10"
          ],
          [
           "Lloyd K. Smucker",
           "PA-11"
          ],
          [
           "Mike Doyle",
           "PA-12"
          ],
          [
           "Glenn “GT” Thompson",
           "PA-15"
          ],
          [
           "Mike Kelly",
           "PA-16"
          ],
          [
           "Jeremy Shaffer",
           "PA-17"
          ],
          [
           "Aaron Bashir",
           "PA-2"
          ],
          [
           "Christian Nascimento",
           "PA-4"
          ],
          [
           "David Galluch",
           "PA-5"
          ],
          [
           "Guy Louis Ciarrocchi",
           "PA-6"
          ],
          [
           "Lisa Scheller",
           "PA-7"
          ],
          [
           "Jim Bognet",
           "PA-8"
          ],
          [
           "Dan Meuser",
           "PA-9"
          ],
          [
           "Allen R. Waters",
           "RI-1"
          ],
          [
           "Allan W. Fung",
           "RI-2"
          ],
          [
           "Nancy Mace",
           "SC-1"
          ],
          [
           "Joe Wilson",
           "SC-2"
          ],
          [
           "Ralph Norman",
           "SC-5"
          ],
          [
           "Duke Buckner",
           "SC-6"
          ],
          [
           "Russell Fry",
           "SC-7"
          ],
          [
           "Diana Lynn Harshbarger",
           "TN-1"
          ],
          [
           "Tim Burchett",
           "TN-2"
          ],
          [
           "Chuck Fleischmann",
           "TN-3"
          ],
          [
           "Scott DesJarlais",
           "TN-4"
          ],
          [
           "Andy Ogles",
           "TN-5"
          ],
          [
           "John Rose",
           "TN-6"
          ],
          [
           "Mark E. Green",
           "TN-7"
          ],
          [
           "David Kustoff",
           "TN-8"
          ],
          [
           "Charlotte Bergmann",
           "TN-9"
          ],
          [
           "Nathaniel Moran",
           "TX-1"
          ],
          [
           "Michael McCaul",
           "TX-10"
          ],
          [
           "Kay Granger",
           "TX-12"
          ],
          [
           "Ronny Jackson",
           "TX-13"
          ],
          [
           "Randy Weber",
           "TX-14"
          ],
          [
           "Monica De La Cruz",
           "TX-15"
          ],
          [
           "Irene Armendariz-Jackson",
           "TX-16"
          ],
          [
           "Pete Sessions",
           "TX-17"
          ],
          [
           "Carmen Maria Montiel",
           "TX-18"
          ],
          [
           "Dan Crenshaw",
           "TX-2"
          ],
          [
           "Kyle Sinclair",
           "TX-20"
          ],
          [
           "Chip Roy",
           "TX-21"
          ],
          [
           "Troy E. Nehls",
           "TX-22"
          ],
          [
           "Tony Gonzales",
           "TX-23"
          ],
          [
           "Beth Van Duyne",
           "TX-24"
          ],
          [
           "Michael Cloud",
           "TX-27"
          ],
          [
           "Cassy Garcia",
           "TX-28"
          ],
          [
           "Robert Schafranek",
           "TX-29"
          ],
          [
           "Keith Self",
           "TX-3"
          ],
          [
           "James Rodgers",
           "TX-30"
          ],
          [
           "Antonio Swad",
           "TX-32"
          ],
          [
           "Patrick David Gillespie",
           "TX-33"
          ],
          [
           "Mayra Flores",
           "TX-34"
          ],
          [
           "Dan McQueen",
           "TX-35"
          ],
          [
           "Brian Babin",
           "TX-36"
          ],
          [
           "Jenny Garcia Sharon",
           "TX-37"
          ],
          [
           "Wesley Hunt",
           "TX-38"
          ],
          [
           "Pat Fallon",
           "TX-4"
          ],
          [
           "Lance Gooden",
           "TX-5"
          ],
          [
           "Johnny Teague",
           "TX-7"
          ],
          [
           "Morgan Luttrell",
           "TX-8"
          ],
          [
           "Jimmy I. Leon",
           "TX-9"
          ],
          [
           "Blake D. Moore",
           "UT-1"
          ],
          [
           "Chris Stewart",
           "UT-2"
          ],
          [
           "John Curtis",
           "UT-3"
          ],
          [
           "Burgess Owens",
           "UT-4"
          ],
          [
           "Rob J. Wittman",
           "VA-1"
          ],
          [
           "Hung Cao",
           "VA-10"
          ],
          [
           "James G. “Jim” Myles",
           "VA-11"
          ],
          [
           "Jen A. Kiggans",
           "VA-2"
          ],
          [
           "Terry T. Namkung",
           "VA-3"
          ],
          [
           "Leon Benjamin Sr.",
           "VA-4"
          ],
          [
           "Robert G. “Bob” Good",
           "VA-5"
          ],
          [
           "Ben L. Cline",
           "VA-6"
          ],
          [
           "Yesli I. Vega",
           "VA-7"
          ],
          [
           "Karina A. Lipsman",
           "VA-8"
          ],
          [
           "H. Morgan Griffith",
           "VA-9"
          ],
          [
           "Liam Madden",
           "VT-1"
          ],
          [
           "Vincent J. Cavaleri",
           "WA-1"
          ],
          [
           "Keith R. Swank",
           "WA-10"
          ],
          [
           "Dan Matthews",
           "WA-2"
          ],
          [
           "Joe Kent",
           "WA-3"
          ],
          [
           "Dan Newhouse",
           "WA-4"
          ],
          [
           "Cathy McMorris Rodgers",
           "WA-5"
          ],
          [
           "Elizabeth Kreiselmaier",
           "WA-6"
          ],
          [
           "Cliff Moon",
           "WA-7"
          ],
          [
           "Matt Larkin",
           "WA-8"
          ],
          [
           "Doug Basler",
           "WA-9"
          ],
          [
           "Bryan Steil",
           "WI-1"
          ],
          [
           "Erik Olsen",
           "WI-2"
          ],
          [
           "Derrick Van Orden",
           "WI-3"
          ],
          [
           "Tim Rogers",
           "WI-4"
          ],
          [
           "Scott Fitzgerald",
           "WI-5"
          ],
          [
           "Tom Tiffany",
           "WI-7"
          ],
          [
           "Carol Miller",
           "WV-1"
          ],
          [
           "Alexander X. Mooney",
           "WV-2"
          ],
          [
           "Harriet Hageman",
           "WY-1"
          ]
         ],
         "hovertemplate": "party=R<br>win_pct=%{x}<br>Total_Receipt=%{y}<br>name=%{customdata[0]}<br>district=%{customdata[1]}<extra></extra>",
         "legendgroup": "R",
         "marker": {
          "color": "#EF553B",
          "symbol": "circle"
         },
         "mode": "markers",
         "name": "R",
         "orientation": "v",
         "showlegend": true,
         "type": "scatter",
         "x": [
          0.350875,
          0.999525,
          0.9999,
          1,
          0.996075,
          0.000625,
          0.999725,
          0.987925,
          0.998875,
          0.99955,
          0.8365,
          0.53405,
          0.000225,
          0.263175,
          0.998475,
          0.705925,
          0.0039,
          0.997475,
          0,
          0,
          0.35345,
          0.00025,
          0.000475,
          0.0006,
          0.00065,
          7.5e-05,
          0.999675,
          0.22965,
          0.391325,
          0.9916,
          0.005125,
          0.0423,
          0.12875,
          0.527875,
          0.002275,
          0.839625,
          0.003575,
          0.0004,
          0.011825,
          0.003775,
          0.0003,
          0.002625,
          0.010675,
          0.000825,
          0.918725,
          0.925975,
          0.00115,
          0,
          0.0001,
          0.78435,
          0.003,
          0.143875,
          0.99615,
          0.1909,
          0.99365,
          0.00295,
          0.007775,
          0.000825,
          0.038025,
          0.0009,
          5e-05,
          0.324875,
          2.5e-05,
          0.001225,
          0.830325,
          0.997825,
          0.9951,
          0.02365,
          0.324275,
          0.75105,
          0.00815,
          0.023875,
          0.041625,
          0.020325,
          0.416925,
          0.035,
          0.97105,
          0.008575,
          0.99325,
          0.999225,
          0.666875,
          0.029475,
          0.823475,
          0.9803,
          0.993525,
          0.9978,
          0.877825,
          7.5e-05,
          0.9828,
          0.02725,
          0.255025,
          0,
          0.01505,
          0.977975,
          0.706475,
          0.910575,
          0.98965,
          0.947175,
          0.9249,
          0.995925,
          0.0204,
          0.99315,
          0.9956,
          0.998575,
          0.9888,
          0.0001,
          0.9999,
          0.18705,
          0.999725,
          2.5e-05,
          0,
          0.985675,
          0.020125,
          0.999325,
          0.999925,
          0.002875,
          0.0109,
          0.785325,
          0.791825,
          0.54725,
          0.997725,
          0.99995,
          0.998325,
          0.00045,
          0.05885,
          0.0513,
          1,
          0.33205,
          0.1009,
          0.99975,
          0.996975,
          0.3402,
          0.000325,
          0.001825,
          0.000225,
          0.0008,
          0.10335,
          0.169775,
          0.000275,
          0.142225,
          0.983475,
          0.9994,
          0.99935,
          0.994625,
          0.999675,
          0.0004,
          0.999125,
          0.9934,
          0.9993,
          0.928625,
          0.11075,
          0.9982,
          0.9999,
          0.9998,
          0.024675,
          0.9994,
          0.999975,
          0.9795,
          0.9999,
          0,
          0.889175,
          0.923725,
          0.00575,
          0.00195,
          0.00345,
          0.0001,
          0.00405,
          0,
          0.000875,
          0.014125,
          0.925125,
          0.067125,
          0.02205,
          0,
          0.001225,
          0.2967,
          0,
          2.5e-05,
          0.002325,
          0.334475,
          0.99335,
          0.833175,
          0.01805,
          7.5e-05,
          0.00025,
          0.998375,
          0.37955,
          0.946875,
          0.997875,
          0.006325,
          0.283025,
          0.3309,
          0.999275,
          0.90895,
          0.369025,
          0.03625,
          0.00115,
          2.5e-05,
          0.9963,
          0.99925,
          0.976275,
          0,
          0.986125,
          0.999175,
          0.999375,
          0.00595,
          0.999825,
          0.9998,
          0.99995,
          0.9996,
          0.00335,
          0.9986,
          0.99895,
          0.83195,
          0.976575,
          0.1771,
          0.999775,
          0.8204,
          0.002125,
          0.454875,
          0.16045,
          0.00415,
          0.997975,
          0.00315,
          0.995975,
          0.091475,
          0.98025,
          0.9998,
          0.96415,
          0.989125,
          0.8294,
          1,
          0.50535,
          0.121875,
          0.076625,
          2.5e-05,
          0.07205,
          0.002425,
          0.972325,
          0.188475,
          0.99885,
          0.127425,
          0.039825,
          0.650925,
          0.000775,
          0.02865,
          0.0619,
          0.688925,
          0.007225,
          0.82135,
          0.9983,
          0.60685,
          0.357075,
          0.772775,
          0,
          0.87335,
          0,
          5e-05,
          0,
          0.00015,
          0.362275,
          0.1551,
          0.297475,
          0.82715,
          0.021775,
          0.97855,
          0.46195,
          0.968275,
          0.992675,
          0.130975,
          0.01135,
          0.468125,
          0.47585,
          0,
          0.00315,
          0,
          0,
          0.64105,
          0.9532,
          2.5e-05,
          0.999275,
          0.575325,
          0.989275,
          0.97465,
          0.999925,
          0.0002,
          0.9998,
          0.998375,
          0.998425,
          0.9101,
          0.998275,
          0.282,
          0.998925,
          0.99995,
          0.999975,
          0.999475,
          0.9981,
          0.000875,
          0.9982,
          0.0001,
          0.331275,
          0.65845,
          0.68175,
          0.921925,
          0.772925,
          0.99795,
          0.08655,
          0.999675,
          0.996075,
          0.51475,
          0.0002,
          0.022325,
          0.001475,
          0.057375,
          0.536525,
          0.318425,
          0.99995,
          0.0017,
          0.82765,
          0.9897,
          0.99305,
          0.998025,
          0.001725,
          0.98425,
          0.999975,
          0.9996,
          0.999725,
          0.99985,
          0.763075,
          0.999525,
          0.99515,
          0.99995,
          0.00025,
          0.9998,
          0.997025,
          0.99835,
          0.9999,
          0.999675,
          0.639275,
          0.001775,
          0.998325,
          0.00025,
          0.999375,
          0.0042,
          0.998275,
          0.998175,
          0.9658,
          0.99745,
          0.998675,
          0.129125,
          0.0013,
          0.985475,
          0.000225,
          0.004275,
          0.000325,
          0.263525,
          0.002675,
          0.999725,
          0,
          0.9932,
          0.999,
          0.9988,
          0.005875,
          0.99205,
          0.000125,
          0.99485,
          0.986275,
          0.99115,
          0.99415,
          0.984075,
          0.20745,
          0.0015,
          0.43425,
          0.000875,
          0.0006,
          0.9812,
          0.9988,
          0.348275,
          5e-05,
          0.999875,
          0.00055,
          0.0065,
          0.0533,
          0.016675,
          0.8471,
          0.995975,
          0.983025,
          0.038875,
          0,
          0.304425,
          0.00035,
          0.944075,
          0.00015,
          0.8809,
          0.000125,
          0.9984,
          0.993925,
          0.999275,
          0.9995,
          0.999175
         ],
         "xaxis": "x",
         "y": [
          1971160.93,
          896776.46,
          2261995.22,
          1540807.2,
          1994353.59,
          47728.98,
          1087410.34,
          3396282.37,
          1664168.78,
          1944291.45,
          null,
          3779765.67,
          73781.24,
          2342076.93,
          2116014.71,
          3398846.75,
          null,
          961209.18,
          998254.03,
          1050,
          null,
          0,
          116486,
          251022.45,
          58794.18,
          15677,
          28295639.53,
          311788.67,
          3738008.91,
          1060460.56,
          40904,
          541664.83,
          2655736.79,
          7192788.37,
          109463.22,
          3212844,
          0,
          53589.76,
          4318.62,
          67073.63,
          2524892.82,
          280589.09,
          null,
          11265,
          9340940.92,
          3728273.29,
          527945,
          85997.53,
          null,
          7411601.19,
          55923.37,
          3145463.28,
          2337213.84,
          5591297.83,
          1674004.02,
          94112.24,
          135385.49,
          40408.04,
          1158787.4,
          58819.37,
          60648.94,
          1627893.83,
          0,
          48943.09,
          7854668.58,
          1618431.12,
          506157.3,
          258207.39,
          1525113.68,
          1602545.07,
          190652.21,
          880637.26,
          46977.86,
          553804.9,
          1297352.41,
          349933.46,
          6727002.23,
          253418.48,
          783304.69,
          1985594.58,
          3387013.53,
          216847.03,
          1563092.79,
          4693372.7,
          1645535.54,
          5657617.12,
          1800603.34,
          145971.24,
          6338072.31,
          1614198.79,
          171383.71,
          15868.09,
          2002921.5,
          1811601.56,
          5647931.39,
          2143685.24,
          2323162.63,
          1198576.19,
          2634884.12,
          1030661.36,
          601171.19,
          2127328.91,
          1467857.85,
          795499.29,
          990712.76,
          19033.64,
          12588124.11,
          1020600.4,
          3427041.42,
          0,
          35221.14,
          4636744.33,
          567363.58,
          832289.28,
          819947.75,
          82409.58,
          71641.86,
          4911923.34,
          7191931.25,
          2633465.87,
          2886169.99,
          536931.86,
          1623606.84,
          5896.21,
          34275,
          2775559.99,
          1664091.4,
          2096672.96,
          658298.5,
          2019930.74,
          3915556.68,
          5114935.2,
          0,
          28273.99,
          0,
          28663.3,
          1514693.19,
          545818.55,
          9895.5,
          3492664.39,
          1151524.32,
          2653270.22,
          434679.53,
          4156237.89,
          2281638.58,
          498397.85,
          1428441.16,
          1356559,
          1237054.19,
          1478931.28,
          3854560.75,
          1877363.59,
          1649489.62,
          2259392.72,
          622973.39,
          1105338.75,
          820504.67,
          3845266.61,
          18570245.06,
          32371,
          1057244.85,
          2849171.25,
          19752.89,
          140906.35,
          158145.09,
          107077.48,
          53398,
          0,
          0,
          352855.67,
          1921505.35,
          500312.76,
          503051.87,
          57740.7,
          63553.38,
          1098843.33,
          0,
          16294.27,
          454062.79,
          3671939.64,
          1841958.42,
          6954183.56,
          668345.01,
          265846.32,
          99789.93,
          2197543.5,
          1686030.12,
          3073021.13,
          null,
          12069.75,
          2834508.15,
          3108702.53,
          null,
          1500243.97,
          3409854.76,
          681468.99,
          133467.1,
          3226697.65,
          4431685.38,
          1677464.61,
          2470828.61,
          49116.03,
          4884445.83,
          3640059.18,
          1038063.25,
          37587,
          2383368.94,
          1081116.19,
          3198303.83,
          1113277.81,
          49488.03,
          1353829.76,
          1062857.78,
          null,
          2284637.89,
          2187047.47,
          3911761.09,
          1584205.79,
          211748.03,
          3286174.94,
          null,
          149375.48,
          1993505.57,
          409981.2,
          2208535,
          928501.85,
          1496207.61,
          1944120.33,
          3120527.33,
          2195050.83,
          3919222.53,
          1709691.29,
          3691942.57,
          401645.82,
          38650,
          0,
          710058.5,
          266328.89,
          3119520.28,
          4713439.44,
          1494147.31,
          982795.94,
          399477.05,
          4476737.53,
          0,
          309100.35,
          391731.56,
          4431274.96,
          303535.55,
          1337673.46,
          1219752.54,
          2488761.16,
          1964059.59,
          1551713.01,
          25027.8,
          4642144.71,
          19176.52,
          1540477.62,
          0,
          17023,
          1553320.59,
          2062676.07,
          2491602.09,
          3551116.76,
          1169097.57,
          9489980.78,
          941403.42,
          763707.48,
          3301121.74,
          710075.2,
          36659.11,
          3000675.52,
          1325986.26,
          130038.17,
          2405.87,
          0,
          19970.31,
          2234658.79,
          1522717.13,
          0,
          1919520.06,
          2197170.59,
          2606247.74,
          2363798.92,
          2088194.25,
          0,
          14293131.39,
          1560724.66,
          1706984.83,
          3045488.99,
          976169.59,
          1185047.37,
          1709945.49,
          654619.23,
          1524419.03,
          2335186.44,
          2491328.51,
          0,
          1184427.97,
          14925,
          4538041.24,
          2568275.52,
          3957227.25,
          4560231.74,
          3043768.91,
          1560516.69,
          205104.56,
          2692356.32,
          1320811.66,
          2786043.66,
          0,
          239390.88,
          746756.83,
          1038552.06,
          6354578.69,
          3017514.63,
          1101338.69,
          45441.69,
          2247796.52,
          5884937.13,
          1020327.32,
          890552.23,
          205668.71,
          1428232.9,
          2000622.04,
          1427400.67,
          1058051.28,
          174860.33,
          1281921.17,
          2055441.26,
          1763091.7,
          1913469.28,
          400705.46,
          1051039.2,
          2729647.14,
          2041432.69,
          5097598.64,
          1036639.13,
          4688233.32,
          389697.69,
          1001775.53,
          126358.5,
          15916738.83,
          293147.37,
          2344485,
          1375451.92,
          4307414.2,
          3782404.28,
          1076329.45,
          3485707.38,
          0,
          592898.76,
          64725.05,
          2386122.49,
          0,
          4685774.09,
          31515,
          1054678.32,
          9153,
          5831956.81,
          1009595.34,
          1038969.23,
          191713.98,
          4750765.79,
          1121.26,
          1792532.69,
          1096841.01,
          2120305.46,
          3685802.41,
          2191153.97,
          3304902.6,
          235273.48,
          3485709.65,
          180080.37,
          382045.09,
          1172672.7,
          993251.5,
          3679371.94,
          290981.09,
          813068.46,
          null,
          185847.78,
          160970.22,
          145529.16,
          3727353.44,
          2148295.38,
          6416913.26,
          426186.56,
          8019.18,
          2810552.79,
          133962.28,
          3616861.88,
          89666.7,
          6479115.13,
          0,
          996710.79,
          1181268.65,
          1236366.77,
          4477286.55,
          5737078.7
         ],
         "yaxis": "y"
        }
       ],
       "layout": {
        "autosize": true,
        "legend": {
         "title": {
          "text": "party"
         },
         "tracegroupgap": 0
        },
        "margin": {
         "t": 60
        },
        "template": {
         "data": {
          "bar": [
           {
            "error_x": {
             "color": "#2a3f5f"
            },
            "error_y": {
             "color": "#2a3f5f"
            },
            "marker": {
             "line": {
              "color": "#E5ECF6",
              "width": 0.5
             },
             "pattern": {
              "fillmode": "overlay",
              "size": 10,
              "solidity": 0.2
             }
            },
            "type": "bar"
           }
          ],
          "barpolar": [
           {
            "marker": {
             "line": {
              "color": "#E5ECF6",
              "width": 0.5
             },
             "pattern": {
              "fillmode": "overlay",
              "size": 10,
              "solidity": 0.2
             }
            },
            "type": "barpolar"
           }
          ],
          "carpet": [
           {
            "aaxis": {
             "endlinecolor": "#2a3f5f",
             "gridcolor": "white",
             "linecolor": "white",
             "minorgridcolor": "white",
             "startlinecolor": "#2a3f5f"
            },
            "baxis": {
             "endlinecolor": "#2a3f5f",
             "gridcolor": "white",
             "linecolor": "white",
             "minorgridcolor": "white",
             "startlinecolor": "#2a3f5f"
            },
            "type": "carpet"
           }
          ],
          "choropleth": [
           {
            "colorbar": {
             "outlinewidth": 0,
             "ticks": ""
            },
            "type": "choropleth"
           }
          ],
          "contour": [
           {
            "colorbar": {
             "outlinewidth": 0,
             "ticks": ""
            },
            "colorscale": [
             [
              0,
              "#0d0887"
             ],
             [
              0.1111111111111111,
              "#46039f"
             ],
             [
              0.2222222222222222,
              "#7201a8"
             ],
             [
              0.3333333333333333,
              "#9c179e"
             ],
             [
              0.4444444444444444,
              "#bd3786"
             ],
             [
              0.5555555555555556,
              "#d8576b"
             ],
             [
              0.6666666666666666,
              "#ed7953"
             ],
             [
              0.7777777777777778,
              "#fb9f3a"
             ],
             [
              0.8888888888888888,
              "#fdca26"
             ],
             [
              1,
              "#f0f921"
             ]
            ],
            "type": "contour"
           }
          ],
          "contourcarpet": [
           {
            "colorbar": {
             "outlinewidth": 0,
             "ticks": ""
            },
            "type": "contourcarpet"
           }
          ],
          "heatmap": [
           {
            "colorbar": {
             "outlinewidth": 0,
             "ticks": ""
            },
            "colorscale": [
             [
              0,
              "#0d0887"
             ],
             [
              0.1111111111111111,
              "#46039f"
             ],
             [
              0.2222222222222222,
              "#7201a8"
             ],
             [
              0.3333333333333333,
              "#9c179e"
             ],
             [
              0.4444444444444444,
              "#bd3786"
             ],
             [
              0.5555555555555556,
              "#d8576b"
             ],
             [
              0.6666666666666666,
              "#ed7953"
             ],
             [
              0.7777777777777778,
              "#fb9f3a"
             ],
             [
              0.8888888888888888,
              "#fdca26"
             ],
             [
              1,
              "#f0f921"
             ]
            ],
            "type": "heatmap"
           }
          ],
          "heatmapgl": [
           {
            "colorbar": {
             "outlinewidth": 0,
             "ticks": ""
            },
            "colorscale": [
             [
              0,
              "#0d0887"
             ],
             [
              0.1111111111111111,
              "#46039f"
             ],
             [
              0.2222222222222222,
              "#7201a8"
             ],
             [
              0.3333333333333333,
              "#9c179e"
             ],
             [
              0.4444444444444444,
              "#bd3786"
             ],
             [
              0.5555555555555556,
              "#d8576b"
             ],
             [
              0.6666666666666666,
              "#ed7953"
             ],
             [
              0.7777777777777778,
              "#fb9f3a"
             ],
             [
              0.8888888888888888,
              "#fdca26"
             ],
             [
              1,
              "#f0f921"
             ]
            ],
            "type": "heatmapgl"
           }
          ],
          "histogram": [
           {
            "marker": {
             "pattern": {
              "fillmode": "overlay",
              "size": 10,
              "solidity": 0.2
             }
            },
            "type": "histogram"
           }
          ],
          "histogram2d": [
           {
            "colorbar": {
             "outlinewidth": 0,
             "ticks": ""
            },
            "colorscale": [
             [
              0,
              "#0d0887"
             ],
             [
              0.1111111111111111,
              "#46039f"
             ],
             [
              0.2222222222222222,
              "#7201a8"
             ],
             [
              0.3333333333333333,
              "#9c179e"
             ],
             [
              0.4444444444444444,
              "#bd3786"
             ],
             [
              0.5555555555555556,
              "#d8576b"
             ],
             [
              0.6666666666666666,
              "#ed7953"
             ],
             [
              0.7777777777777778,
              "#fb9f3a"
             ],
             [
              0.8888888888888888,
              "#fdca26"
             ],
             [
              1,
              "#f0f921"
             ]
            ],
            "type": "histogram2d"
           }
          ],
          "histogram2dcontour": [
           {
            "colorbar": {
             "outlinewidth": 0,
             "ticks": ""
            },
            "colorscale": [
             [
              0,
              "#0d0887"
             ],
             [
              0.1111111111111111,
              "#46039f"
             ],
             [
              0.2222222222222222,
              "#7201a8"
             ],
             [
              0.3333333333333333,
              "#9c179e"
             ],
             [
              0.4444444444444444,
              "#bd3786"
             ],
             [
              0.5555555555555556,
              "#d8576b"
             ],
             [
              0.6666666666666666,
              "#ed7953"
             ],
             [
              0.7777777777777778,
              "#fb9f3a"
             ],
             [
              0.8888888888888888,
              "#fdca26"
             ],
             [
              1,
              "#f0f921"
             ]
            ],
            "type": "histogram2dcontour"
           }
          ],
          "mesh3d": [
           {
            "colorbar": {
             "outlinewidth": 0,
             "ticks": ""
            },
            "type": "mesh3d"
           }
          ],
          "parcoords": [
           {
            "line": {
             "colorbar": {
              "outlinewidth": 0,
              "ticks": ""
             }
            },
            "type": "parcoords"
           }
          ],
          "pie": [
           {
            "automargin": true,
            "type": "pie"
           }
          ],
          "scatter": [
           {
            "fillpattern": {
             "fillmode": "overlay",
             "size": 10,
             "solidity": 0.2
            },
            "type": "scatter"
           }
          ],
          "scatter3d": [
           {
            "line": {
             "colorbar": {
              "outlinewidth": 0,
              "ticks": ""
             }
            },
            "marker": {
             "colorbar": {
              "outlinewidth": 0,
              "ticks": ""
             }
            },
            "type": "scatter3d"
           }
          ],
          "scattercarpet": [
           {
            "marker": {
             "colorbar": {
              "outlinewidth": 0,
              "ticks": ""
             }
            },
            "type": "scattercarpet"
           }
          ],
          "scattergeo": [
           {
            "marker": {
             "colorbar": {
              "outlinewidth": 0,
              "ticks": ""
             }
            },
            "type": "scattergeo"
           }
          ],
          "scattergl": [
           {
            "marker": {
             "colorbar": {
              "outlinewidth": 0,
              "ticks": ""
             }
            },
            "type": "scattergl"
           }
          ],
          "scattermapbox": [
           {
            "marker": {
             "colorbar": {
              "outlinewidth": 0,
              "ticks": ""
             }
            },
            "type": "scattermapbox"
           }
          ],
          "scatterpolar": [
           {
            "marker": {
             "colorbar": {
              "outlinewidth": 0,
              "ticks": ""
             }
            },
            "type": "scatterpolar"
           }
          ],
          "scatterpolargl": [
           {
            "marker": {
             "colorbar": {
              "outlinewidth": 0,
              "ticks": ""
             }
            },
            "type": "scatterpolargl"
           }
          ],
          "scatterternary": [
           {
            "marker": {
             "colorbar": {
              "outlinewidth": 0,
              "ticks": ""
             }
            },
            "type": "scatterternary"
           }
          ],
          "surface": [
           {
            "colorbar": {
             "outlinewidth": 0,
             "ticks": ""
            },
            "colorscale": [
             [
              0,
              "#0d0887"
             ],
             [
              0.1111111111111111,
              "#46039f"
             ],
             [
              0.2222222222222222,
              "#7201a8"
             ],
             [
              0.3333333333333333,
              "#9c179e"
             ],
             [
              0.4444444444444444,
              "#bd3786"
             ],
             [
              0.5555555555555556,
              "#d8576b"
             ],
             [
              0.6666666666666666,
              "#ed7953"
             ],
             [
              0.7777777777777778,
              "#fb9f3a"
             ],
             [
              0.8888888888888888,
              "#fdca26"
             ],
             [
              1,
              "#f0f921"
             ]
            ],
            "type": "surface"
           }
          ],
          "table": [
           {
            "cells": {
             "fill": {
              "color": "#EBF0F8"
             },
             "line": {
              "color": "white"
             }
            },
            "header": {
             "fill": {
              "color": "#C8D4E3"
             },
             "line": {
              "color": "white"
             }
            },
            "type": "table"
           }
          ]
         },
         "layout": {
          "annotationdefaults": {
           "arrowcolor": "#2a3f5f",
           "arrowhead": 0,
           "arrowwidth": 1
          },
          "autotypenumbers": "strict",
          "coloraxis": {
           "colorbar": {
            "outlinewidth": 0,
            "ticks": ""
           }
          },
          "colorscale": {
           "diverging": [
            [
             0,
             "#8e0152"
            ],
            [
             0.1,
             "#c51b7d"
            ],
            [
             0.2,
             "#de77ae"
            ],
            [
             0.3,
             "#f1b6da"
            ],
            [
             0.4,
             "#fde0ef"
            ],
            [
             0.5,
             "#f7f7f7"
            ],
            [
             0.6,
             "#e6f5d0"
            ],
            [
             0.7,
             "#b8e186"
            ],
            [
             0.8,
             "#7fbc41"
            ],
            [
             0.9,
             "#4d9221"
            ],
            [
             1,
             "#276419"
            ]
           ],
           "sequential": [
            [
             0,
             "#0d0887"
            ],
            [
             0.1111111111111111,
             "#46039f"
            ],
            [
             0.2222222222222222,
             "#7201a8"
            ],
            [
             0.3333333333333333,
             "#9c179e"
            ],
            [
             0.4444444444444444,
             "#bd3786"
            ],
            [
             0.5555555555555556,
             "#d8576b"
            ],
            [
             0.6666666666666666,
             "#ed7953"
            ],
            [
             0.7777777777777778,
             "#fb9f3a"
            ],
            [
             0.8888888888888888,
             "#fdca26"
            ],
            [
             1,
             "#f0f921"
            ]
           ],
           "sequentialminus": [
            [
             0,
             "#0d0887"
            ],
            [
             0.1111111111111111,
             "#46039f"
            ],
            [
             0.2222222222222222,
             "#7201a8"
            ],
            [
             0.3333333333333333,
             "#9c179e"
            ],
            [
             0.4444444444444444,
             "#bd3786"
            ],
            [
             0.5555555555555556,
             "#d8576b"
            ],
            [
             0.6666666666666666,
             "#ed7953"
            ],
            [
             0.7777777777777778,
             "#fb9f3a"
            ],
            [
             0.8888888888888888,
             "#fdca26"
            ],
            [
             1,
             "#f0f921"
            ]
           ]
          },
          "colorway": [
           "#636efa",
           "#EF553B",
           "#00cc96",
           "#ab63fa",
           "#FFA15A",
           "#19d3f3",
           "#FF6692",
           "#B6E880",
           "#FF97FF",
           "#FECB52"
          ],
          "font": {
           "color": "#2a3f5f"
          },
          "geo": {
           "bgcolor": "white",
           "lakecolor": "white",
           "landcolor": "#E5ECF6",
           "showlakes": true,
           "showland": true,
           "subunitcolor": "white"
          },
          "hoverlabel": {
           "align": "left"
          },
          "hovermode": "closest",
          "mapbox": {
           "style": "light"
          },
          "paper_bgcolor": "white",
          "plot_bgcolor": "#E5ECF6",
          "polar": {
           "angularaxis": {
            "gridcolor": "white",
            "linecolor": "white",
            "ticks": ""
           },
           "bgcolor": "#E5ECF6",
           "radialaxis": {
            "gridcolor": "white",
            "linecolor": "white",
            "ticks": ""
           }
          },
          "scene": {
           "xaxis": {
            "backgroundcolor": "#E5ECF6",
            "gridcolor": "white",
            "gridwidth": 2,
            "linecolor": "white",
            "showbackground": true,
            "ticks": "",
            "zerolinecolor": "white"
           },
           "yaxis": {
            "backgroundcolor": "#E5ECF6",
            "gridcolor": "white",
            "gridwidth": 2,
            "linecolor": "white",
            "showbackground": true,
            "ticks": "",
            "zerolinecolor": "white"
           },
           "zaxis": {
            "backgroundcolor": "#E5ECF6",
            "gridcolor": "white",
            "gridwidth": 2,
            "linecolor": "white",
            "showbackground": true,
            "ticks": "",
            "zerolinecolor": "white"
           }
          },
          "shapedefaults": {
           "line": {
            "color": "#2a3f5f"
           }
          },
          "ternary": {
           "aaxis": {
            "gridcolor": "white",
            "linecolor": "white",
            "ticks": ""
           },
           "baxis": {
            "gridcolor": "white",
            "linecolor": "white",
            "ticks": ""
           },
           "bgcolor": "#E5ECF6",
           "caxis": {
            "gridcolor": "white",
            "linecolor": "white",
            "ticks": ""
           }
          },
          "title": {
           "x": 0.05
          },
          "xaxis": {
           "automargin": true,
           "gridcolor": "white",
           "linecolor": "white",
           "ticks": "",
           "title": {
            "standoff": 15
           },
           "zerolinecolor": "white",
           "zerolinewidth": 2
          },
          "yaxis": {
           "automargin": true,
           "gridcolor": "white",
           "linecolor": "white",
           "ticks": "",
           "title": {
            "standoff": 15
           },
           "zerolinecolor": "white",
           "zerolinewidth": 2
          }
         }
        },
        "xaxis": {
         "anchor": "y",
         "autorange": true,
         "domain": [
          0,
          1
         ],
         "range": [
          -0.06118999323867478,
          1.0611899932386748
         ],
         "title": {
          "text": "win_pct"
         },
         "type": "linear"
        },
        "yaxis": {
         "anchor": "x",
         "autorange": true,
         "domain": [
          0,
          1
         ],
         "range": [
          -2190869.727388452,
          30486509.257388454
         ],
         "title": {
          "text": "Total_Receipt"
         },
         "type": "linear"
        }
       }
      },
      "image/png": "[encoded data removed]",
      "text/html": [
       "<div>                            <div id=\"32d24cc1-d79b-4d2f-9e06-f186043e730e\" class=\"plotly-graph-div\" style=\"height:525px; width:100%;\"></div>            <script type=\"text/javascript\">                require([\"plotly\"], function(Plotly) {                    window.PLOTLYENV=window.PLOTLYENV || {};                                    if (document.getElementById(\"32d24cc1-d79b-4d2f-9e06-f186043e730e\")) {                    Plotly.newPlot(                        \"32d24cc1-d79b-4d2f-9e06-f186043e730e\",                        [{\"customdata\":[[\"Mary S. Peltola\",\"AK-1\"],[\"Phyllis Harvey-Hall\",\"AL-2\"],[\"Lin Veasey\",\"AL-3\"],[\"Rick Neighbors\",\"AL-4\"],[\"Kathy Warner-Stanton\",\"AL-5\"],[\"Terrycina Sewell\",\"AL-7\"],[\"Monte Hodges\",\"AR-1\"],[\"Quintessa Hathaway\",\"AR-2\"],[\"Lauren Mallett-Hays\",\"AR-3\"],[\"John White\",\"AR-4\"],[\"Jevin Hodge\",\"AZ-1\"],[\"Tom O'Halleran\",\"AZ-2\"],[\"Ruben Gallego\",\"AZ-3\"],[\"Greg Stanton\",\"AZ-4\"],[\"Javier Ramos\",\"AZ-5\"],[\"Kirsten Engel\",\"AZ-6\"],[\"Ra\\u00fal Grijalva\",\"AZ-7\"],[\"Max Steiner\",\"CA-1\"],[\"Nancy Pelosi\",\"CA-11\"],[\"Barbara Lee\",\"CA-12\"],[\"Adam Gray\",\"CA-13\"],[\"Eric Swalwell\",\"CA-14\"],[\"Ro Khanna\",\"CA-17\"],[\"Zoe Lofgren\",\"CA-18\"],[\"Jimmy Panetta\",\"CA-19\"],[\"Jared Huffman\",\"CA-2\"],[\"Marisa Wood\",\"CA-20\"],[\"Jim Costa\",\"CA-21\"],[\"Rudy Salas\",\"CA-22\"],[\"Derek Marshall\",\"CA-23\"],[\"Salud Carbajal\",\"CA-24\"],[\"Raul Ruiz\",\"CA-25\"],[\"Julia Brownley\",\"CA-26\"],[\"Christy Smith\",\"CA-27\"],[\"Judy Chu\",\"CA-28\"],[\"Kermit Jones\",\"CA-3\"],[\"Grace F. Napolitano\",\"CA-31\"],[\"Brad Sherman\",\"CA-32\"],[\"Pete Aguilar\",\"CA-33\"],[\"Norma J. Torres\",\"CA-35\"],[\"Ted W. Lieu\",\"CA-36\"],[\"Linda T. S\\u00e1nchez\",\"CA-38\"],[\"Mark Takano\",\"CA-39\"],[\"Mike Thompson\",\"CA-4\"],[\"Asif Mahmood\",\"CA-40\"],[\"Will Rollins\",\"CA-41\"],[\"Robert Garcia\",\"CA-42\"],[\"Maxine Waters\",\"CA-43\"],[\"Nanette Diaz Barragan\",\"CA-44\"],[\"Jay F. Chen\",\"CA-45\"],[\"Lou Correa\",\"CA-46\"],[\"Katie Porter\",\"CA-47\"],[\"Stephen Houlahan\",\"CA-48\"],[\"Mike Levin\",\"CA-49\"],[\"Michael J. \\u201cMike\\u201d Barkley\",\"CA-5\"],[\"Scott Peters\",\"CA-50\"],[\"Sara Jacobs\",\"CA-51\"],[\"Juan Vargas\",\"CA-52\"],[\"Ami Bera\",\"CA-6\"],[\"Doris Matsui\",\"CA-7\"],[\"John Garamendi\",\"CA-8\"],[\"Josh Harder\",\"CA-9\"],[\"Diana DeGette\",\"CO-1\"],[\"Joe Neguse\",\"CO-2\"],[\"Adam Frisch\",\"CO-3\"],[\"Ike McCorkle\",\"CO-4\"],[\"David Torres\",\"CO-5\"],[\"Jason Crow\",\"CO-6\"],[\"Brittany Pettersen\",\"CO-7\"],[\"Yadira Caraveo\",\"CO-8\"],[\"John B. Larson\",\"CT-1\"],[\"Joe Courtney\",\"CT-2\"],[\"Rosa L. DeLauro\",\"CT-3\"],[\"Jim Himes\",\"CT-4\"],[\"Jahana Hayes\",\"CT-5\"],[\"Lisa Blunt Rochester\",\"DE-1\"],[\"Rebekah Jones\",\"FL-1\"],[\"Maxwell Alejandro Frost\",\"FL-10\"],[\"Shante Munns\",\"FL-11\"],[\"Kimberly Walker\",\"FL-12\"],[\"Eric Lynn\",\"FL-13\"],[\"Kathy Castor\",\"FL-14\"],[\"Alan M. Cohn\",\"FL-15\"],[\"Jan Schneider\",\"FL-16\"],[\"Andrea Doria Kale\",\"FL-17\"],[\"Cindy Banyai\",\"FL-19\"],[\"Al Lawson\",\"FL-2\"],[\"Sheila Cherfilus-McCormick\",\"FL-20\"],[\"Corinna Balderramos Robinson\",\"FL-21\"],[\"Lois Frankel\",\"FL-22\"],[\"Jared Moskowitz\",\"FL-23\"],[\"Frederica Wilson\",\"FL-24\"],[\"Debbie Wasserman Schultz\",\"FL-25\"],[\"Christine Alexandria Olivo\",\"FL-26\"],[\"Annette Taddeo\",\"FL-27\"],[\"Robert Asencio\",\"FL-28\"],[\"Danielle Hawk\",\"FL-3\"],[\"LaShonda \\u201cL.J.\\u201d Holloway\",\"FL-4\"],[\"Karen Green\",\"FL-7\"],[\"Joanne Terry\",\"FL-8\"],[\"Darren Soto\",\"FL-9\"],[\"Wade Herring\",\"GA-1\"],[\"Tabitha Johnson-Green\",\"GA-10\"],[\"Antonio Daza\",\"GA-11\"],[\"Elizabeth \\u201cLiz\\u201d Johnson\",\"GA-12\"],[\"David Scott\",\"GA-13\"],[\"Marcus Flowers\",\"GA-14\"],[\"Sanford Bishop\",\"GA-2\"],[\"Val Almonord\",\"GA-3\"],[\"Henry C. \\u201cHank\\u201d Johnson Jr.\",\"GA-4\"],[\"Nikema Williams\",\"GA-5\"],[\"Bob Christian\",\"GA-6\"],[\"Lucy McBath\",\"GA-7\"],[\"Darrius Butler\",\"GA-8\"],[\"Michael \\u201cMike\\u201d Ford\",\"GA-9\"],[\"Ed Case\",\"HI-1\"],[\"Jill N. Tokuda\",\"HI-2\"],[\"Christina Bohannan\",\"IA-1\"],[\"Liz Mathis\",\"IA-2\"],[\"Cindy Axne\",\"IA-3\"],[\"Ryan Melton\",\"IA-4\"],[\"Kaylee Peterson\",\"ID-1\"],[\"Wendy Norman\",\"ID-2\"],[\"Jonathan L. Jackson\",\"IL-1\"],[\"Brad Schneider\",\"IL-10\"],[\"Bill Foster\",\"IL-11\"],[\"Homer \\u201cChip\\u201d Markel\",\"IL-12\"],[\"Nikki Budzinski\",\"IL-13\"],[\"Lauren Underwood\",\"IL-14\"],[\"Paul J. Lange\",\"IL-15\"],[\"Elizabeth Haderlein\",\"IL-16\"],[\"Eric Sorensen\",\"IL-17\"],[\"Robin Kelly\",\"IL-2\"],[\"Delia Ramirez\",\"IL-3\"],[\"Jesus \\u201cChuy\\u201d Garcia\",\"IL-4\"],[\"Mike Quigley\",\"IL-5\"],[\"Sean Casten\",\"IL-6\"],[\"Raja Krishnamoorthi\",\"IL-8\"],[\"Janice D. Schakowsky\",\"IL-9\"],[\"Frank J. Mrvan\",\"IN-1\"],[\"Paul D. Steury\",\"IN-2\"],[\"Gary L. Snyder\",\"IN-3\"],[\"Roger D. Day\",\"IN-4\"],[\"Jeannine Lee Lake\",\"IN-5\"],[\"Cynthia \\u201cCinde\\u201d Wirth\",\"IN-6\"],[\"Andr\\u00e9 D. Carson\",\"IN-7\"],[\"Ray McCormick\",\"IN-8\"],[\"Matthew Fyfe\",\"IN-9\"],[\"James \\u201cJimmy\\u201d Beard\",\"KS-1\"],[\"Patrick Schmidt\",\"KS-2\"],[\"Sharice Davids\",\"KS-3\"],[\"Bob Hernandez\",\"KS-4\"],[\"Jimmy C. Ausbrooks\",\"KY-1\"],[\"Hank Linderman\",\"KY-2\"],[\"Morgan McGarvey\",\"KY-3\"],[\"Matthew Lehman\",\"KY-4\"],[\"Conor Halbleib\",\"KY-5\"],[\"Geoffrey M. \\u201cGeoff\\u201d Young\",\"KY-6\"],[\"Kate Darling\",\"LA-1\"],[\"Troy A. Carter\",\"LA-2\"],[\"Tia Lebrun\",\"LA-3\"],[\"Oscar \\u201cOmar\\u201d Dantzler\",\"LA-5\"],[\"Richard E. Neal\",\"MA-1\"],[\"James P. McGovern\",\"MA-2\"],[\"Lori Loureiro Trahan\",\"MA-3\"],[\"Katherine M. Clark\",\"MA-5\"],[\"Seth Moulton\",\"MA-6\"],[\"Ayanna S. Pressley\",\"MA-7\"],[\"Stephen F. Lynch\",\"MA-8\"],[\"Bill Keating\",\"MA-9\"],[\"Heather R. Mizeur\",\"MD-1\"],[\"C.A. Dutch Ruppersberger\",\"MD-2\"],[\"John Sarbanes\",\"MD-3\"],[\"Glenn F. Ivey\",\"MD-4\"],[\"Steny Hoyer\",\"MD-5\"],[\"David J. Trone\",\"MD-6\"],[\"Kweisi Mfume\",\"MD-7\"],[\"Jamie Raskin\",\"MD-8\"],[\"Chellie M. Pingree\",\"ME-1\"],[\"Jared Forrest Golden\",\"ME-2\"],[\"Bob Lorinser\",\"MI-1\"],[\"Carl J. Marlinga\",\"MI-10\"],[\"Haley Stevens\",\"MI-11\"],[\"Rashida Tlaib\",\"MI-12\"],[\"Shri Thanedar\",\"MI-13\"],[\"Jerry Hilliard\",\"MI-2\"],[\"Hillary Scholten\",\"MI-3\"],[\"Joseph Alfonso\",\"MI-4\"],[\"Bart Goldberg\",\"MI-5\"],[\"Debbie Dingell\",\"MI-6\"],[\"Elissa Slotkin\",\"MI-7\"],[\"Daniel T. Kildee\",\"MI-8\"],[\"Brian Jaye\",\"MI-9\"],[\"Jeff Ettinger\",\"MN-1\"],[\"Angie Craig\",\"MN-2\"],[\"Dean Phillips\",\"MN-3\"],[\"Betty McCollum\",\"MN-4\"],[\"Ilhan Omar\",\"MN-5\"],[\"Jeanne Hendricks\",\"MN-6\"],[\"Jill Abahsain\",\"MN-7\"],[\"Jen Schultz\",\"MN-8\"],[\"Cori Bush\",\"MO-1\"],[\"Trish Gunby\",\"MO-2\"],[\"Bethany Mann\",\"MO-3\"],[\"Jack Truman\",\"MO-4\"],[\"Emanuel Cleaver, II\",\"MO-5\"],[\"Henry Martin\",\"MO-6\"],[\"Kristen Radaker-Sheafer\",\"MO-7\"],[\"Randi McCallian\",\"MO-8\"],[\"Dianne Black\",\"MS-1\"],[\"Bennie G. Thompson\",\"MS-2\"],[\"Shuwaski A. Young\",\"MS-3\"],[\"Johnny L. DuPree\",\"MS-4\"],[\"Monica Tranel\",\"MT-1\"],[\"Penny Ronning\",\"MT-2\"],[\"Don Davis\",\"NC-1\"],[\"Pam Genant\",\"NC-10\"],[\"Jasmine Beach-Ferrara\",\"NC-11\"],[\"Alma S. Adams\",\"NC-12\"],[\"Wiley Nickel\",\"NC-13\"],[\"Jeff Jackson\",\"NC-14\"],[\"Deborah K. Ross\",\"NC-2\"],[\"Barbara D. Gaskins\",\"NC-3\"],[\"Valerie P. Foushee\",\"NC-4\"],[\"Kyle Parrish\",\"NC-5\"],[\"Kathy Manning\",\"NC-6\"],[\"Charles Graham\",\"NC-7\"],[\"Scott Huffman\",\"NC-8\"],[\"Ben Clark\",\"NC-9\"],[\"Patty Pansing Brooks\",\"NE-1\"],[\"Tony Vargas\",\"NE-2\"],[\"David J. Else\",\"NE-3\"],[\"Chris Pappas\",\"NH-1\"],[\"Ann McLane Kuster\",\"NH-2\"],[\"Donald W. Norcross\",\"NJ-1\"],[\"Donald M. Payne Jr.\",\"NJ-10\"],[\"Mikie Sherrill\",\"NJ-11\"],[\"Bonnie Watson Coleman\",\"NJ-12\"],[\"Tim Alexander\",\"NJ-2\"],[\"Andy Kim\",\"NJ-3\"],[\"Matthew Jenkins\",\"NJ-4\"],[\"Josh Gottheimer\",\"NJ-5\"],[\"Frank Pallone Jr.\",\"NJ-6\"],[\"Tom Malinowski\",\"NJ-7\"],[\"Robert J. Menendez\",\"NJ-8\"],[\"Bill Pascrell Jr.\",\"NJ-9\"],[\"Melanie Ann Stansbury\",\"NM-1\"],[\"Gabriel Vasquez\",\"NM-2\"],[\"Teresa Leger Fernandez\",\"NM-3\"],[\"Dina Titus\",\"NV-1\"],[\"Elizabeth Mercedes Krause\",\"NV-2\"],[\"Susie Lee\",\"NV-3\"],[\"Steven A. Horsford\",\"NV-4\"],[\"Bridget Fleming\",\"NY-1\"],[\"Daniel Goldman\",\"NY-10\"],[\"Max N. Rose\",\"NY-11\"],[\"Jerrold L. Nadler\",\"NY-12\"],[\"Alexandria Ocasio-Cortez\",\"NY-14\"],[\"Ritchie J. Torres\",\"NY-15\"],[\"Jamaal Bowman\",\"NY-16\"],[\"Sean Patrick Maloney\",\"NY-17\"],[\"Pat Ryan\",\"NY-18\"],[\"Josh Riley\",\"NY-19\"],[\"Jackie Gordon\",\"NY-2\"],[\"Paul D. Tonko\",\"NY-20\"],[\"Matt Castelli\",\"NY-21\"],[\"Francis Conole\",\"NY-22\"],[\"Max H. Della Pia\",\"NY-23\"],[\"Steven Holden\",\"NY-24\"],[\"Joseph D. Morelle\",\"NY-25\"],[\"Brian Higgins\",\"NY-26\"],[\"Robert P. Zimmerman\",\"NY-3\"],[\"Laura A. Gillen\",\"NY-4\"],[\"Gregory Meeks\",\"NY-5\"],[\"Grace Meng\",\"NY-6\"],[\"Nydia M. Vel\\u00e1zquez\",\"NY-7\"],[\"Hakeem S. Jeffries\",\"NY-8\"],[\"Greg Landsman\",\"OH-1\"],[\"David Esrati\",\"OH-10\"],[\"Shontel Brown\",\"OH-11\"],[\"Amy Rippel-Elton\",\"OH-12\"],[\"Emilia Sykes\",\"OH-13\"],[\"Matt Kilboy\",\"OH-14\"],[\"Gary Josephson\",\"OH-15\"],[\"Samantha Meadows\",\"OH-2\"],[\"Joyce Beatty\",\"OH-3\"],[\"Tamie Wilson\",\"OH-4\"],[\"Craig Swartz\",\"OH-5\"],[\"Louis G. Lyras\",\"OH-6\"],[\"Matthew Diemer\",\"OH-7\"],[\"Vanessa Enoch\",\"OH-8\"],[\"Marcy Kaptur\",\"OH-9\"],[\"Adam Martin\",\"OK-1\"],[\"Naomi Andrews\",\"OK-2\"],[\"Jeremiah A. Ross\",\"OK-3\"],[\"Mary Brannon\",\"OK-4\"],[\"Joshua Harris-Till\",\"OK-5\"],[\"Suzanne Bonamici\",\"OR-1\"],[\"Joe Yetter\",\"OR-2\"],[\"Earl Blumenauer\",\"OR-3\"],[\"Val Hoyle\",\"OR-4\"],[\"Jamie McLeod-Skinner\",\"OR-5\"],[\"Andrea Salinas\",\"OR-6\"],[\"Ashley Ehasz\",\"PA-1\"],[\"Shamaine Daniels\",\"PA-10\"],[\"Bob Hollister\",\"PA-11\"],[\"Summer Lee\",\"PA-12\"],[\"Michael Molesevich\",\"PA-15\"],[\"Dan Pastore\",\"PA-16\"],[\"Chris Deluzio\",\"PA-17\"],[\"Brendan F. Boyle\",\"PA-2\"],[\"Madeleine Dean\",\"PA-4\"],[\"Mary Gay Scanlon\",\"PA-5\"],[\"Chrissy Houlahan\",\"PA-6\"],[\"Susan Wild\",\"PA-7\"],[\"Matt Cartwright\",\"PA-8\"],[\"Amanda R. Waldman\",\"PA-9\"],[\"David N. Cicilline\",\"RI-1\"],[\"Seth M. Magaziner\",\"RI-2\"],[\"Annie Andrews\",\"SC-1\"],[\"Judd Larkins\",\"SC-2\"],[\"Evangeline Hundley\",\"SC-5\"],[\"James E. \\u201cJim\\u201d Clyburn\",\"SC-6\"],[\"Daryl W. Scott\",\"SC-7\"],[\"Cameron Parsons\",\"TN-1\"],[\"Mark Harmon\",\"TN-2\"],[\"Meg Gorman\",\"TN-3\"],[\"Wayne Steele\",\"TN-4\"],[\"Heidi Campbell\",\"TN-5\"],[\"Randal Cooper\",\"TN-6\"],[\"Odessa Kelly\",\"TN-7\"],[\"Lynnette P. Williams\",\"TN-8\"],[\"Steve Cohen\",\"TN-9\"],[\"Jrmar \\u201cJJ\\u201d Jefferson\",\"TX-1\"],[\"Linda Nuno\",\"TX-10\"],[\"Trey J. Hunt\",\"TX-12\"],[\"Kathleen Brown\",\"TX-13\"],[\"Mikal Williams\",\"TX-14\"],[\"Michelle Vallejo\",\"TX-15\"],[\"Veronica Escobar\",\"TX-16\"],[\"Mary Jo Woods\",\"TX-17\"],[\"Mary Jo Woods\",\"TX-17\"],[\"Sheila Jackson Lee\",\"TX-18\"],[\"Robin Fulford\",\"TX-2\"],[\"Joaquin Castro\",\"TX-20\"],[\"Claudia Andreana Zapata\",\"TX-21\"],[\"Jamie Kaye Jordan\",\"TX-22\"],[\"John Lira\",\"TX-23\"],[\"Jan McDowell\",\"TX-24\"],[\"Maclovio Perez Jr.\",\"TX-27\"],[\"Henry Cuellar\",\"TX-28\"],[\"Sylvia Garcia\",\"TX-29\"],[\"Sandeep Srivastava\",\"TX-3\"],[\"Jasmine Crockett\",\"TX-30\"],[\"Colin Allred\",\"TX-32\"],[\"Marc Veasey\",\"TX-33\"],[\"Vicente Gonzalez\",\"TX-34\"],[\"Greg Casar\",\"TX-35\"],[\"Jon Haire\",\"TX-36\"],[\"Lloyd Doggett\",\"TX-37\"],[\"Duncan F. Klussmann\",\"TX-38\"],[\"Iro Omere\",\"TX-4\"],[\"Tartisha Hill\",\"TX-5\"],[\"Lizzie Fletcher\",\"TX-7\"],[\"Laura Jones\",\"TX-8\"],[\"Al Green\",\"TX-9\"],[\"Rick Edwin Jones\",\"UT-1\"],[\"Nick Mitchell\",\"UT-2\"],[\"Glenn J. Wright\",\"UT-3\"],[\"Darlene McDonald\",\"UT-4\"],[\"Herbert C. \\u201cHerb\\u201d Jones Jr.\",\"VA-1\"],[\"Jennifer T. Wexton\",\"VA-10\"],[\"Gerald E. \\u201cGerry\\u201d Connolly\",\"VA-11\"],[\"Elaine G. Luria\",\"VA-2\"],[\"Robert C. \\u201cBobby\\u201d Scott\",\"VA-3\"],[\"A. Donald McEachin\",\"VA-4\"],[\"Joshua M. Throneburg\",\"VA-5\"],[\"Jennifer Lynn Lewis\",\"VA-6\"],[\"Abigail A. Spanberger\",\"VA-7\"],[\"Donald S. Beyer Jr.\",\"VA-8\"],[\"Taysha Lee DeVaughan\",\"VA-9\"],[\"Becca Balint\",\"VT-1\"],[\"Suzan DelBene\",\"WA-1\"],[\"Marilyn Strickland\",\"WA-10\"],[\"Rick Larsen\",\"WA-2\"],[\"Marie Gluesenkamp Perez\",\"WA-3\"],[\"Doug White\",\"WA-4\"],[\"Natasha Hill\",\"WA-5\"],[\"Derek Kilmer\",\"WA-6\"],[\"Pramila Jayapal\",\"WA-7\"],[\"Kim Schrier\",\"WA-8\"],[\"Adam Smith\",\"WA-9\"],[\"Ann Roe\",\"WI-1\"],[\"Mark Pocan\",\"WI-2\"],[\"Brad Pfaff\",\"WI-3\"],[\"Gwen Moore\",\"WI-4\"],[\"Mike Van Someren\",\"WI-5\"],[\"Richard Dick Ausman\",\"WI-7\"],[\"Lacy Watson\",\"WV-1\"],[\"Barry Lee Wendell\",\"WV-2\"],[\"Lynnette GreyBull\",\"WY-1\"]],\"hovertemplate\":\"party=D<br>win_pct=%{x}<br>Total_Receipt=%{y}<br>name=%{customdata[0]}<br>district=%{customdata[1]}<extra></extra>\",\"legendgroup\":\"D\",\"marker\":{\"color\":\"#636efa\",\"symbol\":\"circle\"},\"mode\":\"markers\",\"name\":\"D\",\"orientation\":\"v\",\"showlegend\":true,\"x\":[0.477675,0.000475,0.0001,0.0,0.003925,0.99935,0.000275,0.012075,0.0011,0.00045,0.1635,0.46595,0.999775,0.736825,0.001525,0.294075,0.9961,0.002525,1.0,1.0,0.64655,0.99975,0.999525,0.9994,0.99935,0.999925,0.000325,0.77035,0.608675,0.0084,0.994875,0.9577,0.87125,0.472125,0.997725,0.160375,0.996425,0.9996,0.988175,0.996225,0.9997,0.997375,0.989325,0.999175,0.081275,0.074025,0.99885,1.0,0.9999,0.21565,0.997,0.856125,0.00385,0.8091,0.00635,0.99705,0.992225,0.999175,0.961975,0.9991,0.99995,0.675125,0.999975,0.998775,0.169675,0.002175,0.0049,0.976325,0.675725,0.248925,0.99185,0.976125,0.958375,0.979675,0.583075,0.965,0.02895,0.991425,0.00675,0.000775,0.333125,0.970525,0.176525,0.0197,0.006475,0.0022,0.122175,0.999925,0.0172,0.97275,0.744975,1.0,0.98495,0.022025,0.293525,0.089425,0.01035,0.052825,0.0751,0.004075,0.9796,0.00685,0.0044,0.001425,0.0112,0.9999,0.0001,0.81295,0.000275,0.999975,1.0,0.014325,0.979875,0.000675,7.5e-05,0.997125,0.9891,0.214675,0.208175,0.45275,0.002275,5e-05,0.001675,0.99955,0.94115,0.9487,0.0,0.66795,0.8991,0.00025,0.003025,0.6598,0.999675,0.998175,0.999775,0.9992,0.89665,0.830225,0.999725,0.857775,0.016525,0.000575,0.00065,0.005375,0.000325,0.9996,0.000875,0.0066,0.0007,0.071375,0.889225,0.0018,0.0001,0.0002,0.975325,0.0006,2.5e-05,0.0205,0.0001,1.0,0.003225,0.00315,0.99425,0.99805,0.99655,0.9999,0.99595,1.0,0.999125,0.985875,0.074875,0.932875,0.97795,1.0,0.998775,0.7033,1.0,0.999975,0.997675,0.665525,0.00665,0.166825,0.98195,0.999925,0.99975,0.001625,0.62045,0.053125,0.002125,0.993675,0.71695,0.6691,0.000725,0.09105,0.630975,0.96375,0.99885,0.999975,0.0037,0.00075,0.023725,1.0,0.013875,0.000825,0.0006,0.99405,0.000175,0.0002,5e-05,0.0004,0.99665,0.0014,0.001025,0.168,0.023425,0.8229,0.000225,0.179575,0.997875,0.545125,0.83955,0.99585,0.002025,0.99685,0.004025,0.908525,0.01975,0.0002,0.03585,0.010875,0.1706,0.0,0.49465,0.878125,0.923375,0.999975,0.92795,0.997575,0.027675,0.811525,0.00115,0.872575,0.960175,0.349075,0.999225,0.97135,0.9381,0.311075,0.992775,0.178625,0.0017,0.39315,0.642925,0.227225,1.0,0.12665,1.0,0.99995,1.0,0.99985,0.637725,0.8449,0.702525,0.17285,0.978225,0.02145,0.53805,0.031725,0.007325,0.869025,0.98865,0.531875,0.52415,1.0,0.99685,1.0,1.0,0.35895,0.0468,0.999975,0.000725,0.424675,0.010725,0.02535,7.5e-05,0.9998,0.0002,0.001625,0.001575,0.0899,0.001725,0.718,0.001075,5e-05,2.5e-05,0.000525,0.0019,0.999125,0.0018,0.9999,0.668725,0.34155,0.318225,0.078075,0.227075,0.00205,0.91345,0.000325,0.003925,0.48525,0.9998,0.977675,0.998525,0.942625,0.463475,0.681575,5e-05,0.9983,0.172325,0.0103,0.00695,0.00195,0.998275,0.01575,2.5e-05,0.0004,0.000275,0.00015,0.236925,0.000475,0.004825,5e-05,0.99975,0.0002,0.002975,0.00165,0.0001,0.000325,0.36065,0.998225,0.001675,0.001675,0.99975,0.000625,0.9958,0.001725,0.001825,0.0342,0.00255,0.001325,0.870875,0.9987,0.014525,0.999775,0.995725,0.999675,0.736425,0.997325,0.000275,1.0,0.006775,0.001,0.0012,0.994125,0.00795,0.999875,0.00515,0.013725,0.00885,0.00585,0.015925,0.79255,0.9985,0.56575,0.999125,0.9994,0.0188,0.0012,0.651725,0.99995,0.000125,0.99945,0.9935,0.9467,0.983325,0.1529,0.004025,0.016975,0.961125,1.0,0.695575,0.99965,0.055925,0.99985,0.1191,0.999875,0.0016,0.006075,0.000725,0.0005,0.000825],\"xaxis\":\"x\",\"y\":[7751293.39,60440.24,9968.0,22648.3,85150.0,2359060.83,66983.81,0.0,65741.89,0.0,2565414.5,4300864.23,2933465.25,4314550.89,16642.54,2473877.8,660513.91,627432.86,25577528.17,2183372.57,2390120.97,3943361.57,5949743.81,2022557.14,2623733.1,938689.41,1051451.47,2034865.46,2953288.73,956858.59,2178786.3,2299898.28,2446763.43,3949504.79,1587238.65,3261535.0,367395.21,2651948.74,3255093.36,783058.29,1510163.27,1519205.78,1254503.88,2278299.13,3703609.48,3780991.55,1704812.52,1220339.32,1212156.11,5037026.06,1293189.19,26025611.15,71577.85,5149615.51,461674.19,2410741.93,1712465.57,942886.84,1545895.36,1400594.49,1146918.01,6593261.38,1151100.27,2351040.38,6710480.34,303509.38,26406.22,2734127.98,2883823.65,3563279.53,1840867.05,1981330.09,2182549.03,1695711.93,2779884.08,2899174.85,980885.53,3014746.19,20763.41,20401.13,2247469.3,1585896.95,825897.45,22651.67,27724.28,103281.24,829346.62,6779418.8,82386.46,1275269.43,1752697.27,623725.06,2087129.07,138186.98,1948584.41,124784.97,77168.35,10465.32,67798.9,89920.38,1337428.16,1395014.76,48652.44,102176.81,194751.23,2007965.55,16972737.74,3037853.0,76890.66,567457.14,1152788.78,308353.45,5596710.62,22543.42,36015.7,1058273.57,1042387.26,3197822.62,4218654.84,7231695.0,53023.28,69848.28,13856.48,793218.64,3797651.97,3332176.89,65213.29,3933506.61,6889213.25,46211.8,38117.98,3120058.37,1746109.48,990197.28,938958.69,1053627.4,5577460.28,8498368.19,1563009.22,2483248.03,103536.38,74397.02,0.0,43404.37,50771.6,856806.0,149920.22,122824.28,17691.91,1108610.39,7894095.76,43266.17,7866.73,87461.23,3088931.24,304093.57,18701.81,239157.17,152463.58,3101798.13,40499.57,0.0,3493276.58,1116203.86,1968444.77,2174711.8,2137107.99,1467293.46,962334.32,717659.21,2774380.7,1095414.25,186653.7,1896185.07,3924349.55,13144029.27,599985.23,4701192.12,576607.49,6068685.18,588500.2,1059983.76,5574897.28,3337996.2,9319161.71,30655.33,3806547.95,37258.83,164542.02,1559951.4,9974583.81,5627721.01,55654.51,null,7801458.27,null,2101431.16,3111917.52,null,null,null,2448937.35,905770.41,27169.38,0.0,1215785.4,141892.0,17792.3,45873.61,34342.75,1515666.15,77359.24,147382.22,3088634.59,175792.67,1876018.87,191242.75,2329161.72,957366.44,3717882.21,5707177.36,2124081.81,95646.62,1253021.19,33051.53,3045909.17,312709.84,97677.3,0.0,1758459.0,3409925.52,0.0,5163533.11,4449497.54,2168423.53,1375799.76,6328539.87,930457.44,502345.28,7147162.97,42545.25,8858801.07,3144739.98,8978834.0,1752969.49,1577229.24,3570362.65,3687697.99,3123228.14,3392335.34,52182.79,6337405.99,4956048.45,2690504.26,7142852.46,4099084.97,2325709.69,12513212.8,4442337.22,1877492.94,6079999.11,4769522.48,4194190.94,1752171.46,1777899.62,2525045.84,3051107.9,326454.36,157569.32,2251295.88,1546746.45,3181505.62,1832377.75,2704713.24,1615242.9,603354.96,6037499.66,2768116.46,45356.05,4655784.37,0.0,2542383.02,91186.04,43162.48,22924.5,2243895.59,168937.4,54980.87,144248.42,276778.53,0.0,3393468.71,34098.62,7706.72,0.0,34849.65,72528.57,1037674.86,100291.79,1364461.33,2610019.02,3670803.53,3405187.33,970541.94,414294.52,316546.79,1851679.14,49953.34,866280.03,3293132.71,1706049.76,2055980.52,1596137.42,4823029.87,7002291.19,5362080.12,30546.88,1981382.79,3904868.95,2038067.55,96669.32,0.0,3592375.11,0.0,0.0,85152.99,62513.68,11084.8,1089821.42,2952.09,0.0,1025.0,546322.08,128130.6,0.0,50182.13,199193.86,77331.77,2346631.22,1295134.87,0.0,0.0,1007081.69,231492.19,682068.98,118238.36,0.0,675078.71,136070.11,11098.1,4714812.12,940934.37,451102.93,970008.57,3471591.94,1846105.83,3197037.46,1757510.27,77614.16,1389876.62,279107.58,74498.85,13686.03,3697115.69,42027.58,412570.26,0.0,42824.76,17996.0,187011.42,314866.01,3879207.28,2101438.62,10795195.37,851699.46,936470.02,879916.53,143023.9,9083201.29,2121791.23,58626.65,1898995.83,2502763.72,1911259.96,1697229.23,3924093.95,774333.86,377499.11,2637628.09,2772436.29,9640767.33,1386775.73,838417.65,1143752.09,1890260.75,1220473.56,145774.11,115599.13,null,28025.43,87407.75],\"yaxis\":\"y\",\"type\":\"scatter\"},{\"customdata\":[[\"Sarah Palin\",\"AK-1\"],[\"Barry Moore\",\"AL-2\"],[\"Mike Rogers\",\"AL-3\"],[\"Robert Aderholt\",\"AL-4\"],[\"Dale Strong\",\"AL-5\"],[\"Beatrice Nichols\",\"AL-7\"],[\"Rick Crawford\",\"AR-1\"],[\"French Hill\",\"AR-2\"],[\"Steve Womack\",\"AR-3\"],[\"Bruce Westerman\",\"AR-4\"],[\"David Schweikert\",\"AZ-1\"],[\"Eli Crane\",\"AZ-2\"],[\"Jeff Zink\",\"AZ-3\"],[\"Kelly Cooper\",\"AZ-4\"],[\"Andy Biggs\",\"AZ-5\"],[\"Juan Ciscomani\",\"AZ-6\"],[\"Luis Pozzolo\",\"AZ-7\"],[\"Doug LaMalfa\",\"CA-1\"],[\"John Dennis\",\"CA-11\"],[\"Stephen Slauson\",\"CA-12\"],[\"John Duarte\",\"CA-13\"],[\"Alison Hayden\",\"CA-14\"],[\"Ritesh Tandon\",\"CA-17\"],[\"Peter Hernandez\",\"CA-18\"],[\"Jeff Gorman\",\"CA-19\"],[\"Douglas Brower\",\"CA-2\"],[\"Kevin McCarthy\",\"CA-20\"],[\"Michael Maher\",\"CA-21\"],[\"David G. Valadao\",\"CA-22\"],[\"Jay Obernolte\",\"CA-23\"],[\"Brad Allen\",\"CA-24\"],[\"Brian E. Hawkins\",\"CA-25\"],[\"Matt Jacobs\",\"CA-26\"],[\"Mike Garcia\",\"CA-27\"],[\"Wes Hallman\",\"CA-28\"],[\"Kevin Kiley\",\"CA-3\"],[\"Daniel Bocic Martinez\",\"CA-31\"],[\"Lucie Lapointe Volotzky\",\"CA-32\"],[\"John Mark Porter\",\"CA-33\"],[\"Mike Cargile\",\"CA-35\"],[\"Joe E. Collins III\",\"CA-36\"],[\"Eric J. Ching\",\"CA-38\"],[\"Aja Smith\",\"CA-39\"],[\"Matt Brock\",\"CA-4\"],[\"Young Kim\",\"CA-40\"],[\"Ken Calvert\",\"CA-41\"],[\"John Briscoe\",\"CA-42\"],[\"Omar Navarro\",\"CA-43\"],[\"Paul Jones\",\"CA-44\"],[\"Michelle Steel\",\"CA-45\"],[\"Christopher J. Gonzales\",\"CA-46\"],[\"Scott Baugh\",\"CA-47\"],[\"Darrell Issa\",\"CA-48\"],[\"Brian Maryott\",\"CA-49\"],[\"Tom McClintock\",\"CA-5\"],[\"Corey Gustafson\",\"CA-50\"],[\"Stan Caplan\",\"CA-51\"],[\"Tyler Geffeney\",\"CA-52\"],[\"Tamika Hamilton\",\"CA-6\"],[\"Max Semenenko\",\"CA-7\"],[\"Rudy Recile\",\"CA-8\"],[\"Tom Patti\",\"CA-9\"],[\"Jennifer Qualteri\",\"CO-1\"],[\"Marshall Dawson\",\"CO-2\"],[\"Lauren Boebert\",\"CO-3\"],[\"Ken Buck\",\"CO-4\"],[\"Doug Lamborn\",\"CO-5\"],[\"Steven Monahan\",\"CO-6\"],[\"Erik Aadland\",\"CO-7\"],[\"Barbara Kirkmeyer\",\"CO-8\"],[\"Larry Lazor\",\"CT-1\"],[\"Mike France\",\"CT-2\"],[\"Lesley DeNardis\",\"CT-3\"],[\"Jayme Stevenson\",\"CT-4\"],[\"George Logan\",\"CT-5\"],[\"Lee Murphy\",\"DE-1\"],[\"Matt Gaetz\",\"FL-1\"],[\"Calvin B. Wimbish\",\"FL-10\"],[\"Daniel Webster\",\"FL-11\"],[\"Gus Michael Bilirakis\",\"FL-12\"],[\"Anna Paulina Luna\",\"FL-13\"],[\"James Judge\",\"FL-14\"],[\"Laurel Lee\",\"FL-15\"],[\"Vern Buchanan\",\"FL-16\"],[\"Greg Steube\",\"FL-17\"],[\"Byron Donalds\",\"FL-19\"],[\"Neal Dunn\",\"FL-2\"],[\"Drew Montez Clark\",\"FL-20\"],[\"Brian Mast\",\"FL-21\"],[\"Dan Franzese\",\"FL-22\"],[\"Joe Budd\",\"FL-23\"],[\"Jesus G. Navarro\",\"FL-24\"],[\"Carla Spalding\",\"FL-25\"],[\"Mario Diaz-Balart\",\"FL-26\"],[\"Mar\\u00eda Elvira Salazar\",\"FL-27\"],[\"Carlos A. Gimenez\",\"FL-28\"],[\"Kat Cammack\",\"FL-3\"],[\"Aaron Bean\",\"FL-4\"],[\"Cory Mills\",\"FL-7\"],[\"Bill Posey\",\"FL-8\"],[\"Scotty Moore\",\"FL-9\"],[\"Earl L. \\u201cBuddy\\u201d Carter\",\"GA-1\"],[\"Mike Collins\",\"GA-10\"],[\"Barry Loudermilk\",\"GA-11\"],[\"Rick W. Allen\",\"GA-12\"],[\"Caesar Gonzales\",\"GA-13\"],[\"Marjorie Taylor Greene\",\"GA-14\"],[\"Chris West\",\"GA-2\"],[\"Drew Ferguson\",\"GA-3\"],[\"Jonathan Chavez\",\"GA-4\"],[\"Christian Zimm\",\"GA-5\"],[\"Rich McCormick\",\"GA-6\"],[\"Mark Gonsalves\",\"GA-7\"],[\"Austin Scott\",\"GA-8\"],[\"Andrew Clyde\",\"GA-9\"],[\"Conrad Kress\",\"HI-1\"],[\"Joe Akana\",\"HI-2\"],[\"Mariannette Miller-Meeks\",\"IA-1\"],[\"Ashley Hinson\",\"IA-2\"],[\"Zach Nunn\",\"IA-3\"],[\"Randy Feenstra\",\"IA-4\"],[\"Russ Fulcher\",\"ID-1\"],[\"Mike Simpson\",\"ID-2\"],[\"Eric Carlson\",\"IL-1\"],[\"Joseph Severino\",\"IL-10\"],[\"Catalina Lauf\",\"IL-11\"],[\"Mike Bost\",\"IL-12\"],[\"Regan Deering\",\"IL-13\"],[\"Scott R. Gryder\",\"IL-14\"],[\"Mary Miller\",\"IL-15\"],[\"Darin LaHood\",\"IL-16\"],[\"Esther Joy King\",\"IL-17\"],[\"Thomas Lynch\",\"IL-2\"],[\"Justin Burau\",\"IL-3\"],[\"James Falakos\",\"IL-4\"],[\"Tommy Hanson\",\"IL-5\"],[\"Keith Pekau\",\"IL-6\"],[\"Chris Dargis\",\"IL-8\"],[\"Maxwell \\u201cMax\\u201d Rice\",\"IL-9\"],[\"Jennifer-Ruth Green\",\"IN-1\"],[\"Rudolph Yakym\",\"IN-2\"],[\"Jim Banks\",\"IN-3\"],[\"Jim Baird\",\"IN-4\"],[\"Victoria Spartz\",\"IN-5\"],[\"Greg Pence\",\"IN-6\"],[\"Angela Grabovsky\",\"IN-7\"],[\"Larry D. Bucshon\",\"IN-8\"],[\"Erin Houchin\",\"IN-9\"],[\"Tracey Mann\",\"KS-1\"],[\"Jake LaTurner\",\"KS-2\"],[\"Amanda L. Adkins\",\"KS-3\"],[\"Ron Estes\",\"KS-4\"],[\"James R. Comer\",\"KY-1\"],[\"S. Brett Guthrie\",\"KY-2\"],[\"Stuart N. Ray\",\"KY-3\"],[\"Thomas Massie\",\"KY-4\"],[\"Harold \\u201cHal\\u201d Rogers\",\"KY-5\"],[\"Andy Barr\",\"KY-6\"],[\"Steve Scalise\",\"LA-1\"],[\"Dan Lux\",\"LA-2\"],[\"Clay Higgins\",\"LA-3\"],[\"Julia Letlow\",\"LA-5\"],[\"Dean James Martilli\",\"MA-1\"],[\"Jeffrey A. Sossa-Paquette\",\"MA-2\"],[\"Dean A. Tran\",\"MA-3\"],[\"Caroline Colarusso\",\"MA-5\"],[\"Bob May\",\"MA-6\"],[\"Donnie Dionicio Palmer Jr.\",\"MA-7\"],[\"Robert G. Burke\",\"MA-8\"],[\"Jesse G. Brown\",\"MA-9\"],[\"Andy Harris\",\"MD-1\"],[\"Nicolee Ambrose\",\"MD-2\"],[\"Yuripzy Morgan\",\"MD-3\"],[\"Jeff Warner\",\"MD-4\"],[\"Chris Palombi\",\"MD-5\"],[\"Neil C. Parrott\",\"MD-6\"],[\"Scott M. Collier\",\"MD-7\"],[\"Gregory Thomas Coll\",\"MD-8\"],[\"Edwin Thelander\",\"ME-1\"],[\"Bruce Poliquin\",\"ME-2\"],[\"Jack Bergman\",\"MI-1\"],[\"John James\",\"MI-10\"],[\"Mark Ambrose\",\"MI-11\"],[\"Steven Elliott\",\"MI-12\"],[\"Martell D. Bivings\",\"MI-13\"],[\"John Moolenaar\",\"MI-2\"],[\"John Gibbs\",\"MI-3\"],[\"Bill Huizenga\",\"MI-4\"],[\"Tim Walberg\",\"MI-5\"],[\"Whittney Williams\",\"MI-6\"],[\"Tom Barrett\",\"MI-7\"],[\"Paul Junge\",\"MI-8\"],[\"Lisa McClain\",\"MI-9\"],[\"Brad Finstad\",\"MN-1\"],[\"Tyler Kistner\",\"MN-2\"],[\"Tom Weiler\",\"MN-3\"],[\"May Lor Xiong\",\"MN-4\"],[\"Cicely Davis\",\"MN-5\"],[\"Tom Emmer\",\"MN-6\"],[\"Michelle Fischbach\",\"MN-7\"],[\"Pete Stauber\",\"MN-8\"],[\"Andrew Jones\",\"MO-1\"],[\"Ann Wagner\",\"MO-2\"],[\"Blaine Luetkemeyer\",\"MO-3\"],[\"Mark Alford\",\"MO-4\"],[\"Jacob Turk\",\"MO-5\"],[\"Sam Graves\",\"MO-6\"],[\"Eric Burlison\",\"MO-7\"],[\"Jason Smith\",\"MO-8\"],[\"Trent Kelly\",\"MS-1\"],[\"Brian Flowers\",\"MS-2\"],[\"Michael Guest\",\"MS-3\"],[\"Mike Ezell\",\"MS-4\"],[\"Ryan K. Zinke\",\"MT-1\"],[\"Matt Rosendale\",\"MT-2\"],[\"Sandy Smith\",\"NC-1\"],[\"Patrick McHenry\",\"NC-10\"],[\"Chuck Edwards\",\"NC-11\"],[\"Tyler Lee\",\"NC-12\"],[\"Bo Hines\",\"NC-13\"],[\"Pat Harrigan\",\"NC-14\"],[\"Christine E. Villaverde\",\"NC-2\"],[\"Greg Murphy\",\"NC-3\"],[\"Courtney Geels\",\"NC-4\"],[\"Virginia Foxx\",\"NC-5\"],[\"Christian Castelli\",\"NC-6\"],[\"David Rouzer\",\"NC-7\"],[\"Dan Bishop\",\"NC-8\"],[\"Richard Hudson\",\"NC-9\"],[\"Mike Flood\",\"NE-1\"],[\"Don Bacon\",\"NE-2\"],[\"Adrian Smith\",\"NE-3\"],[\"Karoline Leavitt\",\"NH-1\"],[\"Robert Burns\",\"NH-2\"],[\"Claire Gustafson\",\"NJ-1\"],[\"David H. Pinckney\",\"NJ-10\"],[\"Paul DeGroot\",\"NJ-11\"],[\"Darius Mayfield\",\"NJ-12\"],[\"Jeff Van Drew\",\"NJ-2\"],[\"Bob Healey\",\"NJ-3\"],[\"Christopher H. Smith\",\"NJ-4\"],[\"Frank T. Pallotta\",\"NJ-5\"],[\"Susan M. Kiley\",\"NJ-6\"],[\"Thomas H. Kean Jr.\",\"NJ-7\"],[\"Marcos Arroyo\",\"NJ-8\"],[\"Billy Prempeh\",\"NJ-9\"],[\"Michelle Garcia Holmes\",\"NM-1\"],[\"Yvette Herrell\",\"NM-2\"],[\"Alexis Martinez Johnson\",\"NM-3\"],[\"Mark Robertson\",\"NV-1\"],[\"Mark E. Amodei\",\"NV-2\"],[\"April Becker\",\"NV-3\"],[\"Sam Peters\",\"NV-4\"],[\"Nicholas J. LaLota\",\"NY-1\"],[\"Benine Hamdan\",\"NY-10\"],[\"Nicole Malliotakis\",\"NY-11\"],[\"Michael Zumbluskas\",\"NY-12\"],[\"Tina Forte\",\"NY-14\"],[\"Stylo A. Sapaskis\",\"NY-15\"],[\"Miriam L. Flisser\",\"NY-16\"],[\"Michael V. Lawler\",\"NY-17\"],[\"Colin J. Schmitt\",\"NY-18\"],[\"Marcus Molinaro\",\"NY-19\"],[\"Andrew R. Garbarino\",\"NY-2\"],[\"Elizabeth L. Joy\",\"NY-20\"],[\"Elise M. Stefanik\",\"NY-21\"],[\"Brandon M. Williams\",\"NY-22\"],[\"Nick Langworthy\",\"NY-23\"],[\"Claudia Tenney\",\"NY-24\"],[\"La'Ron D. Singletary\",\"NY-25\"],[\"Steven L. Sams II\",\"NY-26\"],[\"George A.D. Santos\",\"NY-3\"],[\"Anthony P. D'Esposito\",\"NY-4\"],[\"Paul King\",\"NY-5\"],[\"Tom Zmich\",\"NY-6\"],[\"Juan Pag\\u00e1n\",\"NY-7\"],[\"Yuri Dashevsky\",\"NY-8\"],[\"Steve Chabot\",\"OH-1\"],[\"Mike Turner\",\"OH-10\"],[\"Eric J. Brewer\",\"OH-11\"],[\"Troy Balderson\",\"OH-12\"],[\"Madison Gesiotto Gilbert\",\"OH-13\"],[\"David P. Joyce\",\"OH-14\"],[\"Mike Carey\",\"OH-15\"],[\"Brad Wenstrup\",\"OH-2\"],[\"Lee R. Stahley\",\"OH-3\"],[\"Jim Jordan\",\"OH-4\"],[\"Bob Latta\",\"OH-5\"],[\"Bill Johnson\",\"OH-6\"],[\"Max Miller\",\"OH-7\"],[\"Warren Davidson\",\"OH-8\"],[\"J.R. Majewski\",\"OH-9\"],[\"Kevin Hern\",\"OK-1\"],[\"Josh Brecheen\",\"OK-2\"],[\"Frank D. Lucas\",\"OK-3\"],[\"Tom Cole\",\"OK-4\"],[\"Stephanie Bice\",\"OK-5\"],[\"Christopher A. Mann\",\"OR-1\"],[\"Cliff S. Bentz\",\"OR-2\"],[\"Joanna Harbour\",\"OR-3\"],[\"Alek Skarlatos\",\"OR-4\"],[\"Lori Chavez-DeRemer\",\"OR-5\"],[\"Mike Erickson\",\"OR-6\"],[\"Brian Fitzpatrick\",\"PA-1\"],[\"Scott Perry\",\"PA-10\"],[\"Lloyd K. Smucker\",\"PA-11\"],[\"Mike Doyle\",\"PA-12\"],[\"Glenn \\u201cGT\\u201d Thompson\",\"PA-15\"],[\"Mike Kelly\",\"PA-16\"],[\"Jeremy Shaffer\",\"PA-17\"],[\"Aaron Bashir\",\"PA-2\"],[\"Christian Nascimento\",\"PA-4\"],[\"David Galluch\",\"PA-5\"],[\"Guy Louis Ciarrocchi\",\"PA-6\"],[\"Lisa Scheller\",\"PA-7\"],[\"Jim Bognet\",\"PA-8\"],[\"Dan Meuser\",\"PA-9\"],[\"Allen R. Waters\",\"RI-1\"],[\"Allan W. Fung\",\"RI-2\"],[\"Nancy Mace\",\"SC-1\"],[\"Joe Wilson\",\"SC-2\"],[\"Ralph Norman\",\"SC-5\"],[\"Duke Buckner\",\"SC-6\"],[\"Russell Fry\",\"SC-7\"],[\"Diana Lynn Harshbarger\",\"TN-1\"],[\"Tim Burchett\",\"TN-2\"],[\"Chuck Fleischmann\",\"TN-3\"],[\"Scott DesJarlais\",\"TN-4\"],[\"Andy Ogles\",\"TN-5\"],[\"John Rose\",\"TN-6\"],[\"Mark E. Green\",\"TN-7\"],[\"David Kustoff\",\"TN-8\"],[\"Charlotte Bergmann\",\"TN-9\"],[\"Nathaniel Moran\",\"TX-1\"],[\"Michael McCaul\",\"TX-10\"],[\"Kay Granger\",\"TX-12\"],[\"Ronny Jackson\",\"TX-13\"],[\"Randy Weber\",\"TX-14\"],[\"Monica De La Cruz\",\"TX-15\"],[\"Irene Armendariz-Jackson\",\"TX-16\"],[\"Pete Sessions\",\"TX-17\"],[\"Carmen Maria Montiel\",\"TX-18\"],[\"Dan Crenshaw\",\"TX-2\"],[\"Kyle Sinclair\",\"TX-20\"],[\"Chip Roy\",\"TX-21\"],[\"Troy E. Nehls\",\"TX-22\"],[\"Tony Gonzales\",\"TX-23\"],[\"Beth Van Duyne\",\"TX-24\"],[\"Michael Cloud\",\"TX-27\"],[\"Cassy Garcia\",\"TX-28\"],[\"Robert Schafranek\",\"TX-29\"],[\"Keith Self\",\"TX-3\"],[\"James Rodgers\",\"TX-30\"],[\"Antonio Swad\",\"TX-32\"],[\"Patrick David Gillespie\",\"TX-33\"],[\"Mayra Flores\",\"TX-34\"],[\"Dan McQueen\",\"TX-35\"],[\"Brian Babin\",\"TX-36\"],[\"Jenny Garcia Sharon\",\"TX-37\"],[\"Wesley Hunt\",\"TX-38\"],[\"Pat Fallon\",\"TX-4\"],[\"Lance Gooden\",\"TX-5\"],[\"Johnny Teague\",\"TX-7\"],[\"Morgan Luttrell\",\"TX-8\"],[\"Jimmy I. Leon\",\"TX-9\"],[\"Blake D. Moore\",\"UT-1\"],[\"Chris Stewart\",\"UT-2\"],[\"John Curtis\",\"UT-3\"],[\"Burgess Owens\",\"UT-4\"],[\"Rob J. Wittman\",\"VA-1\"],[\"Hung Cao\",\"VA-10\"],[\"James G. \\u201cJim\\u201d Myles\",\"VA-11\"],[\"Jen A. Kiggans\",\"VA-2\"],[\"Terry T. Namkung\",\"VA-3\"],[\"Leon Benjamin Sr.\",\"VA-4\"],[\"Robert G. \\u201cBob\\u201d Good\",\"VA-5\"],[\"Ben L. Cline\",\"VA-6\"],[\"Yesli I. Vega\",\"VA-7\"],[\"Karina A. Lipsman\",\"VA-8\"],[\"H. Morgan Griffith\",\"VA-9\"],[\"Liam Madden\",\"VT-1\"],[\"Vincent J. Cavaleri\",\"WA-1\"],[\"Keith R. Swank\",\"WA-10\"],[\"Dan Matthews\",\"WA-2\"],[\"Joe Kent\",\"WA-3\"],[\"Dan Newhouse\",\"WA-4\"],[\"Cathy McMorris Rodgers\",\"WA-5\"],[\"Elizabeth Kreiselmaier\",\"WA-6\"],[\"Cliff Moon\",\"WA-7\"],[\"Matt Larkin\",\"WA-8\"],[\"Doug Basler\",\"WA-9\"],[\"Bryan Steil\",\"WI-1\"],[\"Erik Olsen\",\"WI-2\"],[\"Derrick Van Orden\",\"WI-3\"],[\"Tim Rogers\",\"WI-4\"],[\"Scott Fitzgerald\",\"WI-5\"],[\"Tom Tiffany\",\"WI-7\"],[\"Carol Miller\",\"WV-1\"],[\"Alexander X. Mooney\",\"WV-2\"],[\"Harriet Hageman\",\"WY-1\"]],\"hovertemplate\":\"party=R<br>win_pct=%{x}<br>Total_Receipt=%{y}<br>name=%{customdata[0]}<br>district=%{customdata[1]}<extra></extra>\",\"legendgroup\":\"R\",\"marker\":{\"color\":\"#EF553B\",\"symbol\":\"circle\"},\"mode\":\"markers\",\"name\":\"R\",\"orientation\":\"v\",\"showlegend\":true,\"x\":[0.350875,0.999525,0.9999,1.0,0.996075,0.000625,0.999725,0.987925,0.998875,0.99955,0.8365,0.53405,0.000225,0.263175,0.998475,0.705925,0.0039,0.997475,0.0,0.0,0.35345,0.00025,0.000475,0.0006,0.00065,7.5e-05,0.999675,0.22965,0.391325,0.9916,0.005125,0.0423,0.12875,0.527875,0.002275,0.839625,0.003575,0.0004,0.011825,0.003775,0.0003,0.002625,0.010675,0.000825,0.918725,0.925975,0.00115,0.0,0.0001,0.78435,0.003,0.143875,0.99615,0.1909,0.99365,0.00295,0.007775,0.000825,0.038025,0.0009,5e-05,0.324875,2.5e-05,0.001225,0.830325,0.997825,0.9951,0.02365,0.324275,0.75105,0.00815,0.023875,0.041625,0.020325,0.416925,0.035,0.97105,0.008575,0.99325,0.999225,0.666875,0.029475,0.823475,0.9803,0.993525,0.9978,0.877825,7.5e-05,0.9828,0.02725,0.255025,0.0,0.01505,0.977975,0.706475,0.910575,0.98965,0.947175,0.9249,0.995925,0.0204,0.99315,0.9956,0.998575,0.9888,0.0001,0.9999,0.18705,0.999725,2.5e-05,0.0,0.985675,0.020125,0.999325,0.999925,0.002875,0.0109,0.785325,0.791825,0.54725,0.997725,0.99995,0.998325,0.00045,0.05885,0.0513,1.0,0.33205,0.1009,0.99975,0.996975,0.3402,0.000325,0.001825,0.000225,0.0008,0.10335,0.169775,0.000275,0.142225,0.983475,0.9994,0.99935,0.994625,0.999675,0.0004,0.999125,0.9934,0.9993,0.928625,0.11075,0.9982,0.9999,0.9998,0.024675,0.9994,0.999975,0.9795,0.9999,0.0,0.889175,0.923725,0.00575,0.00195,0.00345,0.0001,0.00405,0.0,0.000875,0.014125,0.925125,0.067125,0.02205,0.0,0.001225,0.2967,0.0,2.5e-05,0.002325,0.334475,0.99335,0.833175,0.01805,7.5e-05,0.00025,0.998375,0.37955,0.946875,0.997875,0.006325,0.283025,0.3309,0.999275,0.90895,0.369025,0.03625,0.00115,2.5e-05,0.9963,0.99925,0.976275,0.0,0.986125,0.999175,0.999375,0.00595,0.999825,0.9998,0.99995,0.9996,0.00335,0.9986,0.99895,0.83195,0.976575,0.1771,0.999775,0.8204,0.002125,0.454875,0.16045,0.00415,0.997975,0.00315,0.995975,0.091475,0.98025,0.9998,0.96415,0.989125,0.8294,1.0,0.50535,0.121875,0.076625,2.5e-05,0.07205,0.002425,0.972325,0.188475,0.99885,0.127425,0.039825,0.650925,0.000775,0.02865,0.0619,0.688925,0.007225,0.82135,0.9983,0.60685,0.357075,0.772775,0.0,0.87335,0.0,5e-05,0.0,0.00015,0.362275,0.1551,0.297475,0.82715,0.021775,0.97855,0.46195,0.968275,0.992675,0.130975,0.01135,0.468125,0.47585,0.0,0.00315,0.0,0.0,0.64105,0.9532,2.5e-05,0.999275,0.575325,0.989275,0.97465,0.999925,0.0002,0.9998,0.998375,0.998425,0.9101,0.998275,0.282,0.998925,0.99995,0.999975,0.999475,0.9981,0.000875,0.9982,0.0001,0.331275,0.65845,0.68175,0.921925,0.772925,0.99795,0.08655,0.999675,0.996075,0.51475,0.0002,0.022325,0.001475,0.057375,0.536525,0.318425,0.99995,0.0017,0.82765,0.9897,0.99305,0.998025,0.001725,0.98425,0.999975,0.9996,0.999725,0.99985,0.763075,0.999525,0.99515,0.99995,0.00025,0.9998,0.997025,0.99835,0.9999,0.999675,0.639275,0.001775,0.998325,0.00025,0.999375,0.0042,0.998275,0.998175,0.9658,0.99745,0.998675,0.129125,0.0013,0.985475,0.000225,0.004275,0.000325,0.263525,0.002675,0.999725,0.0,0.9932,0.999,0.9988,0.005875,0.99205,0.000125,0.99485,0.986275,0.99115,0.99415,0.984075,0.20745,0.0015,0.43425,0.000875,0.0006,0.9812,0.9988,0.348275,5e-05,0.999875,0.00055,0.0065,0.0533,0.016675,0.8471,0.995975,0.983025,0.038875,0.0,0.304425,0.00035,0.944075,0.00015,0.8809,0.000125,0.9984,0.993925,0.999275,0.9995,0.999175],\"xaxis\":\"x\",\"y\":[1971160.93,896776.46,2261995.22,1540807.2,1994353.59,47728.98,1087410.34,3396282.37,1664168.78,1944291.45,null,3779765.67,73781.24,2342076.93,2116014.71,3398846.75,null,961209.18,998254.03,1050.0,null,0.0,116486.0,251022.45,58794.18,15677.0,28295639.53,311788.67,3738008.91,1060460.56,40904.0,541664.83,2655736.79,7192788.37,109463.22,3212844.0,0.0,53589.76,4318.62,67073.63,2524892.82,280589.09,null,11265.0,9340940.92,3728273.29,527945.0,85997.53,null,7411601.19,55923.37,3145463.28,2337213.84,5591297.83,1674004.02,94112.24,135385.49,40408.04,1158787.4,58819.37,60648.94,1627893.83,0.0,48943.09,7854668.58,1618431.12,506157.3,258207.39,1525113.68,1602545.07,190652.21,880637.26,46977.86,553804.9,1297352.41,349933.46,6727002.23,253418.48,783304.69,1985594.58,3387013.53,216847.03,1563092.79,4693372.7,1645535.54,5657617.12,1800603.34,145971.24,6338072.31,1614198.79,171383.71,15868.09,2002921.5,1811601.56,5647931.39,2143685.24,2323162.63,1198576.19,2634884.12,1030661.36,601171.19,2127328.91,1467857.85,795499.29,990712.76,19033.64,12588124.11,1020600.4,3427041.42,0.0,35221.14,4636744.33,567363.58,832289.28,819947.75,82409.58,71641.86,4911923.34,7191931.25,2633465.87,2886169.99,536931.86,1623606.84,5896.21,34275.0,2775559.99,1664091.4,2096672.96,658298.5,2019930.74,3915556.68,5114935.2,0.0,28273.99,0.0,28663.3,1514693.19,545818.55,9895.5,3492664.39,1151524.32,2653270.22,434679.53,4156237.89,2281638.58,498397.85,1428441.16,1356559.0,1237054.19,1478931.28,3854560.75,1877363.59,1649489.62,2259392.72,622973.39,1105338.75,820504.67,3845266.61,18570245.06,32371.0,1057244.85,2849171.25,19752.89,140906.35,158145.09,107077.48,53398.0,0.0,0.0,352855.67,1921505.35,500312.76,503051.87,57740.7,63553.38,1098843.33,0.0,16294.27,454062.79,3671939.64,1841958.42,6954183.56,668345.01,265846.32,99789.93,2197543.5,1686030.12,3073021.13,null,12069.75,2834508.15,3108702.53,null,1500243.97,3409854.76,681468.99,133467.1,3226697.65,4431685.38,1677464.61,2470828.61,49116.03,4884445.83,3640059.18,1038063.25,37587.0,2383368.94,1081116.19,3198303.83,1113277.81,49488.03,1353829.76,1062857.78,null,2284637.89,2187047.47,3911761.09,1584205.79,211748.03,3286174.94,null,149375.48,1993505.57,409981.2,2208535.0,928501.85,1496207.61,1944120.33,3120527.33,2195050.83,3919222.53,1709691.29,3691942.57,401645.82,38650.0,0.0,710058.5,266328.89,3119520.28,4713439.44,1494147.31,982795.94,399477.05,4476737.53,0.0,309100.35,391731.56,4431274.96,303535.55,1337673.46,1219752.54,2488761.16,1964059.59,1551713.01,25027.8,4642144.71,19176.52,1540477.62,0.0,17023.0,1553320.59,2062676.07,2491602.09,3551116.76,1169097.57,9489980.78,941403.42,763707.48,3301121.74,710075.2,36659.11,3000675.52,1325986.26,130038.17,2405.87,0.0,19970.31,2234658.79,1522717.13,0.0,1919520.06,2197170.59,2606247.74,2363798.92,2088194.25,0.0,14293131.39,1560724.66,1706984.83,3045488.99,976169.59,1185047.37,1709945.49,654619.23,1524419.03,2335186.44,2491328.51,0.0,1184427.97,14925.0,4538041.24,2568275.52,3957227.25,4560231.74,3043768.91,1560516.69,205104.56,2692356.32,1320811.66,2786043.66,0.0,239390.88,746756.83,1038552.06,6354578.69,3017514.63,1101338.69,45441.69,2247796.52,5884937.13,1020327.32,890552.23,205668.71,1428232.9,2000622.04,1427400.67,1058051.28,174860.33,1281921.17,2055441.26,1763091.7,1913469.28,400705.46,1051039.2,2729647.14,2041432.69,5097598.64,1036639.13,4688233.32,389697.69,1001775.53,126358.5,15916738.83,293147.37,2344485.0,1375451.92,4307414.2,3782404.28,1076329.45,3485707.38,0.0,592898.76,64725.05,2386122.49,0.0,4685774.09,31515.0,1054678.32,9153.0,5831956.81,1009595.34,1038969.23,191713.98,4750765.79,1121.26,1792532.69,1096841.01,2120305.46,3685802.41,2191153.97,3304902.6,235273.48,3485709.65,180080.37,382045.09,1172672.7,993251.5,3679371.94,290981.09,813068.46,null,185847.78,160970.22,145529.16,3727353.44,2148295.38,6416913.26,426186.56,8019.18,2810552.79,133962.28,3616861.88,89666.7,6479115.13,0.0,996710.79,1181268.65,1236366.77,4477286.55,5737078.7],\"yaxis\":\"y\",\"type\":\"scatter\"}],                        {\"template\":{\"data\":{\"histogram2dcontour\":[{\"type\":\"histogram2dcontour\",\"colorbar\":{\"outlinewidth\":0,\"ticks\":\"\"},\"colorscale\":[[0.0,\"#0d0887\"],[0.1111111111111111,\"#46039f\"],[0.2222222222222222,\"#7201a8\"],[0.3333333333333333,\"#9c179e\"],[0.4444444444444444,\"#bd3786\"],[0.5555555555555556,\"#d8576b\"],[0.6666666666666666,\"#ed7953\"],[0.7777777777777778,\"#fb9f3a\"],[0.8888888888888888,\"#fdca26\"],[1.0,\"#f0f921\"]]}],\"choropleth\":[{\"type\":\"choropleth\",\"colorbar\":{\"outlinewidth\":0,\"ticks\":\"\"}}],\"histogram2d\":[{\"type\":\"histogram2d\",\"colorbar\":{\"outlinewidth\":0,\"ticks\":\"\"},\"colorscale\":[[0.0,\"#0d0887\"],[0.1111111111111111,\"#46039f\"],[0.2222222222222222,\"#7201a8\"],[0.3333333333333333,\"#9c179e\"],[0.4444444444444444,\"#bd3786\"],[0.5555555555555556,\"#d8576b\"],[0.6666666666666666,\"#ed7953\"],[0.7777777777777778,\"#fb9f3a\"],[0.8888888888888888,\"#fdca26\"],[1.0,\"#f0f921\"]]}],\"heatmap\":[{\"type\":\"heatmap\",\"colorbar\":{\"outlinewidth\":0,\"ticks\":\"\"},\"colorscale\":[[0.0,\"#0d0887\"],[0.1111111111111111,\"#46039f\"],[0.2222222222222222,\"#7201a8\"],[0.3333333333333333,\"#9c179e\"],[0.4444444444444444,\"#bd3786\"],[0.5555555555555556,\"#d8576b\"],[0.6666666666666666,\"#ed7953\"],[0.7777777777777778,\"#fb9f3a\"],[0.8888888888888888,\"#fdca26\"],[1.0,\"#f0f921\"]]}],\"heatmapgl\":[{\"type\":\"heatmapgl\",\"colorbar\":{\"outlinewidth\":0,\"ticks\":\"\"},\"colorscale\":[[0.0,\"#0d0887\"],[0.1111111111111111,\"#46039f\"],[0.2222222222222222,\"#7201a8\"],[0.3333333333333333,\"#9c179e\"],[0.4444444444444444,\"#bd3786\"],[0.5555555555555556,\"#d8576b\"],[0.6666666666666666,\"#ed7953\"],[0.7777777777777778,\"#fb9f3a\"],[0.8888888888888888,\"#fdca26\"],[1.0,\"#f0f921\"]]}],\"contourcarpet\":[{\"type\":\"contourcarpet\",\"colorbar\":{\"outlinewidth\":0,\"ticks\":\"\"}}],\"contour\":[{\"type\":\"contour\",\"colorbar\":{\"outlinewidth\":0,\"ticks\":\"\"},\"colorscale\":[[0.0,\"#0d0887\"],[0.1111111111111111,\"#46039f\"],[0.2222222222222222,\"#7201a8\"],[0.3333333333333333,\"#9c179e\"],[0.4444444444444444,\"#bd3786\"],[0.5555555555555556,\"#d8576b\"],[0.6666666666666666,\"#ed7953\"],[0.7777777777777778,\"#fb9f3a\"],[0.8888888888888888,\"#fdca26\"],[1.0,\"#f0f921\"]]}],\"surface\":[{\"type\":\"surface\",\"colorbar\":{\"outlinewidth\":0,\"ticks\":\"\"},\"colorscale\":[[0.0,\"#0d0887\"],[0.1111111111111111,\"#46039f\"],[0.2222222222222222,\"#7201a8\"],[0.3333333333333333,\"#9c179e\"],[0.4444444444444444,\"#bd3786\"],[0.5555555555555556,\"#d8576b\"],[0.6666666666666666,\"#ed7953\"],[0.7777777777777778,\"#fb9f3a\"],[0.8888888888888888,\"#fdca26\"],[1.0,\"#f0f921\"]]}],\"mesh3d\":[{\"type\":\"mesh3d\",\"colorbar\":{\"outlinewidth\":0,\"ticks\":\"\"}}],\"scatter\":[{\"fillpattern\":{\"fillmode\":\"overlay\",\"size\":10,\"solidity\":0.2},\"type\":\"scatter\"}],\"parcoords\":[{\"type\":\"parcoords\",\"line\":{\"colorbar\":{\"outlinewidth\":0,\"ticks\":\"\"}}}],\"scatterpolargl\":[{\"type\":\"scatterpolargl\",\"marker\":{\"colorbar\":{\"outlinewidth\":0,\"ticks\":\"\"}}}],\"bar\":[{\"error_x\":{\"color\":\"#2a3f5f\"},\"error_y\":{\"color\":\"#2a3f5f\"},\"marker\":{\"line\":{\"color\":\"#E5ECF6\",\"width\":0.5},\"pattern\":{\"fillmode\":\"overlay\",\"size\":10,\"solidity\":0.2}},\"type\":\"bar\"}],\"scattergeo\":[{\"type\":\"scattergeo\",\"marker\":{\"colorbar\":{\"outlinewidth\":0,\"ticks\":\"\"}}}],\"scatterpolar\":[{\"type\":\"scatterpolar\",\"marker\":{\"colorbar\":{\"outlinewidth\":0,\"ticks\":\"\"}}}],\"histogram\":[{\"marker\":{\"pattern\":{\"fillmode\":\"overlay\",\"size\":10,\"solidity\":0.2}},\"type\":\"histogram\"}],\"scattergl\":[{\"type\":\"scattergl\",\"marker\":{\"colorbar\":{\"outlinewidth\":0,\"ticks\":\"\"}}}],\"scatter3d\":[{\"type\":\"scatter3d\",\"line\":{\"colorbar\":{\"outlinewidth\":0,\"ticks\":\"\"}},\"marker\":{\"colorbar\":{\"outlinewidth\":0,\"ticks\":\"\"}}}],\"scattermapbox\":[{\"type\":\"scattermapbox\",\"marker\":{\"colorbar\":{\"outlinewidth\":0,\"ticks\":\"\"}}}],\"scatterternary\":[{\"type\":\"scatterternary\",\"marker\":{\"colorbar\":{\"outlinewidth\":0,\"ticks\":\"\"}}}],\"scattercarpet\":[{\"type\":\"scattercarpet\",\"marker\":{\"colorbar\":{\"outlinewidth\":0,\"ticks\":\"\"}}}],\"carpet\":[{\"aaxis\":{\"endlinecolor\":\"#2a3f5f\",\"gridcolor\":\"white\",\"linecolor\":\"white\",\"minorgridcolor\":\"white\",\"startlinecolor\":\"#2a3f5f\"},\"baxis\":{\"endlinecolor\":\"#2a3f5f\",\"gridcolor\":\"white\",\"linecolor\":\"white\",\"minorgridcolor\":\"white\",\"startlinecolor\":\"#2a3f5f\"},\"type\":\"carpet\"}],\"table\":[{\"cells\":{\"fill\":{\"color\":\"#EBF0F8\"},\"line\":{\"color\":\"white\"}},\"header\":{\"fill\":{\"color\":\"#C8D4E3\"},\"line\":{\"color\":\"white\"}},\"type\":\"table\"}],\"barpolar\":[{\"marker\":{\"line\":{\"color\":\"#E5ECF6\",\"width\":0.5},\"pattern\":{\"fillmode\":\"overlay\",\"size\":10,\"solidity\":0.2}},\"type\":\"barpolar\"}],\"pie\":[{\"automargin\":true,\"type\":\"pie\"}]},\"layout\":{\"autotypenumbers\":\"strict\",\"colorway\":[\"#636efa\",\"#EF553B\",\"#00cc96\",\"#ab63fa\",\"#FFA15A\",\"#19d3f3\",\"#FF6692\",\"#B6E880\",\"#FF97FF\",\"#FECB52\"],\"font\":{\"color\":\"#2a3f5f\"},\"hovermode\":\"closest\",\"hoverlabel\":{\"align\":\"left\"},\"paper_bgcolor\":\"white\",\"plot_bgcolor\":\"#E5ECF6\",\"polar\":{\"bgcolor\":\"#E5ECF6\",\"angularaxis\":{\"gridcolor\":\"white\",\"linecolor\":\"white\",\"ticks\":\"\"},\"radialaxis\":{\"gridcolor\":\"white\",\"linecolor\":\"white\",\"ticks\":\"\"}},\"ternary\":{\"bgcolor\":\"#E5ECF6\",\"aaxis\":{\"gridcolor\":\"white\",\"linecolor\":\"white\",\"ticks\":\"\"},\"baxis\":{\"gridcolor\":\"white\",\"linecolor\":\"white\",\"ticks\":\"\"},\"caxis\":{\"gridcolor\":\"white\",\"linecolor\":\"white\",\"ticks\":\"\"}},\"coloraxis\":{\"colorbar\":{\"outlinewidth\":0,\"ticks\":\"\"}},\"colorscale\":{\"sequential\":[[0.0,\"#0d0887\"],[0.1111111111111111,\"#46039f\"],[0.2222222222222222,\"#7201a8\"],[0.3333333333333333,\"#9c179e\"],[0.4444444444444444,\"#bd3786\"],[0.5555555555555556,\"#d8576b\"],[0.6666666666666666,\"#ed7953\"],[0.7777777777777778,\"#fb9f3a\"],[0.8888888888888888,\"#fdca26\"],[1.0,\"#f0f921\"]],\"sequentialminus\":[[0.0,\"#0d0887\"],[0.1111111111111111,\"#46039f\"],[0.2222222222222222,\"#7201a8\"],[0.3333333333333333,\"#9c179e\"],[0.4444444444444444,\"#bd3786\"],[0.5555555555555556,\"#d8576b\"],[0.6666666666666666,\"#ed7953\"],[0.7777777777777778,\"#fb9f3a\"],[0.8888888888888888,\"#fdca26\"],[1.0,\"#f0f921\"]],\"diverging\":[[0,\"#8e0152\"],[0.1,\"#c51b7d\"],[0.2,\"#de77ae\"],[0.3,\"#f1b6da\"],[0.4,\"#fde0ef\"],[0.5,\"#f7f7f7\"],[0.6,\"#e6f5d0\"],[0.7,\"#b8e186\"],[0.8,\"#7fbc41\"],[0.9,\"#4d9221\"],[1,\"#276419\"]]},\"xaxis\":{\"gridcolor\":\"white\",\"linecolor\":\"white\",\"ticks\":\"\",\"title\":{\"standoff\":15},\"zerolinecolor\":\"white\",\"automargin\":true,\"zerolinewidth\":2},\"yaxis\":{\"gridcolor\":\"white\",\"linecolor\":\"white\",\"ticks\":\"\",\"title\":{\"standoff\":15},\"zerolinecolor\":\"white\",\"automargin\":true,\"zerolinewidth\":2},\"scene\":{\"xaxis\":{\"backgroundcolor\":\"#E5ECF6\",\"gridcolor\":\"white\",\"linecolor\":\"white\",\"showbackground\":true,\"ticks\":\"\",\"zerolinecolor\":\"white\",\"gridwidth\":2},\"yaxis\":{\"backgroundcolor\":\"#E5ECF6\",\"gridcolor\":\"white\",\"linecolor\":\"white\",\"showbackground\":true,\"ticks\":\"\",\"zerolinecolor\":\"white\",\"gridwidth\":2},\"zaxis\":{\"backgroundcolor\":\"#E5ECF6\",\"gridcolor\":\"white\",\"linecolor\":\"white\",\"showbackground\":true,\"ticks\":\"\",\"zerolinecolor\":\"white\",\"gridwidth\":2}},\"shapedefaults\":{\"line\":{\"color\":\"#2a3f5f\"}},\"annotationdefaults\":{\"arrowcolor\":\"#2a3f5f\",\"arrowhead\":0,\"arrowwidth\":1},\"geo\":{\"bgcolor\":\"white\",\"landcolor\":\"#E5ECF6\",\"subunitcolor\":\"white\",\"showland\":true,\"showlakes\":true,\"lakecolor\":\"white\"},\"title\":{\"x\":0.05},\"mapbox\":{\"style\":\"light\"}}},\"xaxis\":{\"anchor\":\"y\",\"domain\":[0.0,1.0],\"title\":{\"text\":\"win_pct\"}},\"yaxis\":{\"anchor\":\"x\",\"domain\":[0.0,1.0],\"title\":{\"text\":\"Total_Receipt\"}},\"legend\":{\"title\":{\"text\":\"party\"},\"tracegroupgap\":0},\"margin\":{\"t\":60}},                        {\"responsive\": true}                    ).then(function(){\n",
       "                            \n",
       "var gd = document.getElementById('32d24cc1-d79b-4d2f-9e06-f186043e730e');\n",
       "var x = new MutationObserver(function (mutations, observer) {{\n",
       "        var display = window.getComputedStyle(gd).display;\n",
       "        if (!display || display === 'none') {{\n",
       "            console.log([gd, 'removed!']);\n",
       "            Plotly.purge(gd);\n",
       "            observer.disconnect();\n",
       "        }}\n",
       "}});\n",
       "\n",
       "// Listen for the removal of the full notebook cells\n",
       "var notebookContainer = gd.closest('#notebook-container');\n",
       "if (notebookContainer) {{\n",
       "    x.observe(notebookContainer, {childList: true});\n",
       "}}\n",
       "\n",
       "// Listen for the clearing of the current output cell\n",
       "var outputEl = gd.closest('.output');\n",
       "if (outputEl) {{\n",
       "    x.observe(outputEl, {childList: true});\n",
       "}}\n",
       "\n",
       "                        })                };                });            </script>        </div>"
      ]
     },
     "metadata": {},
     "output_type": "display_data"
    }
   ],
   "source": [
    "px.scatter(combined_df, x=\"win_pct\", y=\"Total_Receipt\", color= \"party\", hover_data = [\"name\", \"district\"])"
   ]
  },
  {
   "cell_type": "code",
   "execution_count": null,
   "id": "447abdf4-e94c-404d-8385-b49241a2be48",
   "metadata": {},
   "outputs": [],
   "source": []
  },
  {
   "cell_type": "code",
   "execution_count": 27,
   "id": "2035669f-98a6-4894-936e-d1e00edc0df1",
   "metadata": {},
   "outputs": [
    {
     "data": {
      "application/vnd.plotly.v1+json": {
       "config": {
        "plotlyServerURL": "https://plot.ly"
       },
       "data": [
        {
         "customdata": [
          [
           "Mary S. Peltola",
           "AK-1"
          ],
          [
           "Phyllis Harvey-Hall",
           "AL-2"
          ],
          [
           "Lin Veasey",
           "AL-3"
          ],
          [
           "Rick Neighbors",
           "AL-4"
          ],
          [
           "Kathy Warner-Stanton",
           "AL-5"
          ],
          [
           "Terrycina Sewell",
           "AL-7"
          ],
          [
           "Monte Hodges",
           "AR-1"
          ],
          [
           "Quintessa Hathaway",
           "AR-2"
          ],
          [
           "Lauren Mallett-Hays",
           "AR-3"
          ],
          [
           "John White",
           "AR-4"
          ],
          [
           "Jevin Hodge",
           "AZ-1"
          ],
          [
           "Tom O'Halleran",
           "AZ-2"
          ],
          [
           "Ruben Gallego",
           "AZ-3"
          ],
          [
           "Greg Stanton",
           "AZ-4"
          ],
          [
           "Javier Ramos",
           "AZ-5"
          ],
          [
           "Kirsten Engel",
           "AZ-6"
          ],
          [
           "Raúl Grijalva",
           "AZ-7"
          ],
          [
           "Max Steiner",
           "CA-1"
          ],
          [
           "Nancy Pelosi",
           "CA-11"
          ],
          [
           "Barbara Lee",
           "CA-12"
          ],
          [
           "Adam Gray",
           "CA-13"
          ],
          [
           "Eric Swalwell",
           "CA-14"
          ],
          [
           "Ro Khanna",
           "CA-17"
          ],
          [
           "Zoe Lofgren",
           "CA-18"
          ],
          [
           "Jimmy Panetta",
           "CA-19"
          ],
          [
           "Jared Huffman",
           "CA-2"
          ],
          [
           "Marisa Wood",
           "CA-20"
          ],
          [
           "Jim Costa",
           "CA-21"
          ],
          [
           "Rudy Salas",
           "CA-22"
          ],
          [
           "Derek Marshall",
           "CA-23"
          ],
          [
           "Salud Carbajal",
           "CA-24"
          ],
          [
           "Raul Ruiz",
           "CA-25"
          ],
          [
           "Julia Brownley",
           "CA-26"
          ],
          [
           "Christy Smith",
           "CA-27"
          ],
          [
           "Judy Chu",
           "CA-28"
          ],
          [
           "Kermit Jones",
           "CA-3"
          ],
          [
           "Grace F. Napolitano",
           "CA-31"
          ],
          [
           "Brad Sherman",
           "CA-32"
          ],
          [
           "Pete Aguilar",
           "CA-33"
          ],
          [
           "Norma J. Torres",
           "CA-35"
          ],
          [
           "Ted W. Lieu",
           "CA-36"
          ],
          [
           "Linda T. Sánchez",
           "CA-38"
          ],
          [
           "Mark Takano",
           "CA-39"
          ],
          [
           "Mike Thompson",
           "CA-4"
          ],
          [
           "Asif Mahmood",
           "CA-40"
          ],
          [
           "Will Rollins",
           "CA-41"
          ],
          [
           "Robert Garcia",
           "CA-42"
          ],
          [
           "Maxine Waters",
           "CA-43"
          ],
          [
           "Nanette Diaz Barragan",
           "CA-44"
          ],
          [
           "Jay F. Chen",
           "CA-45"
          ],
          [
           "Lou Correa",
           "CA-46"
          ],
          [
           "Katie Porter",
           "CA-47"
          ],
          [
           "Stephen Houlahan",
           "CA-48"
          ],
          [
           "Mike Levin",
           "CA-49"
          ],
          [
           "Michael J. “Mike” Barkley",
           "CA-5"
          ],
          [
           "Scott Peters",
           "CA-50"
          ],
          [
           "Sara Jacobs",
           "CA-51"
          ],
          [
           "Juan Vargas",
           "CA-52"
          ],
          [
           "Ami Bera",
           "CA-6"
          ],
          [
           "Doris Matsui",
           "CA-7"
          ],
          [
           "John Garamendi",
           "CA-8"
          ],
          [
           "Josh Harder",
           "CA-9"
          ],
          [
           "Diana DeGette",
           "CO-1"
          ],
          [
           "Joe Neguse",
           "CO-2"
          ],
          [
           "Adam Frisch",
           "CO-3"
          ],
          [
           "Ike McCorkle",
           "CO-4"
          ],
          [
           "David Torres",
           "CO-5"
          ],
          [
           "Jason Crow",
           "CO-6"
          ],
          [
           "Brittany Pettersen",
           "CO-7"
          ],
          [
           "Yadira Caraveo",
           "CO-8"
          ],
          [
           "John B. Larson",
           "CT-1"
          ],
          [
           "Joe Courtney",
           "CT-2"
          ],
          [
           "Rosa L. DeLauro",
           "CT-3"
          ],
          [
           "Jim Himes",
           "CT-4"
          ],
          [
           "Jahana Hayes",
           "CT-5"
          ],
          [
           "Lisa Blunt Rochester",
           "DE-1"
          ],
          [
           "Rebekah Jones",
           "FL-1"
          ],
          [
           "Maxwell Alejandro Frost",
           "FL-10"
          ],
          [
           "Shante Munns",
           "FL-11"
          ],
          [
           "Kimberly Walker",
           "FL-12"
          ],
          [
           "Eric Lynn",
           "FL-13"
          ],
          [
           "Kathy Castor",
           "FL-14"
          ],
          [
           "Alan M. Cohn",
           "FL-15"
          ],
          [
           "Jan Schneider",
           "FL-16"
          ],
          [
           "Andrea Doria Kale",
           "FL-17"
          ],
          [
           "Cindy Banyai",
           "FL-19"
          ],
          [
           "Al Lawson",
           "FL-2"
          ],
          [
           "Sheila Cherfilus-McCormick",
           "FL-20"
          ],
          [
           "Corinna Balderramos Robinson",
           "FL-21"
          ],
          [
           "Lois Frankel",
           "FL-22"
          ],
          [
           "Jared Moskowitz",
           "FL-23"
          ],
          [
           "Frederica Wilson",
           "FL-24"
          ],
          [
           "Debbie Wasserman Schultz",
           "FL-25"
          ],
          [
           "Christine Alexandria Olivo",
           "FL-26"
          ],
          [
           "Annette Taddeo",
           "FL-27"
          ],
          [
           "Robert Asencio",
           "FL-28"
          ],
          [
           "Danielle Hawk",
           "FL-3"
          ],
          [
           "LaShonda “L.J.” Holloway",
           "FL-4"
          ],
          [
           "Karen Green",
           "FL-7"
          ],
          [
           "Joanne Terry",
           "FL-8"
          ],
          [
           "Darren Soto",
           "FL-9"
          ],
          [
           "Wade Herring",
           "GA-1"
          ],
          [
           "Tabitha Johnson-Green",
           "GA-10"
          ],
          [
           "Antonio Daza",
           "GA-11"
          ],
          [
           "Elizabeth “Liz” Johnson",
           "GA-12"
          ],
          [
           "David Scott",
           "GA-13"
          ],
          [
           "Marcus Flowers",
           "GA-14"
          ],
          [
           "Sanford Bishop",
           "GA-2"
          ],
          [
           "Val Almonord",
           "GA-3"
          ],
          [
           "Henry C. “Hank” Johnson Jr.",
           "GA-4"
          ],
          [
           "Nikema Williams",
           "GA-5"
          ],
          [
           "Bob Christian",
           "GA-6"
          ],
          [
           "Lucy McBath",
           "GA-7"
          ],
          [
           "Darrius Butler",
           "GA-8"
          ],
          [
           "Michael “Mike” Ford",
           "GA-9"
          ],
          [
           "Ed Case",
           "HI-1"
          ],
          [
           "Jill N. Tokuda",
           "HI-2"
          ],
          [
           "Christina Bohannan",
           "IA-1"
          ],
          [
           "Liz Mathis",
           "IA-2"
          ],
          [
           "Cindy Axne",
           "IA-3"
          ],
          [
           "Ryan Melton",
           "IA-4"
          ],
          [
           "Kaylee Peterson",
           "ID-1"
          ],
          [
           "Wendy Norman",
           "ID-2"
          ],
          [
           "Jonathan L. Jackson",
           "IL-1"
          ],
          [
           "Brad Schneider",
           "IL-10"
          ],
          [
           "Bill Foster",
           "IL-11"
          ],
          [
           "Homer “Chip” Markel",
           "IL-12"
          ],
          [
           "Nikki Budzinski",
           "IL-13"
          ],
          [
           "Lauren Underwood",
           "IL-14"
          ],
          [
           "Paul J. Lange",
           "IL-15"
          ],
          [
           "Elizabeth Haderlein",
           "IL-16"
          ],
          [
           "Eric Sorensen",
           "IL-17"
          ],
          [
           "Robin Kelly",
           "IL-2"
          ],
          [
           "Delia Ramirez",
           "IL-3"
          ],
          [
           "Jesus “Chuy” Garcia",
           "IL-4"
          ],
          [
           "Mike Quigley",
           "IL-5"
          ],
          [
           "Sean Casten",
           "IL-6"
          ],
          [
           "Raja Krishnamoorthi",
           "IL-8"
          ],
          [
           "Janice D. Schakowsky",
           "IL-9"
          ],
          [
           "Frank J. Mrvan",
           "IN-1"
          ],
          [
           "Paul D. Steury",
           "IN-2"
          ],
          [
           "Gary L. Snyder",
           "IN-3"
          ],
          [
           "Roger D. Day",
           "IN-4"
          ],
          [
           "Jeannine Lee Lake",
           "IN-5"
          ],
          [
           "Cynthia “Cinde” Wirth",
           "IN-6"
          ],
          [
           "André D. Carson",
           "IN-7"
          ],
          [
           "Ray McCormick",
           "IN-8"
          ],
          [
           "Matthew Fyfe",
           "IN-9"
          ],
          [
           "James “Jimmy” Beard",
           "KS-1"
          ],
          [
           "Patrick Schmidt",
           "KS-2"
          ],
          [
           "Sharice Davids",
           "KS-3"
          ],
          [
           "Bob Hernandez",
           "KS-4"
          ],
          [
           "Jimmy C. Ausbrooks",
           "KY-1"
          ],
          [
           "Hank Linderman",
           "KY-2"
          ],
          [
           "Morgan McGarvey",
           "KY-3"
          ],
          [
           "Matthew Lehman",
           "KY-4"
          ],
          [
           "Conor Halbleib",
           "KY-5"
          ],
          [
           "Geoffrey M. “Geoff” Young",
           "KY-6"
          ],
          [
           "Kate Darling",
           "LA-1"
          ],
          [
           "Troy A. Carter",
           "LA-2"
          ],
          [
           "Tia Lebrun",
           "LA-3"
          ],
          [
           "Oscar “Omar” Dantzler",
           "LA-5"
          ],
          [
           "Richard E. Neal",
           "MA-1"
          ],
          [
           "James P. McGovern",
           "MA-2"
          ],
          [
           "Lori Loureiro Trahan",
           "MA-3"
          ],
          [
           "Katherine M. Clark",
           "MA-5"
          ],
          [
           "Seth Moulton",
           "MA-6"
          ],
          [
           "Ayanna S. Pressley",
           "MA-7"
          ],
          [
           "Stephen F. Lynch",
           "MA-8"
          ],
          [
           "Bill Keating",
           "MA-9"
          ],
          [
           "Heather R. Mizeur",
           "MD-1"
          ],
          [
           "C.A. Dutch Ruppersberger",
           "MD-2"
          ],
          [
           "John Sarbanes",
           "MD-3"
          ],
          [
           "Glenn F. Ivey",
           "MD-4"
          ],
          [
           "Steny Hoyer",
           "MD-5"
          ],
          [
           "David J. Trone",
           "MD-6"
          ],
          [
           "Kweisi Mfume",
           "MD-7"
          ],
          [
           "Jamie Raskin",
           "MD-8"
          ],
          [
           "Chellie M. Pingree",
           "ME-1"
          ],
          [
           "Jared Forrest Golden",
           "ME-2"
          ],
          [
           "Bob Lorinser",
           "MI-1"
          ],
          [
           "Carl J. Marlinga",
           "MI-10"
          ],
          [
           "Haley Stevens",
           "MI-11"
          ],
          [
           "Rashida Tlaib",
           "MI-12"
          ],
          [
           "Shri Thanedar",
           "MI-13"
          ],
          [
           "Jerry Hilliard",
           "MI-2"
          ],
          [
           "Hillary Scholten",
           "MI-3"
          ],
          [
           "Joseph Alfonso",
           "MI-4"
          ],
          [
           "Bart Goldberg",
           "MI-5"
          ],
          [
           "Debbie Dingell",
           "MI-6"
          ],
          [
           "Elissa Slotkin",
           "MI-7"
          ],
          [
           "Daniel T. Kildee",
           "MI-8"
          ],
          [
           "Brian Jaye",
           "MI-9"
          ],
          [
           "Jeff Ettinger",
           "MN-1"
          ],
          [
           "Angie Craig",
           "MN-2"
          ],
          [
           "Dean Phillips",
           "MN-3"
          ],
          [
           "Betty McCollum",
           "MN-4"
          ],
          [
           "Ilhan Omar",
           "MN-5"
          ],
          [
           "Jeanne Hendricks",
           "MN-6"
          ],
          [
           "Jill Abahsain",
           "MN-7"
          ],
          [
           "Jen Schultz",
           "MN-8"
          ],
          [
           "Cori Bush",
           "MO-1"
          ],
          [
           "Trish Gunby",
           "MO-2"
          ],
          [
           "Bethany Mann",
           "MO-3"
          ],
          [
           "Jack Truman",
           "MO-4"
          ],
          [
           "Emanuel Cleaver, II",
           "MO-5"
          ],
          [
           "Henry Martin",
           "MO-6"
          ],
          [
           "Kristen Radaker-Sheafer",
           "MO-7"
          ],
          [
           "Randi McCallian",
           "MO-8"
          ],
          [
           "Dianne Black",
           "MS-1"
          ],
          [
           "Bennie G. Thompson",
           "MS-2"
          ],
          [
           "Shuwaski A. Young",
           "MS-3"
          ],
          [
           "Johnny L. DuPree",
           "MS-4"
          ],
          [
           "Monica Tranel",
           "MT-1"
          ],
          [
           "Penny Ronning",
           "MT-2"
          ],
          [
           "Don Davis",
           "NC-1"
          ],
          [
           "Pam Genant",
           "NC-10"
          ],
          [
           "Jasmine Beach-Ferrara",
           "NC-11"
          ],
          [
           "Alma S. Adams",
           "NC-12"
          ],
          [
           "Wiley Nickel",
           "NC-13"
          ],
          [
           "Jeff Jackson",
           "NC-14"
          ],
          [
           "Deborah K. Ross",
           "NC-2"
          ],
          [
           "Barbara D. Gaskins",
           "NC-3"
          ],
          [
           "Valerie P. Foushee",
           "NC-4"
          ],
          [
           "Kyle Parrish",
           "NC-5"
          ],
          [
           "Kathy Manning",
           "NC-6"
          ],
          [
           "Charles Graham",
           "NC-7"
          ],
          [
           "Scott Huffman",
           "NC-8"
          ],
          [
           "Ben Clark",
           "NC-9"
          ],
          [
           "Patty Pansing Brooks",
           "NE-1"
          ],
          [
           "Tony Vargas",
           "NE-2"
          ],
          [
           "David J. Else",
           "NE-3"
          ],
          [
           "Chris Pappas",
           "NH-1"
          ],
          [
           "Ann McLane Kuster",
           "NH-2"
          ],
          [
           "Donald W. Norcross",
           "NJ-1"
          ],
          [
           "Donald M. Payne Jr.",
           "NJ-10"
          ],
          [
           "Mikie Sherrill",
           "NJ-11"
          ],
          [
           "Bonnie Watson Coleman",
           "NJ-12"
          ],
          [
           "Tim Alexander",
           "NJ-2"
          ],
          [
           "Andy Kim",
           "NJ-3"
          ],
          [
           "Matthew Jenkins",
           "NJ-4"
          ],
          [
           "Josh Gottheimer",
           "NJ-5"
          ],
          [
           "Frank Pallone Jr.",
           "NJ-6"
          ],
          [
           "Tom Malinowski",
           "NJ-7"
          ],
          [
           "Robert J. Menendez",
           "NJ-8"
          ],
          [
           "Bill Pascrell Jr.",
           "NJ-9"
          ],
          [
           "Melanie Ann Stansbury",
           "NM-1"
          ],
          [
           "Gabriel Vasquez",
           "NM-2"
          ],
          [
           "Teresa Leger Fernandez",
           "NM-3"
          ],
          [
           "Dina Titus",
           "NV-1"
          ],
          [
           "Elizabeth Mercedes Krause",
           "NV-2"
          ],
          [
           "Susie Lee",
           "NV-3"
          ],
          [
           "Steven A. Horsford",
           "NV-4"
          ],
          [
           "Bridget Fleming",
           "NY-1"
          ],
          [
           "Daniel Goldman",
           "NY-10"
          ],
          [
           "Max N. Rose",
           "NY-11"
          ],
          [
           "Jerrold L. Nadler",
           "NY-12"
          ],
          [
           "Alexandria Ocasio-Cortez",
           "NY-14"
          ],
          [
           "Ritchie J. Torres",
           "NY-15"
          ],
          [
           "Jamaal Bowman",
           "NY-16"
          ],
          [
           "Sean Patrick Maloney",
           "NY-17"
          ],
          [
           "Pat Ryan",
           "NY-18"
          ],
          [
           "Josh Riley",
           "NY-19"
          ],
          [
           "Jackie Gordon",
           "NY-2"
          ],
          [
           "Paul D. Tonko",
           "NY-20"
          ],
          [
           "Matt Castelli",
           "NY-21"
          ],
          [
           "Francis Conole",
           "NY-22"
          ],
          [
           "Max H. Della Pia",
           "NY-23"
          ],
          [
           "Steven Holden",
           "NY-24"
          ],
          [
           "Joseph D. Morelle",
           "NY-25"
          ],
          [
           "Brian Higgins",
           "NY-26"
          ],
          [
           "Robert P. Zimmerman",
           "NY-3"
          ],
          [
           "Laura A. Gillen",
           "NY-4"
          ],
          [
           "Gregory Meeks",
           "NY-5"
          ],
          [
           "Grace Meng",
           "NY-6"
          ],
          [
           "Nydia M. Velázquez",
           "NY-7"
          ],
          [
           "Hakeem S. Jeffries",
           "NY-8"
          ],
          [
           "Greg Landsman",
           "OH-1"
          ],
          [
           "David Esrati",
           "OH-10"
          ],
          [
           "Shontel Brown",
           "OH-11"
          ],
          [
           "Amy Rippel-Elton",
           "OH-12"
          ],
          [
           "Emilia Sykes",
           "OH-13"
          ],
          [
           "Matt Kilboy",
           "OH-14"
          ],
          [
           "Gary Josephson",
           "OH-15"
          ],
          [
           "Samantha Meadows",
           "OH-2"
          ],
          [
           "Joyce Beatty",
           "OH-3"
          ],
          [
           "Tamie Wilson",
           "OH-4"
          ],
          [
           "Craig Swartz",
           "OH-5"
          ],
          [
           "Louis G. Lyras",
           "OH-6"
          ],
          [
           "Matthew Diemer",
           "OH-7"
          ],
          [
           "Vanessa Enoch",
           "OH-8"
          ],
          [
           "Marcy Kaptur",
           "OH-9"
          ],
          [
           "Adam Martin",
           "OK-1"
          ],
          [
           "Naomi Andrews",
           "OK-2"
          ],
          [
           "Jeremiah A. Ross",
           "OK-3"
          ],
          [
           "Mary Brannon",
           "OK-4"
          ],
          [
           "Joshua Harris-Till",
           "OK-5"
          ],
          [
           "Suzanne Bonamici",
           "OR-1"
          ],
          [
           "Joe Yetter",
           "OR-2"
          ],
          [
           "Earl Blumenauer",
           "OR-3"
          ],
          [
           "Val Hoyle",
           "OR-4"
          ],
          [
           "Jamie McLeod-Skinner",
           "OR-5"
          ],
          [
           "Andrea Salinas",
           "OR-6"
          ],
          [
           "Ashley Ehasz",
           "PA-1"
          ],
          [
           "Shamaine Daniels",
           "PA-10"
          ],
          [
           "Bob Hollister",
           "PA-11"
          ],
          [
           "Summer Lee",
           "PA-12"
          ],
          [
           "Michael Molesevich",
           "PA-15"
          ],
          [
           "Dan Pastore",
           "PA-16"
          ],
          [
           "Chris Deluzio",
           "PA-17"
          ],
          [
           "Brendan F. Boyle",
           "PA-2"
          ],
          [
           "Madeleine Dean",
           "PA-4"
          ],
          [
           "Mary Gay Scanlon",
           "PA-5"
          ],
          [
           "Chrissy Houlahan",
           "PA-6"
          ],
          [
           "Susan Wild",
           "PA-7"
          ],
          [
           "Matt Cartwright",
           "PA-8"
          ],
          [
           "Amanda R. Waldman",
           "PA-9"
          ],
          [
           "David N. Cicilline",
           "RI-1"
          ],
          [
           "Seth M. Magaziner",
           "RI-2"
          ],
          [
           "Annie Andrews",
           "SC-1"
          ],
          [
           "Judd Larkins",
           "SC-2"
          ],
          [
           "Evangeline Hundley",
           "SC-5"
          ],
          [
           "James E. “Jim” Clyburn",
           "SC-6"
          ],
          [
           "Daryl W. Scott",
           "SC-7"
          ],
          [
           "Cameron Parsons",
           "TN-1"
          ],
          [
           "Mark Harmon",
           "TN-2"
          ],
          [
           "Meg Gorman",
           "TN-3"
          ],
          [
           "Wayne Steele",
           "TN-4"
          ],
          [
           "Heidi Campbell",
           "TN-5"
          ],
          [
           "Randal Cooper",
           "TN-6"
          ],
          [
           "Odessa Kelly",
           "TN-7"
          ],
          [
           "Lynnette P. Williams",
           "TN-8"
          ],
          [
           "Steve Cohen",
           "TN-9"
          ],
          [
           "Jrmar “JJ” Jefferson",
           "TX-1"
          ],
          [
           "Linda Nuno",
           "TX-10"
          ],
          [
           "Trey J. Hunt",
           "TX-12"
          ],
          [
           "Kathleen Brown",
           "TX-13"
          ],
          [
           "Mikal Williams",
           "TX-14"
          ],
          [
           "Michelle Vallejo",
           "TX-15"
          ],
          [
           "Veronica Escobar",
           "TX-16"
          ],
          [
           "Mary Jo Woods",
           "TX-17"
          ],
          [
           "Mary Jo Woods",
           "TX-17"
          ],
          [
           "Sheila Jackson Lee",
           "TX-18"
          ],
          [
           "Robin Fulford",
           "TX-2"
          ],
          [
           "Joaquin Castro",
           "TX-20"
          ],
          [
           "Claudia Andreana Zapata",
           "TX-21"
          ],
          [
           "Jamie Kaye Jordan",
           "TX-22"
          ],
          [
           "John Lira",
           "TX-23"
          ],
          [
           "Jan McDowell",
           "TX-24"
          ],
          [
           "Maclovio Perez Jr.",
           "TX-27"
          ],
          [
           "Henry Cuellar",
           "TX-28"
          ],
          [
           "Sylvia Garcia",
           "TX-29"
          ],
          [
           "Sandeep Srivastava",
           "TX-3"
          ],
          [
           "Jasmine Crockett",
           "TX-30"
          ],
          [
           "Colin Allred",
           "TX-32"
          ],
          [
           "Marc Veasey",
           "TX-33"
          ],
          [
           "Vicente Gonzalez",
           "TX-34"
          ],
          [
           "Greg Casar",
           "TX-35"
          ],
          [
           "Jon Haire",
           "TX-36"
          ],
          [
           "Lloyd Doggett",
           "TX-37"
          ],
          [
           "Duncan F. Klussmann",
           "TX-38"
          ],
          [
           "Iro Omere",
           "TX-4"
          ],
          [
           "Tartisha Hill",
           "TX-5"
          ],
          [
           "Lizzie Fletcher",
           "TX-7"
          ],
          [
           "Laura Jones",
           "TX-8"
          ],
          [
           "Al Green",
           "TX-9"
          ],
          [
           "Rick Edwin Jones",
           "UT-1"
          ],
          [
           "Nick Mitchell",
           "UT-2"
          ],
          [
           "Glenn J. Wright",
           "UT-3"
          ],
          [
           "Darlene McDonald",
           "UT-4"
          ],
          [
           "Herbert C. “Herb” Jones Jr.",
           "VA-1"
          ],
          [
           "Jennifer T. Wexton",
           "VA-10"
          ],
          [
           "Gerald E. “Gerry” Connolly",
           "VA-11"
          ],
          [
           "Elaine G. Luria",
           "VA-2"
          ],
          [
           "Robert C. “Bobby” Scott",
           "VA-3"
          ],
          [
           "A. Donald McEachin",
           "VA-4"
          ],
          [
           "Joshua M. Throneburg",
           "VA-5"
          ],
          [
           "Jennifer Lynn Lewis",
           "VA-6"
          ],
          [
           "Abigail A. Spanberger",
           "VA-7"
          ],
          [
           "Donald S. Beyer Jr.",
           "VA-8"
          ],
          [
           "Taysha Lee DeVaughan",
           "VA-9"
          ],
          [
           "Becca Balint",
           "VT-1"
          ],
          [
           "Suzan DelBene",
           "WA-1"
          ],
          [
           "Marilyn Strickland",
           "WA-10"
          ],
          [
           "Rick Larsen",
           "WA-2"
          ],
          [
           "Marie Gluesenkamp Perez",
           "WA-3"
          ],
          [
           "Doug White",
           "WA-4"
          ],
          [
           "Natasha Hill",
           "WA-5"
          ],
          [
           "Derek Kilmer",
           "WA-6"
          ],
          [
           "Pramila Jayapal",
           "WA-7"
          ],
          [
           "Kim Schrier",
           "WA-8"
          ],
          [
           "Adam Smith",
           "WA-9"
          ],
          [
           "Ann Roe",
           "WI-1"
          ],
          [
           "Mark Pocan",
           "WI-2"
          ],
          [
           "Brad Pfaff",
           "WI-3"
          ],
          [
           "Gwen Moore",
           "WI-4"
          ],
          [
           "Mike Van Someren",
           "WI-5"
          ],
          [
           "Richard Dick Ausman",
           "WI-7"
          ],
          [
           "Lacy Watson",
           "WV-1"
          ],
          [
           "Barry Lee Wendell",
           "WV-2"
          ],
          [
           "Lynnette GreyBull",
           "WY-1"
          ]
         ],
         "hovertemplate": "party=D<br>How Much each Race Matters (Probability of deciding control of congress)=%{x}<br>Total Fundraising Receipts=%{y}<br>name=%{customdata[0]}<br>district=%{customdata[1]}<extra></extra>",
         "legendgroup": "D",
         "marker": {
          "color": "#636efa",
          "symbol": "circle"
         },
         "mode": "markers",
         "name": "D",
         "orientation": "v",
         "showlegend": true,
         "type": "scatter",
         "x": [
          0.008475,
          3.75e-05,
          1.25e-05,
          0,
          0.000375,
          1.25e-05,
          1.25e-05,
          0.000825,
          8.75e-05,
          0,
          0.010175,
          0.0123875,
          2.5e-05,
          0.0067625,
          3.75e-05,
          0.0149625,
          8.75e-05,
          0.0002,
          0,
          0,
          0.0093,
          0,
          2.5e-05,
          1.25e-05,
          1.25e-05,
          0,
          0,
          0.0056875,
          0.009875,
          0.000575,
          0.000125,
          0.0009,
          0.0028375,
          0.0134875,
          5e-05,
          0.007775,
          3.75e-05,
          2.5e-05,
          0.00035,
          8.75e-05,
          1.25e-05,
          5e-05,
          0.0001875,
          1.25e-05,
          0.005625,
          0.006025,
          3.75e-05,
          0,
          0,
          0.0087375,
          3.75e-05,
          0.0031625,
          0.0001875,
          0.004625,
          0.0003625,
          6.25e-05,
          0.0001125,
          2.5e-05,
          0.0008625,
          0,
          0,
          0.0083875,
          0,
          3.75e-05,
          0.01005,
          0.0001125,
          0.00045,
          0.0003625,
          0.008725,
          0.0135625,
          0.0001625,
          0.0003875,
          0.0008375,
          0.00025,
          0.0125,
          0.0007125,
          0.0018625,
          0.000175,
          0.000325,
          2.5e-05,
          0.016675,
          0.0006625,
          0.0119875,
          0.0010125,
          0.000375,
          0.000125,
          0.0099125,
          0,
          0.001,
          0.0005625,
          0.00575,
          0,
          0.000325,
          0.00125,
          0.0133,
          0.0054,
          0.0006,
          0.004525,
          0.0043125,
          0.000275,
          0.0004375,
          0.00045,
          0.0002875,
          0.000125,
          0.0008625,
          0,
          1.25e-05,
          0.005075,
          1.25e-05,
          0,
          0,
          0.000875,
          0.0004875,
          3.75e-05,
          0,
          5e-05,
          0.0002625,
          0.012525,
          0.0110125,
          0.0149375,
          0.0001125,
          0,
          7.5e-05,
          0,
          0.001125,
          0.0011125,
          0,
          0.0089,
          0.002275,
          1.25e-05,
          0.000225,
          0.009525,
          1.25e-05,
          2.5e-05,
          0,
          0,
          0.002475,
          0.0042875,
          0,
          0.003525,
          0.0009875,
          5e-05,
          2.5e-05,
          0.000225,
          0,
          2.5e-05,
          6.25e-05,
          0.0003375,
          2.5e-05,
          0.0044375,
          0.0024,
          6.25e-05,
          0,
          0,
          0.0005625,
          2.5e-05,
          0,
          0.0013,
          1.25e-05,
          0,
          0.000125,
          0.0002625,
          0.0001125,
          5e-05,
          7.5e-05,
          0,
          2.5e-05,
          0,
          2.5e-05,
          0.00025,
          0.0057125,
          0.001575,
          0.00045,
          0,
          3.75e-05,
          0.0083875,
          0,
          0,
          5e-05,
          0.0097375,
          0.00045,
          0.0109375,
          0.0002875,
          0,
          2.5e-05,
          8.75e-05,
          0.0108125,
          0.0029375,
          0.0001,
          2.5e-05,
          0.00845,
          0.008775,
          3.75e-05,
          0.0076375,
          0.010925,
          0.0006375,
          1.25e-05,
          0,
          0.00025,
          1.25e-05,
          0.0013125,
          0,
          0.0008375,
          3.75e-05,
          6.25e-05,
          0.0001,
          0,
          2.5e-05,
          0,
          1.25e-05,
          2.5e-05,
          7.5e-05,
          2.5e-05,
          0.0112875,
          0.00155,
          0.00555,
          1.25e-05,
          0.0098375,
          6.25e-05,
          0.0142,
          0.0037375,
          6.25e-05,
          6.25e-05,
          0.0001,
          0.00025,
          0.0022875,
          0.00135,
          1.25e-05,
          0.0019875,
          0.0008,
          0.0114,
          0,
          0.0163375,
          0.0023875,
          0.0019625,
          0,
          0.0014125,
          1.25e-05,
          0.0017,
          0.0046875,
          3.75e-05,
          0.0033,
          0.001,
          0.013125,
          2.5e-05,
          0.00055,
          0.0008375,
          0.0191125,
          0.000125,
          0.01325,
          0.0001625,
          0.016025,
          0.0096375,
          0.0091,
          0,
          0.0088875,
          0,
          0,
          0,
          0,
          0.0095875,
          0.00375,
          0.0085,
          0.0096875,
          0.000525,
          0.00155,
          0.0152375,
          0.002025,
          0.0005,
          0.0031375,
          0.0002,
          0.011175,
          0.010075,
          0,
          3.75e-05,
          0,
          0,
          0.0156875,
          0.0027125,
          0,
          2.5e-05,
          0.016775,
          0.0006375,
          0.0016375,
          0,
          1.25e-05,
          2.5e-05,
          5e-05,
          6.25e-05,
          0.0042875,
          8.75e-05,
          0.0073,
          7.5e-05,
          0,
          0,
          5e-05,
          0.00025,
          1.25e-05,
          3.75e-05,
          0,
          0.009475,
          0.015775,
          0.0170625,
          0.0058125,
          0.012175,
          0.0001375,
          0.0019625,
          1.25e-05,
          0.000225,
          0.0148875,
          0,
          0.0005,
          0,
          0.0009875,
          0.01595,
          0.0096875,
          0,
          2.5e-05,
          0.0114,
          0.0007125,
          0.0004125,
          0.0001125,
          2.5e-05,
          0.0009625,
          0,
          5e-05,
          1.25e-05,
          0,
          0.013,
          5e-05,
          0.0002625,
          1.25e-05,
          0,
          3.75e-05,
          0.0001875,
          0.0001625,
          1.25e-05,
          1.25e-05,
          0.012275,
          0,
          8.75e-05,
          8.75e-05,
          1.25e-05,
          2.5e-05,
          6.25e-05,
          0.0001125,
          0.0001625,
          0.0022875,
          8.75e-05,
          5e-05,
          0.0027,
          1.25e-05,
          0.00075,
          0,
          8.75e-05,
          0,
          0.006425,
          2.5e-05,
          1.25e-05,
          0,
          0.0003625,
          5e-05,
          7.5e-05,
          3.75e-05,
          0.00035,
          1.25e-05,
          0.0004375,
          0.0009,
          0.0005875,
          0.0003125,
          0.0009,
          0.0050625,
          3.75e-05,
          0.0130375,
          2.5e-05,
          0,
          0.00125,
          8.75e-05,
          0.0105875,
          1.25e-05,
          0,
          0,
          0.0001375,
          0.00105,
          0.0002625,
          0.012775,
          0.0001875,
          0.000975,
          0.00095,
          0,
          0.0083875,
          0,
          0.00345,
          1.25e-05,
          0.008125,
          0,
          7.5e-05,
          0.000375,
          3.75e-05,
          2.5e-05,
          2.5e-05
         ],
         "xaxis": "x",
         "y": [
          7751293.39,
          60440.24,
          9968,
          22648.3,
          85150,
          2359060.83,
          66983.81,
          0,
          65741.89,
          0,
          2565414.5,
          4300864.23,
          2933465.25,
          4314550.89,
          16642.54,
          2473877.8,
          660513.91,
          627432.86,
          25577528.17,
          2183372.57,
          2390120.97,
          3943361.57,
          5949743.81,
          2022557.14,
          2623733.1,
          938689.41,
          1051451.47,
          2034865.46,
          2953288.73,
          956858.59,
          2178786.3,
          2299898.28,
          2446763.43,
          3949504.79,
          1587238.65,
          3261535,
          367395.21,
          2651948.74,
          3255093.36,
          783058.29,
          1510163.27,
          1519205.78,
          1254503.88,
          2278299.13,
          3703609.48,
          3780991.55,
          1704812.52,
          1220339.32,
          1212156.11,
          5037026.06,
          1293189.19,
          26025611.15,
          71577.85,
          5149615.51,
          461674.19,
          2410741.93,
          1712465.57,
          942886.84,
          1545895.36,
          1400594.49,
          1146918.01,
          6593261.38,
          1151100.27,
          2351040.38,
          6710480.34,
          303509.38,
          26406.22,
          2734127.98,
          2883823.65,
          3563279.53,
          1840867.05,
          1981330.09,
          2182549.03,
          1695711.93,
          2779884.08,
          2899174.85,
          980885.53,
          3014746.19,
          20763.41,
          20401.13,
          2247469.3,
          1585896.95,
          825897.45,
          22651.67,
          27724.28,
          103281.24,
          829346.62,
          6779418.8,
          82386.46,
          1275269.43,
          1752697.27,
          623725.06,
          2087129.07,
          138186.98,
          1948584.41,
          124784.97,
          77168.35,
          10465.32,
          67798.9,
          89920.38,
          1337428.16,
          1395014.76,
          48652.44,
          102176.81,
          194751.23,
          2007965.55,
          16972737.74,
          3037853,
          76890.66,
          567457.14,
          1152788.78,
          308353.45,
          5596710.62,
          22543.42,
          36015.7,
          1058273.57,
          1042387.26,
          3197822.62,
          4218654.84,
          7231695,
          53023.28,
          69848.28,
          13856.48,
          793218.64,
          3797651.97,
          3332176.89,
          65213.29,
          3933506.61,
          6889213.25,
          46211.8,
          38117.98,
          3120058.37,
          1746109.48,
          990197.28,
          938958.69,
          1053627.4,
          5577460.28,
          8498368.19,
          1563009.22,
          2483248.03,
          103536.38,
          74397.02,
          0,
          43404.37,
          50771.6,
          856806,
          149920.22,
          122824.28,
          17691.91,
          1108610.39,
          7894095.76,
          43266.17,
          7866.73,
          87461.23,
          3088931.24,
          304093.57,
          18701.81,
          239157.17,
          152463.58,
          3101798.13,
          40499.57,
          0,
          3493276.58,
          1116203.86,
          1968444.77,
          2174711.8,
          2137107.99,
          1467293.46,
          962334.32,
          717659.21,
          2774380.7,
          1095414.25,
          186653.7,
          1896185.07,
          3924349.55,
          13144029.27,
          599985.23,
          4701192.12,
          576607.49,
          6068685.18,
          588500.2,
          1059983.76,
          5574897.28,
          3337996.2,
          9319161.71,
          30655.33,
          3806547.95,
          37258.83,
          164542.02,
          1559951.4,
          9974583.81,
          5627721.01,
          55654.51,
          null,
          7801458.27,
          null,
          2101431.16,
          3111917.52,
          null,
          null,
          null,
          2448937.35,
          905770.41,
          27169.38,
          0,
          1215785.4,
          141892,
          17792.3,
          45873.61,
          34342.75,
          1515666.15,
          77359.24,
          147382.22,
          3088634.59,
          175792.67,
          1876018.87,
          191242.75,
          2329161.72,
          957366.44,
          3717882.21,
          5707177.36,
          2124081.81,
          95646.62,
          1253021.19,
          33051.53,
          3045909.17,
          312709.84,
          97677.3,
          0,
          1758459,
          3409925.52,
          0,
          5163533.11,
          4449497.54,
          2168423.53,
          1375799.76,
          6328539.87,
          930457.44,
          502345.28,
          7147162.97,
          42545.25,
          8858801.07,
          3144739.98,
          8978834,
          1752969.49,
          1577229.24,
          3570362.65,
          3687697.99,
          3123228.14,
          3392335.34,
          52182.79,
          6337405.99,
          4956048.45,
          2690504.26,
          7142852.46,
          4099084.97,
          2325709.69,
          12513212.8,
          4442337.22,
          1877492.94,
          6079999.11,
          4769522.48,
          4194190.94,
          1752171.46,
          1777899.62,
          2525045.84,
          3051107.9,
          326454.36,
          157569.32,
          2251295.88,
          1546746.45,
          3181505.62,
          1832377.75,
          2704713.24,
          1615242.9,
          603354.96,
          6037499.66,
          2768116.46,
          45356.05,
          4655784.37,
          0,
          2542383.02,
          91186.04,
          43162.48,
          22924.5,
          2243895.59,
          168937.4,
          54980.87,
          144248.42,
          276778.53,
          0,
          3393468.71,
          34098.62,
          7706.72,
          0,
          34849.65,
          72528.57,
          1037674.86,
          100291.79,
          1364461.33,
          2610019.02,
          3670803.53,
          3405187.33,
          970541.94,
          414294.52,
          316546.79,
          1851679.14,
          49953.34,
          866280.03,
          3293132.71,
          1706049.76,
          2055980.52,
          1596137.42,
          4823029.87,
          7002291.19,
          5362080.12,
          30546.88,
          1981382.79,
          3904868.95,
          2038067.55,
          96669.32,
          0,
          3592375.11,
          0,
          0,
          85152.99,
          62513.68,
          11084.8,
          1089821.42,
          2952.09,
          0,
          1025,
          546322.08,
          128130.6,
          0,
          50182.13,
          199193.86,
          77331.77,
          2346631.22,
          1295134.87,
          0,
          0,
          1007081.69,
          231492.19,
          682068.98,
          118238.36,
          0,
          675078.71,
          136070.11,
          11098.1,
          4714812.12,
          940934.37,
          451102.93,
          970008.57,
          3471591.94,
          1846105.83,
          3197037.46,
          1757510.27,
          77614.16,
          1389876.62,
          279107.58,
          74498.85,
          13686.03,
          3697115.69,
          42027.58,
          412570.26,
          0,
          42824.76,
          17996,
          187011.42,
          314866.01,
          3879207.28,
          2101438.62,
          10795195.37,
          851699.46,
          936470.02,
          879916.53,
          143023.9,
          9083201.29,
          2121791.23,
          58626.65,
          1898995.83,
          2502763.72,
          1911259.96,
          1697229.23,
          3924093.95,
          774333.86,
          377499.11,
          2637628.09,
          2772436.29,
          9640767.33,
          1386775.73,
          838417.65,
          1143752.09,
          1890260.75,
          1220473.56,
          145774.11,
          115599.13,
          null,
          28025.43,
          87407.75
         ],
         "yaxis": "y"
        },
        {
         "customdata": [
          [
           "Sarah Palin",
           "AK-1"
          ],
          [
           "Barry Moore",
           "AL-2"
          ],
          [
           "Mike Rogers",
           "AL-3"
          ],
          [
           "Robert Aderholt",
           "AL-4"
          ],
          [
           "Dale Strong",
           "AL-5"
          ],
          [
           "Beatrice Nichols",
           "AL-7"
          ],
          [
           "Rick Crawford",
           "AR-1"
          ],
          [
           "French Hill",
           "AR-2"
          ],
          [
           "Steve Womack",
           "AR-3"
          ],
          [
           "Bruce Westerman",
           "AR-4"
          ],
          [
           "David Schweikert",
           "AZ-1"
          ],
          [
           "Eli Crane",
           "AZ-2"
          ],
          [
           "Jeff Zink",
           "AZ-3"
          ],
          [
           "Kelly Cooper",
           "AZ-4"
          ],
          [
           "Andy Biggs",
           "AZ-5"
          ],
          [
           "Juan Ciscomani",
           "AZ-6"
          ],
          [
           "Luis Pozzolo",
           "AZ-7"
          ],
          [
           "Doug LaMalfa",
           "CA-1"
          ],
          [
           "John Dennis",
           "CA-11"
          ],
          [
           "Stephen Slauson",
           "CA-12"
          ],
          [
           "John Duarte",
           "CA-13"
          ],
          [
           "Alison Hayden",
           "CA-14"
          ],
          [
           "Ritesh Tandon",
           "CA-17"
          ],
          [
           "Peter Hernandez",
           "CA-18"
          ],
          [
           "Jeff Gorman",
           "CA-19"
          ],
          [
           "Douglas Brower",
           "CA-2"
          ],
          [
           "Kevin McCarthy",
           "CA-20"
          ],
          [
           "Michael Maher",
           "CA-21"
          ],
          [
           "David G. Valadao",
           "CA-22"
          ],
          [
           "Jay Obernolte",
           "CA-23"
          ],
          [
           "Brad Allen",
           "CA-24"
          ],
          [
           "Brian E. Hawkins",
           "CA-25"
          ],
          [
           "Matt Jacobs",
           "CA-26"
          ],
          [
           "Mike Garcia",
           "CA-27"
          ],
          [
           "Wes Hallman",
           "CA-28"
          ],
          [
           "Kevin Kiley",
           "CA-3"
          ],
          [
           "Daniel Bocic Martinez",
           "CA-31"
          ],
          [
           "Lucie Lapointe Volotzky",
           "CA-32"
          ],
          [
           "John Mark Porter",
           "CA-33"
          ],
          [
           "Mike Cargile",
           "CA-35"
          ],
          [
           "Joe E. Collins III",
           "CA-36"
          ],
          [
           "Eric J. Ching",
           "CA-38"
          ],
          [
           "Aja Smith",
           "CA-39"
          ],
          [
           "Matt Brock",
           "CA-4"
          ],
          [
           "Young Kim",
           "CA-40"
          ],
          [
           "Ken Calvert",
           "CA-41"
          ],
          [
           "John Briscoe",
           "CA-42"
          ],
          [
           "Omar Navarro",
           "CA-43"
          ],
          [
           "Paul Jones",
           "CA-44"
          ],
          [
           "Michelle Steel",
           "CA-45"
          ],
          [
           "Christopher J. Gonzales",
           "CA-46"
          ],
          [
           "Scott Baugh",
           "CA-47"
          ],
          [
           "Darrell Issa",
           "CA-48"
          ],
          [
           "Brian Maryott",
           "CA-49"
          ],
          [
           "Tom McClintock",
           "CA-5"
          ],
          [
           "Corey Gustafson",
           "CA-50"
          ],
          [
           "Stan Caplan",
           "CA-51"
          ],
          [
           "Tyler Geffeney",
           "CA-52"
          ],
          [
           "Tamika Hamilton",
           "CA-6"
          ],
          [
           "Max Semenenko",
           "CA-7"
          ],
          [
           "Rudy Recile",
           "CA-8"
          ],
          [
           "Tom Patti",
           "CA-9"
          ],
          [
           "Jennifer Qualteri",
           "CO-1"
          ],
          [
           "Marshall Dawson",
           "CO-2"
          ],
          [
           "Lauren Boebert",
           "CO-3"
          ],
          [
           "Ken Buck",
           "CO-4"
          ],
          [
           "Doug Lamborn",
           "CO-5"
          ],
          [
           "Steven Monahan",
           "CO-6"
          ],
          [
           "Erik Aadland",
           "CO-7"
          ],
          [
           "Barbara Kirkmeyer",
           "CO-8"
          ],
          [
           "Larry Lazor",
           "CT-1"
          ],
          [
           "Mike France",
           "CT-2"
          ],
          [
           "Lesley DeNardis",
           "CT-3"
          ],
          [
           "Jayme Stevenson",
           "CT-4"
          ],
          [
           "George Logan",
           "CT-5"
          ],
          [
           "Lee Murphy",
           "DE-1"
          ],
          [
           "Matt Gaetz",
           "FL-1"
          ],
          [
           "Calvin B. Wimbish",
           "FL-10"
          ],
          [
           "Daniel Webster",
           "FL-11"
          ],
          [
           "Gus Michael Bilirakis",
           "FL-12"
          ],
          [
           "Anna Paulina Luna",
           "FL-13"
          ],
          [
           "James Judge",
           "FL-14"
          ],
          [
           "Laurel Lee",
           "FL-15"
          ],
          [
           "Vern Buchanan",
           "FL-16"
          ],
          [
           "Greg Steube",
           "FL-17"
          ],
          [
           "Byron Donalds",
           "FL-19"
          ],
          [
           "Neal Dunn",
           "FL-2"
          ],
          [
           "Drew Montez Clark",
           "FL-20"
          ],
          [
           "Brian Mast",
           "FL-21"
          ],
          [
           "Dan Franzese",
           "FL-22"
          ],
          [
           "Joe Budd",
           "FL-23"
          ],
          [
           "Jesus G. Navarro",
           "FL-24"
          ],
          [
           "Carla Spalding",
           "FL-25"
          ],
          [
           "Mario Diaz-Balart",
           "FL-26"
          ],
          [
           "María Elvira Salazar",
           "FL-27"
          ],
          [
           "Carlos A. Gimenez",
           "FL-28"
          ],
          [
           "Kat Cammack",
           "FL-3"
          ],
          [
           "Aaron Bean",
           "FL-4"
          ],
          [
           "Cory Mills",
           "FL-7"
          ],
          [
           "Bill Posey",
           "FL-8"
          ],
          [
           "Scotty Moore",
           "FL-9"
          ],
          [
           "Earl L. “Buddy” Carter",
           "GA-1"
          ],
          [
           "Mike Collins",
           "GA-10"
          ],
          [
           "Barry Loudermilk",
           "GA-11"
          ],
          [
           "Rick W. Allen",
           "GA-12"
          ],
          [
           "Caesar Gonzales",
           "GA-13"
          ],
          [
           "Marjorie Taylor Greene",
           "GA-14"
          ],
          [
           "Chris West",
           "GA-2"
          ],
          [
           "Drew Ferguson",
           "GA-3"
          ],
          [
           "Jonathan Chavez",
           "GA-4"
          ],
          [
           "Christian Zimm",
           "GA-5"
          ],
          [
           "Rich McCormick",
           "GA-6"
          ],
          [
           "Mark Gonsalves",
           "GA-7"
          ],
          [
           "Austin Scott",
           "GA-8"
          ],
          [
           "Andrew Clyde",
           "GA-9"
          ],
          [
           "Conrad Kress",
           "HI-1"
          ],
          [
           "Joe Akana",
           "HI-2"
          ],
          [
           "Mariannette Miller-Meeks",
           "IA-1"
          ],
          [
           "Ashley Hinson",
           "IA-2"
          ],
          [
           "Zach Nunn",
           "IA-3"
          ],
          [
           "Randy Feenstra",
           "IA-4"
          ],
          [
           "Russ Fulcher",
           "ID-1"
          ],
          [
           "Mike Simpson",
           "ID-2"
          ],
          [
           "Eric Carlson",
           "IL-1"
          ],
          [
           "Joseph Severino",
           "IL-10"
          ],
          [
           "Catalina Lauf",
           "IL-11"
          ],
          [
           "Mike Bost",
           "IL-12"
          ],
          [
           "Regan Deering",
           "IL-13"
          ],
          [
           "Scott R. Gryder",
           "IL-14"
          ],
          [
           "Mary Miller",
           "IL-15"
          ],
          [
           "Darin LaHood",
           "IL-16"
          ],
          [
           "Esther Joy King",
           "IL-17"
          ],
          [
           "Thomas Lynch",
           "IL-2"
          ],
          [
           "Justin Burau",
           "IL-3"
          ],
          [
           "James Falakos",
           "IL-4"
          ],
          [
           "Tommy Hanson",
           "IL-5"
          ],
          [
           "Keith Pekau",
           "IL-6"
          ],
          [
           "Chris Dargis",
           "IL-8"
          ],
          [
           "Maxwell “Max” Rice",
           "IL-9"
          ],
          [
           "Jennifer-Ruth Green",
           "IN-1"
          ],
          [
           "Rudolph Yakym",
           "IN-2"
          ],
          [
           "Jim Banks",
           "IN-3"
          ],
          [
           "Jim Baird",
           "IN-4"
          ],
          [
           "Victoria Spartz",
           "IN-5"
          ],
          [
           "Greg Pence",
           "IN-6"
          ],
          [
           "Angela Grabovsky",
           "IN-7"
          ],
          [
           "Larry D. Bucshon",
           "IN-8"
          ],
          [
           "Erin Houchin",
           "IN-9"
          ],
          [
           "Tracey Mann",
           "KS-1"
          ],
          [
           "Jake LaTurner",
           "KS-2"
          ],
          [
           "Amanda L. Adkins",
           "KS-3"
          ],
          [
           "Ron Estes",
           "KS-4"
          ],
          [
           "James R. Comer",
           "KY-1"
          ],
          [
           "S. Brett Guthrie",
           "KY-2"
          ],
          [
           "Stuart N. Ray",
           "KY-3"
          ],
          [
           "Thomas Massie",
           "KY-4"
          ],
          [
           "Harold “Hal” Rogers",
           "KY-5"
          ],
          [
           "Andy Barr",
           "KY-6"
          ],
          [
           "Steve Scalise",
           "LA-1"
          ],
          [
           "Dan Lux",
           "LA-2"
          ],
          [
           "Clay Higgins",
           "LA-3"
          ],
          [
           "Julia Letlow",
           "LA-5"
          ],
          [
           "Dean James Martilli",
           "MA-1"
          ],
          [
           "Jeffrey A. Sossa-Paquette",
           "MA-2"
          ],
          [
           "Dean A. Tran",
           "MA-3"
          ],
          [
           "Caroline Colarusso",
           "MA-5"
          ],
          [
           "Bob May",
           "MA-6"
          ],
          [
           "Donnie Dionicio Palmer Jr.",
           "MA-7"
          ],
          [
           "Robert G. Burke",
           "MA-8"
          ],
          [
           "Jesse G. Brown",
           "MA-9"
          ],
          [
           "Andy Harris",
           "MD-1"
          ],
          [
           "Nicolee Ambrose",
           "MD-2"
          ],
          [
           "Yuripzy Morgan",
           "MD-3"
          ],
          [
           "Jeff Warner",
           "MD-4"
          ],
          [
           "Chris Palombi",
           "MD-5"
          ],
          [
           "Neil C. Parrott",
           "MD-6"
          ],
          [
           "Scott M. Collier",
           "MD-7"
          ],
          [
           "Gregory Thomas Coll",
           "MD-8"
          ],
          [
           "Edwin Thelander",
           "ME-1"
          ],
          [
           "Bruce Poliquin",
           "ME-2"
          ],
          [
           "Jack Bergman",
           "MI-1"
          ],
          [
           "John James",
           "MI-10"
          ],
          [
           "Mark Ambrose",
           "MI-11"
          ],
          [
           "Steven Elliott",
           "MI-12"
          ],
          [
           "Martell D. Bivings",
           "MI-13"
          ],
          [
           "John Moolenaar",
           "MI-2"
          ],
          [
           "John Gibbs",
           "MI-3"
          ],
          [
           "Bill Huizenga",
           "MI-4"
          ],
          [
           "Tim Walberg",
           "MI-5"
          ],
          [
           "Whittney Williams",
           "MI-6"
          ],
          [
           "Tom Barrett",
           "MI-7"
          ],
          [
           "Paul Junge",
           "MI-8"
          ],
          [
           "Lisa McClain",
           "MI-9"
          ],
          [
           "Brad Finstad",
           "MN-1"
          ],
          [
           "Tyler Kistner",
           "MN-2"
          ],
          [
           "Tom Weiler",
           "MN-3"
          ],
          [
           "May Lor Xiong",
           "MN-4"
          ],
          [
           "Cicely Davis",
           "MN-5"
          ],
          [
           "Tom Emmer",
           "MN-6"
          ],
          [
           "Michelle Fischbach",
           "MN-7"
          ],
          [
           "Pete Stauber",
           "MN-8"
          ],
          [
           "Andrew Jones",
           "MO-1"
          ],
          [
           "Ann Wagner",
           "MO-2"
          ],
          [
           "Blaine Luetkemeyer",
           "MO-3"
          ],
          [
           "Mark Alford",
           "MO-4"
          ],
          [
           "Jacob Turk",
           "MO-5"
          ],
          [
           "Sam Graves",
           "MO-6"
          ],
          [
           "Eric Burlison",
           "MO-7"
          ],
          [
           "Jason Smith",
           "MO-8"
          ],
          [
           "Trent Kelly",
           "MS-1"
          ],
          [
           "Brian Flowers",
           "MS-2"
          ],
          [
           "Michael Guest",
           "MS-3"
          ],
          [
           "Mike Ezell",
           "MS-4"
          ],
          [
           "Ryan K. Zinke",
           "MT-1"
          ],
          [
           "Matt Rosendale",
           "MT-2"
          ],
          [
           "Sandy Smith",
           "NC-1"
          ],
          [
           "Patrick McHenry",
           "NC-10"
          ],
          [
           "Chuck Edwards",
           "NC-11"
          ],
          [
           "Tyler Lee",
           "NC-12"
          ],
          [
           "Bo Hines",
           "NC-13"
          ],
          [
           "Pat Harrigan",
           "NC-14"
          ],
          [
           "Christine E. Villaverde",
           "NC-2"
          ],
          [
           "Greg Murphy",
           "NC-3"
          ],
          [
           "Courtney Geels",
           "NC-4"
          ],
          [
           "Virginia Foxx",
           "NC-5"
          ],
          [
           "Christian Castelli",
           "NC-6"
          ],
          [
           "David Rouzer",
           "NC-7"
          ],
          [
           "Dan Bishop",
           "NC-8"
          ],
          [
           "Richard Hudson",
           "NC-9"
          ],
          [
           "Mike Flood",
           "NE-1"
          ],
          [
           "Don Bacon",
           "NE-2"
          ],
          [
           "Adrian Smith",
           "NE-3"
          ],
          [
           "Karoline Leavitt",
           "NH-1"
          ],
          [
           "Robert Burns",
           "NH-2"
          ],
          [
           "Claire Gustafson",
           "NJ-1"
          ],
          [
           "David H. Pinckney",
           "NJ-10"
          ],
          [
           "Paul DeGroot",
           "NJ-11"
          ],
          [
           "Darius Mayfield",
           "NJ-12"
          ],
          [
           "Jeff Van Drew",
           "NJ-2"
          ],
          [
           "Bob Healey",
           "NJ-3"
          ],
          [
           "Christopher H. Smith",
           "NJ-4"
          ],
          [
           "Frank T. Pallotta",
           "NJ-5"
          ],
          [
           "Susan M. Kiley",
           "NJ-6"
          ],
          [
           "Thomas H. Kean Jr.",
           "NJ-7"
          ],
          [
           "Marcos Arroyo",
           "NJ-8"
          ],
          [
           "Billy Prempeh",
           "NJ-9"
          ],
          [
           "Michelle Garcia Holmes",
           "NM-1"
          ],
          [
           "Yvette Herrell",
           "NM-2"
          ],
          [
           "Alexis Martinez Johnson",
           "NM-3"
          ],
          [
           "Mark Robertson",
           "NV-1"
          ],
          [
           "Mark E. Amodei",
           "NV-2"
          ],
          [
           "April Becker",
           "NV-3"
          ],
          [
           "Sam Peters",
           "NV-4"
          ],
          [
           "Nicholas J. LaLota",
           "NY-1"
          ],
          [
           "Benine Hamdan",
           "NY-10"
          ],
          [
           "Nicole Malliotakis",
           "NY-11"
          ],
          [
           "Michael Zumbluskas",
           "NY-12"
          ],
          [
           "Tina Forte",
           "NY-14"
          ],
          [
           "Stylo A. Sapaskis",
           "NY-15"
          ],
          [
           "Miriam L. Flisser",
           "NY-16"
          ],
          [
           "Michael V. Lawler",
           "NY-17"
          ],
          [
           "Colin J. Schmitt",
           "NY-18"
          ],
          [
           "Marcus Molinaro",
           "NY-19"
          ],
          [
           "Andrew R. Garbarino",
           "NY-2"
          ],
          [
           "Elizabeth L. Joy",
           "NY-20"
          ],
          [
           "Elise M. Stefanik",
           "NY-21"
          ],
          [
           "Brandon M. Williams",
           "NY-22"
          ],
          [
           "Nick Langworthy",
           "NY-23"
          ],
          [
           "Claudia Tenney",
           "NY-24"
          ],
          [
           "La'Ron D. Singletary",
           "NY-25"
          ],
          [
           "Steven L. Sams II",
           "NY-26"
          ],
          [
           "George A.D. Santos",
           "NY-3"
          ],
          [
           "Anthony P. D'Esposito",
           "NY-4"
          ],
          [
           "Paul King",
           "NY-5"
          ],
          [
           "Tom Zmich",
           "NY-6"
          ],
          [
           "Juan Pagán",
           "NY-7"
          ],
          [
           "Yuri Dashevsky",
           "NY-8"
          ],
          [
           "Steve Chabot",
           "OH-1"
          ],
          [
           "Mike Turner",
           "OH-10"
          ],
          [
           "Eric J. Brewer",
           "OH-11"
          ],
          [
           "Troy Balderson",
           "OH-12"
          ],
          [
           "Madison Gesiotto Gilbert",
           "OH-13"
          ],
          [
           "David P. Joyce",
           "OH-14"
          ],
          [
           "Mike Carey",
           "OH-15"
          ],
          [
           "Brad Wenstrup",
           "OH-2"
          ],
          [
           "Lee R. Stahley",
           "OH-3"
          ],
          [
           "Jim Jordan",
           "OH-4"
          ],
          [
           "Bob Latta",
           "OH-5"
          ],
          [
           "Bill Johnson",
           "OH-6"
          ],
          [
           "Max Miller",
           "OH-7"
          ],
          [
           "Warren Davidson",
           "OH-8"
          ],
          [
           "J.R. Majewski",
           "OH-9"
          ],
          [
           "Kevin Hern",
           "OK-1"
          ],
          [
           "Josh Brecheen",
           "OK-2"
          ],
          [
           "Frank D. Lucas",
           "OK-3"
          ],
          [
           "Tom Cole",
           "OK-4"
          ],
          [
           "Stephanie Bice",
           "OK-5"
          ],
          [
           "Christopher A. Mann",
           "OR-1"
          ],
          [
           "Cliff S. Bentz",
           "OR-2"
          ],
          [
           "Joanna Harbour",
           "OR-3"
          ],
          [
           "Alek Skarlatos",
           "OR-4"
          ],
          [
           "Lori Chavez-DeRemer",
           "OR-5"
          ],
          [
           "Mike Erickson",
           "OR-6"
          ],
          [
           "Brian Fitzpatrick",
           "PA-1"
          ],
          [
           "Scott Perry",
           "PA-10"
          ],
          [
           "Lloyd K. Smucker",
           "PA-11"
          ],
          [
           "Mike Doyle",
           "PA-12"
          ],
          [
           "Glenn “GT” Thompson",
           "PA-15"
          ],
          [
           "Mike Kelly",
           "PA-16"
          ],
          [
           "Jeremy Shaffer",
           "PA-17"
          ],
          [
           "Aaron Bashir",
           "PA-2"
          ],
          [
           "Christian Nascimento",
           "PA-4"
          ],
          [
           "David Galluch",
           "PA-5"
          ],
          [
           "Guy Louis Ciarrocchi",
           "PA-6"
          ],
          [
           "Lisa Scheller",
           "PA-7"
          ],
          [
           "Jim Bognet",
           "PA-8"
          ],
          [
           "Dan Meuser",
           "PA-9"
          ],
          [
           "Allen R. Waters",
           "RI-1"
          ],
          [
           "Allan W. Fung",
           "RI-2"
          ],
          [
           "Nancy Mace",
           "SC-1"
          ],
          [
           "Joe Wilson",
           "SC-2"
          ],
          [
           "Ralph Norman",
           "SC-5"
          ],
          [
           "Duke Buckner",
           "SC-6"
          ],
          [
           "Russell Fry",
           "SC-7"
          ],
          [
           "Diana Lynn Harshbarger",
           "TN-1"
          ],
          [
           "Tim Burchett",
           "TN-2"
          ],
          [
           "Chuck Fleischmann",
           "TN-3"
          ],
          [
           "Scott DesJarlais",
           "TN-4"
          ],
          [
           "Andy Ogles",
           "TN-5"
          ],
          [
           "John Rose",
           "TN-6"
          ],
          [
           "Mark E. Green",
           "TN-7"
          ],
          [
           "David Kustoff",
           "TN-8"
          ],
          [
           "Charlotte Bergmann",
           "TN-9"
          ],
          [
           "Nathaniel Moran",
           "TX-1"
          ],
          [
           "Michael McCaul",
           "TX-10"
          ],
          [
           "Kay Granger",
           "TX-12"
          ],
          [
           "Ronny Jackson",
           "TX-13"
          ],
          [
           "Randy Weber",
           "TX-14"
          ],
          [
           "Monica De La Cruz",
           "TX-15"
          ],
          [
           "Irene Armendariz-Jackson",
           "TX-16"
          ],
          [
           "Pete Sessions",
           "TX-17"
          ],
          [
           "Carmen Maria Montiel",
           "TX-18"
          ],
          [
           "Dan Crenshaw",
           "TX-2"
          ],
          [
           "Kyle Sinclair",
           "TX-20"
          ],
          [
           "Chip Roy",
           "TX-21"
          ],
          [
           "Troy E. Nehls",
           "TX-22"
          ],
          [
           "Tony Gonzales",
           "TX-23"
          ],
          [
           "Beth Van Duyne",
           "TX-24"
          ],
          [
           "Michael Cloud",
           "TX-27"
          ],
          [
           "Cassy Garcia",
           "TX-28"
          ],
          [
           "Robert Schafranek",
           "TX-29"
          ],
          [
           "Keith Self",
           "TX-3"
          ],
          [
           "James Rodgers",
           "TX-30"
          ],
          [
           "Antonio Swad",
           "TX-32"
          ],
          [
           "Patrick David Gillespie",
           "TX-33"
          ],
          [
           "Mayra Flores",
           "TX-34"
          ],
          [
           "Dan McQueen",
           "TX-35"
          ],
          [
           "Brian Babin",
           "TX-36"
          ],
          [
           "Jenny Garcia Sharon",
           "TX-37"
          ],
          [
           "Wesley Hunt",
           "TX-38"
          ],
          [
           "Pat Fallon",
           "TX-4"
          ],
          [
           "Lance Gooden",
           "TX-5"
          ],
          [
           "Johnny Teague",
           "TX-7"
          ],
          [
           "Morgan Luttrell",
           "TX-8"
          ],
          [
           "Jimmy I. Leon",
           "TX-9"
          ],
          [
           "Blake D. Moore",
           "UT-1"
          ],
          [
           "Chris Stewart",
           "UT-2"
          ],
          [
           "John Curtis",
           "UT-3"
          ],
          [
           "Burgess Owens",
           "UT-4"
          ],
          [
           "Rob J. Wittman",
           "VA-1"
          ],
          [
           "Hung Cao",
           "VA-10"
          ],
          [
           "James G. “Jim” Myles",
           "VA-11"
          ],
          [
           "Jen A. Kiggans",
           "VA-2"
          ],
          [
           "Terry T. Namkung",
           "VA-3"
          ],
          [
           "Leon Benjamin Sr.",
           "VA-4"
          ],
          [
           "Robert G. “Bob” Good",
           "VA-5"
          ],
          [
           "Ben L. Cline",
           "VA-6"
          ],
          [
           "Yesli I. Vega",
           "VA-7"
          ],
          [
           "Karina A. Lipsman",
           "VA-8"
          ],
          [
           "H. Morgan Griffith",
           "VA-9"
          ],
          [
           "Liam Madden",
           "VT-1"
          ],
          [
           "Vincent J. Cavaleri",
           "WA-1"
          ],
          [
           "Keith R. Swank",
           "WA-10"
          ],
          [
           "Dan Matthews",
           "WA-2"
          ],
          [
           "Joe Kent",
           "WA-3"
          ],
          [
           "Dan Newhouse",
           "WA-4"
          ],
          [
           "Cathy McMorris Rodgers",
           "WA-5"
          ],
          [
           "Elizabeth Kreiselmaier",
           "WA-6"
          ],
          [
           "Cliff Moon",
           "WA-7"
          ],
          [
           "Matt Larkin",
           "WA-8"
          ],
          [
           "Doug Basler",
           "WA-9"
          ],
          [
           "Bryan Steil",
           "WI-1"
          ],
          [
           "Erik Olsen",
           "WI-2"
          ],
          [
           "Derrick Van Orden",
           "WI-3"
          ],
          [
           "Tim Rogers",
           "WI-4"
          ],
          [
           "Scott Fitzgerald",
           "WI-5"
          ],
          [
           "Tom Tiffany",
           "WI-7"
          ],
          [
           "Carol Miller",
           "WV-1"
          ],
          [
           "Alexander X. Mooney",
           "WV-2"
          ],
          [
           "Harriet Hageman",
           "WY-1"
          ]
         ],
         "hovertemplate": "party=R<br>How Much each Race Matters (Probability of deciding control of congress)=%{x}<br>Total Fundraising Receipts=%{y}<br>name=%{customdata[0]}<br>district=%{customdata[1]}<extra></extra>",
         "legendgroup": "R",
         "marker": {
          "color": "#EF553B",
          "symbol": "circle"
         },
         "mode": "markers",
         "name": "R",
         "orientation": "v",
         "showlegend": true,
         "type": "scatter",
         "x": [
          0.008475,
          3.75e-05,
          1.25e-05,
          0,
          0.000375,
          1.25e-05,
          1.25e-05,
          0.000825,
          8.75e-05,
          0,
          0.010175,
          0.0123875,
          2.5e-05,
          0.0067625,
          3.75e-05,
          0.0149625,
          8.75e-05,
          0.0002,
          0,
          0,
          0.0093,
          0,
          2.5e-05,
          1.25e-05,
          1.25e-05,
          0,
          0,
          0.0056875,
          0.009875,
          0.000575,
          0.000125,
          0.0009,
          0.0028375,
          0.0134875,
          5e-05,
          0.007775,
          3.75e-05,
          2.5e-05,
          0.00035,
          8.75e-05,
          1.25e-05,
          5e-05,
          0.0001875,
          1.25e-05,
          0.005625,
          0.006025,
          3.75e-05,
          0,
          0,
          0.0087375,
          3.75e-05,
          0.0031625,
          0.0001875,
          0.004625,
          0.0003625,
          6.25e-05,
          0.0001125,
          2.5e-05,
          0.0008625,
          0,
          0,
          0.0083875,
          0,
          3.75e-05,
          0.01005,
          0.0001125,
          0.00045,
          0.0003625,
          0.008725,
          0.0135625,
          0.0001625,
          0.0003875,
          0.0008375,
          0.00025,
          0.0125,
          0.0007125,
          0.0018625,
          0.000175,
          0.000325,
          2.5e-05,
          0.016675,
          0.0006625,
          0.0119875,
          0.0010125,
          0.000375,
          0.000125,
          0.0099125,
          0,
          0.001,
          0.0005625,
          0.00575,
          0,
          0.000325,
          0.00125,
          0.0133,
          0.0054,
          0.0006,
          0.004525,
          0.0043125,
          0.000275,
          0.0004375,
          0.00045,
          0.0002875,
          0.000125,
          0.0008625,
          0,
          1.25e-05,
          0.005075,
          1.25e-05,
          0,
          0,
          0.000875,
          0.0004875,
          3.75e-05,
          0,
          5e-05,
          0.0002625,
          0.012525,
          0.0110125,
          0.0149375,
          0.0001125,
          0,
          7.5e-05,
          0,
          0.001125,
          0.0011125,
          0,
          0.0089,
          0.002275,
          1.25e-05,
          0.000225,
          0.009525,
          1.25e-05,
          2.5e-05,
          0,
          0,
          0.002475,
          0.0042875,
          0,
          0.003525,
          0.0009875,
          5e-05,
          2.5e-05,
          0.000225,
          0,
          2.5e-05,
          6.25e-05,
          0.0003375,
          2.5e-05,
          0.0044375,
          0.0024,
          6.25e-05,
          0,
          0,
          0.0005625,
          2.5e-05,
          0,
          0.0013,
          1.25e-05,
          0,
          0.000125,
          0.0002625,
          0.0001125,
          5e-05,
          7.5e-05,
          0,
          2.5e-05,
          0,
          2.5e-05,
          0.00025,
          0.0057125,
          0.001575,
          0.00045,
          0,
          3.75e-05,
          0.0083875,
          0,
          0,
          5e-05,
          0.0097375,
          0.00045,
          0.0109375,
          0.0002875,
          0,
          2.5e-05,
          8.75e-05,
          0.0108125,
          0.0029375,
          0.0001,
          2.5e-05,
          0.00845,
          0.008775,
          3.75e-05,
          0.0076375,
          0.010925,
          0.0006375,
          1.25e-05,
          0,
          0.00025,
          1.25e-05,
          0.0013125,
          0,
          0.0008375,
          3.75e-05,
          6.25e-05,
          0.0001,
          0,
          2.5e-05,
          0,
          1.25e-05,
          2.5e-05,
          7.5e-05,
          2.5e-05,
          0.0112875,
          0.00155,
          0.00555,
          1.25e-05,
          0.0098375,
          6.25e-05,
          0.0142,
          0.0037375,
          6.25e-05,
          6.25e-05,
          0.0001,
          0.00025,
          0.0022875,
          0.00135,
          1.25e-05,
          0.0019875,
          0.0008,
          0.0114,
          0,
          0.0163375,
          0.0023875,
          0.0019625,
          0,
          0.0014125,
          1.25e-05,
          0.0017,
          0.0046875,
          3.75e-05,
          0.0033,
          0.001,
          0.013125,
          2.5e-05,
          0.00055,
          0.0008375,
          0.0191125,
          0.000125,
          0.01325,
          0.0001625,
          0.016025,
          0.0096375,
          0.0091,
          0,
          0.0088875,
          0,
          0,
          0,
          0,
          0.0095875,
          0.00375,
          0.0085,
          0.0096875,
          0.000525,
          0.00155,
          0.0152375,
          0.002025,
          0.0005,
          0.0031375,
          0.0002,
          0.011175,
          0.010075,
          0,
          3.75e-05,
          0,
          0,
          0.0156875,
          0.0027125,
          0,
          2.5e-05,
          0.016775,
          0.0006375,
          0.0016375,
          0,
          1.25e-05,
          2.5e-05,
          5e-05,
          6.25e-05,
          0.0042875,
          8.75e-05,
          0.0073,
          7.5e-05,
          0,
          0,
          5e-05,
          0.00025,
          1.25e-05,
          3.75e-05,
          0,
          0.009475,
          0.015775,
          0.0170625,
          0.0058125,
          0.012175,
          0.0001375,
          0.0019625,
          1.25e-05,
          0.000225,
          0.0148875,
          0,
          0.0005,
          0,
          0.0009875,
          0.01595,
          0.0096875,
          0,
          2.5e-05,
          0.0114,
          0.0007125,
          0.0004125,
          0.0001125,
          2.5e-05,
          0.0009625,
          0,
          5e-05,
          1.25e-05,
          0,
          0.013,
          5e-05,
          0.0002625,
          1.25e-05,
          0,
          3.75e-05,
          0.0001875,
          0.0001625,
          1.25e-05,
          1.25e-05,
          0.012275,
          0,
          8.75e-05,
          1.25e-05,
          2.5e-05,
          6.25e-05,
          0.0001125,
          0.0001625,
          0.0022875,
          8.75e-05,
          5e-05,
          0.0027,
          1.25e-05,
          0.00075,
          0,
          8.75e-05,
          0,
          0.006425,
          2.5e-05,
          1.25e-05,
          0,
          0.0003625,
          5e-05,
          7.5e-05,
          3.75e-05,
          0.00035,
          1.25e-05,
          0.0004375,
          0.0009,
          0.0005875,
          0.0003125,
          0.0009,
          0.0050625,
          3.75e-05,
          0.0130375,
          2.5e-05,
          0,
          0.00125,
          8.75e-05,
          0.0105875,
          1.25e-05,
          0,
          0,
          0.0001375,
          0.00105,
          0.0002625,
          0.012775,
          0.0001875,
          0.000975,
          0.00095,
          0,
          0.0083875,
          0,
          0.00345,
          1.25e-05,
          0.008125,
          0,
          7.5e-05,
          0.000375,
          3.75e-05,
          2.5e-05,
          2.5e-05
         ],
         "xaxis": "x",
         "y": [
          1971160.93,
          896776.46,
          2261995.22,
          1540807.2,
          1994353.59,
          47728.98,
          1087410.34,
          3396282.37,
          1664168.78,
          1944291.45,
          null,
          3779765.67,
          73781.24,
          2342076.93,
          2116014.71,
          3398846.75,
          null,
          961209.18,
          998254.03,
          1050,
          null,
          0,
          116486,
          251022.45,
          58794.18,
          15677,
          28295639.53,
          311788.67,
          3738008.91,
          1060460.56,
          40904,
          541664.83,
          2655736.79,
          7192788.37,
          109463.22,
          3212844,
          0,
          53589.76,
          4318.62,
          67073.63,
          2524892.82,
          280589.09,
          null,
          11265,
          9340940.92,
          3728273.29,
          527945,
          85997.53,
          null,
          7411601.19,
          55923.37,
          3145463.28,
          2337213.84,
          5591297.83,
          1674004.02,
          94112.24,
          135385.49,
          40408.04,
          1158787.4,
          58819.37,
          60648.94,
          1627893.83,
          0,
          48943.09,
          7854668.58,
          1618431.12,
          506157.3,
          258207.39,
          1525113.68,
          1602545.07,
          190652.21,
          880637.26,
          46977.86,
          553804.9,
          1297352.41,
          349933.46,
          6727002.23,
          253418.48,
          783304.69,
          1985594.58,
          3387013.53,
          216847.03,
          1563092.79,
          4693372.7,
          1645535.54,
          5657617.12,
          1800603.34,
          145971.24,
          6338072.31,
          1614198.79,
          171383.71,
          15868.09,
          2002921.5,
          1811601.56,
          5647931.39,
          2143685.24,
          2323162.63,
          1198576.19,
          2634884.12,
          1030661.36,
          601171.19,
          2127328.91,
          1467857.85,
          795499.29,
          990712.76,
          19033.64,
          12588124.11,
          1020600.4,
          3427041.42,
          0,
          35221.14,
          4636744.33,
          567363.58,
          832289.28,
          819947.75,
          82409.58,
          71641.86,
          4911923.34,
          7191931.25,
          2633465.87,
          2886169.99,
          536931.86,
          1623606.84,
          5896.21,
          34275,
          2775559.99,
          1664091.4,
          2096672.96,
          658298.5,
          2019930.74,
          3915556.68,
          5114935.2,
          0,
          28273.99,
          0,
          28663.3,
          1514693.19,
          545818.55,
          9895.5,
          3492664.39,
          1151524.32,
          2653270.22,
          434679.53,
          4156237.89,
          2281638.58,
          498397.85,
          1428441.16,
          1356559,
          1237054.19,
          1478931.28,
          3854560.75,
          1877363.59,
          1649489.62,
          2259392.72,
          622973.39,
          1105338.75,
          820504.67,
          3845266.61,
          18570245.06,
          32371,
          1057244.85,
          2849171.25,
          19752.89,
          140906.35,
          158145.09,
          107077.48,
          53398,
          0,
          0,
          352855.67,
          1921505.35,
          500312.76,
          503051.87,
          57740.7,
          63553.38,
          1098843.33,
          0,
          16294.27,
          454062.79,
          3671939.64,
          1841958.42,
          6954183.56,
          668345.01,
          265846.32,
          99789.93,
          2197543.5,
          1686030.12,
          3073021.13,
          null,
          12069.75,
          2834508.15,
          3108702.53,
          null,
          1500243.97,
          3409854.76,
          681468.99,
          133467.1,
          3226697.65,
          4431685.38,
          1677464.61,
          2470828.61,
          49116.03,
          4884445.83,
          3640059.18,
          1038063.25,
          37587,
          2383368.94,
          1081116.19,
          3198303.83,
          1113277.81,
          49488.03,
          1353829.76,
          1062857.78,
          null,
          2284637.89,
          2187047.47,
          3911761.09,
          1584205.79,
          211748.03,
          3286174.94,
          null,
          149375.48,
          1993505.57,
          409981.2,
          2208535,
          928501.85,
          1496207.61,
          1944120.33,
          3120527.33,
          2195050.83,
          3919222.53,
          1709691.29,
          3691942.57,
          401645.82,
          38650,
          0,
          710058.5,
          266328.89,
          3119520.28,
          4713439.44,
          1494147.31,
          982795.94,
          399477.05,
          4476737.53,
          0,
          309100.35,
          391731.56,
          4431274.96,
          303535.55,
          1337673.46,
          1219752.54,
          2488761.16,
          1964059.59,
          1551713.01,
          25027.8,
          4642144.71,
          19176.52,
          1540477.62,
          0,
          17023,
          1553320.59,
          2062676.07,
          2491602.09,
          3551116.76,
          1169097.57,
          9489980.78,
          941403.42,
          763707.48,
          3301121.74,
          710075.2,
          36659.11,
          3000675.52,
          1325986.26,
          130038.17,
          2405.87,
          0,
          19970.31,
          2234658.79,
          1522717.13,
          0,
          1919520.06,
          2197170.59,
          2606247.74,
          2363798.92,
          2088194.25,
          0,
          14293131.39,
          1560724.66,
          1706984.83,
          3045488.99,
          976169.59,
          1185047.37,
          1709945.49,
          654619.23,
          1524419.03,
          2335186.44,
          2491328.51,
          0,
          1184427.97,
          14925,
          4538041.24,
          2568275.52,
          3957227.25,
          4560231.74,
          3043768.91,
          1560516.69,
          205104.56,
          2692356.32,
          1320811.66,
          2786043.66,
          0,
          239390.88,
          746756.83,
          1038552.06,
          6354578.69,
          3017514.63,
          1101338.69,
          45441.69,
          2247796.52,
          5884937.13,
          1020327.32,
          890552.23,
          205668.71,
          1428232.9,
          2000622.04,
          1427400.67,
          1058051.28,
          174860.33,
          1281921.17,
          2055441.26,
          1763091.7,
          1913469.28,
          400705.46,
          1051039.2,
          2729647.14,
          2041432.69,
          5097598.64,
          1036639.13,
          4688233.32,
          389697.69,
          1001775.53,
          126358.5,
          15916738.83,
          293147.37,
          2344485,
          1375451.92,
          4307414.2,
          3782404.28,
          1076329.45,
          3485707.38,
          0,
          592898.76,
          64725.05,
          2386122.49,
          0,
          4685774.09,
          31515,
          1054678.32,
          9153,
          5831956.81,
          1009595.34,
          1038969.23,
          191713.98,
          4750765.79,
          1121.26,
          1792532.69,
          1096841.01,
          2120305.46,
          3685802.41,
          2191153.97,
          3304902.6,
          235273.48,
          3485709.65,
          180080.37,
          382045.09,
          1172672.7,
          993251.5,
          3679371.94,
          290981.09,
          813068.46,
          null,
          185847.78,
          160970.22,
          145529.16,
          3727353.44,
          2148295.38,
          6416913.26,
          426186.56,
          8019.18,
          2810552.79,
          133962.28,
          3616861.88,
          89666.7,
          6479115.13,
          0,
          996710.79,
          1181268.65,
          1236366.77,
          4477286.55,
          5737078.7
         ],
         "yaxis": "y"
        }
       ],
       "layout": {
        "autosize": true,
        "legend": {
         "title": {
          "text": "party"
         },
         "tracegroupgap": 0
        },
        "template": {
         "data": {
          "bar": [
           {
            "error_x": {
             "color": "#2a3f5f"
            },
            "error_y": {
             "color": "#2a3f5f"
            },
            "marker": {
             "line": {
              "color": "#E5ECF6",
              "width": 0.5
             },
             "pattern": {
              "fillmode": "overlay",
              "size": 10,
              "solidity": 0.2
             }
            },
            "type": "bar"
           }
          ],
          "barpolar": [
           {
            "marker": {
             "line": {
              "color": "#E5ECF6",
              "width": 0.5
             },
             "pattern": {
              "fillmode": "overlay",
              "size": 10,
              "solidity": 0.2
             }
            },
            "type": "barpolar"
           }
          ],
          "carpet": [
           {
            "aaxis": {
             "endlinecolor": "#2a3f5f",
             "gridcolor": "white",
             "linecolor": "white",
             "minorgridcolor": "white",
             "startlinecolor": "#2a3f5f"
            },
            "baxis": {
             "endlinecolor": "#2a3f5f",
             "gridcolor": "white",
             "linecolor": "white",
             "minorgridcolor": "white",
             "startlinecolor": "#2a3f5f"
            },
            "type": "carpet"
           }
          ],
          "choropleth": [
           {
            "colorbar": {
             "outlinewidth": 0,
             "ticks": ""
            },
            "type": "choropleth"
           }
          ],
          "contour": [
           {
            "colorbar": {
             "outlinewidth": 0,
             "ticks": ""
            },
            "colorscale": [
             [
              0,
              "#0d0887"
             ],
             [
              0.1111111111111111,
              "#46039f"
             ],
             [
              0.2222222222222222,
              "#7201a8"
             ],
             [
              0.3333333333333333,
              "#9c179e"
             ],
             [
              0.4444444444444444,
              "#bd3786"
             ],
             [
              0.5555555555555556,
              "#d8576b"
             ],
             [
              0.6666666666666666,
              "#ed7953"
             ],
             [
              0.7777777777777778,
              "#fb9f3a"
             ],
             [
              0.8888888888888888,
              "#fdca26"
             ],
             [
              1,
              "#f0f921"
             ]
            ],
            "type": "contour"
           }
          ],
          "contourcarpet": [
           {
            "colorbar": {
             "outlinewidth": 0,
             "ticks": ""
            },
            "type": "contourcarpet"
           }
          ],
          "heatmap": [
           {
            "colorbar": {
             "outlinewidth": 0,
             "ticks": ""
            },
            "colorscale": [
             [
              0,
              "#0d0887"
             ],
             [
              0.1111111111111111,
              "#46039f"
             ],
             [
              0.2222222222222222,
              "#7201a8"
             ],
             [
              0.3333333333333333,
              "#9c179e"
             ],
             [
              0.4444444444444444,
              "#bd3786"
             ],
             [
              0.5555555555555556,
              "#d8576b"
             ],
             [
              0.6666666666666666,
              "#ed7953"
             ],
             [
              0.7777777777777778,
              "#fb9f3a"
             ],
             [
              0.8888888888888888,
              "#fdca26"
             ],
             [
              1,
              "#f0f921"
             ]
            ],
            "type": "heatmap"
           }
          ],
          "heatmapgl": [
           {
            "colorbar": {
             "outlinewidth": 0,
             "ticks": ""
            },
            "colorscale": [
             [
              0,
              "#0d0887"
             ],
             [
              0.1111111111111111,
              "#46039f"
             ],
             [
              0.2222222222222222,
              "#7201a8"
             ],
             [
              0.3333333333333333,
              "#9c179e"
             ],
             [
              0.4444444444444444,
              "#bd3786"
             ],
             [
              0.5555555555555556,
              "#d8576b"
             ],
             [
              0.6666666666666666,
              "#ed7953"
             ],
             [
              0.7777777777777778,
              "#fb9f3a"
             ],
             [
              0.8888888888888888,
              "#fdca26"
             ],
             [
              1,
              "#f0f921"
             ]
            ],
            "type": "heatmapgl"
           }
          ],
          "histogram": [
           {
            "marker": {
             "pattern": {
              "fillmode": "overlay",
              "size": 10,
              "solidity": 0.2
             }
            },
            "type": "histogram"
           }
          ],
          "histogram2d": [
           {
            "colorbar": {
             "outlinewidth": 0,
             "ticks": ""
            },
            "colorscale": [
             [
              0,
              "#0d0887"
             ],
             [
              0.1111111111111111,
              "#46039f"
             ],
             [
              0.2222222222222222,
              "#7201a8"
             ],
             [
              0.3333333333333333,
              "#9c179e"
             ],
             [
              0.4444444444444444,
              "#bd3786"
             ],
             [
              0.5555555555555556,
              "#d8576b"
             ],
             [
              0.6666666666666666,
              "#ed7953"
             ],
             [
              0.7777777777777778,
              "#fb9f3a"
             ],
             [
              0.8888888888888888,
              "#fdca26"
             ],
             [
              1,
              "#f0f921"
             ]
            ],
            "type": "histogram2d"
           }
          ],
          "histogram2dcontour": [
           {
            "colorbar": {
             "outlinewidth": 0,
             "ticks": ""
            },
            "colorscale": [
             [
              0,
              "#0d0887"
             ],
             [
              0.1111111111111111,
              "#46039f"
             ],
             [
              0.2222222222222222,
              "#7201a8"
             ],
             [
              0.3333333333333333,
              "#9c179e"
             ],
             [
              0.4444444444444444,
              "#bd3786"
             ],
             [
              0.5555555555555556,
              "#d8576b"
             ],
             [
              0.6666666666666666,
              "#ed7953"
             ],
             [
              0.7777777777777778,
              "#fb9f3a"
             ],
             [
              0.8888888888888888,
              "#fdca26"
             ],
             [
              1,
              "#f0f921"
             ]
            ],
            "type": "histogram2dcontour"
           }
          ],
          "mesh3d": [
           {
            "colorbar": {
             "outlinewidth": 0,
             "ticks": ""
            },
            "type": "mesh3d"
           }
          ],
          "parcoords": [
           {
            "line": {
             "colorbar": {
              "outlinewidth": 0,
              "ticks": ""
             }
            },
            "type": "parcoords"
           }
          ],
          "pie": [
           {
            "automargin": true,
            "type": "pie"
           }
          ],
          "scatter": [
           {
            "fillpattern": {
             "fillmode": "overlay",
             "size": 10,
             "solidity": 0.2
            },
            "type": "scatter"
           }
          ],
          "scatter3d": [
           {
            "line": {
             "colorbar": {
              "outlinewidth": 0,
              "ticks": ""
             }
            },
            "marker": {
             "colorbar": {
              "outlinewidth": 0,
              "ticks": ""
             }
            },
            "type": "scatter3d"
           }
          ],
          "scattercarpet": [
           {
            "marker": {
             "colorbar": {
              "outlinewidth": 0,
              "ticks": ""
             }
            },
            "type": "scattercarpet"
           }
          ],
          "scattergeo": [
           {
            "marker": {
             "colorbar": {
              "outlinewidth": 0,
              "ticks": ""
             }
            },
            "type": "scattergeo"
           }
          ],
          "scattergl": [
           {
            "marker": {
             "colorbar": {
              "outlinewidth": 0,
              "ticks": ""
             }
            },
            "type": "scattergl"
           }
          ],
          "scattermapbox": [
           {
            "marker": {
             "colorbar": {
              "outlinewidth": 0,
              "ticks": ""
             }
            },
            "type": "scattermapbox"
           }
          ],
          "scatterpolar": [
           {
            "marker": {
             "colorbar": {
              "outlinewidth": 0,
              "ticks": ""
             }
            },
            "type": "scatterpolar"
           }
          ],
          "scatterpolargl": [
           {
            "marker": {
             "colorbar": {
              "outlinewidth": 0,
              "ticks": ""
             }
            },
            "type": "scatterpolargl"
           }
          ],
          "scatterternary": [
           {
            "marker": {
             "colorbar": {
              "outlinewidth": 0,
              "ticks": ""
             }
            },
            "type": "scatterternary"
           }
          ],
          "surface": [
           {
            "colorbar": {
             "outlinewidth": 0,
             "ticks": ""
            },
            "colorscale": [
             [
              0,
              "#0d0887"
             ],
             [
              0.1111111111111111,
              "#46039f"
             ],
             [
              0.2222222222222222,
              "#7201a8"
             ],
             [
              0.3333333333333333,
              "#9c179e"
             ],
             [
              0.4444444444444444,
              "#bd3786"
             ],
             [
              0.5555555555555556,
              "#d8576b"
             ],
             [
              0.6666666666666666,
              "#ed7953"
             ],
             [
              0.7777777777777778,
              "#fb9f3a"
             ],
             [
              0.8888888888888888,
              "#fdca26"
             ],
             [
              1,
              "#f0f921"
             ]
            ],
            "type": "surface"
           }
          ],
          "table": [
           {
            "cells": {
             "fill": {
              "color": "#EBF0F8"
             },
             "line": {
              "color": "white"
             }
            },
            "header": {
             "fill": {
              "color": "#C8D4E3"
             },
             "line": {
              "color": "white"
             }
            },
            "type": "table"
           }
          ]
         },
         "layout": {
          "annotationdefaults": {
           "arrowcolor": "#2a3f5f",
           "arrowhead": 0,
           "arrowwidth": 1
          },
          "autotypenumbers": "strict",
          "coloraxis": {
           "colorbar": {
            "outlinewidth": 0,
            "ticks": ""
           }
          },
          "colorscale": {
           "diverging": [
            [
             0,
             "#8e0152"
            ],
            [
             0.1,
             "#c51b7d"
            ],
            [
             0.2,
             "#de77ae"
            ],
            [
             0.3,
             "#f1b6da"
            ],
            [
             0.4,
             "#fde0ef"
            ],
            [
             0.5,
             "#f7f7f7"
            ],
            [
             0.6,
             "#e6f5d0"
            ],
            [
             0.7,
             "#b8e186"
            ],
            [
             0.8,
             "#7fbc41"
            ],
            [
             0.9,
             "#4d9221"
            ],
            [
             1,
             "#276419"
            ]
           ],
           "sequential": [
            [
             0,
             "#0d0887"
            ],
            [
             0.1111111111111111,
             "#46039f"
            ],
            [
             0.2222222222222222,
             "#7201a8"
            ],
            [
             0.3333333333333333,
             "#9c179e"
            ],
            [
             0.4444444444444444,
             "#bd3786"
            ],
            [
             0.5555555555555556,
             "#d8576b"
            ],
            [
             0.6666666666666666,
             "#ed7953"
            ],
            [
             0.7777777777777778,
             "#fb9f3a"
            ],
            [
             0.8888888888888888,
             "#fdca26"
            ],
            [
             1,
             "#f0f921"
            ]
           ],
           "sequentialminus": [
            [
             0,
             "#0d0887"
            ],
            [
             0.1111111111111111,
             "#46039f"
            ],
            [
             0.2222222222222222,
             "#7201a8"
            ],
            [
             0.3333333333333333,
             "#9c179e"
            ],
            [
             0.4444444444444444,
             "#bd3786"
            ],
            [
             0.5555555555555556,
             "#d8576b"
            ],
            [
             0.6666666666666666,
             "#ed7953"
            ],
            [
             0.7777777777777778,
             "#fb9f3a"
            ],
            [
             0.8888888888888888,
             "#fdca26"
            ],
            [
             1,
             "#f0f921"
            ]
           ]
          },
          "colorway": [
           "#636efa",
           "#EF553B",
           "#00cc96",
           "#ab63fa",
           "#FFA15A",
           "#19d3f3",
           "#FF6692",
           "#B6E880",
           "#FF97FF",
           "#FECB52"
          ],
          "font": {
           "color": "#2a3f5f"
          },
          "geo": {
           "bgcolor": "white",
           "lakecolor": "white",
           "landcolor": "#E5ECF6",
           "showlakes": true,
           "showland": true,
           "subunitcolor": "white"
          },
          "hoverlabel": {
           "align": "left"
          },
          "hovermode": "closest",
          "mapbox": {
           "style": "light"
          },
          "paper_bgcolor": "white",
          "plot_bgcolor": "#E5ECF6",
          "polar": {
           "angularaxis": {
            "gridcolor": "white",
            "linecolor": "white",
            "ticks": ""
           },
           "bgcolor": "#E5ECF6",
           "radialaxis": {
            "gridcolor": "white",
            "linecolor": "white",
            "ticks": ""
           }
          },
          "scene": {
           "xaxis": {
            "backgroundcolor": "#E5ECF6",
            "gridcolor": "white",
            "gridwidth": 2,
            "linecolor": "white",
            "showbackground": true,
            "ticks": "",
            "zerolinecolor": "white"
           },
           "yaxis": {
            "backgroundcolor": "#E5ECF6",
            "gridcolor": "white",
            "gridwidth": 2,
            "linecolor": "white",
            "showbackground": true,
            "ticks": "",
            "zerolinecolor": "white"
           },
           "zaxis": {
            "backgroundcolor": "#E5ECF6",
            "gridcolor": "white",
            "gridwidth": 2,
            "linecolor": "white",
            "showbackground": true,
            "ticks": "",
            "zerolinecolor": "white"
           }
          },
          "shapedefaults": {
           "line": {
            "color": "#2a3f5f"
           }
          },
          "ternary": {
           "aaxis": {
            "gridcolor": "white",
            "linecolor": "white",
            "ticks": ""
           },
           "baxis": {
            "gridcolor": "white",
            "linecolor": "white",
            "ticks": ""
           },
           "bgcolor": "#E5ECF6",
           "caxis": {
            "gridcolor": "white",
            "linecolor": "white",
            "ticks": ""
           }
          },
          "title": {
           "x": 0.05
          },
          "xaxis": {
           "automargin": true,
           "gridcolor": "white",
           "linecolor": "white",
           "ticks": "",
           "title": {
            "standoff": 15
           },
           "zerolinecolor": "white",
           "zerolinewidth": 2
          },
          "yaxis": {
           "automargin": true,
           "gridcolor": "white",
           "linecolor": "white",
           "ticks": "",
           "title": {
            "standoff": 15
           },
           "zerolinecolor": "white",
           "zerolinewidth": 2
          }
         }
        },
        "title": {
         "text": "Total Receipts Compared to Tipping Point Liklihood"
        },
        "xaxis": {
         "anchor": "y",
         "autorange": true,
         "domain": [
          0,
          1
         ],
         "range": [
          -0.0011560709635416667,
          0.020268570963541666
         ],
         "title": {
          "text": "How Much each Race Matters (Probability of deciding control of congress)"
         },
         "type": "linear"
        },
        "yaxis": {
         "anchor": "x",
         "autorange": true,
         "domain": [
          0,
          1
         ],
         "range": [
          -1753250.7273354859,
          30048890.257335488
         ],
         "title": {
          "text": "Total Fundraising Receipts"
         },
         "type": "linear"
        }
       }
      },
      "image/png": "[encoded data removed]",
      "text/html": [
       "<div>                            <div id=\"062c83c8-5a53-488a-8add-2ed621c39898\" class=\"plotly-graph-div\" style=\"height:525px; width:100%;\"></div>            <script type=\"text/javascript\">                require([\"plotly\"], function(Plotly) {                    window.PLOTLYENV=window.PLOTLYENV || {};                                    if (document.getElementById(\"062c83c8-5a53-488a-8add-2ed621c39898\")) {                    Plotly.newPlot(                        \"062c83c8-5a53-488a-8add-2ed621c39898\",                        [{\"customdata\":[[\"Mary S. Peltola\",\"AK-1\"],[\"Phyllis Harvey-Hall\",\"AL-2\"],[\"Lin Veasey\",\"AL-3\"],[\"Rick Neighbors\",\"AL-4\"],[\"Kathy Warner-Stanton\",\"AL-5\"],[\"Terrycina Sewell\",\"AL-7\"],[\"Monte Hodges\",\"AR-1\"],[\"Quintessa Hathaway\",\"AR-2\"],[\"Lauren Mallett-Hays\",\"AR-3\"],[\"John White\",\"AR-4\"],[\"Jevin Hodge\",\"AZ-1\"],[\"Tom O'Halleran\",\"AZ-2\"],[\"Ruben Gallego\",\"AZ-3\"],[\"Greg Stanton\",\"AZ-4\"],[\"Javier Ramos\",\"AZ-5\"],[\"Kirsten Engel\",\"AZ-6\"],[\"Ra\\u00fal Grijalva\",\"AZ-7\"],[\"Max Steiner\",\"CA-1\"],[\"Nancy Pelosi\",\"CA-11\"],[\"Barbara Lee\",\"CA-12\"],[\"Adam Gray\",\"CA-13\"],[\"Eric Swalwell\",\"CA-14\"],[\"Ro Khanna\",\"CA-17\"],[\"Zoe Lofgren\",\"CA-18\"],[\"Jimmy Panetta\",\"CA-19\"],[\"Jared Huffman\",\"CA-2\"],[\"Marisa Wood\",\"CA-20\"],[\"Jim Costa\",\"CA-21\"],[\"Rudy Salas\",\"CA-22\"],[\"Derek Marshall\",\"CA-23\"],[\"Salud Carbajal\",\"CA-24\"],[\"Raul Ruiz\",\"CA-25\"],[\"Julia Brownley\",\"CA-26\"],[\"Christy Smith\",\"CA-27\"],[\"Judy Chu\",\"CA-28\"],[\"Kermit Jones\",\"CA-3\"],[\"Grace F. Napolitano\",\"CA-31\"],[\"Brad Sherman\",\"CA-32\"],[\"Pete Aguilar\",\"CA-33\"],[\"Norma J. Torres\",\"CA-35\"],[\"Ted W. Lieu\",\"CA-36\"],[\"Linda T. S\\u00e1nchez\",\"CA-38\"],[\"Mark Takano\",\"CA-39\"],[\"Mike Thompson\",\"CA-4\"],[\"Asif Mahmood\",\"CA-40\"],[\"Will Rollins\",\"CA-41\"],[\"Robert Garcia\",\"CA-42\"],[\"Maxine Waters\",\"CA-43\"],[\"Nanette Diaz Barragan\",\"CA-44\"],[\"Jay F. Chen\",\"CA-45\"],[\"Lou Correa\",\"CA-46\"],[\"Katie Porter\",\"CA-47\"],[\"Stephen Houlahan\",\"CA-48\"],[\"Mike Levin\",\"CA-49\"],[\"Michael J. \\u201cMike\\u201d Barkley\",\"CA-5\"],[\"Scott Peters\",\"CA-50\"],[\"Sara Jacobs\",\"CA-51\"],[\"Juan Vargas\",\"CA-52\"],[\"Ami Bera\",\"CA-6\"],[\"Doris Matsui\",\"CA-7\"],[\"John Garamendi\",\"CA-8\"],[\"Josh Harder\",\"CA-9\"],[\"Diana DeGette\",\"CO-1\"],[\"Joe Neguse\",\"CO-2\"],[\"Adam Frisch\",\"CO-3\"],[\"Ike McCorkle\",\"CO-4\"],[\"David Torres\",\"CO-5\"],[\"Jason Crow\",\"CO-6\"],[\"Brittany Pettersen\",\"CO-7\"],[\"Yadira Caraveo\",\"CO-8\"],[\"John B. Larson\",\"CT-1\"],[\"Joe Courtney\",\"CT-2\"],[\"Rosa L. DeLauro\",\"CT-3\"],[\"Jim Himes\",\"CT-4\"],[\"Jahana Hayes\",\"CT-5\"],[\"Lisa Blunt Rochester\",\"DE-1\"],[\"Rebekah Jones\",\"FL-1\"],[\"Maxwell Alejandro Frost\",\"FL-10\"],[\"Shante Munns\",\"FL-11\"],[\"Kimberly Walker\",\"FL-12\"],[\"Eric Lynn\",\"FL-13\"],[\"Kathy Castor\",\"FL-14\"],[\"Alan M. Cohn\",\"FL-15\"],[\"Jan Schneider\",\"FL-16\"],[\"Andrea Doria Kale\",\"FL-17\"],[\"Cindy Banyai\",\"FL-19\"],[\"Al Lawson\",\"FL-2\"],[\"Sheila Cherfilus-McCormick\",\"FL-20\"],[\"Corinna Balderramos Robinson\",\"FL-21\"],[\"Lois Frankel\",\"FL-22\"],[\"Jared Moskowitz\",\"FL-23\"],[\"Frederica Wilson\",\"FL-24\"],[\"Debbie Wasserman Schultz\",\"FL-25\"],[\"Christine Alexandria Olivo\",\"FL-26\"],[\"Annette Taddeo\",\"FL-27\"],[\"Robert Asencio\",\"FL-28\"],[\"Danielle Hawk\",\"FL-3\"],[\"LaShonda \\u201cL.J.\\u201d Holloway\",\"FL-4\"],[\"Karen Green\",\"FL-7\"],[\"Joanne Terry\",\"FL-8\"],[\"Darren Soto\",\"FL-9\"],[\"Wade Herring\",\"GA-1\"],[\"Tabitha Johnson-Green\",\"GA-10\"],[\"Antonio Daza\",\"GA-11\"],[\"Elizabeth \\u201cLiz\\u201d Johnson\",\"GA-12\"],[\"David Scott\",\"GA-13\"],[\"Marcus Flowers\",\"GA-14\"],[\"Sanford Bishop\",\"GA-2\"],[\"Val Almonord\",\"GA-3\"],[\"Henry C. \\u201cHank\\u201d Johnson Jr.\",\"GA-4\"],[\"Nikema Williams\",\"GA-5\"],[\"Bob Christian\",\"GA-6\"],[\"Lucy McBath\",\"GA-7\"],[\"Darrius Butler\",\"GA-8\"],[\"Michael \\u201cMike\\u201d Ford\",\"GA-9\"],[\"Ed Case\",\"HI-1\"],[\"Jill N. Tokuda\",\"HI-2\"],[\"Christina Bohannan\",\"IA-1\"],[\"Liz Mathis\",\"IA-2\"],[\"Cindy Axne\",\"IA-3\"],[\"Ryan Melton\",\"IA-4\"],[\"Kaylee Peterson\",\"ID-1\"],[\"Wendy Norman\",\"ID-2\"],[\"Jonathan L. Jackson\",\"IL-1\"],[\"Brad Schneider\",\"IL-10\"],[\"Bill Foster\",\"IL-11\"],[\"Homer \\u201cChip\\u201d Markel\",\"IL-12\"],[\"Nikki Budzinski\",\"IL-13\"],[\"Lauren Underwood\",\"IL-14\"],[\"Paul J. Lange\",\"IL-15\"],[\"Elizabeth Haderlein\",\"IL-16\"],[\"Eric Sorensen\",\"IL-17\"],[\"Robin Kelly\",\"IL-2\"],[\"Delia Ramirez\",\"IL-3\"],[\"Jesus \\u201cChuy\\u201d Garcia\",\"IL-4\"],[\"Mike Quigley\",\"IL-5\"],[\"Sean Casten\",\"IL-6\"],[\"Raja Krishnamoorthi\",\"IL-8\"],[\"Janice D. Schakowsky\",\"IL-9\"],[\"Frank J. Mrvan\",\"IN-1\"],[\"Paul D. Steury\",\"IN-2\"],[\"Gary L. Snyder\",\"IN-3\"],[\"Roger D. Day\",\"IN-4\"],[\"Jeannine Lee Lake\",\"IN-5\"],[\"Cynthia \\u201cCinde\\u201d Wirth\",\"IN-6\"],[\"Andr\\u00e9 D. Carson\",\"IN-7\"],[\"Ray McCormick\",\"IN-8\"],[\"Matthew Fyfe\",\"IN-9\"],[\"James \\u201cJimmy\\u201d Beard\",\"KS-1\"],[\"Patrick Schmidt\",\"KS-2\"],[\"Sharice Davids\",\"KS-3\"],[\"Bob Hernandez\",\"KS-4\"],[\"Jimmy C. Ausbrooks\",\"KY-1\"],[\"Hank Linderman\",\"KY-2\"],[\"Morgan McGarvey\",\"KY-3\"],[\"Matthew Lehman\",\"KY-4\"],[\"Conor Halbleib\",\"KY-5\"],[\"Geoffrey M. \\u201cGeoff\\u201d Young\",\"KY-6\"],[\"Kate Darling\",\"LA-1\"],[\"Troy A. Carter\",\"LA-2\"],[\"Tia Lebrun\",\"LA-3\"],[\"Oscar \\u201cOmar\\u201d Dantzler\",\"LA-5\"],[\"Richard E. Neal\",\"MA-1\"],[\"James P. McGovern\",\"MA-2\"],[\"Lori Loureiro Trahan\",\"MA-3\"],[\"Katherine M. Clark\",\"MA-5\"],[\"Seth Moulton\",\"MA-6\"],[\"Ayanna S. Pressley\",\"MA-7\"],[\"Stephen F. Lynch\",\"MA-8\"],[\"Bill Keating\",\"MA-9\"],[\"Heather R. Mizeur\",\"MD-1\"],[\"C.A. Dutch Ruppersberger\",\"MD-2\"],[\"John Sarbanes\",\"MD-3\"],[\"Glenn F. Ivey\",\"MD-4\"],[\"Steny Hoyer\",\"MD-5\"],[\"David J. Trone\",\"MD-6\"],[\"Kweisi Mfume\",\"MD-7\"],[\"Jamie Raskin\",\"MD-8\"],[\"Chellie M. Pingree\",\"ME-1\"],[\"Jared Forrest Golden\",\"ME-2\"],[\"Bob Lorinser\",\"MI-1\"],[\"Carl J. Marlinga\",\"MI-10\"],[\"Haley Stevens\",\"MI-11\"],[\"Rashida Tlaib\",\"MI-12\"],[\"Shri Thanedar\",\"MI-13\"],[\"Jerry Hilliard\",\"MI-2\"],[\"Hillary Scholten\",\"MI-3\"],[\"Joseph Alfonso\",\"MI-4\"],[\"Bart Goldberg\",\"MI-5\"],[\"Debbie Dingell\",\"MI-6\"],[\"Elissa Slotkin\",\"MI-7\"],[\"Daniel T. Kildee\",\"MI-8\"],[\"Brian Jaye\",\"MI-9\"],[\"Jeff Ettinger\",\"MN-1\"],[\"Angie Craig\",\"MN-2\"],[\"Dean Phillips\",\"MN-3\"],[\"Betty McCollum\",\"MN-4\"],[\"Ilhan Omar\",\"MN-5\"],[\"Jeanne Hendricks\",\"MN-6\"],[\"Jill Abahsain\",\"MN-7\"],[\"Jen Schultz\",\"MN-8\"],[\"Cori Bush\",\"MO-1\"],[\"Trish Gunby\",\"MO-2\"],[\"Bethany Mann\",\"MO-3\"],[\"Jack Truman\",\"MO-4\"],[\"Emanuel Cleaver, II\",\"MO-5\"],[\"Henry Martin\",\"MO-6\"],[\"Kristen Radaker-Sheafer\",\"MO-7\"],[\"Randi McCallian\",\"MO-8\"],[\"Dianne Black\",\"MS-1\"],[\"Bennie G. Thompson\",\"MS-2\"],[\"Shuwaski A. Young\",\"MS-3\"],[\"Johnny L. DuPree\",\"MS-4\"],[\"Monica Tranel\",\"MT-1\"],[\"Penny Ronning\",\"MT-2\"],[\"Don Davis\",\"NC-1\"],[\"Pam Genant\",\"NC-10\"],[\"Jasmine Beach-Ferrara\",\"NC-11\"],[\"Alma S. Adams\",\"NC-12\"],[\"Wiley Nickel\",\"NC-13\"],[\"Jeff Jackson\",\"NC-14\"],[\"Deborah K. Ross\",\"NC-2\"],[\"Barbara D. Gaskins\",\"NC-3\"],[\"Valerie P. Foushee\",\"NC-4\"],[\"Kyle Parrish\",\"NC-5\"],[\"Kathy Manning\",\"NC-6\"],[\"Charles Graham\",\"NC-7\"],[\"Scott Huffman\",\"NC-8\"],[\"Ben Clark\",\"NC-9\"],[\"Patty Pansing Brooks\",\"NE-1\"],[\"Tony Vargas\",\"NE-2\"],[\"David J. Else\",\"NE-3\"],[\"Chris Pappas\",\"NH-1\"],[\"Ann McLane Kuster\",\"NH-2\"],[\"Donald W. Norcross\",\"NJ-1\"],[\"Donald M. Payne Jr.\",\"NJ-10\"],[\"Mikie Sherrill\",\"NJ-11\"],[\"Bonnie Watson Coleman\",\"NJ-12\"],[\"Tim Alexander\",\"NJ-2\"],[\"Andy Kim\",\"NJ-3\"],[\"Matthew Jenkins\",\"NJ-4\"],[\"Josh Gottheimer\",\"NJ-5\"],[\"Frank Pallone Jr.\",\"NJ-6\"],[\"Tom Malinowski\",\"NJ-7\"],[\"Robert J. Menendez\",\"NJ-8\"],[\"Bill Pascrell Jr.\",\"NJ-9\"],[\"Melanie Ann Stansbury\",\"NM-1\"],[\"Gabriel Vasquez\",\"NM-2\"],[\"Teresa Leger Fernandez\",\"NM-3\"],[\"Dina Titus\",\"NV-1\"],[\"Elizabeth Mercedes Krause\",\"NV-2\"],[\"Susie Lee\",\"NV-3\"],[\"Steven A. Horsford\",\"NV-4\"],[\"Bridget Fleming\",\"NY-1\"],[\"Daniel Goldman\",\"NY-10\"],[\"Max N. Rose\",\"NY-11\"],[\"Jerrold L. Nadler\",\"NY-12\"],[\"Alexandria Ocasio-Cortez\",\"NY-14\"],[\"Ritchie J. Torres\",\"NY-15\"],[\"Jamaal Bowman\",\"NY-16\"],[\"Sean Patrick Maloney\",\"NY-17\"],[\"Pat Ryan\",\"NY-18\"],[\"Josh Riley\",\"NY-19\"],[\"Jackie Gordon\",\"NY-2\"],[\"Paul D. Tonko\",\"NY-20\"],[\"Matt Castelli\",\"NY-21\"],[\"Francis Conole\",\"NY-22\"],[\"Max H. Della Pia\",\"NY-23\"],[\"Steven Holden\",\"NY-24\"],[\"Joseph D. Morelle\",\"NY-25\"],[\"Brian Higgins\",\"NY-26\"],[\"Robert P. Zimmerman\",\"NY-3\"],[\"Laura A. Gillen\",\"NY-4\"],[\"Gregory Meeks\",\"NY-5\"],[\"Grace Meng\",\"NY-6\"],[\"Nydia M. Vel\\u00e1zquez\",\"NY-7\"],[\"Hakeem S. Jeffries\",\"NY-8\"],[\"Greg Landsman\",\"OH-1\"],[\"David Esrati\",\"OH-10\"],[\"Shontel Brown\",\"OH-11\"],[\"Amy Rippel-Elton\",\"OH-12\"],[\"Emilia Sykes\",\"OH-13\"],[\"Matt Kilboy\",\"OH-14\"],[\"Gary Josephson\",\"OH-15\"],[\"Samantha Meadows\",\"OH-2\"],[\"Joyce Beatty\",\"OH-3\"],[\"Tamie Wilson\",\"OH-4\"],[\"Craig Swartz\",\"OH-5\"],[\"Louis G. Lyras\",\"OH-6\"],[\"Matthew Diemer\",\"OH-7\"],[\"Vanessa Enoch\",\"OH-8\"],[\"Marcy Kaptur\",\"OH-9\"],[\"Adam Martin\",\"OK-1\"],[\"Naomi Andrews\",\"OK-2\"],[\"Jeremiah A. Ross\",\"OK-3\"],[\"Mary Brannon\",\"OK-4\"],[\"Joshua Harris-Till\",\"OK-5\"],[\"Suzanne Bonamici\",\"OR-1\"],[\"Joe Yetter\",\"OR-2\"],[\"Earl Blumenauer\",\"OR-3\"],[\"Val Hoyle\",\"OR-4\"],[\"Jamie McLeod-Skinner\",\"OR-5\"],[\"Andrea Salinas\",\"OR-6\"],[\"Ashley Ehasz\",\"PA-1\"],[\"Shamaine Daniels\",\"PA-10\"],[\"Bob Hollister\",\"PA-11\"],[\"Summer Lee\",\"PA-12\"],[\"Michael Molesevich\",\"PA-15\"],[\"Dan Pastore\",\"PA-16\"],[\"Chris Deluzio\",\"PA-17\"],[\"Brendan F. Boyle\",\"PA-2\"],[\"Madeleine Dean\",\"PA-4\"],[\"Mary Gay Scanlon\",\"PA-5\"],[\"Chrissy Houlahan\",\"PA-6\"],[\"Susan Wild\",\"PA-7\"],[\"Matt Cartwright\",\"PA-8\"],[\"Amanda R. Waldman\",\"PA-9\"],[\"David N. Cicilline\",\"RI-1\"],[\"Seth M. Magaziner\",\"RI-2\"],[\"Annie Andrews\",\"SC-1\"],[\"Judd Larkins\",\"SC-2\"],[\"Evangeline Hundley\",\"SC-5\"],[\"James E. \\u201cJim\\u201d Clyburn\",\"SC-6\"],[\"Daryl W. Scott\",\"SC-7\"],[\"Cameron Parsons\",\"TN-1\"],[\"Mark Harmon\",\"TN-2\"],[\"Meg Gorman\",\"TN-3\"],[\"Wayne Steele\",\"TN-4\"],[\"Heidi Campbell\",\"TN-5\"],[\"Randal Cooper\",\"TN-6\"],[\"Odessa Kelly\",\"TN-7\"],[\"Lynnette P. Williams\",\"TN-8\"],[\"Steve Cohen\",\"TN-9\"],[\"Jrmar \\u201cJJ\\u201d Jefferson\",\"TX-1\"],[\"Linda Nuno\",\"TX-10\"],[\"Trey J. Hunt\",\"TX-12\"],[\"Kathleen Brown\",\"TX-13\"],[\"Mikal Williams\",\"TX-14\"],[\"Michelle Vallejo\",\"TX-15\"],[\"Veronica Escobar\",\"TX-16\"],[\"Mary Jo Woods\",\"TX-17\"],[\"Mary Jo Woods\",\"TX-17\"],[\"Sheila Jackson Lee\",\"TX-18\"],[\"Robin Fulford\",\"TX-2\"],[\"Joaquin Castro\",\"TX-20\"],[\"Claudia Andreana Zapata\",\"TX-21\"],[\"Jamie Kaye Jordan\",\"TX-22\"],[\"John Lira\",\"TX-23\"],[\"Jan McDowell\",\"TX-24\"],[\"Maclovio Perez Jr.\",\"TX-27\"],[\"Henry Cuellar\",\"TX-28\"],[\"Sylvia Garcia\",\"TX-29\"],[\"Sandeep Srivastava\",\"TX-3\"],[\"Jasmine Crockett\",\"TX-30\"],[\"Colin Allred\",\"TX-32\"],[\"Marc Veasey\",\"TX-33\"],[\"Vicente Gonzalez\",\"TX-34\"],[\"Greg Casar\",\"TX-35\"],[\"Jon Haire\",\"TX-36\"],[\"Lloyd Doggett\",\"TX-37\"],[\"Duncan F. Klussmann\",\"TX-38\"],[\"Iro Omere\",\"TX-4\"],[\"Tartisha Hill\",\"TX-5\"],[\"Lizzie Fletcher\",\"TX-7\"],[\"Laura Jones\",\"TX-8\"],[\"Al Green\",\"TX-9\"],[\"Rick Edwin Jones\",\"UT-1\"],[\"Nick Mitchell\",\"UT-2\"],[\"Glenn J. Wright\",\"UT-3\"],[\"Darlene McDonald\",\"UT-4\"],[\"Herbert C. \\u201cHerb\\u201d Jones Jr.\",\"VA-1\"],[\"Jennifer T. Wexton\",\"VA-10\"],[\"Gerald E. \\u201cGerry\\u201d Connolly\",\"VA-11\"],[\"Elaine G. Luria\",\"VA-2\"],[\"Robert C. \\u201cBobby\\u201d Scott\",\"VA-3\"],[\"A. Donald McEachin\",\"VA-4\"],[\"Joshua M. Throneburg\",\"VA-5\"],[\"Jennifer Lynn Lewis\",\"VA-6\"],[\"Abigail A. Spanberger\",\"VA-7\"],[\"Donald S. Beyer Jr.\",\"VA-8\"],[\"Taysha Lee DeVaughan\",\"VA-9\"],[\"Becca Balint\",\"VT-1\"],[\"Suzan DelBene\",\"WA-1\"],[\"Marilyn Strickland\",\"WA-10\"],[\"Rick Larsen\",\"WA-2\"],[\"Marie Gluesenkamp Perez\",\"WA-3\"],[\"Doug White\",\"WA-4\"],[\"Natasha Hill\",\"WA-5\"],[\"Derek Kilmer\",\"WA-6\"],[\"Pramila Jayapal\",\"WA-7\"],[\"Kim Schrier\",\"WA-8\"],[\"Adam Smith\",\"WA-9\"],[\"Ann Roe\",\"WI-1\"],[\"Mark Pocan\",\"WI-2\"],[\"Brad Pfaff\",\"WI-3\"],[\"Gwen Moore\",\"WI-4\"],[\"Mike Van Someren\",\"WI-5\"],[\"Richard Dick Ausman\",\"WI-7\"],[\"Lacy Watson\",\"WV-1\"],[\"Barry Lee Wendell\",\"WV-2\"],[\"Lynnette GreyBull\",\"WY-1\"]],\"hovertemplate\":\"party=D<br>How Much each Race Matters (Probability of deciding control of congress)=%{x}<br>Total Fundraising Receipts=%{y}<br>name=%{customdata[0]}<br>district=%{customdata[1]}<extra></extra>\",\"legendgroup\":\"D\",\"marker\":{\"color\":\"#636efa\",\"symbol\":\"circle\"},\"mode\":\"markers\",\"name\":\"D\",\"orientation\":\"v\",\"showlegend\":true,\"x\":[0.008475,3.75e-05,1.25e-05,0.0,0.000375,1.25e-05,1.25e-05,0.000825,8.75e-05,0.0,0.010175,0.0123875,2.5e-05,0.0067625,3.75e-05,0.0149625,8.75e-05,0.0002,0.0,0.0,0.0093,0.0,2.5e-05,1.25e-05,1.25e-05,0.0,0.0,0.0056875,0.009875,0.000575,0.000125,0.0009,0.0028375,0.0134875,5e-05,0.007775,3.75e-05,2.5e-05,0.00035,8.75e-05,1.25e-05,5e-05,0.0001875,1.25e-05,0.005625,0.006025,3.75e-05,0.0,0.0,0.0087375,3.75e-05,0.0031625,0.0001875,0.004625,0.0003625,6.25e-05,0.0001125,2.5e-05,0.0008625,0.0,0.0,0.0083875,0.0,3.75e-05,0.01005,0.0001125,0.00045,0.0003625,0.008725,0.0135625,0.0001625,0.0003875,0.0008375,0.00025,0.0125,0.0007125,0.0018625,0.000175,0.000325,2.5e-05,0.016675,0.0006625,0.0119875,0.0010125,0.000375,0.000125,0.0099125,0.0,0.001,0.0005625,0.00575,0.0,0.000325,0.00125,0.0133,0.0054,0.0006,0.004525,0.0043125,0.000275,0.0004375,0.00045,0.0002875,0.000125,0.0008625,0.0,1.25e-05,0.005075,1.25e-05,0.0,0.0,0.000875,0.0004875,3.75e-05,0.0,5e-05,0.0002625,0.012525,0.0110125,0.0149375,0.0001125,0.0,7.5e-05,0.0,0.001125,0.0011125,0.0,0.0089,0.002275,1.25e-05,0.000225,0.009525,1.25e-05,2.5e-05,0.0,0.0,0.002475,0.0042875,0.0,0.003525,0.0009875,5e-05,2.5e-05,0.000225,0.0,2.5e-05,6.25e-05,0.0003375,2.5e-05,0.0044375,0.0024,6.25e-05,0.0,0.0,0.0005625,2.5e-05,0.0,0.0013,1.25e-05,0.0,0.000125,0.0002625,0.0001125,5e-05,7.5e-05,0.0,2.5e-05,0.0,2.5e-05,0.00025,0.0057125,0.001575,0.00045,0.0,3.75e-05,0.0083875,0.0,0.0,5e-05,0.0097375,0.00045,0.0109375,0.0002875,0.0,2.5e-05,8.75e-05,0.0108125,0.0029375,0.0001,2.5e-05,0.00845,0.008775,3.75e-05,0.0076375,0.010925,0.0006375,1.25e-05,0.0,0.00025,1.25e-05,0.0013125,0.0,0.0008375,3.75e-05,6.25e-05,0.0001,0.0,2.5e-05,0.0,1.25e-05,2.5e-05,7.5e-05,2.5e-05,0.0112875,0.00155,0.00555,1.25e-05,0.0098375,6.25e-05,0.0142,0.0037375,6.25e-05,6.25e-05,0.0001,0.00025,0.0022875,0.00135,1.25e-05,0.0019875,0.0008,0.0114,0.0,0.0163375,0.0023875,0.0019625,0.0,0.0014125,1.25e-05,0.0017,0.0046875,3.75e-05,0.0033,0.001,0.013125,2.5e-05,0.00055,0.0008375,0.0191125,0.000125,0.01325,0.0001625,0.016025,0.0096375,0.0091,0.0,0.0088875,0.0,0.0,0.0,0.0,0.0095875,0.00375,0.0085,0.0096875,0.000525,0.00155,0.0152375,0.002025,0.0005,0.0031375,0.0002,0.011175,0.010075,0.0,3.75e-05,0.0,0.0,0.0156875,0.0027125,0.0,2.5e-05,0.016775,0.0006375,0.0016375,0.0,1.25e-05,2.5e-05,5e-05,6.25e-05,0.0042875,8.75e-05,0.0073,7.5e-05,0.0,0.0,5e-05,0.00025,1.25e-05,3.75e-05,0.0,0.009475,0.015775,0.0170625,0.0058125,0.012175,0.0001375,0.0019625,1.25e-05,0.000225,0.0148875,0.0,0.0005,0.0,0.0009875,0.01595,0.0096875,0.0,2.5e-05,0.0114,0.0007125,0.0004125,0.0001125,2.5e-05,0.0009625,0.0,5e-05,1.25e-05,0.0,0.013,5e-05,0.0002625,1.25e-05,0.0,3.75e-05,0.0001875,0.0001625,1.25e-05,1.25e-05,0.012275,0.0,8.75e-05,8.75e-05,1.25e-05,2.5e-05,6.25e-05,0.0001125,0.0001625,0.0022875,8.75e-05,5e-05,0.0027,1.25e-05,0.00075,0.0,8.75e-05,0.0,0.006425,2.5e-05,1.25e-05,0.0,0.0003625,5e-05,7.5e-05,3.75e-05,0.00035,1.25e-05,0.0004375,0.0009,0.0005875,0.0003125,0.0009,0.0050625,3.75e-05,0.0130375,2.5e-05,0.0,0.00125,8.75e-05,0.0105875,1.25e-05,0.0,0.0,0.0001375,0.00105,0.0002625,0.012775,0.0001875,0.000975,0.00095,0.0,0.0083875,0.0,0.00345,1.25e-05,0.008125,0.0,7.5e-05,0.000375,3.75e-05,2.5e-05,2.5e-05],\"xaxis\":\"x\",\"y\":[7751293.39,60440.24,9968.0,22648.3,85150.0,2359060.83,66983.81,0.0,65741.89,0.0,2565414.5,4300864.23,2933465.25,4314550.89,16642.54,2473877.8,660513.91,627432.86,25577528.17,2183372.57,2390120.97,3943361.57,5949743.81,2022557.14,2623733.1,938689.41,1051451.47,2034865.46,2953288.73,956858.59,2178786.3,2299898.28,2446763.43,3949504.79,1587238.65,3261535.0,367395.21,2651948.74,3255093.36,783058.29,1510163.27,1519205.78,1254503.88,2278299.13,3703609.48,3780991.55,1704812.52,1220339.32,1212156.11,5037026.06,1293189.19,26025611.15,71577.85,5149615.51,461674.19,2410741.93,1712465.57,942886.84,1545895.36,1400594.49,1146918.01,6593261.38,1151100.27,2351040.38,6710480.34,303509.38,26406.22,2734127.98,2883823.65,3563279.53,1840867.05,1981330.09,2182549.03,1695711.93,2779884.08,2899174.85,980885.53,3014746.19,20763.41,20401.13,2247469.3,1585896.95,825897.45,22651.67,27724.28,103281.24,829346.62,6779418.8,82386.46,1275269.43,1752697.27,623725.06,2087129.07,138186.98,1948584.41,124784.97,77168.35,10465.32,67798.9,89920.38,1337428.16,1395014.76,48652.44,102176.81,194751.23,2007965.55,16972737.74,3037853.0,76890.66,567457.14,1152788.78,308353.45,5596710.62,22543.42,36015.7,1058273.57,1042387.26,3197822.62,4218654.84,7231695.0,53023.28,69848.28,13856.48,793218.64,3797651.97,3332176.89,65213.29,3933506.61,6889213.25,46211.8,38117.98,3120058.37,1746109.48,990197.28,938958.69,1053627.4,5577460.28,8498368.19,1563009.22,2483248.03,103536.38,74397.02,0.0,43404.37,50771.6,856806.0,149920.22,122824.28,17691.91,1108610.39,7894095.76,43266.17,7866.73,87461.23,3088931.24,304093.57,18701.81,239157.17,152463.58,3101798.13,40499.57,0.0,3493276.58,1116203.86,1968444.77,2174711.8,2137107.99,1467293.46,962334.32,717659.21,2774380.7,1095414.25,186653.7,1896185.07,3924349.55,13144029.27,599985.23,4701192.12,576607.49,6068685.18,588500.2,1059983.76,5574897.28,3337996.2,9319161.71,30655.33,3806547.95,37258.83,164542.02,1559951.4,9974583.81,5627721.01,55654.51,null,7801458.27,null,2101431.16,3111917.52,null,null,null,2448937.35,905770.41,27169.38,0.0,1215785.4,141892.0,17792.3,45873.61,34342.75,1515666.15,77359.24,147382.22,3088634.59,175792.67,1876018.87,191242.75,2329161.72,957366.44,3717882.21,5707177.36,2124081.81,95646.62,1253021.19,33051.53,3045909.17,312709.84,97677.3,0.0,1758459.0,3409925.52,0.0,5163533.11,4449497.54,2168423.53,1375799.76,6328539.87,930457.44,502345.28,7147162.97,42545.25,8858801.07,3144739.98,8978834.0,1752969.49,1577229.24,3570362.65,3687697.99,3123228.14,3392335.34,52182.79,6337405.99,4956048.45,2690504.26,7142852.46,4099084.97,2325709.69,12513212.8,4442337.22,1877492.94,6079999.11,4769522.48,4194190.94,1752171.46,1777899.62,2525045.84,3051107.9,326454.36,157569.32,2251295.88,1546746.45,3181505.62,1832377.75,2704713.24,1615242.9,603354.96,6037499.66,2768116.46,45356.05,4655784.37,0.0,2542383.02,91186.04,43162.48,22924.5,2243895.59,168937.4,54980.87,144248.42,276778.53,0.0,3393468.71,34098.62,7706.72,0.0,34849.65,72528.57,1037674.86,100291.79,1364461.33,2610019.02,3670803.53,3405187.33,970541.94,414294.52,316546.79,1851679.14,49953.34,866280.03,3293132.71,1706049.76,2055980.52,1596137.42,4823029.87,7002291.19,5362080.12,30546.88,1981382.79,3904868.95,2038067.55,96669.32,0.0,3592375.11,0.0,0.0,85152.99,62513.68,11084.8,1089821.42,2952.09,0.0,1025.0,546322.08,128130.6,0.0,50182.13,199193.86,77331.77,2346631.22,1295134.87,0.0,0.0,1007081.69,231492.19,682068.98,118238.36,0.0,675078.71,136070.11,11098.1,4714812.12,940934.37,451102.93,970008.57,3471591.94,1846105.83,3197037.46,1757510.27,77614.16,1389876.62,279107.58,74498.85,13686.03,3697115.69,42027.58,412570.26,0.0,42824.76,17996.0,187011.42,314866.01,3879207.28,2101438.62,10795195.37,851699.46,936470.02,879916.53,143023.9,9083201.29,2121791.23,58626.65,1898995.83,2502763.72,1911259.96,1697229.23,3924093.95,774333.86,377499.11,2637628.09,2772436.29,9640767.33,1386775.73,838417.65,1143752.09,1890260.75,1220473.56,145774.11,115599.13,null,28025.43,87407.75],\"yaxis\":\"y\",\"type\":\"scatter\"},{\"customdata\":[[\"Sarah Palin\",\"AK-1\"],[\"Barry Moore\",\"AL-2\"],[\"Mike Rogers\",\"AL-3\"],[\"Robert Aderholt\",\"AL-4\"],[\"Dale Strong\",\"AL-5\"],[\"Beatrice Nichols\",\"AL-7\"],[\"Rick Crawford\",\"AR-1\"],[\"French Hill\",\"AR-2\"],[\"Steve Womack\",\"AR-3\"],[\"Bruce Westerman\",\"AR-4\"],[\"David Schweikert\",\"AZ-1\"],[\"Eli Crane\",\"AZ-2\"],[\"Jeff Zink\",\"AZ-3\"],[\"Kelly Cooper\",\"AZ-4\"],[\"Andy Biggs\",\"AZ-5\"],[\"Juan Ciscomani\",\"AZ-6\"],[\"Luis Pozzolo\",\"AZ-7\"],[\"Doug LaMalfa\",\"CA-1\"],[\"John Dennis\",\"CA-11\"],[\"Stephen Slauson\",\"CA-12\"],[\"John Duarte\",\"CA-13\"],[\"Alison Hayden\",\"CA-14\"],[\"Ritesh Tandon\",\"CA-17\"],[\"Peter Hernandez\",\"CA-18\"],[\"Jeff Gorman\",\"CA-19\"],[\"Douglas Brower\",\"CA-2\"],[\"Kevin McCarthy\",\"CA-20\"],[\"Michael Maher\",\"CA-21\"],[\"David G. Valadao\",\"CA-22\"],[\"Jay Obernolte\",\"CA-23\"],[\"Brad Allen\",\"CA-24\"],[\"Brian E. Hawkins\",\"CA-25\"],[\"Matt Jacobs\",\"CA-26\"],[\"Mike Garcia\",\"CA-27\"],[\"Wes Hallman\",\"CA-28\"],[\"Kevin Kiley\",\"CA-3\"],[\"Daniel Bocic Martinez\",\"CA-31\"],[\"Lucie Lapointe Volotzky\",\"CA-32\"],[\"John Mark Porter\",\"CA-33\"],[\"Mike Cargile\",\"CA-35\"],[\"Joe E. Collins III\",\"CA-36\"],[\"Eric J. Ching\",\"CA-38\"],[\"Aja Smith\",\"CA-39\"],[\"Matt Brock\",\"CA-4\"],[\"Young Kim\",\"CA-40\"],[\"Ken Calvert\",\"CA-41\"],[\"John Briscoe\",\"CA-42\"],[\"Omar Navarro\",\"CA-43\"],[\"Paul Jones\",\"CA-44\"],[\"Michelle Steel\",\"CA-45\"],[\"Christopher J. Gonzales\",\"CA-46\"],[\"Scott Baugh\",\"CA-47\"],[\"Darrell Issa\",\"CA-48\"],[\"Brian Maryott\",\"CA-49\"],[\"Tom McClintock\",\"CA-5\"],[\"Corey Gustafson\",\"CA-50\"],[\"Stan Caplan\",\"CA-51\"],[\"Tyler Geffeney\",\"CA-52\"],[\"Tamika Hamilton\",\"CA-6\"],[\"Max Semenenko\",\"CA-7\"],[\"Rudy Recile\",\"CA-8\"],[\"Tom Patti\",\"CA-9\"],[\"Jennifer Qualteri\",\"CO-1\"],[\"Marshall Dawson\",\"CO-2\"],[\"Lauren Boebert\",\"CO-3\"],[\"Ken Buck\",\"CO-4\"],[\"Doug Lamborn\",\"CO-5\"],[\"Steven Monahan\",\"CO-6\"],[\"Erik Aadland\",\"CO-7\"],[\"Barbara Kirkmeyer\",\"CO-8\"],[\"Larry Lazor\",\"CT-1\"],[\"Mike France\",\"CT-2\"],[\"Lesley DeNardis\",\"CT-3\"],[\"Jayme Stevenson\",\"CT-4\"],[\"George Logan\",\"CT-5\"],[\"Lee Murphy\",\"DE-1\"],[\"Matt Gaetz\",\"FL-1\"],[\"Calvin B. Wimbish\",\"FL-10\"],[\"Daniel Webster\",\"FL-11\"],[\"Gus Michael Bilirakis\",\"FL-12\"],[\"Anna Paulina Luna\",\"FL-13\"],[\"James Judge\",\"FL-14\"],[\"Laurel Lee\",\"FL-15\"],[\"Vern Buchanan\",\"FL-16\"],[\"Greg Steube\",\"FL-17\"],[\"Byron Donalds\",\"FL-19\"],[\"Neal Dunn\",\"FL-2\"],[\"Drew Montez Clark\",\"FL-20\"],[\"Brian Mast\",\"FL-21\"],[\"Dan Franzese\",\"FL-22\"],[\"Joe Budd\",\"FL-23\"],[\"Jesus G. Navarro\",\"FL-24\"],[\"Carla Spalding\",\"FL-25\"],[\"Mario Diaz-Balart\",\"FL-26\"],[\"Mar\\u00eda Elvira Salazar\",\"FL-27\"],[\"Carlos A. Gimenez\",\"FL-28\"],[\"Kat Cammack\",\"FL-3\"],[\"Aaron Bean\",\"FL-4\"],[\"Cory Mills\",\"FL-7\"],[\"Bill Posey\",\"FL-8\"],[\"Scotty Moore\",\"FL-9\"],[\"Earl L. \\u201cBuddy\\u201d Carter\",\"GA-1\"],[\"Mike Collins\",\"GA-10\"],[\"Barry Loudermilk\",\"GA-11\"],[\"Rick W. Allen\",\"GA-12\"],[\"Caesar Gonzales\",\"GA-13\"],[\"Marjorie Taylor Greene\",\"GA-14\"],[\"Chris West\",\"GA-2\"],[\"Drew Ferguson\",\"GA-3\"],[\"Jonathan Chavez\",\"GA-4\"],[\"Christian Zimm\",\"GA-5\"],[\"Rich McCormick\",\"GA-6\"],[\"Mark Gonsalves\",\"GA-7\"],[\"Austin Scott\",\"GA-8\"],[\"Andrew Clyde\",\"GA-9\"],[\"Conrad Kress\",\"HI-1\"],[\"Joe Akana\",\"HI-2\"],[\"Mariannette Miller-Meeks\",\"IA-1\"],[\"Ashley Hinson\",\"IA-2\"],[\"Zach Nunn\",\"IA-3\"],[\"Randy Feenstra\",\"IA-4\"],[\"Russ Fulcher\",\"ID-1\"],[\"Mike Simpson\",\"ID-2\"],[\"Eric Carlson\",\"IL-1\"],[\"Joseph Severino\",\"IL-10\"],[\"Catalina Lauf\",\"IL-11\"],[\"Mike Bost\",\"IL-12\"],[\"Regan Deering\",\"IL-13\"],[\"Scott R. Gryder\",\"IL-14\"],[\"Mary Miller\",\"IL-15\"],[\"Darin LaHood\",\"IL-16\"],[\"Esther Joy King\",\"IL-17\"],[\"Thomas Lynch\",\"IL-2\"],[\"Justin Burau\",\"IL-3\"],[\"James Falakos\",\"IL-4\"],[\"Tommy Hanson\",\"IL-5\"],[\"Keith Pekau\",\"IL-6\"],[\"Chris Dargis\",\"IL-8\"],[\"Maxwell \\u201cMax\\u201d Rice\",\"IL-9\"],[\"Jennifer-Ruth Green\",\"IN-1\"],[\"Rudolph Yakym\",\"IN-2\"],[\"Jim Banks\",\"IN-3\"],[\"Jim Baird\",\"IN-4\"],[\"Victoria Spartz\",\"IN-5\"],[\"Greg Pence\",\"IN-6\"],[\"Angela Grabovsky\",\"IN-7\"],[\"Larry D. Bucshon\",\"IN-8\"],[\"Erin Houchin\",\"IN-9\"],[\"Tracey Mann\",\"KS-1\"],[\"Jake LaTurner\",\"KS-2\"],[\"Amanda L. Adkins\",\"KS-3\"],[\"Ron Estes\",\"KS-4\"],[\"James R. Comer\",\"KY-1\"],[\"S. Brett Guthrie\",\"KY-2\"],[\"Stuart N. Ray\",\"KY-3\"],[\"Thomas Massie\",\"KY-4\"],[\"Harold \\u201cHal\\u201d Rogers\",\"KY-5\"],[\"Andy Barr\",\"KY-6\"],[\"Steve Scalise\",\"LA-1\"],[\"Dan Lux\",\"LA-2\"],[\"Clay Higgins\",\"LA-3\"],[\"Julia Letlow\",\"LA-5\"],[\"Dean James Martilli\",\"MA-1\"],[\"Jeffrey A. Sossa-Paquette\",\"MA-2\"],[\"Dean A. Tran\",\"MA-3\"],[\"Caroline Colarusso\",\"MA-5\"],[\"Bob May\",\"MA-6\"],[\"Donnie Dionicio Palmer Jr.\",\"MA-7\"],[\"Robert G. Burke\",\"MA-8\"],[\"Jesse G. Brown\",\"MA-9\"],[\"Andy Harris\",\"MD-1\"],[\"Nicolee Ambrose\",\"MD-2\"],[\"Yuripzy Morgan\",\"MD-3\"],[\"Jeff Warner\",\"MD-4\"],[\"Chris Palombi\",\"MD-5\"],[\"Neil C. Parrott\",\"MD-6\"],[\"Scott M. Collier\",\"MD-7\"],[\"Gregory Thomas Coll\",\"MD-8\"],[\"Edwin Thelander\",\"ME-1\"],[\"Bruce Poliquin\",\"ME-2\"],[\"Jack Bergman\",\"MI-1\"],[\"John James\",\"MI-10\"],[\"Mark Ambrose\",\"MI-11\"],[\"Steven Elliott\",\"MI-12\"],[\"Martell D. Bivings\",\"MI-13\"],[\"John Moolenaar\",\"MI-2\"],[\"John Gibbs\",\"MI-3\"],[\"Bill Huizenga\",\"MI-4\"],[\"Tim Walberg\",\"MI-5\"],[\"Whittney Williams\",\"MI-6\"],[\"Tom Barrett\",\"MI-7\"],[\"Paul Junge\",\"MI-8\"],[\"Lisa McClain\",\"MI-9\"],[\"Brad Finstad\",\"MN-1\"],[\"Tyler Kistner\",\"MN-2\"],[\"Tom Weiler\",\"MN-3\"],[\"May Lor Xiong\",\"MN-4\"],[\"Cicely Davis\",\"MN-5\"],[\"Tom Emmer\",\"MN-6\"],[\"Michelle Fischbach\",\"MN-7\"],[\"Pete Stauber\",\"MN-8\"],[\"Andrew Jones\",\"MO-1\"],[\"Ann Wagner\",\"MO-2\"],[\"Blaine Luetkemeyer\",\"MO-3\"],[\"Mark Alford\",\"MO-4\"],[\"Jacob Turk\",\"MO-5\"],[\"Sam Graves\",\"MO-6\"],[\"Eric Burlison\",\"MO-7\"],[\"Jason Smith\",\"MO-8\"],[\"Trent Kelly\",\"MS-1\"],[\"Brian Flowers\",\"MS-2\"],[\"Michael Guest\",\"MS-3\"],[\"Mike Ezell\",\"MS-4\"],[\"Ryan K. Zinke\",\"MT-1\"],[\"Matt Rosendale\",\"MT-2\"],[\"Sandy Smith\",\"NC-1\"],[\"Patrick McHenry\",\"NC-10\"],[\"Chuck Edwards\",\"NC-11\"],[\"Tyler Lee\",\"NC-12\"],[\"Bo Hines\",\"NC-13\"],[\"Pat Harrigan\",\"NC-14\"],[\"Christine E. Villaverde\",\"NC-2\"],[\"Greg Murphy\",\"NC-3\"],[\"Courtney Geels\",\"NC-4\"],[\"Virginia Foxx\",\"NC-5\"],[\"Christian Castelli\",\"NC-6\"],[\"David Rouzer\",\"NC-7\"],[\"Dan Bishop\",\"NC-8\"],[\"Richard Hudson\",\"NC-9\"],[\"Mike Flood\",\"NE-1\"],[\"Don Bacon\",\"NE-2\"],[\"Adrian Smith\",\"NE-3\"],[\"Karoline Leavitt\",\"NH-1\"],[\"Robert Burns\",\"NH-2\"],[\"Claire Gustafson\",\"NJ-1\"],[\"David H. Pinckney\",\"NJ-10\"],[\"Paul DeGroot\",\"NJ-11\"],[\"Darius Mayfield\",\"NJ-12\"],[\"Jeff Van Drew\",\"NJ-2\"],[\"Bob Healey\",\"NJ-3\"],[\"Christopher H. Smith\",\"NJ-4\"],[\"Frank T. Pallotta\",\"NJ-5\"],[\"Susan M. Kiley\",\"NJ-6\"],[\"Thomas H. Kean Jr.\",\"NJ-7\"],[\"Marcos Arroyo\",\"NJ-8\"],[\"Billy Prempeh\",\"NJ-9\"],[\"Michelle Garcia Holmes\",\"NM-1\"],[\"Yvette Herrell\",\"NM-2\"],[\"Alexis Martinez Johnson\",\"NM-3\"],[\"Mark Robertson\",\"NV-1\"],[\"Mark E. Amodei\",\"NV-2\"],[\"April Becker\",\"NV-3\"],[\"Sam Peters\",\"NV-4\"],[\"Nicholas J. LaLota\",\"NY-1\"],[\"Benine Hamdan\",\"NY-10\"],[\"Nicole Malliotakis\",\"NY-11\"],[\"Michael Zumbluskas\",\"NY-12\"],[\"Tina Forte\",\"NY-14\"],[\"Stylo A. Sapaskis\",\"NY-15\"],[\"Miriam L. Flisser\",\"NY-16\"],[\"Michael V. Lawler\",\"NY-17\"],[\"Colin J. Schmitt\",\"NY-18\"],[\"Marcus Molinaro\",\"NY-19\"],[\"Andrew R. Garbarino\",\"NY-2\"],[\"Elizabeth L. Joy\",\"NY-20\"],[\"Elise M. Stefanik\",\"NY-21\"],[\"Brandon M. Williams\",\"NY-22\"],[\"Nick Langworthy\",\"NY-23\"],[\"Claudia Tenney\",\"NY-24\"],[\"La'Ron D. Singletary\",\"NY-25\"],[\"Steven L. Sams II\",\"NY-26\"],[\"George A.D. Santos\",\"NY-3\"],[\"Anthony P. D'Esposito\",\"NY-4\"],[\"Paul King\",\"NY-5\"],[\"Tom Zmich\",\"NY-6\"],[\"Juan Pag\\u00e1n\",\"NY-7\"],[\"Yuri Dashevsky\",\"NY-8\"],[\"Steve Chabot\",\"OH-1\"],[\"Mike Turner\",\"OH-10\"],[\"Eric J. Brewer\",\"OH-11\"],[\"Troy Balderson\",\"OH-12\"],[\"Madison Gesiotto Gilbert\",\"OH-13\"],[\"David P. Joyce\",\"OH-14\"],[\"Mike Carey\",\"OH-15\"],[\"Brad Wenstrup\",\"OH-2\"],[\"Lee R. Stahley\",\"OH-3\"],[\"Jim Jordan\",\"OH-4\"],[\"Bob Latta\",\"OH-5\"],[\"Bill Johnson\",\"OH-6\"],[\"Max Miller\",\"OH-7\"],[\"Warren Davidson\",\"OH-8\"],[\"J.R. Majewski\",\"OH-9\"],[\"Kevin Hern\",\"OK-1\"],[\"Josh Brecheen\",\"OK-2\"],[\"Frank D. Lucas\",\"OK-3\"],[\"Tom Cole\",\"OK-4\"],[\"Stephanie Bice\",\"OK-5\"],[\"Christopher A. Mann\",\"OR-1\"],[\"Cliff S. Bentz\",\"OR-2\"],[\"Joanna Harbour\",\"OR-3\"],[\"Alek Skarlatos\",\"OR-4\"],[\"Lori Chavez-DeRemer\",\"OR-5\"],[\"Mike Erickson\",\"OR-6\"],[\"Brian Fitzpatrick\",\"PA-1\"],[\"Scott Perry\",\"PA-10\"],[\"Lloyd K. Smucker\",\"PA-11\"],[\"Mike Doyle\",\"PA-12\"],[\"Glenn \\u201cGT\\u201d Thompson\",\"PA-15\"],[\"Mike Kelly\",\"PA-16\"],[\"Jeremy Shaffer\",\"PA-17\"],[\"Aaron Bashir\",\"PA-2\"],[\"Christian Nascimento\",\"PA-4\"],[\"David Galluch\",\"PA-5\"],[\"Guy Louis Ciarrocchi\",\"PA-6\"],[\"Lisa Scheller\",\"PA-7\"],[\"Jim Bognet\",\"PA-8\"],[\"Dan Meuser\",\"PA-9\"],[\"Allen R. Waters\",\"RI-1\"],[\"Allan W. Fung\",\"RI-2\"],[\"Nancy Mace\",\"SC-1\"],[\"Joe Wilson\",\"SC-2\"],[\"Ralph Norman\",\"SC-5\"],[\"Duke Buckner\",\"SC-6\"],[\"Russell Fry\",\"SC-7\"],[\"Diana Lynn Harshbarger\",\"TN-1\"],[\"Tim Burchett\",\"TN-2\"],[\"Chuck Fleischmann\",\"TN-3\"],[\"Scott DesJarlais\",\"TN-4\"],[\"Andy Ogles\",\"TN-5\"],[\"John Rose\",\"TN-6\"],[\"Mark E. Green\",\"TN-7\"],[\"David Kustoff\",\"TN-8\"],[\"Charlotte Bergmann\",\"TN-9\"],[\"Nathaniel Moran\",\"TX-1\"],[\"Michael McCaul\",\"TX-10\"],[\"Kay Granger\",\"TX-12\"],[\"Ronny Jackson\",\"TX-13\"],[\"Randy Weber\",\"TX-14\"],[\"Monica De La Cruz\",\"TX-15\"],[\"Irene Armendariz-Jackson\",\"TX-16\"],[\"Pete Sessions\",\"TX-17\"],[\"Carmen Maria Montiel\",\"TX-18\"],[\"Dan Crenshaw\",\"TX-2\"],[\"Kyle Sinclair\",\"TX-20\"],[\"Chip Roy\",\"TX-21\"],[\"Troy E. Nehls\",\"TX-22\"],[\"Tony Gonzales\",\"TX-23\"],[\"Beth Van Duyne\",\"TX-24\"],[\"Michael Cloud\",\"TX-27\"],[\"Cassy Garcia\",\"TX-28\"],[\"Robert Schafranek\",\"TX-29\"],[\"Keith Self\",\"TX-3\"],[\"James Rodgers\",\"TX-30\"],[\"Antonio Swad\",\"TX-32\"],[\"Patrick David Gillespie\",\"TX-33\"],[\"Mayra Flores\",\"TX-34\"],[\"Dan McQueen\",\"TX-35\"],[\"Brian Babin\",\"TX-36\"],[\"Jenny Garcia Sharon\",\"TX-37\"],[\"Wesley Hunt\",\"TX-38\"],[\"Pat Fallon\",\"TX-4\"],[\"Lance Gooden\",\"TX-5\"],[\"Johnny Teague\",\"TX-7\"],[\"Morgan Luttrell\",\"TX-8\"],[\"Jimmy I. Leon\",\"TX-9\"],[\"Blake D. Moore\",\"UT-1\"],[\"Chris Stewart\",\"UT-2\"],[\"John Curtis\",\"UT-3\"],[\"Burgess Owens\",\"UT-4\"],[\"Rob J. Wittman\",\"VA-1\"],[\"Hung Cao\",\"VA-10\"],[\"James G. \\u201cJim\\u201d Myles\",\"VA-11\"],[\"Jen A. Kiggans\",\"VA-2\"],[\"Terry T. Namkung\",\"VA-3\"],[\"Leon Benjamin Sr.\",\"VA-4\"],[\"Robert G. \\u201cBob\\u201d Good\",\"VA-5\"],[\"Ben L. Cline\",\"VA-6\"],[\"Yesli I. Vega\",\"VA-7\"],[\"Karina A. Lipsman\",\"VA-8\"],[\"H. Morgan Griffith\",\"VA-9\"],[\"Liam Madden\",\"VT-1\"],[\"Vincent J. Cavaleri\",\"WA-1\"],[\"Keith R. Swank\",\"WA-10\"],[\"Dan Matthews\",\"WA-2\"],[\"Joe Kent\",\"WA-3\"],[\"Dan Newhouse\",\"WA-4\"],[\"Cathy McMorris Rodgers\",\"WA-5\"],[\"Elizabeth Kreiselmaier\",\"WA-6\"],[\"Cliff Moon\",\"WA-7\"],[\"Matt Larkin\",\"WA-8\"],[\"Doug Basler\",\"WA-9\"],[\"Bryan Steil\",\"WI-1\"],[\"Erik Olsen\",\"WI-2\"],[\"Derrick Van Orden\",\"WI-3\"],[\"Tim Rogers\",\"WI-4\"],[\"Scott Fitzgerald\",\"WI-5\"],[\"Tom Tiffany\",\"WI-7\"],[\"Carol Miller\",\"WV-1\"],[\"Alexander X. Mooney\",\"WV-2\"],[\"Harriet Hageman\",\"WY-1\"]],\"hovertemplate\":\"party=R<br>How Much each Race Matters (Probability of deciding control of congress)=%{x}<br>Total Fundraising Receipts=%{y}<br>name=%{customdata[0]}<br>district=%{customdata[1]}<extra></extra>\",\"legendgroup\":\"R\",\"marker\":{\"color\":\"#EF553B\",\"symbol\":\"circle\"},\"mode\":\"markers\",\"name\":\"R\",\"orientation\":\"v\",\"showlegend\":true,\"x\":[0.008475,3.75e-05,1.25e-05,0.0,0.000375,1.25e-05,1.25e-05,0.000825,8.75e-05,0.0,0.010175,0.0123875,2.5e-05,0.0067625,3.75e-05,0.0149625,8.75e-05,0.0002,0.0,0.0,0.0093,0.0,2.5e-05,1.25e-05,1.25e-05,0.0,0.0,0.0056875,0.009875,0.000575,0.000125,0.0009,0.0028375,0.0134875,5e-05,0.007775,3.75e-05,2.5e-05,0.00035,8.75e-05,1.25e-05,5e-05,0.0001875,1.25e-05,0.005625,0.006025,3.75e-05,0.0,0.0,0.0087375,3.75e-05,0.0031625,0.0001875,0.004625,0.0003625,6.25e-05,0.0001125,2.5e-05,0.0008625,0.0,0.0,0.0083875,0.0,3.75e-05,0.01005,0.0001125,0.00045,0.0003625,0.008725,0.0135625,0.0001625,0.0003875,0.0008375,0.00025,0.0125,0.0007125,0.0018625,0.000175,0.000325,2.5e-05,0.016675,0.0006625,0.0119875,0.0010125,0.000375,0.000125,0.0099125,0.0,0.001,0.0005625,0.00575,0.0,0.000325,0.00125,0.0133,0.0054,0.0006,0.004525,0.0043125,0.000275,0.0004375,0.00045,0.0002875,0.000125,0.0008625,0.0,1.25e-05,0.005075,1.25e-05,0.0,0.0,0.000875,0.0004875,3.75e-05,0.0,5e-05,0.0002625,0.012525,0.0110125,0.0149375,0.0001125,0.0,7.5e-05,0.0,0.001125,0.0011125,0.0,0.0089,0.002275,1.25e-05,0.000225,0.009525,1.25e-05,2.5e-05,0.0,0.0,0.002475,0.0042875,0.0,0.003525,0.0009875,5e-05,2.5e-05,0.000225,0.0,2.5e-05,6.25e-05,0.0003375,2.5e-05,0.0044375,0.0024,6.25e-05,0.0,0.0,0.0005625,2.5e-05,0.0,0.0013,1.25e-05,0.0,0.000125,0.0002625,0.0001125,5e-05,7.5e-05,0.0,2.5e-05,0.0,2.5e-05,0.00025,0.0057125,0.001575,0.00045,0.0,3.75e-05,0.0083875,0.0,0.0,5e-05,0.0097375,0.00045,0.0109375,0.0002875,0.0,2.5e-05,8.75e-05,0.0108125,0.0029375,0.0001,2.5e-05,0.00845,0.008775,3.75e-05,0.0076375,0.010925,0.0006375,1.25e-05,0.0,0.00025,1.25e-05,0.0013125,0.0,0.0008375,3.75e-05,6.25e-05,0.0001,0.0,2.5e-05,0.0,1.25e-05,2.5e-05,7.5e-05,2.5e-05,0.0112875,0.00155,0.00555,1.25e-05,0.0098375,6.25e-05,0.0142,0.0037375,6.25e-05,6.25e-05,0.0001,0.00025,0.0022875,0.00135,1.25e-05,0.0019875,0.0008,0.0114,0.0,0.0163375,0.0023875,0.0019625,0.0,0.0014125,1.25e-05,0.0017,0.0046875,3.75e-05,0.0033,0.001,0.013125,2.5e-05,0.00055,0.0008375,0.0191125,0.000125,0.01325,0.0001625,0.016025,0.0096375,0.0091,0.0,0.0088875,0.0,0.0,0.0,0.0,0.0095875,0.00375,0.0085,0.0096875,0.000525,0.00155,0.0152375,0.002025,0.0005,0.0031375,0.0002,0.011175,0.010075,0.0,3.75e-05,0.0,0.0,0.0156875,0.0027125,0.0,2.5e-05,0.016775,0.0006375,0.0016375,0.0,1.25e-05,2.5e-05,5e-05,6.25e-05,0.0042875,8.75e-05,0.0073,7.5e-05,0.0,0.0,5e-05,0.00025,1.25e-05,3.75e-05,0.0,0.009475,0.015775,0.0170625,0.0058125,0.012175,0.0001375,0.0019625,1.25e-05,0.000225,0.0148875,0.0,0.0005,0.0,0.0009875,0.01595,0.0096875,0.0,2.5e-05,0.0114,0.0007125,0.0004125,0.0001125,2.5e-05,0.0009625,0.0,5e-05,1.25e-05,0.0,0.013,5e-05,0.0002625,1.25e-05,0.0,3.75e-05,0.0001875,0.0001625,1.25e-05,1.25e-05,0.012275,0.0,8.75e-05,1.25e-05,2.5e-05,6.25e-05,0.0001125,0.0001625,0.0022875,8.75e-05,5e-05,0.0027,1.25e-05,0.00075,0.0,8.75e-05,0.0,0.006425,2.5e-05,1.25e-05,0.0,0.0003625,5e-05,7.5e-05,3.75e-05,0.00035,1.25e-05,0.0004375,0.0009,0.0005875,0.0003125,0.0009,0.0050625,3.75e-05,0.0130375,2.5e-05,0.0,0.00125,8.75e-05,0.0105875,1.25e-05,0.0,0.0,0.0001375,0.00105,0.0002625,0.012775,0.0001875,0.000975,0.00095,0.0,0.0083875,0.0,0.00345,1.25e-05,0.008125,0.0,7.5e-05,0.000375,3.75e-05,2.5e-05,2.5e-05],\"xaxis\":\"x\",\"y\":[1971160.93,896776.46,2261995.22,1540807.2,1994353.59,47728.98,1087410.34,3396282.37,1664168.78,1944291.45,null,3779765.67,73781.24,2342076.93,2116014.71,3398846.75,null,961209.18,998254.03,1050.0,null,0.0,116486.0,251022.45,58794.18,15677.0,28295639.53,311788.67,3738008.91,1060460.56,40904.0,541664.83,2655736.79,7192788.37,109463.22,3212844.0,0.0,53589.76,4318.62,67073.63,2524892.82,280589.09,null,11265.0,9340940.92,3728273.29,527945.0,85997.53,null,7411601.19,55923.37,3145463.28,2337213.84,5591297.83,1674004.02,94112.24,135385.49,40408.04,1158787.4,58819.37,60648.94,1627893.83,0.0,48943.09,7854668.58,1618431.12,506157.3,258207.39,1525113.68,1602545.07,190652.21,880637.26,46977.86,553804.9,1297352.41,349933.46,6727002.23,253418.48,783304.69,1985594.58,3387013.53,216847.03,1563092.79,4693372.7,1645535.54,5657617.12,1800603.34,145971.24,6338072.31,1614198.79,171383.71,15868.09,2002921.5,1811601.56,5647931.39,2143685.24,2323162.63,1198576.19,2634884.12,1030661.36,601171.19,2127328.91,1467857.85,795499.29,990712.76,19033.64,12588124.11,1020600.4,3427041.42,0.0,35221.14,4636744.33,567363.58,832289.28,819947.75,82409.58,71641.86,4911923.34,7191931.25,2633465.87,2886169.99,536931.86,1623606.84,5896.21,34275.0,2775559.99,1664091.4,2096672.96,658298.5,2019930.74,3915556.68,5114935.2,0.0,28273.99,0.0,28663.3,1514693.19,545818.55,9895.5,3492664.39,1151524.32,2653270.22,434679.53,4156237.89,2281638.58,498397.85,1428441.16,1356559.0,1237054.19,1478931.28,3854560.75,1877363.59,1649489.62,2259392.72,622973.39,1105338.75,820504.67,3845266.61,18570245.06,32371.0,1057244.85,2849171.25,19752.89,140906.35,158145.09,107077.48,53398.0,0.0,0.0,352855.67,1921505.35,500312.76,503051.87,57740.7,63553.38,1098843.33,0.0,16294.27,454062.79,3671939.64,1841958.42,6954183.56,668345.01,265846.32,99789.93,2197543.5,1686030.12,3073021.13,null,12069.75,2834508.15,3108702.53,null,1500243.97,3409854.76,681468.99,133467.1,3226697.65,4431685.38,1677464.61,2470828.61,49116.03,4884445.83,3640059.18,1038063.25,37587.0,2383368.94,1081116.19,3198303.83,1113277.81,49488.03,1353829.76,1062857.78,null,2284637.89,2187047.47,3911761.09,1584205.79,211748.03,3286174.94,null,149375.48,1993505.57,409981.2,2208535.0,928501.85,1496207.61,1944120.33,3120527.33,2195050.83,3919222.53,1709691.29,3691942.57,401645.82,38650.0,0.0,710058.5,266328.89,3119520.28,4713439.44,1494147.31,982795.94,399477.05,4476737.53,0.0,309100.35,391731.56,4431274.96,303535.55,1337673.46,1219752.54,2488761.16,1964059.59,1551713.01,25027.8,4642144.71,19176.52,1540477.62,0.0,17023.0,1553320.59,2062676.07,2491602.09,3551116.76,1169097.57,9489980.78,941403.42,763707.48,3301121.74,710075.2,36659.11,3000675.52,1325986.26,130038.17,2405.87,0.0,19970.31,2234658.79,1522717.13,0.0,1919520.06,2197170.59,2606247.74,2363798.92,2088194.25,0.0,14293131.39,1560724.66,1706984.83,3045488.99,976169.59,1185047.37,1709945.49,654619.23,1524419.03,2335186.44,2491328.51,0.0,1184427.97,14925.0,4538041.24,2568275.52,3957227.25,4560231.74,3043768.91,1560516.69,205104.56,2692356.32,1320811.66,2786043.66,0.0,239390.88,746756.83,1038552.06,6354578.69,3017514.63,1101338.69,45441.69,2247796.52,5884937.13,1020327.32,890552.23,205668.71,1428232.9,2000622.04,1427400.67,1058051.28,174860.33,1281921.17,2055441.26,1763091.7,1913469.28,400705.46,1051039.2,2729647.14,2041432.69,5097598.64,1036639.13,4688233.32,389697.69,1001775.53,126358.5,15916738.83,293147.37,2344485.0,1375451.92,4307414.2,3782404.28,1076329.45,3485707.38,0.0,592898.76,64725.05,2386122.49,0.0,4685774.09,31515.0,1054678.32,9153.0,5831956.81,1009595.34,1038969.23,191713.98,4750765.79,1121.26,1792532.69,1096841.01,2120305.46,3685802.41,2191153.97,3304902.6,235273.48,3485709.65,180080.37,382045.09,1172672.7,993251.5,3679371.94,290981.09,813068.46,null,185847.78,160970.22,145529.16,3727353.44,2148295.38,6416913.26,426186.56,8019.18,2810552.79,133962.28,3616861.88,89666.7,6479115.13,0.0,996710.79,1181268.65,1236366.77,4477286.55,5737078.7],\"yaxis\":\"y\",\"type\":\"scatter\"}],                        {\"template\":{\"data\":{\"histogram2dcontour\":[{\"type\":\"histogram2dcontour\",\"colorbar\":{\"outlinewidth\":0,\"ticks\":\"\"},\"colorscale\":[[0.0,\"#0d0887\"],[0.1111111111111111,\"#46039f\"],[0.2222222222222222,\"#7201a8\"],[0.3333333333333333,\"#9c179e\"],[0.4444444444444444,\"#bd3786\"],[0.5555555555555556,\"#d8576b\"],[0.6666666666666666,\"#ed7953\"],[0.7777777777777778,\"#fb9f3a\"],[0.8888888888888888,\"#fdca26\"],[1.0,\"#f0f921\"]]}],\"choropleth\":[{\"type\":\"choropleth\",\"colorbar\":{\"outlinewidth\":0,\"ticks\":\"\"}}],\"histogram2d\":[{\"type\":\"histogram2d\",\"colorbar\":{\"outlinewidth\":0,\"ticks\":\"\"},\"colorscale\":[[0.0,\"#0d0887\"],[0.1111111111111111,\"#46039f\"],[0.2222222222222222,\"#7201a8\"],[0.3333333333333333,\"#9c179e\"],[0.4444444444444444,\"#bd3786\"],[0.5555555555555556,\"#d8576b\"],[0.6666666666666666,\"#ed7953\"],[0.7777777777777778,\"#fb9f3a\"],[0.8888888888888888,\"#fdca26\"],[1.0,\"#f0f921\"]]}],\"heatmap\":[{\"type\":\"heatmap\",\"colorbar\":{\"outlinewidth\":0,\"ticks\":\"\"},\"colorscale\":[[0.0,\"#0d0887\"],[0.1111111111111111,\"#46039f\"],[0.2222222222222222,\"#7201a8\"],[0.3333333333333333,\"#9c179e\"],[0.4444444444444444,\"#bd3786\"],[0.5555555555555556,\"#d8576b\"],[0.6666666666666666,\"#ed7953\"],[0.7777777777777778,\"#fb9f3a\"],[0.8888888888888888,\"#fdca26\"],[1.0,\"#f0f921\"]]}],\"heatmapgl\":[{\"type\":\"heatmapgl\",\"colorbar\":{\"outlinewidth\":0,\"ticks\":\"\"},\"colorscale\":[[0.0,\"#0d0887\"],[0.1111111111111111,\"#46039f\"],[0.2222222222222222,\"#7201a8\"],[0.3333333333333333,\"#9c179e\"],[0.4444444444444444,\"#bd3786\"],[0.5555555555555556,\"#d8576b\"],[0.6666666666666666,\"#ed7953\"],[0.7777777777777778,\"#fb9f3a\"],[0.8888888888888888,\"#fdca26\"],[1.0,\"#f0f921\"]]}],\"contourcarpet\":[{\"type\":\"contourcarpet\",\"colorbar\":{\"outlinewidth\":0,\"ticks\":\"\"}}],\"contour\":[{\"type\":\"contour\",\"colorbar\":{\"outlinewidth\":0,\"ticks\":\"\"},\"colorscale\":[[0.0,\"#0d0887\"],[0.1111111111111111,\"#46039f\"],[0.2222222222222222,\"#7201a8\"],[0.3333333333333333,\"#9c179e\"],[0.4444444444444444,\"#bd3786\"],[0.5555555555555556,\"#d8576b\"],[0.6666666666666666,\"#ed7953\"],[0.7777777777777778,\"#fb9f3a\"],[0.8888888888888888,\"#fdca26\"],[1.0,\"#f0f921\"]]}],\"surface\":[{\"type\":\"surface\",\"colorbar\":{\"outlinewidth\":0,\"ticks\":\"\"},\"colorscale\":[[0.0,\"#0d0887\"],[0.1111111111111111,\"#46039f\"],[0.2222222222222222,\"#7201a8\"],[0.3333333333333333,\"#9c179e\"],[0.4444444444444444,\"#bd3786\"],[0.5555555555555556,\"#d8576b\"],[0.6666666666666666,\"#ed7953\"],[0.7777777777777778,\"#fb9f3a\"],[0.8888888888888888,\"#fdca26\"],[1.0,\"#f0f921\"]]}],\"mesh3d\":[{\"type\":\"mesh3d\",\"colorbar\":{\"outlinewidth\":0,\"ticks\":\"\"}}],\"scatter\":[{\"fillpattern\":{\"fillmode\":\"overlay\",\"size\":10,\"solidity\":0.2},\"type\":\"scatter\"}],\"parcoords\":[{\"type\":\"parcoords\",\"line\":{\"colorbar\":{\"outlinewidth\":0,\"ticks\":\"\"}}}],\"scatterpolargl\":[{\"type\":\"scatterpolargl\",\"marker\":{\"colorbar\":{\"outlinewidth\":0,\"ticks\":\"\"}}}],\"bar\":[{\"error_x\":{\"color\":\"#2a3f5f\"},\"error_y\":{\"color\":\"#2a3f5f\"},\"marker\":{\"line\":{\"color\":\"#E5ECF6\",\"width\":0.5},\"pattern\":{\"fillmode\":\"overlay\",\"size\":10,\"solidity\":0.2}},\"type\":\"bar\"}],\"scattergeo\":[{\"type\":\"scattergeo\",\"marker\":{\"colorbar\":{\"outlinewidth\":0,\"ticks\":\"\"}}}],\"scatterpolar\":[{\"type\":\"scatterpolar\",\"marker\":{\"colorbar\":{\"outlinewidth\":0,\"ticks\":\"\"}}}],\"histogram\":[{\"marker\":{\"pattern\":{\"fillmode\":\"overlay\",\"size\":10,\"solidity\":0.2}},\"type\":\"histogram\"}],\"scattergl\":[{\"type\":\"scattergl\",\"marker\":{\"colorbar\":{\"outlinewidth\":0,\"ticks\":\"\"}}}],\"scatter3d\":[{\"type\":\"scatter3d\",\"line\":{\"colorbar\":{\"outlinewidth\":0,\"ticks\":\"\"}},\"marker\":{\"colorbar\":{\"outlinewidth\":0,\"ticks\":\"\"}}}],\"scattermapbox\":[{\"type\":\"scattermapbox\",\"marker\":{\"colorbar\":{\"outlinewidth\":0,\"ticks\":\"\"}}}],\"scatterternary\":[{\"type\":\"scatterternary\",\"marker\":{\"colorbar\":{\"outlinewidth\":0,\"ticks\":\"\"}}}],\"scattercarpet\":[{\"type\":\"scattercarpet\",\"marker\":{\"colorbar\":{\"outlinewidth\":0,\"ticks\":\"\"}}}],\"carpet\":[{\"aaxis\":{\"endlinecolor\":\"#2a3f5f\",\"gridcolor\":\"white\",\"linecolor\":\"white\",\"minorgridcolor\":\"white\",\"startlinecolor\":\"#2a3f5f\"},\"baxis\":{\"endlinecolor\":\"#2a3f5f\",\"gridcolor\":\"white\",\"linecolor\":\"white\",\"minorgridcolor\":\"white\",\"startlinecolor\":\"#2a3f5f\"},\"type\":\"carpet\"}],\"table\":[{\"cells\":{\"fill\":{\"color\":\"#EBF0F8\"},\"line\":{\"color\":\"white\"}},\"header\":{\"fill\":{\"color\":\"#C8D4E3\"},\"line\":{\"color\":\"white\"}},\"type\":\"table\"}],\"barpolar\":[{\"marker\":{\"line\":{\"color\":\"#E5ECF6\",\"width\":0.5},\"pattern\":{\"fillmode\":\"overlay\",\"size\":10,\"solidity\":0.2}},\"type\":\"barpolar\"}],\"pie\":[{\"automargin\":true,\"type\":\"pie\"}]},\"layout\":{\"autotypenumbers\":\"strict\",\"colorway\":[\"#636efa\",\"#EF553B\",\"#00cc96\",\"#ab63fa\",\"#FFA15A\",\"#19d3f3\",\"#FF6692\",\"#B6E880\",\"#FF97FF\",\"#FECB52\"],\"font\":{\"color\":\"#2a3f5f\"},\"hovermode\":\"closest\",\"hoverlabel\":{\"align\":\"left\"},\"paper_bgcolor\":\"white\",\"plot_bgcolor\":\"#E5ECF6\",\"polar\":{\"bgcolor\":\"#E5ECF6\",\"angularaxis\":{\"gridcolor\":\"white\",\"linecolor\":\"white\",\"ticks\":\"\"},\"radialaxis\":{\"gridcolor\":\"white\",\"linecolor\":\"white\",\"ticks\":\"\"}},\"ternary\":{\"bgcolor\":\"#E5ECF6\",\"aaxis\":{\"gridcolor\":\"white\",\"linecolor\":\"white\",\"ticks\":\"\"},\"baxis\":{\"gridcolor\":\"white\",\"linecolor\":\"white\",\"ticks\":\"\"},\"caxis\":{\"gridcolor\":\"white\",\"linecolor\":\"white\",\"ticks\":\"\"}},\"coloraxis\":{\"colorbar\":{\"outlinewidth\":0,\"ticks\":\"\"}},\"colorscale\":{\"sequential\":[[0.0,\"#0d0887\"],[0.1111111111111111,\"#46039f\"],[0.2222222222222222,\"#7201a8\"],[0.3333333333333333,\"#9c179e\"],[0.4444444444444444,\"#bd3786\"],[0.5555555555555556,\"#d8576b\"],[0.6666666666666666,\"#ed7953\"],[0.7777777777777778,\"#fb9f3a\"],[0.8888888888888888,\"#fdca26\"],[1.0,\"#f0f921\"]],\"sequentialminus\":[[0.0,\"#0d0887\"],[0.1111111111111111,\"#46039f\"],[0.2222222222222222,\"#7201a8\"],[0.3333333333333333,\"#9c179e\"],[0.4444444444444444,\"#bd3786\"],[0.5555555555555556,\"#d8576b\"],[0.6666666666666666,\"#ed7953\"],[0.7777777777777778,\"#fb9f3a\"],[0.8888888888888888,\"#fdca26\"],[1.0,\"#f0f921\"]],\"diverging\":[[0,\"#8e0152\"],[0.1,\"#c51b7d\"],[0.2,\"#de77ae\"],[0.3,\"#f1b6da\"],[0.4,\"#fde0ef\"],[0.5,\"#f7f7f7\"],[0.6,\"#e6f5d0\"],[0.7,\"#b8e186\"],[0.8,\"#7fbc41\"],[0.9,\"#4d9221\"],[1,\"#276419\"]]},\"xaxis\":{\"gridcolor\":\"white\",\"linecolor\":\"white\",\"ticks\":\"\",\"title\":{\"standoff\":15},\"zerolinecolor\":\"white\",\"automargin\":true,\"zerolinewidth\":2},\"yaxis\":{\"gridcolor\":\"white\",\"linecolor\":\"white\",\"ticks\":\"\",\"title\":{\"standoff\":15},\"zerolinecolor\":\"white\",\"automargin\":true,\"zerolinewidth\":2},\"scene\":{\"xaxis\":{\"backgroundcolor\":\"#E5ECF6\",\"gridcolor\":\"white\",\"linecolor\":\"white\",\"showbackground\":true,\"ticks\":\"\",\"zerolinecolor\":\"white\",\"gridwidth\":2},\"yaxis\":{\"backgroundcolor\":\"#E5ECF6\",\"gridcolor\":\"white\",\"linecolor\":\"white\",\"showbackground\":true,\"ticks\":\"\",\"zerolinecolor\":\"white\",\"gridwidth\":2},\"zaxis\":{\"backgroundcolor\":\"#E5ECF6\",\"gridcolor\":\"white\",\"linecolor\":\"white\",\"showbackground\":true,\"ticks\":\"\",\"zerolinecolor\":\"white\",\"gridwidth\":2}},\"shapedefaults\":{\"line\":{\"color\":\"#2a3f5f\"}},\"annotationdefaults\":{\"arrowcolor\":\"#2a3f5f\",\"arrowhead\":0,\"arrowwidth\":1},\"geo\":{\"bgcolor\":\"white\",\"landcolor\":\"#E5ECF6\",\"subunitcolor\":\"white\",\"showland\":true,\"showlakes\":true,\"lakecolor\":\"white\"},\"title\":{\"x\":0.05},\"mapbox\":{\"style\":\"light\"}}},\"xaxis\":{\"anchor\":\"y\",\"domain\":[0.0,1.0],\"title\":{\"text\":\"How Much each Race Matters (Probability of deciding control of congress)\"}},\"yaxis\":{\"anchor\":\"x\",\"domain\":[0.0,1.0],\"title\":{\"text\":\"Total Fundraising Receipts\"}},\"legend\":{\"title\":{\"text\":\"party\"},\"tracegroupgap\":0},\"title\":{\"text\":\"Total Receipts Compared to Tipping Point Liklihood\"}},                        {\"responsive\": true}                    ).then(function(){\n",
       "                            \n",
       "var gd = document.getElementById('062c83c8-5a53-488a-8add-2ed621c39898');\n",
       "var x = new MutationObserver(function (mutations, observer) {{\n",
       "        var display = window.getComputedStyle(gd).display;\n",
       "        if (!display || display === 'none') {{\n",
       "            console.log([gd, 'removed!']);\n",
       "            Plotly.purge(gd);\n",
       "            observer.disconnect();\n",
       "        }}\n",
       "}});\n",
       "\n",
       "// Listen for the removal of the full notebook cells\n",
       "var notebookContainer = gd.closest('#notebook-container');\n",
       "if (notebookContainer) {{\n",
       "    x.observe(notebookContainer, {childList: true});\n",
       "}}\n",
       "\n",
       "// Listen for the clearing of the current output cell\n",
       "var outputEl = gd.closest('.output');\n",
       "if (outputEl) {{\n",
       "    x.observe(outputEl, {childList: true});\n",
       "}}\n",
       "\n",
       "                        })                };                });            </script>        </div>"
      ]
     },
     "metadata": {},
     "output_type": "display_data"
    }
   ],
   "source": [
    "fig = px.scatter(combined_df, x=\"tipping\", y=\"Total_Receipt\", color= \"party\", hover_data = [\"name\", \"district\"],\n",
    "                title = \"Total Receipts Compared to Tipping Point Liklihood\",\n",
    "                labels = {\"Total_Receipt\": \"Total Fundraising Receipts\",\n",
    "                          \"tipping\": \"How Much each Race Matters (Probability of deciding control of congress)\"}\n",
    "                )\n",
    "fig.show()\n",
    "fig.write_html(\"receipts_vs_tipping.html\")"
   ]
  },
  {
   "cell_type": "code",
   "execution_count": null,
   "id": "f2973f78-3ee2-4cc0-8109-385e719497ea",
   "metadata": {},
   "outputs": [],
   "source": []
  }
 ],
 "metadata": {
  "kernelspec": {
   "display_name": "Python 3 (ipykernel)",
   "language": "python",
   "name": "python3"
  },
  "language_info": {
   "codemirror_mode": {
    "name": "ipython",
    "version": 3
   },
   "file_extension": ".py",
   "mimetype": "text/x-python",
   "name": "python",
   "nbconvert_exporter": "python",
   "pygments_lexer": "ipython3",
   "version": "3.9.16"
  }
 },
 "nbformat": 4,
 "nbformat_minor": 5
}
