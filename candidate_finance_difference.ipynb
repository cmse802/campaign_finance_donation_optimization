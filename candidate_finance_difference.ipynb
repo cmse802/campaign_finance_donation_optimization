{
 "cells": [
  {
   "cell_type": "markdown",
   "id": "da7d0115-7493-4c3b-a9bc-877d6492993d",
   "metadata": {},
   "source": [
    "# Calculating Whether Candidate With most money Won\n",
    "\n",
    "There are two steps to this\n",
    "1. Calculate money differential \n",
    "2. Find candidates that won\n",
    "\n",
    "## Step 1: Calculate Money Differential\n",
    "\n"
   ]
  },
  {
   "cell_type": "code",
   "execution_count": null,
   "id": "317b9356-e2f6-4342-8e0e-912cbfd8c6cf",
   "metadata": {},
   "outputs": [],
   "source": [
    "import pandas as pd\n",
    "import numpy as np\n"
   ]
  },
  {
   "cell_type": "code",
   "execution_count": null,
   "id": "9c8e8745-27cb-4e67-8481-6127ccb2f2fe",
   "metadata": {},
   "outputs": [],
   "source": [
    "df = pd.read_csv(\"Combined_df.csv\", index_col = 0)\n",
    "df = df[~df.index.duplicated(keep='first')]\n",
    "display(df.head())"
   ]
  },
  {
   "cell_type": "code",
   "execution_count": null,
   "id": "3c292af8-003a-4209-b414-6d858c05ced4",
   "metadata": {},
   "outputs": [],
   "source": [
    "# Gets \"opposite\" party\n",
    "flip_party = lambda a : \"D\" if a == \"R\" else \"R\" if a == \"D\" else np.nan"
   ]
  },
  {
   "cell_type": "code",
   "execution_count": null,
   "id": "b8a0d187-ae84-4480-b90e-d9c9447cd8f3",
   "metadata": {},
   "outputs": [],
   "source": [
    "opponent_index = lambda a : \"{}{}\".format(a[:-1], flip_party(a[-1]))"
   ]
  },
  {
   "cell_type": "code",
   "execution_count": null,
   "id": "74765160-0e1d-45d8-913e-5f030305de5f",
   "metadata": {},
   "outputs": [],
   "source": [
    "test = [df.loc[opponent_index(i)].Total_Disbursement for i in df.index]\n",
    "df[\"Opponent_Disb\"] = test\n",
    "df[\"Opponent_Disb\"] = df[\"Opponent_Disb\"].astype(float)\n",
    "df = df.fillna(0)\n",
    "\n",
    "df[\"Cash_Advantage\"] = df[\"Total_Disbursement\"] - df[\"Opponent_Disb\"]"
   ]
  },
  {
   "cell_type": "code",
   "execution_count": null,
   "id": "3b817904-d732-49d9-9764-a0617494664f",
   "metadata": {},
   "outputs": [],
   "source": [
    "df.dtypes"
   ]
  },
  {
   "cell_type": "code",
   "execution_count": null,
   "id": "51cdb826-1480-4a01-a129-d5fa690b21b4",
   "metadata": {},
   "outputs": [],
   "source": [
    "import plotly.express as px"
   ]
  },
  {
   "cell_type": "code",
   "execution_count": null,
   "id": "f504df87-d7e5-40fa-b46b-09cb1e6a7a71",
   "metadata": {},
   "outputs": [],
   "source": [
    "df.columns"
   ]
  },
  {
   "cell_type": "code",
   "execution_count": null,
   "id": "ee952e0b-40bd-4631-afeb-5f04544808b0",
   "metadata": {},
   "outputs": [],
   "source": [
    "px.scatter(df, y=\"Cash_Advantage\", x = \"win_pct\", hover_data = [\"name\", \"district\"], color = \"party\")"
   ]
  },
  {
   "cell_type": "code",
   "execution_count": null,
   "id": "02f3ed55-86b6-423d-a0e0-3b433fc143de",
   "metadata": {},
   "outputs": [],
   "source": [
    "winners = pd.read_csv(\"election_winners.csv\")\n",
    "winners"
   ]
  },
  {
   "cell_type": "code",
   "execution_count": null,
   "id": "47f50547-0287-4832-8edb-7918be1b6902",
   "metadata": {},
   "outputs": [],
   "source": [
    "# United States of America Python Dictionary to translate States,\n",
    "# Districts & Territories to Two-Letter codes and vice versa.\n",
    "#\n",
    "# Canonical URL: https://gist.github.com/rogerallen/1583593\n",
    "#\n",
    "# Dedicated to the public domain.  To the extent possible under law,\n",
    "# Roger Allen has waived all copyright and related or neighboring\n",
    "# rights to this code.  Data originally from Wikipedia at the url:\n",
    "# https://en.wikipedia.org/wiki/ISO_3166-2:US\n",
    "#\n",
    "# Automatically Generated 2021-09-11 18:04:36 via Jupyter Notebook from\n",
    "# https://gist.github.com/rogerallen/d75440e8e5ea4762374dfd5c1ddf84e0 \n",
    "\n",
    "us_state_to_abbrev = {\n",
    "    \"Alabama\": \"AL\",\n",
    "    \"Alaska\": \"AK\",\n",
    "    \"Arizona\": \"AZ\",\n",
    "    \"Arkansas\": \"AR\",\n",
    "    \"California\": \"CA\",\n",
    "    \"Colorado\": \"CO\",\n",
    "    \"Connecticut\": \"CT\",\n",
    "    \"Delaware\": \"DE\",\n",
    "    \"Florida\": \"FL\",\n",
    "    \"Georgia\": \"GA\",\n",
    "    \"Hawaii\": \"HI\",\n",
    "    \"Idaho\": \"ID\",\n",
    "    \"Illinois\": \"IL\",\n",
    "    \"Indiana\": \"IN\",\n",
    "    \"Iowa\": \"IA\",\n",
    "    \"Kansas\": \"KS\",\n",
    "    \"Kentucky\": \"KY\",\n",
    "    \"Louisiana\": \"LA\",\n",
    "    \"Maine\": \"ME\",\n",
    "    \"Maryland\": \"MD\",\n",
    "    \"Massachusetts\": \"MA\",\n",
    "    \"Michigan\": \"MI\",\n",
    "    \"Minnesota\": \"MN\",\n",
    "    \"Mississippi\": \"MS\",\n",
    "    \"Missouri\": \"MO\",\n",
    "    \"Montana\": \"MT\",\n",
    "    \"Nebraska\": \"NE\",\n",
    "    \"Nevada\": \"NV\",\n",
    "    \"New Hampshire\": \"NH\",\n",
    "    \"New Jersey\": \"NJ\",\n",
    "    \"New Mexico\": \"NM\",\n",
    "    \"New York\": \"NY\",\n",
    "    \"North Carolina\": \"NC\",\n",
    "    \"North Dakota\": \"ND\",\n",
    "    \"Ohio\": \"OH\",\n",
    "    \"Oklahoma\": \"OK\",\n",
    "    \"Oregon\": \"OR\",\n",
    "    \"Pennsylvania\": \"PA\",\n",
    "    \"Rhode Island\": \"RI\",\n",
    "    \"South Carolina\": \"SC\",\n",
    "    \"South Dakota\": \"SD\",\n",
    "    \"Tennessee\": \"TN\",\n",
    "    \"Texas\": \"TX\",\n",
    "    \"Utah\": \"UT\",\n",
    "    \"Vermont\": \"VT\",\n",
    "    \"Virginia\": \"VA\",\n",
    "    \"Washington\": \"WA\",\n",
    "    \"West Virginia\": \"WV\",\n",
    "    \"Wisconsin\": \"WI\",\n",
    "    \"Wyoming\": \"WY\",\n",
    "    \"District of Columbia\": \"DC\",\n",
    "    \"American Samoa\": \"AS\",\n",
    "    \"Guam\": \"GU\",\n",
    "    \"Northern Mariana Islands\": \"MP\",\n",
    "    \"Puerto Rico\": \"PR\",\n",
    "    \"United States Minor Outlying Islands\": \"UM\",\n",
    "    \"U.S. Virgin Islands\": \"VI\",\n",
    "}\n",
    "    \n",
    "# invert the dictionary\n",
    "abbrev_to_us_state = dict(map(reversed, us_state_to_abbrev.items()))"
   ]
  },
  {
   "cell_type": "code",
   "execution_count": null,
   "id": "73f96cb4-9aa0-4701-ad8b-a0d9a8c77711",
   "metadata": {},
   "outputs": [],
   "source": [
    "state_names = np.array([str(i).split(\"\\xa0\") for i in winners.District])[:,0]\n",
    "district_num = np.array([str(i).split(\"\\xa0\") for i in winners.District])[:,1]"
   ]
  },
  {
   "cell_type": "code",
   "execution_count": null,
   "id": "8ceff322-d733-4633-a8a8-5b39cb6ec57b",
   "metadata": {},
   "outputs": [],
   "source": [
    "winners[\"State\"] = state_names\n",
    "states_abbrev = list(winners[\"State\"].replace(us_state_to_abbrev))\n",
    "parties = list(winners[\"Party\"].replace({\"Republican\":\"R\", \"Democratic\":\"D\"}))\n",
    "district_codes = [\"-\".join([states_abbrev[i],district_num[i],parties[i]]) for i in range(len(parties))]"
   ]
  },
  {
   "cell_type": "code",
   "execution_count": null,
   "id": "592b734c-e606-4a1e-bef3-8864382ef9e9",
   "metadata": {},
   "outputs": [],
   "source": [
    "winners.index = district_codes\n",
    "winners[\"Won?\"] = [True] * len(winners)"
   ]
  },
  {
   "cell_type": "code",
   "execution_count": null,
   "id": "930f9d93-0915-4b8e-9a8e-50e431107304",
   "metadata": {},
   "outputs": [],
   "source": [
    "winners[\"Won?\"]"
   ]
  },
  {
   "cell_type": "code",
   "execution_count": null,
   "id": "aacefd68-ddd2-4f80-a70d-1e5b9d2f6356",
   "metadata": {},
   "outputs": [],
   "source": [
    "#df = df.join(winners[\"Won?\"])\n",
    "df[\"Won?\"] = winners[\"Won?\"]\n",
    "df[\"Won?\"] = df[\"Won?\"].fillna(False)"
   ]
  },
  {
   "cell_type": "code",
   "execution_count": null,
   "id": "ae38cd64-72fc-4556-a926-75092f765a33",
   "metadata": {},
   "outputs": [],
   "source": [
    "df"
   ]
  },
  {
   "cell_type": "code",
   "execution_count": null,
   "id": "801a5914-85a1-4955-8758-564ef6cb45d1",
   "metadata": {},
   "outputs": [],
   "source": [
    "only_advantage = df.query(\"Cash_Advantage >= 0\")"
   ]
  },
  {
   "cell_type": "code",
   "execution_count": null,
   "id": "6ab79b37-bad5-4825-a0ea-5e138be47c31",
   "metadata": {},
   "outputs": [],
   "source": [
    "\n",
    "\n",
    "px.scatter(only_advantage, \n",
    "           y=\"Cash_Advantage\", x = \"win_pct\", \n",
    "           hover_data = [\"name\", \"district\", \"party\"], \n",
    "           color = \"Won?\",\n",
    "          title = \"Candidates with Cash advantage Usually Win\")"
   ]
  },
  {
   "cell_type": "code",
   "execution_count": null,
   "id": "144e95c4-c770-469a-b236-c539b7664791",
   "metadata": {},
   "outputs": [],
   "source": [
    "px.scatter(df, y=\"Cash_Advantage\", x = \"tipping\", hover_data = [\"name\", \"district\", \"party\"], color = \"Won?\")"
   ]
  },
  {
   "cell_type": "code",
   "execution_count": null,
   "id": "7dc3b28a-d971-462b-8745-a3d422273a51",
   "metadata": {},
   "outputs": [],
   "source": [
    "only_advantage.groupby(by=\"Won?\").count()"
   ]
  },
  {
   "cell_type": "code",
   "execution_count": null,
   "id": "4cd691c2-cc8f-4d84-8611-57e835b682d0",
   "metadata": {},
   "outputs": [],
   "source": [
    "df.to_csv(\"538_FEC_Won_Opponent_Combined_Dataset.csv\")"
   ]
  },
  {
   "cell_type": "code",
   "execution_count": null,
   "id": "d28d687e-6123-48e2-a71c-12feed929807",
   "metadata": {},
   "outputs": [],
   "source": []
  },
  {
   "cell_type": "code",
   "execution_count": null,
   "id": "1237cf94-1b4f-4859-8b2c-a2f0ebb7cfd7",
   "metadata": {},
   "outputs": [],
   "source": []
  }
 ],
 "metadata": {
  "kernelspec": {
   "display_name": "Python 3 (ipykernel)",
   "language": "python",
   "name": "python3"
  },
  "language_info": {
   "codemirror_mode": {
    "name": "ipython",
    "version": 3
   },
   "file_extension": ".py",
   "mimetype": "text/x-python",
   "name": "python",
   "nbconvert_exporter": "python",
   "pygments_lexer": "ipython3",
   "version": "3.9.16"
  }
 },
 "nbformat": 4,
 "nbformat_minor": 5
}
