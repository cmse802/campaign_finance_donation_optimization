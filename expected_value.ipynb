{
 "cells": [
  {
   "cell_type": "code",
   "execution_count": 1,
   "id": "7285c5e9-164b-4963-b6cd-608f8e6a129f",
   "metadata": {
    "tags": []
   },
   "outputs": [
    {
     "data": {
      "text/plain": [
       "()"
      ]
     },
     "execution_count": 1,
     "metadata": {},
     "output_type": "execute_result"
    }
   ],
   "source": []
  },
  {
   "cell_type": "code",
   "execution_count": 2,
   "id": "fc05d9d7",
   "metadata": {},
   "outputs": [
    {
     "ename": "ModuleNotFoundError",
     "evalue": "No module named 'sklearn'",
     "output_type": "error",
     "traceback": [
      "\u001b[0;31m---------------------------------------------------------------------------\u001b[0m",
      "\u001b[0;31mModuleNotFoundError\u001b[0m                       Traceback (most recent call last)",
      "Cell \u001b[0;32mIn[2], line 2\u001b[0m\n\u001b[1;32m      1\u001b[0m \u001b[38;5;28;01mimport\u001b[39;00m \u001b[38;5;21;01mpandas\u001b[39;00m \u001b[38;5;28;01mas\u001b[39;00m \u001b[38;5;21;01mpd\u001b[39;00m\n\u001b[0;32m----> 2\u001b[0m \u001b[38;5;28;01mfrom\u001b[39;00m \u001b[38;5;21;01msklearn\u001b[39;00m\u001b[38;5;21;01m.\u001b[39;00m\u001b[38;5;21;01mlinear_model\u001b[39;00m \u001b[38;5;28;01mimport\u001b[39;00m LogisticRegression\n\u001b[1;32m      3\u001b[0m \u001b[38;5;28;01mfrom\u001b[39;00m \u001b[38;5;21;01msklearn\u001b[39;00m\u001b[38;5;21;01m.\u001b[39;00m\u001b[38;5;21;01mmodel_selection\u001b[39;00m \u001b[38;5;28;01mimport\u001b[39;00m train_test_split\n\u001b[1;32m      4\u001b[0m \u001b[38;5;28;01mfrom\u001b[39;00m \u001b[38;5;21;01msklearn\u001b[39;00m\u001b[38;5;21;01m.\u001b[39;00m\u001b[38;5;21;01mmetrics\u001b[39;00m \u001b[38;5;28;01mimport\u001b[39;00m accuracy_score\n",
      "\u001b[0;31mModuleNotFoundError\u001b[0m: No module named 'sklearn'"
     ]
    }
   ],
   "source": [
    "import pandas as pd\n",
    "from sklearn.linear_model import LogisticRegression\n",
    "from sklearn.model_selection import train_test_split\n",
    "from sklearn.metrics import accuracy_score\n",
    "import numpy as np\n",
    "\n",
    "data = pd.read_csv('https://raw.githubusercontent.com/pavlicag/campaign_finance_donation_optimization/main/538_FEC_Won_Opponent_Combined_Dataset.csv')\n",
    "data"
   ]
  },
  {
   "cell_type": "markdown",
   "id": "53c96d8e-c012-4bc6-b792-31d6dae81d89",
   "metadata": {},
   "source": [
    "# Find best features"
   ]
  },
  {
   "cell_type": "code",
   "execution_count": null,
   "id": "43e164b8-666f-41af-baee-eb30e439a506",
   "metadata": {},
   "outputs": [],
   "source": [
    "from sklearn.feature_selection import RFECV\n",
    "from sklearn.linear_model import LogisticRegression\n",
    "import numpy as np\n",
    "\n",
    "subdata = data.drop(['Won?', 'Unnamed: 0', 'branch', 'district', 'forecastdate', 'name', 'timestamp', 'party'], axis=1)\n",
    "\n",
    "count = 0\n",
    "for i in subdata['Cand_Incumbent_Challenger_Open_Seat']:\n",
    "    if i == 'INCUMBENT':\n",
    "        subdata['Cand_Incumbent_Challenger_Open_Seat'][count] = 1\n",
    "    else:\n",
    "        subdata['Cand_Incumbent_Challenger_Open_Seat'][count] = 0\n",
    "    count += 1\n",
    "\n",
    "# Extract the features and target from your 'data' dataset\n",
    "X = subdata\n",
    "y = binary[0].ravel() # 1 if the candidate won, 0 otherwise\n",
    "\n",
    "# create logistic regression object\n",
    "logreg = LogisticRegression()\n",
    "\n",
    "# create RFECV object\n",
    "rfecv = RFECV(estimator=logreg, step=1, cv=5, scoring='accuracy')\n",
    "\n",
    "# fit RFECV on data\n",
    "rfecv.fit(X, y)\n",
    "\n",
    "# print the best combination of variables\n",
    "print(\"Optimal number of features : %d\" % rfecv.n_features_)\n",
    "print(\"Best features : \", np.where(rfecv.support_ == True)[0])\n"
   ]
  },
  {
   "cell_type": "markdown",
   "id": "518f677c-f6a1-4d7d-bc90-5ca0dbb76c33",
   "metadata": {},
   "source": [
    "# Incumbent only model"
   ]
  },
  {
   "cell_type": "code",
   "execution_count": null,
   "id": "a8ba0d91-b1a9-459d-993d-06dc93cfc4e6",
   "metadata": {},
   "outputs": [],
   "source": [
    "binary = []\n",
    "for i in data['Won?']:\n",
    "    if i == True:\n",
    "        binary.append(1)\n",
    "    else:\n",
    "        binary.append(0)\n",
    "binary = pd.DataFrame(binary)\n",
    "\n",
    "binary_in = []\n",
    "for i in data['Cand_Incumbent_Challenger_Open_Seat']:\n",
    "    if i == 'INCUMBENT':\n",
    "        binary_in.append(1)\n",
    "    else:\n",
    "        binary_in.append(0)\n",
    "binary_in = pd.DataFrame(binary_in)\n",
    "\n",
    "# Load your data into X (features) and y (labels)\n",
    "X = binary_in # total money fundraised\n",
    "y = binary[0].ravel() # 1 if the candidate won, 0 otherwise\n",
    "\n",
    "# Calculate the average accuracy over 1000 runs\n",
    "accs = []\n",
    "for i in range(1000):\n",
    "    # Split your data into training and testing sets\n",
    "    X_train, X_test, y_train, y_test = train_test_split(X, y, test_size=0.2)\n",
    "    X_train = X_train.values.reshape(-1, 1)\n",
    "\n",
    "    # Create a logistic regression model and train it on your data\n",
    "    model = LogisticRegression()\n",
    "    model.fit(X_train, y_train)\n",
    "\n",
    "    # Make predictions on your test set\n",
    "    y_pred = model.predict(X_test.values.reshape(-1, 1))\n",
    "\n",
    "    # Evaluate your model's accuracy and append to the list of accuracies\n",
    "    accuracy = accuracy_score(y_test, y_pred)\n",
    "    accs.append(accuracy)\n",
    "\n",
    "# Calculate the average accuracy over 100 runs\n",
    "avg_acc = np.mean(accs)\n",
    "print(\"Average Accuracy:\", avg_acc)\n"
   ]
  },
  {
   "cell_type": "markdown",
   "id": "c47ffbdc-c68b-46ff-b52b-da726276faaf",
   "metadata": {},
   "source": [
    "# % Cash Advantage Only Model"
   ]
  },
  {
   "cell_type": "code",
   "execution_count": null,
   "id": "b0f8b7b8",
   "metadata": {},
   "outputs": [],
   "source": [
    "binary = []\n",
    "for i in data['Won?']:\n",
    "    if i == True:\n",
    "        binary.append(1)\n",
    "    else:\n",
    "        binary.append(0)\n",
    "binary = pd.DataFrame(binary)\n",
    "\n",
    "# Load your data into X (features) and y (labels)\n",
    "X = data['Percent_Cash_Advantage'] # total money fundraised\n",
    "y = binary[0].ravel() # 1 if the candidate won, 0 otherwise\n",
    "\n",
    "# Calculate the average accuracy over 1000 runs\n",
    "accs = []\n",
    "for i in range(1000):\n",
    "    # Split your data into training and testing sets\n",
    "    X_train, X_test, y_train, y_test = train_test_split(X, y, test_size=0.2)\n",
    "    X_train = X_train.values.reshape(-1, 1)\n",
    "\n",
    "    # Create a logistic regression model and train it on your data\n",
    "    model = LogisticRegression()\n",
    "    model.fit(X_train, y_train)\n",
    "\n",
    "    # Make predictions on your test set\n",
    "    y_pred = model.predict(X_test.values.reshape(-1, 1))\n",
    "\n",
    "    # Evaluate your model's accuracy and append to the list of accuracies\n",
    "    accuracy = accuracy_score(y_test, y_pred)\n",
    "    accs.append(accuracy)\n",
    "\n",
    "# Calculate the average accuracy over 100 runs\n",
    "avg_acc = np.mean(accs)\n",
    "print(\"Average Accuracy:\", avg_acc)\n"
   ]
  },
  {
   "cell_type": "markdown",
   "id": "2c8e7a69-6ba3-4b5c-b86c-38acbe180fc6",
   "metadata": {},
   "source": [
    "# Best EV"
   ]
  },
  {
   "cell_type": "code",
   "execution_count": null,
   "id": "d98b94c2",
   "metadata": {},
   "outputs": [],
   "source": [
    "from sklearn.linear_model import LogisticRegression\n",
    "from sklearn.model_selection import train_test_split\n",
    "from sklearn.metrics import accuracy_score\n",
    "\n",
    "# Extract the best features from your dataset\n",
    "X = data[['Total_Receipt', 'Total_Disbursement', 'Cash_On_Hand_COP', 'Cash_Advantage']]\n",
    "y = binary[0].ravel() # 1 if the candidate won, 0 otherwise\n",
    "\n",
    "# Calculate the average accuracy over 1000 runs\n",
    "accs = []\n",
    "for i in range(1000):\n",
    "    # Split your data into training and testing sets\n",
    "    X_train, X_test, y_train, y_test = train_test_split(X, y, test_size=0.2)\n",
    "\n",
    "    # Create a logistic regression model and train it on your data\n",
    "    model = LogisticRegression()\n",
    "    model.fit(X_train, y_train)\n",
    "\n",
    "    # Make predictions on your test set\n",
    "    y_pred = model.predict(X_test)\n",
    "\n",
    "    # Evaluate your model's accuracy and append to the list of accuracies\n",
    "    accuracy = accuracy_score(y_test, y_pred)\n",
    "    accs.append(accuracy)\n",
    "\n",
    "# Calculate the average accuracy over 100 runs\n",
    "avg_acc = np.mean(accs)\n",
    "print(\"Average Accuracy:\", avg_acc)\n"
   ]
  },
  {
   "cell_type": "markdown",
   "id": "d49e8e56-7211-467e-a38b-27907c84ccab",
   "metadata": {},
   "source": [
    "# Using best EV intial prediction percentage"
   ]
  },
  {
   "cell_type": "code",
   "execution_count": null,
   "id": "6ca54f0f-8726-4554-bbe7-6431bc173204",
   "metadata": {},
   "outputs": [],
   "source": [
    "# Load your data into X (features) and y (labels)\n",
    "X = data[['Total_Receipt', 'Total_Disbursement', 'Cash_On_Hand_COP', 'Cash_Advantage', 'name']] # total money fundraised\n",
    "y = data[['Won?', 'name']] # 1 if the candidate won, 0 otherwise\n",
    "\n",
    "# Split your data into training and testing sets\n",
    "X_train, X_test, y_train, y_test = train_test_split(X, y, test_size=0.2, random_state=0)\n",
    "\n",
    "# Extract the 'name' column from the test set for output purposes\n",
    "names = X_test['name']\n",
    "\n",
    "# Remove the 'name' column from the X_train and X_test sets\n",
    "X_train = X_train[['Total_Receipt', 'Total_Disbursement', 'Cash_On_Hand_COP', 'Cash_Advantage']]\n",
    "X_test = X_test[['Total_Receipt', 'Total_Disbursement', 'Cash_On_Hand_COP', 'Cash_Advantage']]\n",
    "\n",
    "# Create a logistic regression model and train it on your data\n",
    "model = LogisticRegression()\n",
    "model.fit(X_train, y_train['Won?'])\n",
    "\n",
    "# Make predictions on your test set\n",
    "y_pred_proba = model.predict_proba(X_test)\n",
    "\n",
    "# Output the predicted probabilities alongside the candidate names\n",
    "output_int = pd.concat([names.reset_index(drop=True), pd.DataFrame(y_pred_proba)], axis=1)\n",
    "output_int.columns = ['name', 'probability_of_losing', 'probability_of_winning']\n",
    "output_int"
   ]
  },
  {
   "cell_type": "markdown",
   "id": "982ffd4b-8cae-4d98-84ec-5bb48d85eea0",
   "metadata": {},
   "source": [
    "# Using best EV final prediction percentage"
   ]
  },
  {
   "cell_type": "code",
   "execution_count": null,
   "id": "7183c6c5",
   "metadata": {},
   "outputs": [],
   "source": [
    "# Load your data into X (features) and y (labels)\n",
    "X = data[['Total_Receipt', 'Total_Disbursement', 'Cash_On_Hand_COP', 'Cash_Advantage', 'name']] # total money fundraised\n",
    "y = data[['Won?', 'name']] # 1 if the candidate won, 0 otherwise\n",
    "\n",
    "# Split your data into training and testing sets\n",
    "X_train, X_test, y_train, y_test = train_test_split(X, y, test_size=0.2, random_state=0)\n",
    "\n",
    "# Extract the 'name' column from the test set for output purposes\n",
    "names = X_test['name']\n",
    "\n",
    "# Remove the 'name' column from the X_train and X_test sets\n",
    "X_train = X_train[['Total_Receipt', 'Total_Disbursement', 'Cash_On_Hand_COP', 'Cash_Advantage']]\n",
    "X_test = X_test[['Total_Receipt', 'Total_Disbursement', 'Cash_On_Hand_COP', 'Cash_Advantage']]\n",
    "\n",
    "X_train += 2900\n",
    "X_test += 2900\n",
    "\n",
    "# Create a logistic regression model and train it on your data\n",
    "model = LogisticRegression()\n",
    "model.fit(X_train, y_train['Won?'])\n",
    "\n",
    "# Make predictions on your test set\n",
    "y_pred_proba = model.predict_proba(X_test)\n",
    "\n",
    "# Output the predicted probabilities alongside the candidate names\n",
    "output_fin = pd.concat([names.reset_index(drop=True), pd.DataFrame(y_pred_proba)], axis=1)\n",
    "output_fin.columns = ['name', 'probability_of_losing', 'probability_of_winning']\n",
    "output_fin"
   ]
  },
  {
   "cell_type": "markdown",
   "id": "44171222-1e08-4f46-86d0-9a46547c0803",
   "metadata": {},
   "source": [
    "# Difference in probabilites over test dataset"
   ]
  },
  {
   "cell_type": "code",
   "execution_count": null,
   "id": "20319381-e201-4c2b-97c3-22917c0ae25b",
   "metadata": {},
   "outputs": [],
   "source": [
    "# Merge the two dataframes on the 'name' column\n",
    "merged_df = output_fin.merge(output_int, on='name', suffixes=('_fin', '_int'))\n",
    "\n",
    "# Calculate the difference between the two probabilities\n",
    "merged_df['probability_difference'] = merged_df['probability_of_winning_fin'] - merged_df['probability_of_winning_int']\n",
    "\n",
    "# Select the columns you want to keep in the final dataframe\n",
    "final_df = merged_df[['name', 'probability_difference']]\n",
    "\n",
    "# Print the final dataframe\n",
    "final_df\n"
   ]
  },
  {
   "cell_type": "markdown",
   "id": "0bb965a6-774a-49a6-a418-15caff500004",
   "metadata": {},
   "source": [
    "# EV for entire dataset"
   ]
  },
  {
   "cell_type": "code",
   "execution_count": null,
   "id": "ddecc21f",
   "metadata": {},
   "outputs": [],
   "source": [
    "# Load your data into X (features) and y (labels)\n",
    "X = data[['win_pct', 'Total_Disbursement', 'Cash_On_Hand_COP', 'Cash_Advantage', 'name']] # total money fundraised\n",
    "y = data[['Won?', 'name']] # 1 if the candidate won, 0 otherwise\n",
    "\n",
    "# Remove the 'name' column from the X set\n",
    "X = X[['win_pct', 'Total_Disbursement', 'Cash_On_Hand_COP', 'Cash_Advantage']]\n",
    "\n",
    "# Create a logistic regression model and train it on your data\n",
    "model = LogisticRegression()\n",
    "model.fit(X, y['Won?'])\n",
    "\n",
    "# Make predictions on the entire dataset\n",
    "y_pred_proba = model.predict_proba(X)\n",
    "\n",
    "# Output the predicted probabilities alongside the candidate names\n",
    "output_int = pd.concat([y['name'].reset_index(drop=True), pd.DataFrame(y_pred_proba)], axis=1)\n",
    "output_int.columns = ['name', 'probability_of_losing', 'probability_of_winning']\n",
    "output_int"
   ]
  },
  {
   "cell_type": "markdown",
   "id": "fe2edff6-d938-4eb1-9872-371428594dfe",
   "metadata": {},
   "source": [
    "# EV for entire dataset + donation"
   ]
  },
  {
   "cell_type": "code",
   "execution_count": null,
   "id": "175cb0e1",
   "metadata": {},
   "outputs": [],
   "source": [
    "# Load your data into X (features) and y (labels)\n",
    "X = data[['win_pct', 'Total_Disbursement', 'Cash_On_Hand_COP', 'Cash_Advantage', 'name']] # total money fundraised\n",
    "y = data[['Won?', 'name']] # 1 if the candidate won, 0 otherwise\n",
    "\n",
    "# Remove the 'name' column from the X set\n",
    "X = X[['win_pct', 'Total_Disbursement', 'Cash_On_Hand_COP', 'Cash_Advantage']]\n",
    "X += 3300\n",
    "# Create a logistic regression model and train it on your data\n",
    "model = LogisticRegression()\n",
    "model.fit(X, y['Won?'])\n",
    "\n",
    "# Make predictions on the entire dataset\n",
    "y_pred_proba = model.predict_proba(X)\n",
    "\n",
    "# Output the predicted probabilities alongside the candidate names\n",
    "output_fin = pd.concat([y['name'].reset_index(drop=True), pd.DataFrame(y_pred_proba)], axis=1)\n",
    "output_fin.columns = ['name', 'probability_of_losing', 'probability_of_winning']\n",
    "output_fin"
   ]
  },
  {
   "cell_type": "markdown",
   "id": "a3e5c296-cfe3-4abe-97c3-0e7d74ab8d25",
   "metadata": {},
   "source": [
    "# Difference in prob"
   ]
  },
  {
   "cell_type": "code",
   "execution_count": null,
   "id": "e609498f-1289-4e77-a35e-4f9cbd887f82",
   "metadata": {},
   "outputs": [],
   "source": [
    "# Merge the two dataframes on the 'name' column\n",
    "merged_df = output_fin.merge(output_int, on='name', suffixes=('_fin', '_int'))\n",
    "\n",
    "# Calculate the difference between the two probabilities\n",
    "merged_df['probability_difference'] = merged_df['probability_of_winning_fin'] - merged_df['probability_of_winning_int']\n",
    "\n",
    "# Select the columns you want to keep in the final dataframe\n",
    "final_df = merged_df[['name', 'probability_difference']]\n",
    "\n",
    "# Print the final dataframe\n",
    "final_df\n"
   ]
  },
  {
   "cell_type": "code",
   "execution_count": null,
   "id": "eeb8c101-fc51-457c-a942-c2db75fb793f",
   "metadata": {},
   "outputs": [],
   "source": [
    "output_diff_sorted = final_df.sort_values(by='probability_difference')\n",
    "\n",
    "\n",
    "data[\"probability_difference\"] = final_df[\"probability_difference\"]\n",
    "sorted_data = data.sort_values(by='probability_difference',ascending = False).reset_index(drop=True)\n",
    "display(sorted_data.head(30))\n",
    "sorted_data.to_csv(\"regression_data.csv\")\n"
   ]
  },
  {
   "cell_type": "code",
   "execution_count": null,
   "id": "6ed6f06d-c471-4713-913a-06f156907d27",
   "metadata": {},
   "outputs": [],
   "source": [
    "binary = []\n",
    "for i in data['Won?']:\n",
    "    if i == True:\n",
    "        binary.append(1)\n",
    "    else:\n",
    "        binary.append(0)\n",
    "binary = pd.DataFrame(binary)\n",
    "\n",
    "# Load your data into X (features) and y (labels)\n",
    "X = data['win_pct'] # total money fundraised\n",
    "y = binary[0].ravel() # 1 if the candidate won, 0 otherwise\n",
    "\n",
    "# Calculate the average accuracy over 1000 runs\n",
    "accs = []\n",
    "for i in range(1000):\n",
    "    # Split your data into training and testing sets\n",
    "    X_train, X_test, y_train, y_test = train_test_split(X, y, test_size=0.2)\n",
    "    X_train = X_train.values.reshape(-1, 1)\n",
    "\n",
    "    # Create a logistic regression model and train it on your data\n",
    "    model = LogisticRegression()\n",
    "    model.fit(X_train, y_train)\n",
    "\n",
    "    # Make predictions on your test set\n",
    "    y_pred = model.predict(X_test.values.reshape(-1, 1))\n",
    "\n",
    "    # Evaluate your model's accuracy and append to the list of accuracies\n",
    "    accuracy = accuracy_score(y_test, y_pred)\n",
    "    accs.append(accuracy)\n",
    "\n",
    "# Calculate the average accuracy over 100 runs\n",
    "avg_acc = np.mean(accs)\n",
    "print(\"Average Accuracy:\", avg_acc)\n"
   ]
  },
  {
   "cell_type": "code",
   "execution_count": null,
   "id": "be85753c-a691-4a3f-b8b9-90c3d6a013f3",
   "metadata": {},
   "outputs": [],
   "source": []
  }
 ],
 "metadata": {
  "kernelspec": {
   "display_name": "Python 3 (ipykernel)",
   "language": "python",
   "name": "python3"
  },
  "language_info": {
   "codemirror_mode": {
    "name": "ipython",
    "version": 3
   },
   "file_extension": ".py",
   "mimetype": "text/x-python",
   "name": "python",
   "nbconvert_exporter": "python",
   "pygments_lexer": "ipython3",
   "version": "3.8.16"
  }
 },
 "nbformat": 4,
 "nbformat_minor": 5
}
