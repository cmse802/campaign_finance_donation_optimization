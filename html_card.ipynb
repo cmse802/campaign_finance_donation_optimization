def create_html(name):
    a="""<html>
    <head>
    <link rel="stylesheet" href="https://cdnjs.cloudflare.com/ajax/libs/font-awesome/6.3.0/css/all.min.css">
    <style>
    .card {
      box-shadow: 0 4px 8px 0 rgba(0, 0, 0, 0.2);
      max-width: 400px;
      margin: auto;
      text-align: center;
      font-family: arial;
    }

    .title {
      color: grey;
      font-size: 18px;
    }

    button {
      border: none;
      outline: 0;
      display: inline-block;
      padding: 8px;
      color: white;
      background-color: #000;
      text-align: center;
      cursor: pointer;
      width: 100%;
      font-size: 18px;
    }

    a {
      text-decoration: none;
      font-size: 22px;
      color: black;
    }

    button:hover, a:hover {
      opacity: 0.7;
    }
    </style>
    </head>
    <body>



    <div class="card">
      <img src="https://raw.githubusercontent.com/ramseybe/campaign_prototype/main/pages/person.jpeg" alt="person" style="width:100%">
      <h1>person</h1>
      <p class="title">CEO & Founder, Example</p>
      <p></p>
      <div style="margin: 24px 0;">
        {}
      </div>
      <p><button>Donate!</button></p>
    </div>

    </body>
    </html>"""
    temp=get_icons(name,file)
    a=a.replace("{}",temp)
    
    name=name.lower()
    name=name.replace("-","_")
    name=name.replace(" ","_")
    name=name.replace("'","")
    print(name)
    a=a.replace("person",name)
    return a

from IPython.core.display import HTML
import pandas as pd
#file = pd.read_csv('https://raw.githubusercontent.com/pavlicag/campaign_finance_donation_optimization/main/files/top100_top5.csv?token=GHSAT0AAAAAAB7CVK7GNCXJR5GSX4RB6WU2ZA3KXIA')

name=names[35]
name

    
HTML(create_html(name))
