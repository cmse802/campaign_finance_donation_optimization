{
 "cells": [
  {
   "cell_type": "markdown",
   "id": "22cd97d2",
   "metadata": {},
   "source": [
    "# Gun Control: Background\n",
    "\n",
    "Gun control advocates have favored Democrats almost exclusively with their contributions over the years, but outside spending by new groups formed in the wake of highly publicized mass shootings has been a game-changer in terms of amounts invested on this side of the debate.\n",
    "\n",
    "The shooting of Rep. Gabrielle Giffords (D-Ariz.) in January 2011 vaulted gun control back into the national spotlight after a period of relative quiet. Soon after the shooting, lobbyists on both sides of the gun rights issue began mobilizing for proposed gun control legislation that dealt with issues ranging from high-capacity gun magazines to the right to carry firearms near members of Congress and the president. But it was the December 2012 killing of 26 children and staff members, plus the shooter and his mother, at Sandy Hook Elementary School in Connecticut that brought the issue to a boil in Congress. In 2013, the year the Senate voted on a measure to tighten up background checks on gun buyers, gun control interests spent a record $2.2 million on federal lobbying, a level that hasn't been matched since. The bill failed. Nearly all the senators voting against it had received substantial contributions from PACs affiliated with gun rights organizations.\n",
    "\n",
    "But the money side of the equation became less lopsided the following year when a group formed by Giffords and her husband, Mark Kelly, Americans for Responsible Solutions, laid out more than $8 million in the 2014 midterm elections to support candidates who advocated stronger gun safety proposals. Everytown for Gun Safety, an organization started by former New York City Mayor Michael Bloomberg, also spent several hundred thousand dollars, and another Bloomberg super PAC, Independence USA PAC (which supports tougher gun control among several other causes), spent $5.6 million backing candidates who favor stronger gun safety initiatives.\n",
    "\n",
    "The December 2015 shooting of 14 people in San Bernardino, Calif., led to another vote on the background check measure in the Senate, but it was defeated once again."
   ]
  },
  {
   "cell_type": "code",
   "execution_count": null,
   "id": "bead8cee",
   "metadata": {},
   "outputs": [],
   "source": [
    "# source: https://www.opensecrets.org/industries/summary.php?ind=Q12&cycle=2022&recipdetail=H&sortorder=A&mem=N&page=1\n",
    "gun_control = pd.read_csv('gun_control.txt', sep='\\t', header=None, names=['Name', 'Amount'])\n",
    "gun_control[['Name', 'District']] = gun_control['Name'].str.split(\"\\s\\(\", expand=True)\n",
    "gun_control['District'] = gun_control['District'].str.replace(')', '', regex=False)\n",
    "#gun_control.to_csv('gun_control.csv', index=False)\n",
    "gun_control"
   ]
  },
  {
   "cell_type": "markdown",
   "id": "ad02cebe",
   "metadata": {},
   "source": [
    "# Gun Rights: Background\n",
    "\n",
    "An upward trend in the number of mass shootings has fueled a contentious debate about gun rights. And while liberals throw cash behind pro-gun control efforts through super PACs like Giffords PAC (formed by gun violence victim and former Rep. Gabby Giffords) and nonprofits like Everytown For Gun Safety (backed by Michael Bloomberg), groups like the National Rifle Association are still powerful in Washington. The NRA has been a strong voice for the rights of gun owners across the country, battling attempts to enact gun control legislation at every level of government.\n",
    "\n",
    "Aside from the NRA, other major gun rights advocacy groups include the National Shooting Sports Foundation and the National Association for Gun Rights.\n",
    "\n",
    "Traditionally, the gun debate has been controlled by Republicans favoring gun rights as far the money is concerned. For instance, in 2016, Everytown spent $1.35 million in lobbying. The NRA spent more than twice as much. They also made over a million in political contributions, mostly to Republicans, and spent $20 million opposing Hillary Clinton's bid for the presidency, breaking their own spending records.\n",
    "\n",
    "That all changed after the election when gun rights outside spending began to crater and gun control outside spending spiked. This paradigm shift was complemented by highly publicized shootings in Parkland, Florida and Las Vegas, Nevada. In Parkland, a 19-year-old used an AR-15 rifle to kill 17 people at a high school. (Several survivors of the shooting have since become influential gun control activists.) In Las Vegas, a man fired into a crowd from the 32nd floor of a hotel and casino, killing 58 and wounding hundreds. The shooter had modified legal guns with bump stocks to make them fire like automatics.\n",
    "\n",
    "The NRA has also seen a steep decline in member dues.\n",
    "\n",
    "In 2017, gun rights groups spent a total of $11.44 million lobbying in Washington, in large part to make sure that the spate of mass shootings did not bring about more restrictions on individuals' ability to buy, carry and use firearms.\n",
    "\n",
    "During Obama's presidency, two pieces of pro-gun legislation were signed into law, and both of them expand gun-rights for owners, according to About US Politics and Business Insider. The first of these laws was to allow gun owners to carry their firearms (page 76) into national parks. This bill was first sponsored by Sen. Tom Coburn (R-Okla.), who originally attached an amendment allowing concealed guns in national parks to a credit card reform bill that Congress approved in May 2009. The law in its current form was finally passed in 2015.\n",
    "\n",
    "The second piece of legislation allows Amtrak passengers to carry guns in checked baggage, reversing a ban that was passed after 9/11.\n",
    "\n",
    "In 2012, Obama's administration \"shelved ideas to improve background checks,\" according to the New York Times, because of the failed \"Fast and Furious\" operation that attempted to track guns that found their way to Mexican drug cartels between 2009 and 2011. In 2013 Congress filed a lawsuit against the Obama administration over the \"botched operation.\"\n",
    "\n",
    "Also in 2013, Obama attempted to expand background checks in the wake of a school shooting in Newtown, Connecticut in which 28 people were killed, most of them small children.\n",
    "\n",
    "Obama laid out a comprehensive gun plan in January 2016. While many gun rights advocates, like former GOP presidential candidate and Sen. Marco Rubio (R-Fla.), criticized the plan, saying it would \"take away [people's] guns,\" Factcheck.org confirmed that no guns would be confiscated under this legislation. According to that site, the most controversial component of his vision was a crackdown on \"some unregulated Internet gun sales,\" and it said that instead of proposing new regulations, Obama was proposing enforcement of sales licenses and background checks.\n",
    "During the 2016 presidential campaign, Donald Trump advocated for the creation of concealed carry permits that could cross state lines.\n",
    "\n",
    "Trump signed legislation in 2017 to prevent the Social Security Administration from sharing data with the National Instant Criminal Background Check System, but after Parkland, Trump said he would try to push forward the Fix NICS act, which would close loopholes that allow prospective gun purchasers to avoid background checks.\n",
    "\n",
    "The administration has also chipped away at other regulations on firearms, including one which makes it easier for some people to purchase guns if they have an outstanding arrest warrant.\n",
    "\n",
    "Trump said he would consider backing a bill to ban bump stocks in the wake of the Las Vegas shooting. He also argued after the \"Tree of Life\" shooting at a Pittsburgh synagogue that an armed on-site security force would have deterred the shooting. This mirrors an NRA talking point which suggests that armed guards at schools would reduce the risk of mass shootings.\n",
    "\n",
    "Trump has gone back-and-forth on whether teachers should carry guns, once saying \"I don't want to have guns in classrooms, although, in some cases, teachers should have guns in classrooms, frankly.\"\n",
    "\n",
    "Trump was also in lockstep with the NRA when he said that a lack of mental health services and violent video games may be to blame for some gun violence.\n",
    "--Will Lennon"
   ]
  },
  {
   "cell_type": "code",
   "execution_count": null,
   "id": "a93b1077",
   "metadata": {},
   "outputs": [],
   "source": [
    "# source: https://www.opensecrets.org/industries/summary.php?ind=Q13&cycle=2022&recipdetail=H&sortorder=A&mem=N&page=3\n",
    "gun_rights = pd.read_csv('gun_rights.txt', sep='\\t', header=None, names=['Name', 'Amount'])\n",
    "gun_rights[['Name', 'District']] = gun_rights['Name'].str.split(\"\\s\\(\", expand=True)\n",
    "gun_rights['District'] = gun_rights['District'].str.replace(')', '', regex=False)\n",
    "#gun_rights.to_csv('gun_rights.csv', index=False)\n",
    "gun_rights"
   ]
  },
  {
   "cell_type": "markdown",
   "id": "c778709e",
   "metadata": {},
   "source": [
    "# Abortion Policy/Pro-Abortion Rights: Background\n",
    "\n",
    "Abortion, contraception and reproductive rights remain at the center of the national stage after a record number of women were elected to Congress in 2018 and the #MeToo movement places an emphasis on women's rights. The Trump administration has been clear it opposes abortions and the confirmations of conservative Justices Neil Gorsuch and Brett Kavanaugh to the Supreme Court worried pro-abortion advocates. With that momentum behind it, contributions from this interest area skyrocketed to the highest levels ever in 2018, more than half of which came from Planned Parenthood. Abortion rights groups remain one of the most staunchly Democratic bases.\n",
    "\n",
    "The 2018 midterms saw the pro-abortion sector donate $8.1 million with most of it, nearly $5.6 million, headed to outside groups. Of the money given to political parties and candidates, the overwhelming majority, 99 percent, went to Democrats. The top recipient in 2018, Sen. Jon Tester (D-N.D.), received $94,999 from individuals and groups in the abortion access sector. Sen. Sherrod Brown (D-Ohio) was number two and received $87,051. Both are reliable pro-access votes and were in tight races in Midwestern states.\n",
    "\n",
    "The largest contributor was the national women's health organization Planned Parenthood. Individuals and affiliates of Planned Parenthood contributed more than $5.7 million in 2018. NARAL Pro-Choice America individuals spent the second-most and gave just over $1.1 million.\n",
    "\n",
    "Roadblocks and opposition to abortion rights still exist and require the pro-abortion interest to maintain a lobbying presence. According to the Guttmacher Institute, 288 abortion restrictions were enacted in various states from 2011 to 2015. And with a favorable administration and potentially favorable Supreme Court, anti-abortion activists have been looking to find a way to repeal Roe v. Wade.\n",
    "\n",
    "In the first year under the Trump administration, 2017, pro-abortion lobbying reached its highest point since 2014. These groups spent more than $2.2 million in 2017 and $2 million in 2018. Unsurprisingly, Planned Parenthood attributed for the vast majority of the funds, spending around $1.2 million on lobbying efforts in 2018.\n",
    "\n",
    "-- Raymond Arke\n",
    "\n"
   ]
  },
  {
   "cell_type": "code",
   "execution_count": null,
   "id": "752974d4",
   "metadata": {},
   "outputs": [],
   "source": [
    "# source: https://www.opensecrets.org/industries/summary.php?ind=Q15&cycle=2022&recipdetail=H&mem=N\n",
    "pro_choice = pd.read_csv('pro_choice.txt', sep='\\t', header=None, names=['Name', 'Amount'])\n",
    "pro_choice[['Name', 'District']] = pro_choice['Name'].str.split(\"\\s\\(\", expand=True)\n",
    "pro_choice['District'] = pro_choice['District'].str.replace(')', '', regex=False)\n",
    "#pro_choice.to_csv('pro_choice.csv', index=False)\n",
    "pro_choice"
   ]
  },
  {
   "cell_type": "markdown",
   "id": "943b6292",
   "metadata": {},
   "source": [
    "# Abortion Policy/Anti-Abortion: Background\n",
    "\n",
    "Anti-abortion advocates have found renewed strength and momentum after Donald Trump's victory in 2016 and the confirmation of conservative Justices Neil Gorsuch and Brett Kavanaugh to the Supreme Court. The historically fraught issue has become more politicized with both parties crafting their own rhetoric to appeal to parts of their base. Anti-abortion groups have targeted key congressional races across the country and provided financial support for Republican presidential candidates.\n",
    "\n",
    "However, anti-abortion groups still regularly face setbacks in court. June 2016 saw the landmark Supreme Court decision in Whole Women's Health v. Hellerstedt. The 5-3 ruling struck down the Texas law that, through stringent requirements dealing with everything from doctors' hospital privileges to the width of hallways, forced the closure of approximately half of the state's abortion clinics. The regs were viewed by the court as putting an \"undue burden\" on women seeking to end their pregnancies, and the ruling called into question other existing and future abortion restrictions.\n",
    "\n",
    "Political contributions from anti-abortion groups have declined almost every cycle since 2012. In 2018 spending rose just above 2016 levels, around $2 million, but was still below the amount spent in the 2014, 2012 and 2010 cycles. The money spent still vastly favors Republicans, with them receiving 99 percent of the donations in 2018.\n",
    "\n",
    "The biggest spending group is the Susan B. Anthony List which has occupied the number one spot since 2008. Individuals and associates of Susan B. Anthony List contributed more than $853,000 in 2018, including outside money contributions, a marked decrease from the last midterms cycle in 2014 when they spent nearly $2.1 million.\n",
    "\n",
    "The top recipient of anti-abortion group money was former Rep. Karen Handel (R-Ga.), who had beat Jon Ossoff in a 2017 special election, but lost to Rep. Lucy McBath (R-Ga.) in 2018. Handel received just over $63,000 in 2018. In second place was former Rep. Claudia Tenney (R-N.Y.) who was also an unsuccessful female Republican incumbent.\n",
    "\n",
    "The anti-abortion lobbying effort also remains small, especially compared to its counterparts advocating for great abortion access. The interest group spent a record-high for the industry in 2017, although through the first three quarters of 2018 they've spent $820,000 verus $800,000 through the first three quarters of 2017. In 2017, $1.5 million was spent lobbying, while in the first three quarters of 2018 that number declined to just $820,000. The only two organizations to spend money on lobbying in 2018 were the Susan B. Anthony List ($630,000) and Right to Life ($190,000).\n",
    "\n",
    "-- Raymond Arke"
   ]
  },
  {
   "cell_type": "code",
   "execution_count": null,
   "id": "d74510e3",
   "metadata": {},
   "outputs": [],
   "source": [
    "# source: https://www.opensecrets.org/industries/summary.php?ind=Q14&cycle=2022&recipdetail=H&mem=N\n",
    "pro_life = pd.read_csv('pro_life.txt', sep='\\t', header=None, names=['Name', 'Amount'])\n",
    "pro_life[['Name', 'District']] = pro_life['Name'].str.split(\"\\s\\(\", expand=True)\n",
    "pro_life['District'] = pro_life['District'].str.replace(')', '', regex=False)\n",
    "#pro_life.to_csv('pro_life.csv', index=False)\n",
    "pro_life"
   ]
  },
  {
   "cell_type": "markdown",
   "id": "0caa2788",
   "metadata": {},
   "source": [
    "# Pro-Israel: Background\n",
    "\n",
    "One of, if not the most, powerful international issue lobby is that of the pro-Israel crowd. Well-financed and politically powerful, the pro-Israel lobby is a major force on American foreign affairs that looks to continue America's military and fiscal support of the Jewish nation-state. The lobby has had recent policy success with the Trump administration moving the U.S. embassy in Israel from the internationally-recognized capital of Tel Aviv to Jerusalem, a move long advocated by some in the pro-Israel lobby. Notably however, JStreet, one of the larger pro-Israel groups opposed the move. The administration is very friendly with the Israeli Prime Minister Benjamin Netanyahu and has taken a hard line on Israel peace talks, barely talking to the Palestinians and ending all foreign aid to the West Bank and Gaza.\n",
    "\n",
    "Even with the policy victories coming under a Republican president, the lobby still remained staunch Democratic contributors, giving more than $14.8 million in the 2018 midterms to mostly Democrats. This marked their third-biggest cycle ever and their biggest non-presidential cycle.\n",
    "\n",
    "The largest group which contributed was JStreetPAC which gave more than $4 million to candidates in 2018. Only one other pro-Israel group spent over $1 million on the cycle - NorPAC with more than $1.1 million.\n",
    "\n",
    "The top recipient of pro-Israel funds in the 2018 midterms was Sen. Robert Menendez (D-N.J.) with $546,507. Menendez is the ranking member on the Senate Foreign Affairs Committee. Sen. Ted Cruz (R-Texas) received the second-most with $349,437.\n",
    "\n",
    "2018 was an all-time high for money spent on lobbying for pro-Israel issues with more than $5 million. The robust lobbying force was led by the face of the pro-Israel movement the American Israel Public Affairs Committee (AIPAC). AIPAC spent more than $3.5 million on lobbying in 2018, making up the vast majority the entire lobby spent. A distant second was the Israeli-American Coalition for Action which dropped $550,000.\n",
    "\n",
    "The pro-Israel lobby is not entirely unified on policy decisions. JStreet, the group with the biggest campaign contributions, differs from AIPAC which led the lobbying effort. JStreet is a more liberal organization and is often critical of the Netanyahu and Trump administrations. AIPAC on the other hand has a policy of not publicly criticizing the Israeli government and has been more supportive of Trump.\n",
    "\n",
    "-- Raymond Arke\n",
    "\n"
   ]
  },
  {
   "cell_type": "code",
   "execution_count": null,
   "id": "263e1288",
   "metadata": {},
   "outputs": [],
   "source": [
    "# source: https://www.opensecrets.org/industries/summary.php?ind=Q05&cycle=2022&recipdetail=H&mem=N\n",
    "pro_israel = pd.read_csv('pro_israel.txt', sep='\\t', header=None, names=['Name', 'Amount'])\n",
    "pro_israel[['Name', 'District']] = pro_israel['Name'].str.split(\"\\s\\(\", expand=True)\n",
    "pro_israel['District'] = pro_israel['District'].str.replace(')', '', regex=False)\n",
    "#pro_israel.to_csv('pro_israel.csv', index=False)\n",
    "pro_israel"
   ]
  },
  {
   "cell_type": "markdown",
   "id": "b434992d",
   "metadata": {},
   "source": [
    "# Environment: Background\n",
    "\n",
    "As attention to climate and resource issues has increased in recent years, environmentalists have grown far more influential in Washington, even if political contributions from environmental groups are but a fraction of those given by the industries they generally oppose.\n",
    "\n",
    "The Obama administration's focus on the environment and the international scientific community's emphasis on climate change have jumpstarted calls for tighter government regulation in some areas. President Obama and Chinese President Xi Jinping announced in September 2016 that the United States and China would enter the Paris Agreement, which aims to limit the global temperature increase this century to less than 2 degrees Celsius above pre-industrial levels. Since more than 55 countries, responsible together for at least 55 percent of global greenhouse gas emissions, have ratified or acceded to the accord, the agreement is set to take effect in November 2016.\n",
    "\n",
    "Environmentalists generally find themselves toe-to-toe with high-spending energy and manufacturing industries, such as oil and gas companies, electric utilities and chemical companies. Environmental groups have deep pockets of their own, however, having contributed almost $86.1 million during the 2014 election cycle, five times more than the $15.9 million they gave during the 2012 cycle. In fact, environmental interests ranked seventh in political giving among all industries, and donations that year comprised more than 65 percent of all environmental industry contributions made since 1990.\n",
    "\n",
    "Outside spending is responsible for a substantial part of the increase - in 2014, more than $79 million of the donations from environmental organizations went to outside spending groups. By comparison, that number was just $803,144 in 2010, the previous midterm cycle.\n",
    "\n",
    "At the front of the pack is the League of Conservation Voters, with its employees and PAC contributing $4.3 million during the 2014 cycle. The Sierra Club and Environment America slotted in at numbers two and three, donating roughly $1.4 million and $1.3 million, respectively. Almost all of that cash went to liberals, with the Sierra Club's 99.4 percent given to Democratic candidates or parties the lowest of the three. This disparity matches the industry's broader contribution trends: in the 2014 cycle, 92 percent of the money going to candidates or parties went to Democrats.\n",
    "\n",
    "The top four environmental contributors - LCV, Sierra Club, Environment America and Tom Steyer's NextGen Climate Action - all gave more in 2014 to outside groups and 527 organizations than any candidate. In some cases, most of that money went to the super PACs and independent expenditure organizations that the groups control. For example, the Sierra Club's PAC gave almost $2.9 million to the Sierra Club's 527 organization and $990,000 to Sierra Club Independent Action, a super PAC. Environment America donated $753,024 to the Environment America Action Fund (and $250,000 to the League of Conservation Voters.) Steyer, the top individual contributor in 2014, gave more than $73.7 million to outside groups that year - the vast majority of which went to his own NextGen Climate Action.\n",
    "\n",
    "In 2015, the most recent year for which complete records are available, environmental groups spent over $14.9 million on lobbying efforts, with The Nature Conservancy leading the way, spending $1.2 million. That year, the group's top issues were natural resources (including the debate over the Keystone XL pipeline), agriculture and the federal budget. The Environmental Defense Fund came in just behind at $1.06 million, while the Natural Resources Defense Council spent $873,380 trying to influence policy in Washington. Environmental groups spent far more on their lobbying efforts in 2014, though -- more than $25.4 million.\n",
    "\n",
    "-- Jack Noland"
   ]
  },
  {
   "cell_type": "code",
   "execution_count": null,
   "id": "2d740932",
   "metadata": {},
   "outputs": [],
   "source": [
    "# source: https://www.opensecrets.org/industries/summary.php?ind=Q11&cycle=2022&recipdetail=H&mem=N\n",
    "environment = pd.read_csv('environment.txt', sep='\\t', header=None, names=['Name', 'Amount'])\n",
    "environment[['Name', 'District']] = environment['Name'].str.split(\"\\s\\(\", expand=True)\n",
    "environment['District'] = environment['District'].str.replace(')', '', regex=False)\n",
    "#environment.to_csv('environment.csv', index=False)\n",
    "environment"
   ]
  },
  {
   "cell_type": "markdown",
   "id": "107e2618",
   "metadata": {},
   "source": [
    "# Foreign & Defense Policy: Background\n",
    "\n",
    "The foreign and defense policy interest area includes organizations that focus on the relations between the United States and the rest of the world. Organizations that national security initiatives and other defense-related policies, as well as individual countries, are included. These groups have a wide variety of interests depending on their mission. Pro-Israel groups have have their own separate category and are not included here.\n",
    "\n",
    "Contributions from these interests to federal candidates, political committees and outside groups that support them, go mainly to Democrats. In 2014, they donated $1.6 million, almost all of it to party committees and candidates; of that sum, 70 percent went to Democrats -- although a Republican, Rep. Carlos Curbelo of Florida, was the top recipient of gifts from these groups at $127,700.\n",
    "\n",
    "The top contributor during that cycle? The Council for a Livable World ($611,382), an organization that promotes nuclear arms control and has made policy recommendations regarding conflicts in the Middle East, followed by the U.S.-Cuba Democracy PAC ($272,500). Third on the list was Iranian American Pac ($66,500), which advocates for the Iranian American community in the United States, according to its website.\n",
    "\n",
    "Lobbying efforts by foreign and defense policy organizations have stayed relatively stable during the past decade. In 2015, they spent $6.6 million, a slight increase from 2014 expenditures.\n",
    "\n",
    "For the past five years, the top lobbying client has been American Task Force Argentina, which doubled its annual expenditures from $740,000 in 2010 to $1.5 million in 2014. For the past decade, the organization has sought to amplify its view that Argentina's adherence to \"international norms and economic regulations\" should be a condition of its admission to the G-20, an international conglomeration of 20 major world economies where central banks and their governments come together to cooperate on major financial decisions and strategies.\n",
    "\n",
    "For the past two years, Better World Fund has maintained the second-largest lobbying effort in this interest group. The Girls Count Act of 2014 and 2015 were top priorities for the Fund; the measure, which authorized and directed the U.S. Agency for International Development to support programs that improve economic opportunities for girls around the world, became law in 2015.\n",
    "\n",
    "-- Alex Glorioso"
   ]
  },
  {
   "cell_type": "code",
   "execution_count": null,
   "id": "dafabc4e",
   "metadata": {},
   "outputs": [],
   "source": [
    "# source: https://www.opensecrets.org/industries/summary.php?ind=Q04&cycle=2022&recipdetail=H&mem=N\n",
    "defense = pd.read_csv('foreign_and_defense_policy.txt', sep='\\t', header=None, names=['Name', 'Amount'])\n",
    "defense[['Name', 'District']] = defense['Name'].str.split(\"\\s\\(\", expand=True)\n",
    "defense['District'] = defense['District'].str.replace(')', '', regex=False)\n",
    "#defense.to_csv('defense.csv', index=False)\n",
    "defense"
   ]
  },
  {
   "cell_type": "markdown",
   "id": "f2d8235e",
   "metadata": {},
   "source": [
    "# Human Rights: Background\n",
    "\n",
    "The human rights grouping represents a large number of interests ranging from health awareness organizations to anti-poverty groups to Native American tribes.\n",
    "\n",
    "Contributions from this industry to federal candidates and political committees reached its peak at over $11.4 million during the 2012 election cycle; that number decreased significantly to over $6.5 million during the 2014 cycle. Historically, the vast majority of money from this industry has gone to Democrats -- an average of 87 percent since the 1990 election cycle.\n",
    "\n",
    "The human rights industry has a big checkbook for lobbying, with expenditures reaching nearly $40.9 million in 2014. Its peak lobbying year was 2008 when it spent nearly $46 million.\n",
    "\n",
    "The Human Rights Campaign has led the way in contributions for the past decade, spending almost $1.2 million during the 2014 election cycle to advocate for lesbian, gay, bisexual and transgender rights. Much of HRC's efforts went toward supporting the passage of the Employee Non-Discrimination Act, in addition to legislation regarding domestic partnership benefits and increased appropriations for HIV/AIDS prevention.\n",
    "\n",
    "Other top spenders in the human rights industry during the 2014 cycle include the Akonadi Foundation, KidsPAC and the Children's Research and Education Institute -- though none spent nearly as much as HRC.\n",
    "\n",
    "Over the past few years, President Barack Obama has signed human rights legislation related to Belarus, Iran and Syria, North Korea and Venezuela, among others.\n",
    "\n",
    "-- Alex Lazar"
   ]
  },
  {
   "cell_type": "code",
   "execution_count": null,
   "id": "a53cfdc3",
   "metadata": {},
   "outputs": [],
   "source": [
    "# source: https://www.opensecrets.org/industries/summary.php?ind=Q09&cycle=2022&recipdetail=H&mem=N\n",
    "human_rights = pd.read_csv('human_rights.txt', sep='\\t', header=None, names=['Name', 'Amount'])\n",
    "human_rights[['Name', 'District']] = human_rights['Name'].str.split(\"\\s\\(\", expand=True)\n",
    "human_rights['District'] = human_rights['District'].str.replace(')', '', regex=False)\n",
    "#human_rights.to_csv('human_rights.csv', index=False)\n",
    "human_rights"
   ]
  },
  {
   "cell_type": "markdown",
   "id": "b4aea37a",
   "metadata": {},
   "source": [
    "# LGBTQIA Rights & Issues: Background\n",
    "\n",
    "LGBTQIA (lesbian, gay, bisexual, transgender, queer, intersex and asexual) rights groups are dedicated to advancing equality for members of the LGBTQIA community by supporting allied candidates and lobbying the federal government. Groups in this issue space overwhelmingly favor Democrats: in 2020, LGBTQIA groups spent $6.9 million supporting Democrats and only $79,800 to support Republicans.\n",
    "\n",
    "The 2020 election cycle was the biggest spending year ever for LGBTQIA groups, which spent a total of $7.7 million to aid their chosen candidates through contributions and independent expenditures. Of that sum, $1.8 million went to boosting President Joe Biden. During his very first months in office, Biden reversed former President Donald Trump's order banning transgender people from serving in the U.S. military and signed an executive order making discrimination on the basis of sexual orientation or gender idenitity illegal.\n",
    "\n",
    "In 2020, Equality PAC - the political action arm of the congressional LGBTQ Equality Caucus - spent $1.2 million in contributions to federal candidates, more than any other LGBTQIA rights group that year. The Human Rights Campaign rang in as the No. 2 contributor, spending about $720,000. Since 2016, the group has focused more on independent expenditures, dropping $2.7 million on outside spending in 2020.\n",
    "\n",
    "LGBTQIA issue-based lobbying had fallen since its peak in 2015, when the U.S. Supreme Court made marriage between members of the same sex legal in all 50 states and the District of Columbia. In 2020, nine clients spent a combined total of $1.1 million to lobby the federal government on LGBTQIA issues. The Human Rights Campaign was the biggest lobbying client working in the area, lobbying on a total of 155 House and Senate bills during the 116th Congress.\n",
    "\n",
    "The decline in pro-LGBTQIA lobbying at the federal level may be because issue groups are shifting their attention to state capitals, where Republican governors and state lawmakers are taking aim at the rights of transgender students. In Mississippi, state lawmakers passed a law banning transgender people in grades K-12 from competing on sports teams based on their gender identity. There are similar bills currently under consideration in 11 other states, according to the Human Rights Campaign.\n",
    "\n",
    "-- Alyce McFadden\n",
    "\n"
   ]
  },
  {
   "cell_type": "code",
   "execution_count": null,
   "id": "bea436c1",
   "metadata": {},
   "outputs": [],
   "source": [
    "# source: https://www.opensecrets.org/industries/summary.php?ind=J7300&cycle=2022&recipdetail=H&mem=N\n",
    "LGBTQIA = pd.read_csv('LGBTQIA_rights.txt', sep='\\t', header=None, names=['Name', 'Amount'])\n",
    "LGBTQIA[['Name', 'District']] = LGBTQIA['Name'].str.split(\"\\s\\(\", expand=True)\n",
    "LGBTQIA['District'] = LGBTQIA['District'].str.replace(')', '', regex=False)\n",
    "#LGBTQIA.to_csv('LGBTQIA.csv', index=False)\n",
    "LGBTQIA"
   ]
  },
  {
   "cell_type": "markdown",
   "id": "6046b82b",
   "metadata": {},
   "source": [
    "# Women's Issues: Background\n",
    "\n",
    "In 2018, with a record number of women elected to Congress and the rise of the \"Me Too\" movement, women's issues now take a more prominent place on the political stage. The women's issues lobby is made of organizations that promote the economic and social rights of women. Some of the primary issues include abortion rights and access, equal pay and, increasingly, protection against and awareness of sexual harassment and assault.\n",
    "\n",
    "The interest group is a traditional Democratic stronghold. The percentage of donations going towards Democrats surpassed 90 percent in every cycle since 1996. In the 2018 election, with a strong focus on the number of Democratic female candidates, Democrats got more than \\$30 million in donations from the industry. Republicans, on the other hand, took in just over \\$1 million.\n",
    "\n",
    "Total federal contributions surpassed \\$21.9 million in 2018, placing it a close second all-time to the almost \\$30.4 million given in 2016. Individuals associated with EMILY's List, which spent more than \\$6.9 million in itemized contributions to support Democratic causes, added up to be the top contributor. No other industry group came close to spending \\$1 million in 2018. The next closest was Womencount PAC which gave slightly more than \\$647,000, again solely to Democratic causes. The third-highest contributor, Value in Electing Women PAC with \\$430,000, gave only to Republican candidates and party.\n",
    "\n",
    "Lobbying on women's issues remains fairly small, especially when compared to other industries. The peak amount spent on lobbying was around \\$1.6\\ million in 2010. In 2018, that figure was down to \\$601,800. In 2018, the two big lobbying spenders were the American Association of University Women (\\$215,000\\) and the National Partnership for Women & Families (\\$154,000\\).\n",
    "\n",
    "--Raymond Arke\n",
    "\n",
    "Updated May 2019\n"
   ]
  },
  {
   "cell_type": "code",
   "execution_count": null,
   "id": "8ebaf138",
   "metadata": {},
   "outputs": [],
   "source": [
    "# source: https://www.opensecrets.org/industries/summary.php?ind=Q08&cycle=2022&recipdetail=H&mem=N\n",
    "womens_issues = pd.read_csv('womens_issues.txt', sep='\\t', header=None, names=['Name', 'Amount'])\n",
    "womens_issues[['Name', 'District']] = womens_issues['Name'].str.split(\"\\s\\(\", expand=True)\n",
    "womens_issues['District'] = womens_issues['District'].str.replace(')', '', regex=False)\n",
    "#womens_issues.to_csv('womens_issues.csv', index=False)\n",
    "womens_issues"
   ]
  }
 ],
 "metadata": {
  "kernelspec": {
   "display_name": "Python 3 (ipykernel)",
   "language": "python",
   "name": "python3"
  },
  "language_info": {
   "codemirror_mode": {
    "name": "ipython",
    "version": 3
   },
   "file_extension": ".py",
   "mimetype": "text/x-python",
   "name": "python",
   "nbconvert_exporter": "python",
   "pygments_lexer": "ipython3",
   "version": "3.9.13"
  }
 },
 "nbformat": 4,
 "nbformat_minor": 5
}
